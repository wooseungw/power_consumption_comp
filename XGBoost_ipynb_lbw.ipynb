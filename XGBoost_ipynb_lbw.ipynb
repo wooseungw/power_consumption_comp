{
  "cells": [
    {
      "cell_type": "code",
      "execution_count": 25,
      "metadata": {
        "colab": {
          "base_uri": "https://localhost:8080/"
        },
        "id": "wMEoBiUlW1y2",
        "outputId": "916c5ab0-130a-4cb9-fac3-0a2f828f77b6"
      },
      "outputs": [],
      "source": [
        "#import lightgbm\n",
        "import random\n",
        "import pandas as pd\n",
        "import numpy as np\n",
        "import os\n",
        "from xgboost import XGBRegressor\n",
        "from sklearn.ensemble import RandomForestRegressor\n",
        "\n",
        "import warnings\n",
        "warnings.filterwarnings(action='ignore')\n",
        "\n",
        "def seed_everything(seed):\n",
        "    random.seed(seed)\n",
        "    os.environ['PYTHONHASHSEED'] = str(seed)\n",
        "    np.random.seed(seed)\n",
        "\n",
        "seed_everything(42) # Seed 고정"
      ]
    },
    {
      "cell_type": "code",
      "execution_count": 26,
      "metadata": {
        "colab": {
          "base_uri": "https://localhost:8080/",
          "height": 357
        },
        "id": "k0BgLBeSXPFs",
        "outputId": "0245c973-cebe-4d56-b94a-b60bc4be55df"
      },
      "outputs": [
        {
          "data": {
            "text/html": [
              "<div>\n",
              "<style scoped>\n",
              "    .dataframe tbody tr th:only-of-type {\n",
              "        vertical-align: middle;\n",
              "    }\n",
              "\n",
              "    .dataframe tbody tr th {\n",
              "        vertical-align: top;\n",
              "    }\n",
              "\n",
              "    .dataframe thead th {\n",
              "        text-align: right;\n",
              "    }\n",
              "</style>\n",
              "<table border=\"1\" class=\"dataframe\">\n",
              "  <thead>\n",
              "    <tr style=\"text-align: right;\">\n",
              "      <th></th>\n",
              "      <th>num_date_time</th>\n",
              "      <th>building_number</th>\n",
              "      <th>date_time</th>\n",
              "      <th>temperature</th>\n",
              "      <th>rainfall</th>\n",
              "      <th>windspeed</th>\n",
              "      <th>humidity</th>\n",
              "      <th>sunshine</th>\n",
              "      <th>solar_radiation</th>\n",
              "      <th>power_consumption</th>\n",
              "    </tr>\n",
              "  </thead>\n",
              "  <tbody>\n",
              "    <tr>\n",
              "      <th>0</th>\n",
              "      <td>1_20220601 00</td>\n",
              "      <td>1</td>\n",
              "      <td>20220601 00</td>\n",
              "      <td>18.6</td>\n",
              "      <td>NaN</td>\n",
              "      <td>0.9</td>\n",
              "      <td>42.0</td>\n",
              "      <td>NaN</td>\n",
              "      <td>NaN</td>\n",
              "      <td>1085.28</td>\n",
              "    </tr>\n",
              "    <tr>\n",
              "      <th>1</th>\n",
              "      <td>1_20220601 01</td>\n",
              "      <td>1</td>\n",
              "      <td>20220601 01</td>\n",
              "      <td>18.0</td>\n",
              "      <td>NaN</td>\n",
              "      <td>1.1</td>\n",
              "      <td>45.0</td>\n",
              "      <td>NaN</td>\n",
              "      <td>NaN</td>\n",
              "      <td>1047.36</td>\n",
              "    </tr>\n",
              "    <tr>\n",
              "      <th>2</th>\n",
              "      <td>1_20220601 02</td>\n",
              "      <td>1</td>\n",
              "      <td>20220601 02</td>\n",
              "      <td>17.7</td>\n",
              "      <td>NaN</td>\n",
              "      <td>1.5</td>\n",
              "      <td>45.0</td>\n",
              "      <td>NaN</td>\n",
              "      <td>NaN</td>\n",
              "      <td>974.88</td>\n",
              "    </tr>\n",
              "    <tr>\n",
              "      <th>3</th>\n",
              "      <td>1_20220601 03</td>\n",
              "      <td>1</td>\n",
              "      <td>20220601 03</td>\n",
              "      <td>16.7</td>\n",
              "      <td>NaN</td>\n",
              "      <td>1.4</td>\n",
              "      <td>48.0</td>\n",
              "      <td>NaN</td>\n",
              "      <td>NaN</td>\n",
              "      <td>953.76</td>\n",
              "    </tr>\n",
              "    <tr>\n",
              "      <th>4</th>\n",
              "      <td>1_20220601 04</td>\n",
              "      <td>1</td>\n",
              "      <td>20220601 04</td>\n",
              "      <td>18.4</td>\n",
              "      <td>NaN</td>\n",
              "      <td>2.8</td>\n",
              "      <td>43.0</td>\n",
              "      <td>NaN</td>\n",
              "      <td>NaN</td>\n",
              "      <td>986.40</td>\n",
              "    </tr>\n",
              "  </tbody>\n",
              "</table>\n",
              "</div>"
            ],
            "text/plain": [
              "   num_date_time  building_number    date_time  temperature  rainfall  \\\n",
              "0  1_20220601 00                1  20220601 00         18.6       NaN   \n",
              "1  1_20220601 01                1  20220601 01         18.0       NaN   \n",
              "2  1_20220601 02                1  20220601 02         17.7       NaN   \n",
              "3  1_20220601 03                1  20220601 03         16.7       NaN   \n",
              "4  1_20220601 04                1  20220601 04         18.4       NaN   \n",
              "\n",
              "   windspeed  humidity  sunshine  solar_radiation  power_consumption  \n",
              "0        0.9      42.0       NaN              NaN            1085.28  \n",
              "1        1.1      45.0       NaN              NaN            1047.36  \n",
              "2        1.5      45.0       NaN              NaN             974.88  \n",
              "3        1.4      48.0       NaN              NaN             953.76  \n",
              "4        2.8      43.0       NaN              NaN             986.40  "
            ]
          },
          "execution_count": 26,
          "metadata": {},
          "output_type": "execute_result"
        }
      ],
      "source": [
        "#데이터 불러오기\n",
        "train_df = pd.read_csv('./data/train.csv')\n",
        "test_df = pd.read_csv('./data/test.csv')\n",
        "building_info =  pd.read_csv('./data/building_info.csv')\n",
        "\n",
        "train_df = train_df.rename(columns={\n",
        "    '건물번호': 'building_number',\n",
        "    '일시': 'date_time',\n",
        "    '기온(C)': 'temperature',\n",
        "    '강수량(mm)': 'rainfall',\n",
        "    '풍속(m/s)': 'windspeed',\n",
        "    '습도(%)': 'humidity',\n",
        "    '일조(hr)': 'sunshine',\n",
        "    '일사(MJ/m2)': 'solar_radiation',\n",
        "    '전력소비량(kWh)': 'power_consumption'\n",
        "})\n",
        "test_df = test_df.rename(columns={\n",
        "    '건물번호': 'building_number',\n",
        "    '일시': 'date_time',\n",
        "    '기온(C)': 'temperature',\n",
        "    '강수량(mm)': 'rainfall',\n",
        "    '풍속(m/s)': 'windspeed',\n",
        "    '습도(%)': 'humidity',\n",
        "    '일조(hr)': 'sunshine',\n",
        "    '일사(MJ/m2)': 'solar_radiation',\n",
        "    '전력소비량(kWh)': 'power_consumption'\n",
        "})\n",
        "building_info = building_info.rename(columns={\n",
        "    '건물번호': 'building_number',\n",
        "    '건물유형': 'building_type',\n",
        "    '연면적(m2)': 'total_area',\n",
        "    '냉방면적(m2)': 'cooling_area',\n",
        "    '태양광용량(kW)': 'solar_power_capacity',\n",
        "    'ESS저장용량(kWh)': 'ess_capacity',\n",
        "    'PCS용량(kW)': 'pcs_capacity'\n",
        "})\n",
        "translation_dict = {\n",
        "    '건물기타': 'Other Buildings',\n",
        "    '공공': 'Public',\n",
        "    '대학교': 'University',\n",
        "    '데이터센터': 'Data Center',\n",
        "    '백화점및아울렛': 'Department Store and Outlet',\n",
        "    '병원': 'Hospital',\n",
        "    '상용': 'Commercial',\n",
        "    '아파트': 'Apartment',\n",
        "    '연구소': 'Research Institute',\n",
        "    '지식산업센터': 'Knowledge Industry Center',\n",
        "    '할인마트': 'Discount Mart',\n",
        "    '호텔및리조트': 'Hotel and Resort'\n",
        "}\n",
        "\n",
        "building_info['building_type'] = building_info['building_type'].replace(translation_dict)\n",
        "\n",
        "\n",
        "train_df.head()"
      ]
    },
    {
      "cell_type": "code",
      "execution_count": 27,
      "metadata": {
        "colab": {
          "base_uri": "https://localhost:8080/",
          "height": 206
        },
        "id": "4fBUpGtRq9Ga",
        "outputId": "69d03406-ff30-4515-ecb6-774d60b7afb6"
      },
      "outputs": [
        {
          "data": {
            "text/html": [
              "<div>\n",
              "<style scoped>\n",
              "    .dataframe tbody tr th:only-of-type {\n",
              "        vertical-align: middle;\n",
              "    }\n",
              "\n",
              "    .dataframe tbody tr th {\n",
              "        vertical-align: top;\n",
              "    }\n",
              "\n",
              "    .dataframe thead th {\n",
              "        text-align: right;\n",
              "    }\n",
              "</style>\n",
              "<table border=\"1\" class=\"dataframe\">\n",
              "  <thead>\n",
              "    <tr style=\"text-align: right;\">\n",
              "      <th></th>\n",
              "      <th>num_date_time</th>\n",
              "      <th>building_number</th>\n",
              "      <th>date_time</th>\n",
              "      <th>temperature</th>\n",
              "      <th>rainfall</th>\n",
              "      <th>windspeed</th>\n",
              "      <th>humidity</th>\n",
              "    </tr>\n",
              "  </thead>\n",
              "  <tbody>\n",
              "    <tr>\n",
              "      <th>0</th>\n",
              "      <td>1_20220825 00</td>\n",
              "      <td>1</td>\n",
              "      <td>20220825 00</td>\n",
              "      <td>23.5</td>\n",
              "      <td>0.0</td>\n",
              "      <td>2.2</td>\n",
              "      <td>72</td>\n",
              "    </tr>\n",
              "    <tr>\n",
              "      <th>1</th>\n",
              "      <td>1_20220825 01</td>\n",
              "      <td>1</td>\n",
              "      <td>20220825 01</td>\n",
              "      <td>23.0</td>\n",
              "      <td>0.0</td>\n",
              "      <td>0.9</td>\n",
              "      <td>72</td>\n",
              "    </tr>\n",
              "    <tr>\n",
              "      <th>2</th>\n",
              "      <td>1_20220825 02</td>\n",
              "      <td>1</td>\n",
              "      <td>20220825 02</td>\n",
              "      <td>22.7</td>\n",
              "      <td>0.0</td>\n",
              "      <td>1.5</td>\n",
              "      <td>75</td>\n",
              "    </tr>\n",
              "    <tr>\n",
              "      <th>3</th>\n",
              "      <td>1_20220825 03</td>\n",
              "      <td>1</td>\n",
              "      <td>20220825 03</td>\n",
              "      <td>22.1</td>\n",
              "      <td>0.0</td>\n",
              "      <td>1.3</td>\n",
              "      <td>78</td>\n",
              "    </tr>\n",
              "    <tr>\n",
              "      <th>4</th>\n",
              "      <td>1_20220825 04</td>\n",
              "      <td>1</td>\n",
              "      <td>20220825 04</td>\n",
              "      <td>21.8</td>\n",
              "      <td>0.0</td>\n",
              "      <td>1.0</td>\n",
              "      <td>77</td>\n",
              "    </tr>\n",
              "  </tbody>\n",
              "</table>\n",
              "</div>"
            ],
            "text/plain": [
              "   num_date_time  building_number    date_time  temperature  rainfall  \\\n",
              "0  1_20220825 00                1  20220825 00         23.5       0.0   \n",
              "1  1_20220825 01                1  20220825 01         23.0       0.0   \n",
              "2  1_20220825 02                1  20220825 02         22.7       0.0   \n",
              "3  1_20220825 03                1  20220825 03         22.1       0.0   \n",
              "4  1_20220825 04                1  20220825 04         21.8       0.0   \n",
              "\n",
              "   windspeed  humidity  \n",
              "0        2.2        72  \n",
              "1        0.9        72  \n",
              "2        1.5        75  \n",
              "3        1.3        78  \n",
              "4        1.0        77  "
            ]
          },
          "execution_count": 27,
          "metadata": {},
          "output_type": "execute_result"
        }
      ],
      "source": [
        "test_df.head()"
      ]
    },
    {
      "cell_type": "code",
      "execution_count": 28,
      "metadata": {
        "colab": {
          "base_uri": "https://localhost:8080/",
          "height": 270
        },
        "id": "-pMwwAr_q8zY",
        "outputId": "1bb3e373-99d6-4b6c-e334-f8fee7ad7eae"
      },
      "outputs": [
        {
          "data": {
            "text/html": [
              "<div>\n",
              "<style scoped>\n",
              "    .dataframe tbody tr th:only-of-type {\n",
              "        vertical-align: middle;\n",
              "    }\n",
              "\n",
              "    .dataframe tbody tr th {\n",
              "        vertical-align: top;\n",
              "    }\n",
              "\n",
              "    .dataframe thead th {\n",
              "        text-align: right;\n",
              "    }\n",
              "</style>\n",
              "<table border=\"1\" class=\"dataframe\">\n",
              "  <thead>\n",
              "    <tr style=\"text-align: right;\">\n",
              "      <th></th>\n",
              "      <th>building_number</th>\n",
              "      <th>building_type</th>\n",
              "      <th>total_area</th>\n",
              "      <th>cooling_area</th>\n",
              "      <th>solar_power_capacity</th>\n",
              "      <th>ess_capacity</th>\n",
              "      <th>pcs_capacity</th>\n",
              "    </tr>\n",
              "  </thead>\n",
              "  <tbody>\n",
              "    <tr>\n",
              "      <th>0</th>\n",
              "      <td>1</td>\n",
              "      <td>Other Buildings</td>\n",
              "      <td>110634.00</td>\n",
              "      <td>39570.00</td>\n",
              "      <td>-</td>\n",
              "      <td>-</td>\n",
              "      <td>-</td>\n",
              "    </tr>\n",
              "    <tr>\n",
              "      <th>1</th>\n",
              "      <td>2</td>\n",
              "      <td>Other Buildings</td>\n",
              "      <td>122233.47</td>\n",
              "      <td>99000.00</td>\n",
              "      <td>-</td>\n",
              "      <td>-</td>\n",
              "      <td>-</td>\n",
              "    </tr>\n",
              "    <tr>\n",
              "      <th>2</th>\n",
              "      <td>3</td>\n",
              "      <td>Other Buildings</td>\n",
              "      <td>171243.00</td>\n",
              "      <td>113950.00</td>\n",
              "      <td>40</td>\n",
              "      <td>-</td>\n",
              "      <td>-</td>\n",
              "    </tr>\n",
              "    <tr>\n",
              "      <th>3</th>\n",
              "      <td>4</td>\n",
              "      <td>Other Buildings</td>\n",
              "      <td>74312.98</td>\n",
              "      <td>34419.62</td>\n",
              "      <td>60</td>\n",
              "      <td>-</td>\n",
              "      <td>-</td>\n",
              "    </tr>\n",
              "    <tr>\n",
              "      <th>4</th>\n",
              "      <td>5</td>\n",
              "      <td>Other Buildings</td>\n",
              "      <td>205884.00</td>\n",
              "      <td>150000.00</td>\n",
              "      <td>-</td>\n",
              "      <td>2557</td>\n",
              "      <td>1000</td>\n",
              "    </tr>\n",
              "  </tbody>\n",
              "</table>\n",
              "</div>"
            ],
            "text/plain": [
              "   building_number    building_type  total_area  cooling_area  \\\n",
              "0                1  Other Buildings   110634.00      39570.00   \n",
              "1                2  Other Buildings   122233.47      99000.00   \n",
              "2                3  Other Buildings   171243.00     113950.00   \n",
              "3                4  Other Buildings    74312.98      34419.62   \n",
              "4                5  Other Buildings   205884.00     150000.00   \n",
              "\n",
              "  solar_power_capacity ess_capacity pcs_capacity  \n",
              "0                    -            -            -  \n",
              "1                    -            -            -  \n",
              "2                   40            -            -  \n",
              "3                   60            -            -  \n",
              "4                    -         2557         1000  "
            ]
          },
          "execution_count": 28,
          "metadata": {},
          "output_type": "execute_result"
        }
      ],
      "source": [
        "building_info.head()"
      ]
    },
    {
      "cell_type": "markdown",
      "metadata": {
        "id": "b_3I0_1yoUny"
      },
      "source": [
        "Train 과 Test의 차이: columns에 일조, 일사, 전력 소비량이 없다."
      ]
    },
    {
      "cell_type": "markdown",
      "metadata": {
        "id": "kHQuG97fRlAY"
      },
      "source": [
        "## 전처리 (병합, 빈칸 채우기, 형 변환, num_date_time 삭제)"
      ]
    },
    {
      "cell_type": "code",
      "execution_count": 29,
      "metadata": {},
      "outputs": [],
      "source": [
        "import matplotlib.pyplot as plt\n",
        "from tqdm import tqdm\n",
        "from sktime.forecasting.model_selection import temporal_train_test_split\n",
        "from sktime.utils.plotting import plot_series\n",
        "from xgboost import XGBRegressor\n",
        "\n",
        "pd.set_option('display.max_columns', 30)\n",
        "\n",
        "def merge(df):\n",
        "    df = df.fillna(0)\n",
        "    date = pd.to_datetime(df.date_time)\n",
        "    df['hour'] = date.dt.hour\n",
        "    df['day'] = date.dt.weekday\n",
        "    df['month'] = date.dt.month\n",
        "    df['week'] = date.dt.weekofyear\n",
        "    \n",
        "    # 'building_number'를 기준으로 두 데이터프레임 병합 및 전처리\n",
        "    merged_df = pd.merge(df, building_info, on='building_number',how='right')\n",
        "    #merge후 전처리\n",
        "    merged_df['solar_power_capacity'] = merged_df['solar_power_capacity'].replace('-', 0)\n",
        "    merged_df['ess_capacity'] = merged_df['ess_capacity'].replace('-', 0)\n",
        "    merged_df['pcs_capacity'] = merged_df['pcs_capacity'].replace('-', 0)\n",
        "\n",
        "    merged_df['solar_power_capacity'] = merged_df['solar_power_capacity'].astype('float64')\n",
        "    merged_df['ess_capacity'] = merged_df['ess_capacity'].astype('float64')\n",
        "    merged_df['pcs_capacity'] = merged_df['pcs_capacity'].astype('float64')\n",
        "    return merged_df.drop(columns =['num_date_time','building_type'])\n",
        "\n",
        "\n",
        "merged_train_df = merge(train_df)\n",
        "merged_test_df = merge(test_df)\n",
        "\n",
        "#######################################\n",
        "## 건물별, 요일별, 시간별 발전량 평균 넣어주기\n",
        "#######################################\n",
        "power_mean = pd.pivot_table(merged_train_df, values = 'power_consumption', index = ['building_number', 'hour', 'day'], aggfunc = np.mean).reset_index()\n",
        "tqdm.pandas()\n",
        "#######################################\n",
        "## 건물별 시간별 발전량 평균 넣어주기\n",
        "#######################################\n",
        "power_hour_mean = pd.pivot_table(merged_train_df, values = 'power_consumption', index = ['building_number', 'hour'], aggfunc = np.mean).reset_index()\n",
        "tqdm.pandas()\n",
        "    #######################################\n",
        "## 건물별 시간별 발전량 표준편차 넣어주기\n",
        "#######################################\n",
        "power_hour_std = pd.pivot_table(merged_train_df, values = 'power_consumption', index = ['building_number', 'hour'], aggfunc = np.std).reset_index()\n",
        "tqdm.pandas()"
      ]
    },
    {
      "cell_type": "code",
      "execution_count": 30,
      "metadata": {},
      "outputs": [
        {
          "name": "stderr",
          "output_type": "stream",
          "text": [
            "100%|██████████| 204000/204000 [01:49<00:00, 1862.97it/s]\n",
            "100%|██████████| 204000/204000 [01:08<00:00, 2988.36it/s]\n",
            "100%|██████████| 204000/204000 [01:08<00:00, 2988.87it/s]\n",
            "100%|██████████| 16800/16800 [00:09<00:00, 1839.97it/s]\n",
            "100%|██████████| 16800/16800 [00:05<00:00, 2898.71it/s]\n",
            "100%|██████████| 16800/16800 [00:05<00:00, 2883.91it/s]\n"
          ]
        }
      ],
      "source": [
        "def preprocessing(df):\n",
        "    df['day_hour_mean'] = df.progress_apply(lambda x : power_mean.loc[(power_mean.building_number == x['building_number']) & (power_mean.hour == x['hour']) & (power_mean.day == x['day']) ,'power_consumption'].values[0], axis = 1)\n",
        "    df['hour_mean'] = df.progress_apply(lambda x : power_hour_mean.loc[(power_hour_mean.building_number == x['building_number']) & (power_hour_mean.hour == x['hour']) ,'power_consumption'].values[0], axis = 1)   \n",
        "    df['hour_std'] = df.progress_apply(lambda x : power_hour_std.loc[(power_hour_std.building_number == x['building_number']) & (power_hour_std.hour == x['hour']) ,'power_consumption'].values[0], axis = 1)\n",
        "    \n",
        "    def CDH(xs):\n",
        "        ys = []\n",
        "        for i in range(len(xs)):\n",
        "            if i < 11:\n",
        "                ys.append(np.sum(xs[:(i+1)]-26))\n",
        "            else:\n",
        "                ys.append(np.sum(xs[(i-11):(i+1)]-26))\n",
        "        return np.array(ys)\n",
        "\n",
        "    cdhs = np.array([])\n",
        "    for num in range(1,101,1):\n",
        "        temp = df[df['building_number'] == num]\n",
        "        cdh = CDH(temp['temperature'].values)\n",
        "        cdhs = np.concatenate([cdhs, cdh])\n",
        "    df['CDH'] = cdhs\n",
        "    \n",
        "    ### 공휴일 변수 추가\n",
        "    df['holiday'] = df.apply(lambda x : 0 if x['day']<5 else 1, axis = 1)\n",
        "    df.loc[('2022-08-17'<=df.date_time)&(df.date_time<'2022-08-18'), 'holiday'] = 1\n",
        "\n",
        "    ## https://dacon.io/competitions/official/235680/codeshare/2366?page=1&dtype=recent\n",
        "    df['sin_time'] = np.sin(2*np.pi*df.hour/24)\n",
        "    df['cos_time'] = np.cos(2*np.pi*df.hour/24)\n",
        "    \n",
        "    ## https://dacon.io/competitions/official/235736/codeshare/2743?page=1&dtype=recent\n",
        "    df['THI'] = 9/5*df['temperature'] - 0.55*(1-df['humidity']/100)*(9/5*df['humidity']-26)+32\n",
        "    \n",
        "    \n",
        "    return df\n",
        "\n",
        "merged_train_df =preprocessing(merged_train_df)\n",
        "merged_test_df =preprocessing(merged_test_df)\n"
      ]
    },
    {
      "cell_type": "code",
      "execution_count": 31,
      "metadata": {},
      "outputs": [
        {
          "name": "stdout",
          "output_type": "stream",
          "text": [
            "<class 'pandas.core.frame.DataFrame'>\n",
            "Int64Index: 204000 entries, 0 to 203999\n",
            "Data columns (total 26 columns):\n",
            " #   Column                Non-Null Count   Dtype  \n",
            "---  ------                --------------   -----  \n",
            " 0   building_number       204000 non-null  int64  \n",
            " 1   date_time             204000 non-null  object \n",
            " 2   temperature           204000 non-null  float64\n",
            " 3   rainfall              204000 non-null  float64\n",
            " 4   windspeed             204000 non-null  float64\n",
            " 5   humidity              204000 non-null  float64\n",
            " 6   sunshine              204000 non-null  float64\n",
            " 7   solar_radiation       204000 non-null  float64\n",
            " 8   power_consumption     204000 non-null  float64\n",
            " 9   hour                  204000 non-null  int64  \n",
            " 10  day                   204000 non-null  int64  \n",
            " 11  month                 204000 non-null  int64  \n",
            " 12  week                  204000 non-null  int64  \n",
            " 13  total_area            204000 non-null  float64\n",
            " 14  cooling_area          204000 non-null  float64\n",
            " 15  solar_power_capacity  204000 non-null  float64\n",
            " 16  ess_capacity          204000 non-null  float64\n",
            " 17  pcs_capacity          204000 non-null  float64\n",
            " 18  day_hour_mean         204000 non-null  float64\n",
            " 19  hour_mean             204000 non-null  float64\n",
            " 20  hour_std              204000 non-null  float64\n",
            " 21  CDH                   204000 non-null  float64\n",
            " 22  holiday               204000 non-null  int64  \n",
            " 23  sin_time              204000 non-null  float64\n",
            " 24  cos_time              204000 non-null  float64\n",
            " 25  THI                   204000 non-null  float64\n",
            "dtypes: float64(19), int64(6), object(1)\n",
            "memory usage: 42.0+ MB\n"
          ]
        }
      ],
      "source": [
        "merged_train_df.info()"
      ]
    },
    {
      "cell_type": "code",
      "execution_count": 32,
      "metadata": {},
      "outputs": [],
      "source": [
        "## save the preprocessed data\n",
        "merged_train_df.drop(columns=['date_time']).to_csv('./data/train_preprocessed_lbw.csv')\n",
        "merged_test_df.drop(columns=['date_time']).to_csv('./data/test_preprocessed_lbw.csv')"
      ]
    },
    {
      "cell_type": "markdown",
      "metadata": {
        "id": "uWFdCGblTbtf"
      },
      "source": [
        "## 추가 전처리"
      ]
    },
    {
      "cell_type": "code",
      "execution_count": 33,
      "metadata": {
        "id": "f4mwIKhXiDfA"
      },
      "outputs": [],
      "source": [
        "## save the preprocessed data\n",
        "merged_train_df = pd.read_csv('./data/train_preprocessed_lbw.csv')\n",
        "merged_test_df = pd.read_csv('./data/test_preprocessed_lbw.csv')\n",
        "\n"
      ]
    },
    {
      "cell_type": "markdown",
      "metadata": {
        "id": "nbIffwyeTYLE"
      },
      "source": [
        "## 원핫 인코딩(안해도 됨)"
      ]
    },
    {
      "cell_type": "code",
      "execution_count": 34,
      "metadata": {
        "id": "inKlUgiirGax"
      },
      "outputs": [],
      "source": [
        "# merged_train_df = pd.get_dummies(merged_train_df, prefix=[\"bt:\"], columns=[\"building_type\"])\n",
        "# merged_train_df.head()\n",
        "# merged_test_df = pd.get_dummies(merged_test_df, prefix=[\"bt:\"], columns=[\"building_type\"])\n",
        "# merged_test_df.head()"
      ]
    },
    {
      "cell_type": "markdown",
      "metadata": {
        "id": "LfJTtlvQq7hD"
      },
      "source": [
        "## 성능 평가지표 정의 및 SMAPE 정의"
      ]
    },
    {
      "cell_type": "code",
      "execution_count": 35,
      "metadata": {
        "id": "2QK3ecbuwSdu"
      },
      "outputs": [],
      "source": [
        "#### alpha를 argument로 받는 함수로 실제 objective function을 wrapping하여 alpha값을 쉽게 조정할 수 있도록 작성했습니다.\n",
        "# custom objective function for forcing model not to underestimate\n",
        "def weighted_mse(alpha = 1):\n",
        "    def weighted_mse_fixed(label, pred):\n",
        "        residual = (label - pred).astype(\"float\")\n",
        "        grad = np.where(residual>0, -2*alpha*residual, -2*residual)\n",
        "        hess = np.where(residual>0, 2*alpha, 2.0)\n",
        "        return grad, hess\n",
        "    return weighted_mse_fixed\n",
        "\n",
        " #점수 측정을 위한 코드\n",
        "def SMAPE(y_true, y_pred):\n",
        "    return 100/len(y_true) * np.sum(2 * np.abs(y_pred - y_true) / (np.abs(y_true) + np.abs(y_pred)))"
      ]
    },
    {
      "cell_type": "markdown",
      "metadata": {
        "id": "gBhDV3WCrobi"
      },
      "source": [
        "## 최적의 파라미터 탐색"
      ]
    },
    {
      "cell_type": "code",
      "execution_count": 36,
      "metadata": {
        "colab": {
          "base_uri": "https://localhost:8080/",
          "height": 1000
        },
        "id": "PCv9CsfwILx-",
        "outputId": "8090aaba-c7c7-4dda-c360-e3c1ac8ba08b"
      },
      "outputs": [
        {
          "name": "stderr",
          "output_type": "stream",
          "text": [
            "  0%|          | 0/1 [00:00<?, ?it/s]"
          ]
        },
        {
          "name": "stdout",
          "output_type": "stream",
          "text": [
            "Fitting 1 folds for each of 168 candidates, totalling 168 fits\n"
          ]
        },
        {
          "name": "stderr",
          "output_type": "stream",
          "text": [
            "100%|██████████| 1/1 [00:16<00:00, 16.01s/it]"
          ]
        },
        {
          "name": "stdout",
          "output_type": "stream",
          "text": [
            "{'colsample_bytree': 0.9, 'eta': 0.01, 'max_depth': 8, 'min_child_weight': 6, 'n_estimators': 100, 'subsample': 0.9}\n",
            "building1|| SMAPE : 44.05011050030062\n"
          ]
        },
        {
          "name": "stderr",
          "output_type": "stream",
          "text": [
            "\n"
          ]
        }
      ],
      "source": [
        "from sklearn.model_selection import train_test_split, GridSearchCV, PredefinedSplit, KFold, TimeSeriesSplit\n",
        "from sklearn.metrics import make_scorer\n",
        "df = pd.DataFrame(columns = ['n_estimators', 'eta', 'min_child_weight','max_depth', 'colsample_bytree', 'subsample'])\n",
        "preds = np.array([])\n",
        "\n",
        "grid = {'n_estimators' : [100], 'eta' : [0.01], 'min_child_weight' : np.arange(1, 8, 1),\n",
        "        'max_depth' : np.arange(3,9,1) , 'colsample_bytree' :np.arange(0.8, 1.0, 0.1),\n",
        "        'subsample' :np.arange(0.8, 1.0, 0.1)} # fix the n_estimators & eta(learning rate)\n",
        "\n",
        "#tscv = TimeSeriesSplit(n_splits=3)\n",
        "smape_score = make_scorer(SMAPE, greater_is_better=False)\n",
        "\n",
        "for i in tqdm(np.arange(1, 101, 1)):\n",
        "    y = merged_train_df.loc[merged_train_df.building_number == i, 'power_consumption']\n",
        "    x = merged_train_df.loc[merged_train_df.building_number == i].drop(['power_consumption'], axis=1)\n",
        "    y_train, y_test, x_train, x_test = temporal_train_test_split(y = y, X = x, test_size = 168)\n",
        "\n",
        "    pds = PredefinedSplit(np.append(-np.ones(len(x_train)-168), np.zeros(168)))\n",
        "    gcv = GridSearchCV(estimator = XGBRegressor(seed=0),\n",
        "                       param_grid=grid, scoring=smape_score, cv=pds, refit=True, verbose=True)\n",
        "    \n",
        "    # gcv = GridSearchCV(estimator = XGBRegressor(seed = 0, gpu_id = 1, tree_method = 'gpu_hist', predictor= 'gpu_predictor'),\n",
        "    #                     param_grid = grid, scoring = smape_score, cv = pds, refit = True, verbose = True)\n",
        "\n",
        "    gcv.fit(x_train, y_train)\n",
        "    best = gcv.best_estimator_\n",
        "    params = gcv.best_params_\n",
        "    print(params)\n",
        "    pred = best.predict(x_test)\n",
        "    building = 'building'+str(i)\n",
        "    print(building + '|| SMAPE : {}'.format(SMAPE(y_test, pred)))\n",
        "    preds = np.append(preds, pred)\n",
        "    df = pd.concat([df, pd.DataFrame(params, index=[0])], axis=0)\n",
        "    df.to_csv('./parameters/hyperparameter_xgb2.csv', index=False) # save the tuned parameters\n"
      ]
    },
    {
      "cell_type": "code",
      "execution_count": 38,
      "metadata": {},
      "outputs": [],
      "source": [
        "xgb_params = pd.read_csv('./parameters/hyperparameter_xgb_tscv_lbw.csv')"
      ]
    },
    {
      "cell_type": "code",
      "execution_count": 39,
      "metadata": {},
      "outputs": [
        {
          "name": "stderr",
          "output_type": "stream",
          "text": [
            "100%|██████████| 1/1 [00:01<00:00,  1.42s/it]\n"
          ]
        }
      ],
      "source": [
        "scores = []   # smape 값을 저장할 list\n",
        "best_it = []  # best interation을 저장할 list\n",
        "\n",
        "for i in tqdm(np.arange(1,101,1)):\n",
        "    y = merged_train_df.loc[merged_train_df.building_number == i, 'power_consumption']\n",
        "    x = merged_train_df.loc[merged_train_df.building_number == i].drop(['power_consumption'], axis=1)\n",
        "    y_train, y_test, x_train, x_test = temporal_train_test_split(y = y, X = x, test_size = 168)\n",
        "\n",
        "    xgb_reg = XGBRegressor(n_estimators = 10000, eta = 0.01, min_child_weight = xgb_params.iloc[i-1, 2],\n",
        "                           max_depth = xgb_params.iloc[i-1, 3], colsample_bytree = xgb_params.iloc[i-1, 4],\n",
        "                           subsample = xgb_params.iloc[i-1, 5], seed=0)\n",
        "    xgb_reg.set_params(**{'objective':weighted_mse(110)}) # alpha = 100으로 고정\n",
        "\n",
        "    xgb_reg.fit(x_train, y_train, eval_set=[(x_train, y_train),\n",
        "                                            (x_test, y_test)], early_stopping_rounds=300, verbose=False)\n",
        "    y_pred = xgb_reg.predict(x_test)\n",
        "    pred = pd.Series(y_pred)\n",
        "\n",
        "    sm = SMAPE(y_test, y_pred)\n",
        "    scores.append(sm)\n",
        "    best_it.append(xgb_reg.best_iteration) ## 실제 best iteration은 이 값에 +1 해주어야 함.\n",
        "\n",
        "    #여기 까지 돌아 가는 거 확인 했 었 었 음 / 위에 바뀐걸로 도 도는 지  확 인 필 요"
      ]
    },
    {
      "cell_type": "markdown",
      "metadata": {},
      "source": [
        "## 1등코드 원본\n"
      ]
    },
    {
      "cell_type": "code",
      "execution_count": null,
      "metadata": {
        "colab": {
          "base_uri": "https://localhost:8080/",
          "height": 437
        },
        "id": "bfEEtu6V63lI",
        "outputId": "1ad01434-962d-4634-f54b-ce58103cf968"
      },
      "outputs": [],
      "source": [
        "# from sklearn.model_selection import PredefinedSplit, GridSearchCV\n",
        "# from sklearn.metrics import make_scorer\n",
        "# df = pd.DataFrame(columns = ['n_estimators', 'eta', 'min_child_weight','max_depth', 'colsample_bytree', 'subsample'])\n",
        "# preds = np.array([])\n",
        "\n",
        "# grid = {'n_estimators' : [100], 'eta' : [0.01], 'min_child_weight' : np.arange(1, 8, 1),\n",
        "#         'max_depth' : np.arange(3,9,1) , 'colsample_bytree' :np.arange(0.8, 1.0, 0.1),\n",
        "#         'subsample' :np.arange(0.8, 1.0, 0.1)} # fix the n_estimators & eta(learning rate)\n",
        "\n",
        "# for i in tqdm(np.arange(1, 101, 1)):\n",
        "#     y = merged_train_df.loc[merged_train_df.building_number == i, 'power_consumption']\n",
        "#     x = merged_train_df.loc[merged_train_df.building_number == i, ].drop('power_consumption', axis=1)\n",
        "#     y_train, y_test, x_train, x_test = temporal_train_test_split(y = y, X = x, test_size = 168)\n",
        "\n",
        "#     smape_score = make_scorer(SMAPE, graeter_is_better=False)\n",
        "#     pds = PredefinedSplit(np.append(-np.ones(len(x)-168), np.zeros(168)))\n",
        "#     gcv = GridSearchCV(estimator = XGBRegressor(seed = 0, gpu_id = 1,\n",
        "#                                                  tree_method = 'gpu_hist', predictor= 'gpu_predictor'),\n",
        "#                          param_grid = grid, scoring = smape_score, cv = pds, refit = True, verbose = True)\n",
        "#     # gcv = GridSearchCV(estimator = XGBRegressor(seed = 0, gpu_id = 1,\n",
        "#     #                                             tree_method = 'gpu_hist', predictor= 'gpu_predictor'),\n",
        "#     #                    param_grid = grid, scoring = smape_score, cv = pds, refit = True, verbose = True)\n",
        "\n",
        "\n",
        "#     gcv.fit(x_train, y_train)\n",
        "#     best = gcv.best_estimator_\n",
        "#     params = gcv.best_params_\n",
        "#     print(params)\n",
        "#     pred = best.predict(x_test)\n",
        "#     building = 'building'+str(i)\n",
        "#     print(building + '|| SMAPE : {}'.format(SMAPE(y_test, pred)))\n",
        "#     preds = np.append(preds, pred)\n",
        "#     df = pd.concat([df, pd.DataFrame(params, index = [0])], axis = 0)\n",
        "#     df.to_csv('./hyperparameter_xgb.csv', index = False) # save the tuned parameters"
      ]
    },
    {
      "cell_type": "markdown",
      "metadata": {},
      "source": [
        "## "
      ]
    },
    {
      "cell_type": "markdown",
      "metadata": {
        "id": "rrmTw8JXrq3X"
      },
      "source": [
        "## 학습"
      ]
    },
    {
      "cell_type": "markdown",
      "metadata": {
        "id": "VrPqi5myRnWi"
      },
      "source": [
        "## 테스트"
      ]
    },
    {
      "cell_type": "markdown",
      "metadata": {
        "id": "uzVQJ2tkrwwT"
      },
      "source": [
        "## 제출"
      ]
    }
  ],
  "metadata": {
    "colab": {
      "collapsed_sections": [
        "nbIffwyeTYLE"
      ],
      "provenance": []
    },
    "kernelspec": {
      "display_name": "Python 3",
      "name": "python3"
    },
    "language_info": {
      "codemirror_mode": {
        "name": "ipython",
        "version": 3
      },
      "file_extension": ".py",
      "mimetype": "text/x-python",
      "name": "python",
      "nbconvert_exporter": "python",
      "pygments_lexer": "ipython3",
      "version": "3.11.4"
    }
  },
  "nbformat": 4,
  "nbformat_minor": 0
}
