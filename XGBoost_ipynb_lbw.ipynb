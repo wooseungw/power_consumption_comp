{
  "cells": [
    {
      "cell_type": "code",
      "execution_count": 3,
      "metadata": {
        "colab": {
          "base_uri": "https://localhost:8080/"
        },
        "id": "wMEoBiUlW1y2",
        "outputId": "916c5ab0-130a-4cb9-fac3-0a2f828f77b6"
      },
      "outputs": [],
      "source": [
        "import random\n",
        "import pandas as pd\n",
        "import numpy as np\n",
        "import os\n",
        "from xgboost import XGBRegressor\n",
        "from sklearn.ensemble import RandomForestRegressor\n",
        "\n",
        "import warnings\n",
        "warnings.filterwarnings(action='ignore')\n",
        "\n",
        "def seed_everything(seed):\n",
        "    random.seed(seed)\n",
        "    os.environ['PYTHONHASHSEED'] = str(seed)\n",
        "    np.random.seed(seed)\n",
        "\n",
        "seed_everything(42) # Seed 고정"
      ]
    },
    {
      "cell_type": "code",
      "execution_count": 21,
      "metadata": {
        "colab": {
          "base_uri": "https://localhost:8080/",
          "height": 357
        },
        "id": "k0BgLBeSXPFs",
        "outputId": "0245c973-cebe-4d56-b94a-b60bc4be55df"
      },
      "outputs": [
        {
          "data": {
            "text/html": [
              "<div>\n",
              "<style scoped>\n",
              "    .dataframe tbody tr th:only-of-type {\n",
              "        vertical-align: middle;\n",
              "    }\n",
              "\n",
              "    .dataframe tbody tr th {\n",
              "        vertical-align: top;\n",
              "    }\n",
              "\n",
              "    .dataframe thead th {\n",
              "        text-align: right;\n",
              "    }\n",
              "</style>\n",
              "<table border=\"1\" class=\"dataframe\">\n",
              "  <thead>\n",
              "    <tr style=\"text-align: right;\">\n",
              "      <th></th>\n",
              "      <th>num_date_time</th>\n",
              "      <th>building_number</th>\n",
              "      <th>date_time</th>\n",
              "      <th>temperature</th>\n",
              "      <th>rainfall</th>\n",
              "      <th>windspeed</th>\n",
              "      <th>humidity</th>\n",
              "      <th>sunshine</th>\n",
              "      <th>solar_radiation</th>\n",
              "      <th>power_consumption</th>\n",
              "    </tr>\n",
              "  </thead>\n",
              "  <tbody>\n",
              "    <tr>\n",
              "      <th>0</th>\n",
              "      <td>1_20220601 00</td>\n",
              "      <td>1</td>\n",
              "      <td>20220601 00</td>\n",
              "      <td>18.6</td>\n",
              "      <td>NaN</td>\n",
              "      <td>0.9</td>\n",
              "      <td>42.0</td>\n",
              "      <td>NaN</td>\n",
              "      <td>NaN</td>\n",
              "      <td>1085.28</td>\n",
              "    </tr>\n",
              "    <tr>\n",
              "      <th>1</th>\n",
              "      <td>1_20220601 01</td>\n",
              "      <td>1</td>\n",
              "      <td>20220601 01</td>\n",
              "      <td>18.0</td>\n",
              "      <td>NaN</td>\n",
              "      <td>1.1</td>\n",
              "      <td>45.0</td>\n",
              "      <td>NaN</td>\n",
              "      <td>NaN</td>\n",
              "      <td>1047.36</td>\n",
              "    </tr>\n",
              "    <tr>\n",
              "      <th>2</th>\n",
              "      <td>1_20220601 02</td>\n",
              "      <td>1</td>\n",
              "      <td>20220601 02</td>\n",
              "      <td>17.7</td>\n",
              "      <td>NaN</td>\n",
              "      <td>1.5</td>\n",
              "      <td>45.0</td>\n",
              "      <td>NaN</td>\n",
              "      <td>NaN</td>\n",
              "      <td>974.88</td>\n",
              "    </tr>\n",
              "    <tr>\n",
              "      <th>3</th>\n",
              "      <td>1_20220601 03</td>\n",
              "      <td>1</td>\n",
              "      <td>20220601 03</td>\n",
              "      <td>16.7</td>\n",
              "      <td>NaN</td>\n",
              "      <td>1.4</td>\n",
              "      <td>48.0</td>\n",
              "      <td>NaN</td>\n",
              "      <td>NaN</td>\n",
              "      <td>953.76</td>\n",
              "    </tr>\n",
              "    <tr>\n",
              "      <th>4</th>\n",
              "      <td>1_20220601 04</td>\n",
              "      <td>1</td>\n",
              "      <td>20220601 04</td>\n",
              "      <td>18.4</td>\n",
              "      <td>NaN</td>\n",
              "      <td>2.8</td>\n",
              "      <td>43.0</td>\n",
              "      <td>NaN</td>\n",
              "      <td>NaN</td>\n",
              "      <td>986.40</td>\n",
              "    </tr>\n",
              "  </tbody>\n",
              "</table>\n",
              "</div>"
            ],
            "text/plain": [
              "   num_date_time  building_number    date_time  temperature  rainfall  \\\n",
              "0  1_20220601 00                1  20220601 00         18.6       NaN   \n",
              "1  1_20220601 01                1  20220601 01         18.0       NaN   \n",
              "2  1_20220601 02                1  20220601 02         17.7       NaN   \n",
              "3  1_20220601 03                1  20220601 03         16.7       NaN   \n",
              "4  1_20220601 04                1  20220601 04         18.4       NaN   \n",
              "\n",
              "   windspeed  humidity  sunshine  solar_radiation  power_consumption  \n",
              "0        0.9      42.0       NaN              NaN            1085.28  \n",
              "1        1.1      45.0       NaN              NaN            1047.36  \n",
              "2        1.5      45.0       NaN              NaN             974.88  \n",
              "3        1.4      48.0       NaN              NaN             953.76  \n",
              "4        2.8      43.0       NaN              NaN             986.40  "
            ]
          },
          "execution_count": 21,
          "metadata": {},
          "output_type": "execute_result"
        }
      ],
      "source": [
        "#데이터 불러오기\n",
        "train_df = pd.read_csv('./data/train.csv')\n",
        "test_df = pd.read_csv('./data/test.csv')\n",
        "building_info =  pd.read_csv('./data/building_info.csv')\n",
        "\n",
        "train_df = train_df.rename(columns={\n",
        "    '건물번호': 'building_number',\n",
        "    '일시': 'date_time',\n",
        "    '기온(C)': 'temperature',\n",
        "    '강수량(mm)': 'rainfall',\n",
        "    '풍속(m/s)': 'windspeed',\n",
        "    '습도(%)': 'humidity',\n",
        "    '일조(hr)': 'sunshine',\n",
        "    '일사(MJ/m2)': 'solar_radiation',\n",
        "    '전력소비량(kWh)': 'power_consumption'\n",
        "})\n",
        "test_df = test_df.rename(columns={\n",
        "    '건물번호': 'building_number',\n",
        "    '일시': 'date_time',\n",
        "    '기온(C)': 'temperature',\n",
        "    '강수량(mm)': 'rainfall',\n",
        "    '풍속(m/s)': 'windspeed',\n",
        "    '습도(%)': 'humidity',\n",
        "    '일조(hr)': 'sunshine',\n",
        "    '일사(MJ/m2)': 'solar_radiation',\n",
        "    '전력소비량(kWh)': 'power_consumption'\n",
        "})\n",
        "building_info = building_info.rename(columns={\n",
        "    '건물번호': 'building_number',\n",
        "    '건물유형': 'building_type',\n",
        "    '연면적(m2)': 'total_area',\n",
        "    '냉방면적(m2)': 'cooling_area',\n",
        "    '태양광용량(kW)': 'solar_power_capacity',\n",
        "    'ESS저장용량(kWh)': 'ess_capacity',\n",
        "    'PCS용량(kW)': 'pcs_capacity'\n",
        "})\n",
        "translation_dict = {\n",
        "    '건물기타': 'Other Buildings',\n",
        "    '공공': 'Public',\n",
        "    '대학교': 'University',\n",
        "    '데이터센터': 'Data Center',\n",
        "    '백화점및아울렛': 'Department Store and Outlet',\n",
        "    '병원': 'Hospital',\n",
        "    '상용': 'Commercial',\n",
        "    '아파트': 'Apartment',\n",
        "    '연구소': 'Research Institute',\n",
        "    '지식산업센터': 'Knowledge Industry Center',\n",
        "    '할인마트': 'Discount Mart',\n",
        "    '호텔및리조트': 'Hotel and Resort'\n",
        "}\n",
        "\n",
        "building_info['building_type'] = building_info['building_type'].replace(translation_dict)\n",
        "\n",
        "\n",
        "train_df.head()"
      ]
    },
    {
      "cell_type": "code",
      "execution_count": 22,
      "metadata": {
        "colab": {
          "base_uri": "https://localhost:8080/",
          "height": 206
        },
        "id": "4fBUpGtRq9Ga",
        "outputId": "69d03406-ff30-4515-ecb6-774d60b7afb6"
      },
      "outputs": [
        {
          "data": {
            "text/html": [
              "<div>\n",
              "<style scoped>\n",
              "    .dataframe tbody tr th:only-of-type {\n",
              "        vertical-align: middle;\n",
              "    }\n",
              "\n",
              "    .dataframe tbody tr th {\n",
              "        vertical-align: top;\n",
              "    }\n",
              "\n",
              "    .dataframe thead th {\n",
              "        text-align: right;\n",
              "    }\n",
              "</style>\n",
              "<table border=\"1\" class=\"dataframe\">\n",
              "  <thead>\n",
              "    <tr style=\"text-align: right;\">\n",
              "      <th></th>\n",
              "      <th>num_date_time</th>\n",
              "      <th>building_number</th>\n",
              "      <th>date_time</th>\n",
              "      <th>temperature</th>\n",
              "      <th>rainfall</th>\n",
              "      <th>windspeed</th>\n",
              "      <th>humidity</th>\n",
              "    </tr>\n",
              "  </thead>\n",
              "  <tbody>\n",
              "    <tr>\n",
              "      <th>0</th>\n",
              "      <td>1_20220825 00</td>\n",
              "      <td>1</td>\n",
              "      <td>20220825 00</td>\n",
              "      <td>23.5</td>\n",
              "      <td>0.0</td>\n",
              "      <td>2.2</td>\n",
              "      <td>72</td>\n",
              "    </tr>\n",
              "    <tr>\n",
              "      <th>1</th>\n",
              "      <td>1_20220825 01</td>\n",
              "      <td>1</td>\n",
              "      <td>20220825 01</td>\n",
              "      <td>23.0</td>\n",
              "      <td>0.0</td>\n",
              "      <td>0.9</td>\n",
              "      <td>72</td>\n",
              "    </tr>\n",
              "    <tr>\n",
              "      <th>2</th>\n",
              "      <td>1_20220825 02</td>\n",
              "      <td>1</td>\n",
              "      <td>20220825 02</td>\n",
              "      <td>22.7</td>\n",
              "      <td>0.0</td>\n",
              "      <td>1.5</td>\n",
              "      <td>75</td>\n",
              "    </tr>\n",
              "    <tr>\n",
              "      <th>3</th>\n",
              "      <td>1_20220825 03</td>\n",
              "      <td>1</td>\n",
              "      <td>20220825 03</td>\n",
              "      <td>22.1</td>\n",
              "      <td>0.0</td>\n",
              "      <td>1.3</td>\n",
              "      <td>78</td>\n",
              "    </tr>\n",
              "    <tr>\n",
              "      <th>4</th>\n",
              "      <td>1_20220825 04</td>\n",
              "      <td>1</td>\n",
              "      <td>20220825 04</td>\n",
              "      <td>21.8</td>\n",
              "      <td>0.0</td>\n",
              "      <td>1.0</td>\n",
              "      <td>77</td>\n",
              "    </tr>\n",
              "  </tbody>\n",
              "</table>\n",
              "</div>"
            ],
            "text/plain": [
              "   num_date_time  building_number    date_time  temperature  rainfall  \\\n",
              "0  1_20220825 00                1  20220825 00         23.5       0.0   \n",
              "1  1_20220825 01                1  20220825 01         23.0       0.0   \n",
              "2  1_20220825 02                1  20220825 02         22.7       0.0   \n",
              "3  1_20220825 03                1  20220825 03         22.1       0.0   \n",
              "4  1_20220825 04                1  20220825 04         21.8       0.0   \n",
              "\n",
              "   windspeed  humidity  \n",
              "0        2.2        72  \n",
              "1        0.9        72  \n",
              "2        1.5        75  \n",
              "3        1.3        78  \n",
              "4        1.0        77  "
            ]
          },
          "execution_count": 22,
          "metadata": {},
          "output_type": "execute_result"
        }
      ],
      "source": [
        "test_df.head()"
      ]
    },
    {
      "cell_type": "code",
      "execution_count": 23,
      "metadata": {
        "colab": {
          "base_uri": "https://localhost:8080/",
          "height": 270
        },
        "id": "-pMwwAr_q8zY",
        "outputId": "1bb3e373-99d6-4b6c-e334-f8fee7ad7eae"
      },
      "outputs": [
        {
          "data": {
            "text/html": [
              "<div>\n",
              "<style scoped>\n",
              "    .dataframe tbody tr th:only-of-type {\n",
              "        vertical-align: middle;\n",
              "    }\n",
              "\n",
              "    .dataframe tbody tr th {\n",
              "        vertical-align: top;\n",
              "    }\n",
              "\n",
              "    .dataframe thead th {\n",
              "        text-align: right;\n",
              "    }\n",
              "</style>\n",
              "<table border=\"1\" class=\"dataframe\">\n",
              "  <thead>\n",
              "    <tr style=\"text-align: right;\">\n",
              "      <th></th>\n",
              "      <th>building_number</th>\n",
              "      <th>building_type</th>\n",
              "      <th>total_area</th>\n",
              "      <th>cooling_area</th>\n",
              "      <th>solar_power_capacity</th>\n",
              "      <th>ess_capacity</th>\n",
              "      <th>pcs_capacity</th>\n",
              "    </tr>\n",
              "  </thead>\n",
              "  <tbody>\n",
              "    <tr>\n",
              "      <th>0</th>\n",
              "      <td>1</td>\n",
              "      <td>Other Buildings</td>\n",
              "      <td>110634.00</td>\n",
              "      <td>39570.00</td>\n",
              "      <td>-</td>\n",
              "      <td>-</td>\n",
              "      <td>-</td>\n",
              "    </tr>\n",
              "    <tr>\n",
              "      <th>1</th>\n",
              "      <td>2</td>\n",
              "      <td>Other Buildings</td>\n",
              "      <td>122233.47</td>\n",
              "      <td>99000.00</td>\n",
              "      <td>-</td>\n",
              "      <td>-</td>\n",
              "      <td>-</td>\n",
              "    </tr>\n",
              "    <tr>\n",
              "      <th>2</th>\n",
              "      <td>3</td>\n",
              "      <td>Other Buildings</td>\n",
              "      <td>171243.00</td>\n",
              "      <td>113950.00</td>\n",
              "      <td>40</td>\n",
              "      <td>-</td>\n",
              "      <td>-</td>\n",
              "    </tr>\n",
              "    <tr>\n",
              "      <th>3</th>\n",
              "      <td>4</td>\n",
              "      <td>Other Buildings</td>\n",
              "      <td>74312.98</td>\n",
              "      <td>34419.62</td>\n",
              "      <td>60</td>\n",
              "      <td>-</td>\n",
              "      <td>-</td>\n",
              "    </tr>\n",
              "    <tr>\n",
              "      <th>4</th>\n",
              "      <td>5</td>\n",
              "      <td>Other Buildings</td>\n",
              "      <td>205884.00</td>\n",
              "      <td>150000.00</td>\n",
              "      <td>-</td>\n",
              "      <td>2557</td>\n",
              "      <td>1000</td>\n",
              "    </tr>\n",
              "  </tbody>\n",
              "</table>\n",
              "</div>"
            ],
            "text/plain": [
              "   building_number    building_type  total_area  cooling_area  \\\n",
              "0                1  Other Buildings   110634.00      39570.00   \n",
              "1                2  Other Buildings   122233.47      99000.00   \n",
              "2                3  Other Buildings   171243.00     113950.00   \n",
              "3                4  Other Buildings    74312.98      34419.62   \n",
              "4                5  Other Buildings   205884.00     150000.00   \n",
              "\n",
              "  solar_power_capacity ess_capacity pcs_capacity  \n",
              "0                    -            -            -  \n",
              "1                    -            -            -  \n",
              "2                   40            -            -  \n",
              "3                   60            -            -  \n",
              "4                    -         2557         1000  "
            ]
          },
          "execution_count": 23,
          "metadata": {},
          "output_type": "execute_result"
        }
      ],
      "source": [
        "building_info.head()"
      ]
    },
    {
      "cell_type": "markdown",
      "metadata": {
        "id": "b_3I0_1yoUny"
      },
      "source": [
        "Train 과 Test의 차이: columns에 일조, 일사, 전력 소비량이 없다."
      ]
    },
    {
      "cell_type": "markdown",
      "metadata": {
        "id": "kHQuG97fRlAY"
      },
      "source": [
        "## 전처리 (병합, 빈칸 채우기, 형 변환, num_date_time 삭제)"
      ]
    },
    {
      "cell_type": "code",
      "execution_count": 24,
      "metadata": {
        "id": "K31zBMavXXoD"
      },
      "outputs": [],
      "source": [
        "def preprocessing(df):\n",
        "  #공통적인 부분만 변경\n",
        "\n",
        "  #결측값을 0으로 채웁니다 안바꿔도 됨\n",
        "  df = df.fillna(0)\n",
        "  #시계열 특성을 학습에 반영하기 위해 일시를 월, 일, 시간으로 나눕니다\n",
        "  df['date_time'] = pd.to_datetime(df['date_time'], format='%Y%m%d %H')\n",
        "  #람다식을 이용해 일시에서 달,일,시간을 잘라낸것\n",
        "  df['month'] = df['date_time'].dt.month\n",
        "  df['day'] = df['date_time'].dt.day\n",
        "  df['hour'] = df['date_time'].dt.hour\n",
        "\n",
        "  # 'building_number'를 기준으로 두 데이터프레임 병합 및 전처리\n",
        "  merged_df = pd.merge(df, building_info, on='building_number',how='right')\n",
        "  #merge후 전처리\n",
        "  merged_df['solar_power_capacity'] = merged_df['solar_power_capacity'].replace('-', 0)\n",
        "  merged_df['ess_capacity'] = merged_df['ess_capacity'].replace('-', 0)\n",
        "  merged_df['pcs_capacity'] = merged_df['pcs_capacity'].replace('-', 0)\n",
        "\n",
        "  merged_df['solar_power_capacity'] = merged_df['solar_power_capacity'].astype('float64')\n",
        "  merged_df['ess_capacity'] = merged_df['ess_capacity'].astype('float64')\n",
        "  merged_df['pcs_capacity'] = merged_df['pcs_capacity'].astype('float64')\n",
        "\n",
        "  return merged_df.drop(columns=['num_date_time'])\n"
      ]
    },
    {
      "cell_type": "code",
      "execution_count": 25,
      "metadata": {
        "colab": {
          "base_uri": "https://localhost:8080/",
          "height": 444
        },
        "id": "RtHfaUi5sGiw",
        "outputId": "67be4b48-49a8-41ad-d14a-dae896bcc39c"
      },
      "outputs": [
        {
          "data": {
            "text/html": [
              "<div>\n",
              "<style scoped>\n",
              "    .dataframe tbody tr th:only-of-type {\n",
              "        vertical-align: middle;\n",
              "    }\n",
              "\n",
              "    .dataframe tbody tr th {\n",
              "        vertical-align: top;\n",
              "    }\n",
              "\n",
              "    .dataframe thead th {\n",
              "        text-align: right;\n",
              "    }\n",
              "</style>\n",
              "<table border=\"1\" class=\"dataframe\">\n",
              "  <thead>\n",
              "    <tr style=\"text-align: right;\">\n",
              "      <th></th>\n",
              "      <th>building_number</th>\n",
              "      <th>date_time</th>\n",
              "      <th>temperature</th>\n",
              "      <th>rainfall</th>\n",
              "      <th>windspeed</th>\n",
              "      <th>humidity</th>\n",
              "      <th>sunshine</th>\n",
              "      <th>solar_radiation</th>\n",
              "      <th>power_consumption</th>\n",
              "      <th>month</th>\n",
              "      <th>day</th>\n",
              "      <th>hour</th>\n",
              "      <th>building_type</th>\n",
              "      <th>total_area</th>\n",
              "      <th>cooling_area</th>\n",
              "      <th>solar_power_capacity</th>\n",
              "      <th>ess_capacity</th>\n",
              "      <th>pcs_capacity</th>\n",
              "    </tr>\n",
              "  </thead>\n",
              "  <tbody>\n",
              "    <tr>\n",
              "      <th>0</th>\n",
              "      <td>1</td>\n",
              "      <td>2022-06-01 00:00:00</td>\n",
              "      <td>18.6</td>\n",
              "      <td>0.0</td>\n",
              "      <td>0.9</td>\n",
              "      <td>42.0</td>\n",
              "      <td>0.0</td>\n",
              "      <td>0.0</td>\n",
              "      <td>1085.28</td>\n",
              "      <td>6</td>\n",
              "      <td>1</td>\n",
              "      <td>0</td>\n",
              "      <td>Other Buildings</td>\n",
              "      <td>110634.0</td>\n",
              "      <td>39570.0</td>\n",
              "      <td>0.0</td>\n",
              "      <td>0.0</td>\n",
              "      <td>0.0</td>\n",
              "    </tr>\n",
              "    <tr>\n",
              "      <th>1</th>\n",
              "      <td>1</td>\n",
              "      <td>2022-06-01 01:00:00</td>\n",
              "      <td>18.0</td>\n",
              "      <td>0.0</td>\n",
              "      <td>1.1</td>\n",
              "      <td>45.0</td>\n",
              "      <td>0.0</td>\n",
              "      <td>0.0</td>\n",
              "      <td>1047.36</td>\n",
              "      <td>6</td>\n",
              "      <td>1</td>\n",
              "      <td>1</td>\n",
              "      <td>Other Buildings</td>\n",
              "      <td>110634.0</td>\n",
              "      <td>39570.0</td>\n",
              "      <td>0.0</td>\n",
              "      <td>0.0</td>\n",
              "      <td>0.0</td>\n",
              "    </tr>\n",
              "    <tr>\n",
              "      <th>2</th>\n",
              "      <td>1</td>\n",
              "      <td>2022-06-01 02:00:00</td>\n",
              "      <td>17.7</td>\n",
              "      <td>0.0</td>\n",
              "      <td>1.5</td>\n",
              "      <td>45.0</td>\n",
              "      <td>0.0</td>\n",
              "      <td>0.0</td>\n",
              "      <td>974.88</td>\n",
              "      <td>6</td>\n",
              "      <td>1</td>\n",
              "      <td>2</td>\n",
              "      <td>Other Buildings</td>\n",
              "      <td>110634.0</td>\n",
              "      <td>39570.0</td>\n",
              "      <td>0.0</td>\n",
              "      <td>0.0</td>\n",
              "      <td>0.0</td>\n",
              "    </tr>\n",
              "    <tr>\n",
              "      <th>3</th>\n",
              "      <td>1</td>\n",
              "      <td>2022-06-01 03:00:00</td>\n",
              "      <td>16.7</td>\n",
              "      <td>0.0</td>\n",
              "      <td>1.4</td>\n",
              "      <td>48.0</td>\n",
              "      <td>0.0</td>\n",
              "      <td>0.0</td>\n",
              "      <td>953.76</td>\n",
              "      <td>6</td>\n",
              "      <td>1</td>\n",
              "      <td>3</td>\n",
              "      <td>Other Buildings</td>\n",
              "      <td>110634.0</td>\n",
              "      <td>39570.0</td>\n",
              "      <td>0.0</td>\n",
              "      <td>0.0</td>\n",
              "      <td>0.0</td>\n",
              "    </tr>\n",
              "    <tr>\n",
              "      <th>4</th>\n",
              "      <td>1</td>\n",
              "      <td>2022-06-01 04:00:00</td>\n",
              "      <td>18.4</td>\n",
              "      <td>0.0</td>\n",
              "      <td>2.8</td>\n",
              "      <td>43.0</td>\n",
              "      <td>0.0</td>\n",
              "      <td>0.0</td>\n",
              "      <td>986.40</td>\n",
              "      <td>6</td>\n",
              "      <td>1</td>\n",
              "      <td>4</td>\n",
              "      <td>Other Buildings</td>\n",
              "      <td>110634.0</td>\n",
              "      <td>39570.0</td>\n",
              "      <td>0.0</td>\n",
              "      <td>0.0</td>\n",
              "      <td>0.0</td>\n",
              "    </tr>\n",
              "  </tbody>\n",
              "</table>\n",
              "</div>"
            ],
            "text/plain": [
              "   building_number           date_time  temperature  rainfall  windspeed  \\\n",
              "0                1 2022-06-01 00:00:00         18.6       0.0        0.9   \n",
              "1                1 2022-06-01 01:00:00         18.0       0.0        1.1   \n",
              "2                1 2022-06-01 02:00:00         17.7       0.0        1.5   \n",
              "3                1 2022-06-01 03:00:00         16.7       0.0        1.4   \n",
              "4                1 2022-06-01 04:00:00         18.4       0.0        2.8   \n",
              "\n",
              "   humidity  sunshine  solar_radiation  power_consumption  month  day  hour  \\\n",
              "0      42.0       0.0              0.0            1085.28      6    1     0   \n",
              "1      45.0       0.0              0.0            1047.36      6    1     1   \n",
              "2      45.0       0.0              0.0             974.88      6    1     2   \n",
              "3      48.0       0.0              0.0             953.76      6    1     3   \n",
              "4      43.0       0.0              0.0             986.40      6    1     4   \n",
              "\n",
              "     building_type  total_area  cooling_area  solar_power_capacity  \\\n",
              "0  Other Buildings    110634.0       39570.0                   0.0   \n",
              "1  Other Buildings    110634.0       39570.0                   0.0   \n",
              "2  Other Buildings    110634.0       39570.0                   0.0   \n",
              "3  Other Buildings    110634.0       39570.0                   0.0   \n",
              "4  Other Buildings    110634.0       39570.0                   0.0   \n",
              "\n",
              "   ess_capacity  pcs_capacity  \n",
              "0           0.0           0.0  \n",
              "1           0.0           0.0  \n",
              "2           0.0           0.0  \n",
              "3           0.0           0.0  \n",
              "4           0.0           0.0  "
            ]
          },
          "execution_count": 25,
          "metadata": {},
          "output_type": "execute_result"
        }
      ],
      "source": [
        "merged_train_df = preprocessing(train_df)\n",
        "merged_test_df = preprocessing(test_df)\n",
        "\n",
        "merged_train_df.head()"
      ]
    },
    {
      "cell_type": "markdown",
      "metadata": {
        "id": "z9sMgFQxTKLj"
      },
      "source": []
    },
    {
      "cell_type": "code",
      "execution_count": 26,
      "metadata": {
        "colab": {
          "base_uri": "https://localhost:8080/",
          "height": 444
        },
        "id": "mF9EeOM_sm3Z",
        "outputId": "79eb7f22-adb4-4031-8935-73789aa0a6d2"
      },
      "outputs": [
        {
          "data": {
            "text/html": [
              "<div>\n",
              "<style scoped>\n",
              "    .dataframe tbody tr th:only-of-type {\n",
              "        vertical-align: middle;\n",
              "    }\n",
              "\n",
              "    .dataframe tbody tr th {\n",
              "        vertical-align: top;\n",
              "    }\n",
              "\n",
              "    .dataframe thead th {\n",
              "        text-align: right;\n",
              "    }\n",
              "</style>\n",
              "<table border=\"1\" class=\"dataframe\">\n",
              "  <thead>\n",
              "    <tr style=\"text-align: right;\">\n",
              "      <th></th>\n",
              "      <th>building_number</th>\n",
              "      <th>date_time</th>\n",
              "      <th>temperature</th>\n",
              "      <th>rainfall</th>\n",
              "      <th>windspeed</th>\n",
              "      <th>humidity</th>\n",
              "      <th>month</th>\n",
              "      <th>day</th>\n",
              "      <th>hour</th>\n",
              "      <th>building_type</th>\n",
              "      <th>total_area</th>\n",
              "      <th>cooling_area</th>\n",
              "      <th>solar_power_capacity</th>\n",
              "      <th>ess_capacity</th>\n",
              "      <th>pcs_capacity</th>\n",
              "    </tr>\n",
              "  </thead>\n",
              "  <tbody>\n",
              "    <tr>\n",
              "      <th>0</th>\n",
              "      <td>1</td>\n",
              "      <td>2022-08-25 00:00:00</td>\n",
              "      <td>23.5</td>\n",
              "      <td>0.0</td>\n",
              "      <td>2.2</td>\n",
              "      <td>72</td>\n",
              "      <td>8</td>\n",
              "      <td>25</td>\n",
              "      <td>0</td>\n",
              "      <td>Other Buildings</td>\n",
              "      <td>110634.0</td>\n",
              "      <td>39570.0</td>\n",
              "      <td>0.0</td>\n",
              "      <td>0.0</td>\n",
              "      <td>0.0</td>\n",
              "    </tr>\n",
              "    <tr>\n",
              "      <th>1</th>\n",
              "      <td>1</td>\n",
              "      <td>2022-08-25 01:00:00</td>\n",
              "      <td>23.0</td>\n",
              "      <td>0.0</td>\n",
              "      <td>0.9</td>\n",
              "      <td>72</td>\n",
              "      <td>8</td>\n",
              "      <td>25</td>\n",
              "      <td>1</td>\n",
              "      <td>Other Buildings</td>\n",
              "      <td>110634.0</td>\n",
              "      <td>39570.0</td>\n",
              "      <td>0.0</td>\n",
              "      <td>0.0</td>\n",
              "      <td>0.0</td>\n",
              "    </tr>\n",
              "    <tr>\n",
              "      <th>2</th>\n",
              "      <td>1</td>\n",
              "      <td>2022-08-25 02:00:00</td>\n",
              "      <td>22.7</td>\n",
              "      <td>0.0</td>\n",
              "      <td>1.5</td>\n",
              "      <td>75</td>\n",
              "      <td>8</td>\n",
              "      <td>25</td>\n",
              "      <td>2</td>\n",
              "      <td>Other Buildings</td>\n",
              "      <td>110634.0</td>\n",
              "      <td>39570.0</td>\n",
              "      <td>0.0</td>\n",
              "      <td>0.0</td>\n",
              "      <td>0.0</td>\n",
              "    </tr>\n",
              "    <tr>\n",
              "      <th>3</th>\n",
              "      <td>1</td>\n",
              "      <td>2022-08-25 03:00:00</td>\n",
              "      <td>22.1</td>\n",
              "      <td>0.0</td>\n",
              "      <td>1.3</td>\n",
              "      <td>78</td>\n",
              "      <td>8</td>\n",
              "      <td>25</td>\n",
              "      <td>3</td>\n",
              "      <td>Other Buildings</td>\n",
              "      <td>110634.0</td>\n",
              "      <td>39570.0</td>\n",
              "      <td>0.0</td>\n",
              "      <td>0.0</td>\n",
              "      <td>0.0</td>\n",
              "    </tr>\n",
              "    <tr>\n",
              "      <th>4</th>\n",
              "      <td>1</td>\n",
              "      <td>2022-08-25 04:00:00</td>\n",
              "      <td>21.8</td>\n",
              "      <td>0.0</td>\n",
              "      <td>1.0</td>\n",
              "      <td>77</td>\n",
              "      <td>8</td>\n",
              "      <td>25</td>\n",
              "      <td>4</td>\n",
              "      <td>Other Buildings</td>\n",
              "      <td>110634.0</td>\n",
              "      <td>39570.0</td>\n",
              "      <td>0.0</td>\n",
              "      <td>0.0</td>\n",
              "      <td>0.0</td>\n",
              "    </tr>\n",
              "  </tbody>\n",
              "</table>\n",
              "</div>"
            ],
            "text/plain": [
              "   building_number           date_time  temperature  rainfall  windspeed  \\\n",
              "0                1 2022-08-25 00:00:00         23.5       0.0        2.2   \n",
              "1                1 2022-08-25 01:00:00         23.0       0.0        0.9   \n",
              "2                1 2022-08-25 02:00:00         22.7       0.0        1.5   \n",
              "3                1 2022-08-25 03:00:00         22.1       0.0        1.3   \n",
              "4                1 2022-08-25 04:00:00         21.8       0.0        1.0   \n",
              "\n",
              "   humidity  month  day  hour    building_type  total_area  cooling_area  \\\n",
              "0        72      8   25     0  Other Buildings    110634.0       39570.0   \n",
              "1        72      8   25     1  Other Buildings    110634.0       39570.0   \n",
              "2        75      8   25     2  Other Buildings    110634.0       39570.0   \n",
              "3        78      8   25     3  Other Buildings    110634.0       39570.0   \n",
              "4        77      8   25     4  Other Buildings    110634.0       39570.0   \n",
              "\n",
              "   solar_power_capacity  ess_capacity  pcs_capacity  \n",
              "0                   0.0           0.0           0.0  \n",
              "1                   0.0           0.0           0.0  \n",
              "2                   0.0           0.0           0.0  \n",
              "3                   0.0           0.0           0.0  \n",
              "4                   0.0           0.0           0.0  "
            ]
          },
          "execution_count": 26,
          "metadata": {},
          "output_type": "execute_result"
        }
      ],
      "source": [
        "merged_test_df.head()"
      ]
    },
    {
      "cell_type": "markdown",
      "metadata": {
        "id": "uWFdCGblTbtf"
      },
      "source": [
        "## 추가 전처리"
      ]
    },
    {
      "cell_type": "code",
      "execution_count": 8,
      "metadata": {
        "id": "VeSP2QAHUIOT"
      },
      "outputs": [],
      "source": [
        "import matplotlib.pyplot as plt\n",
        "from tqdm import tqdm\n",
        "from sktime.forecasting.model_selection import temporal_train_test_split\n",
        "from sktime.utils.plotting import plot_series\n",
        "from xgboost import XGBRegressor\n",
        "\n",
        "pd.set_option('display.max_columns', 30)"
      ]
    },
    {
      "cell_type": "code",
      "execution_count": 28,
      "metadata": {
        "colab": {
          "base_uri": "https://localhost:8080/",
          "height": 424
        },
        "id": "Anv6mxiSTc7-",
        "outputId": "4e5119a3-5032-4179-9216-944152bbc70f"
      },
      "outputs": [
        {
          "data": {
            "text/html": [
              "<div>\n",
              "<style scoped>\n",
              "    .dataframe tbody tr th:only-of-type {\n",
              "        vertical-align: middle;\n",
              "    }\n",
              "\n",
              "    .dataframe tbody tr th {\n",
              "        vertical-align: top;\n",
              "    }\n",
              "\n",
              "    .dataframe thead th {\n",
              "        text-align: right;\n",
              "    }\n",
              "</style>\n",
              "<table border=\"1\" class=\"dataframe\">\n",
              "  <thead>\n",
              "    <tr style=\"text-align: right;\">\n",
              "      <th></th>\n",
              "      <th>building_number</th>\n",
              "      <th>hour</th>\n",
              "      <th>day</th>\n",
              "      <th>power_consumption</th>\n",
              "    </tr>\n",
              "  </thead>\n",
              "  <tbody>\n",
              "    <tr>\n",
              "      <th>0</th>\n",
              "      <td>1</td>\n",
              "      <td>0</td>\n",
              "      <td>1</td>\n",
              "      <td>1371.52</td>\n",
              "    </tr>\n",
              "    <tr>\n",
              "      <th>1</th>\n",
              "      <td>1</td>\n",
              "      <td>0</td>\n",
              "      <td>2</td>\n",
              "      <td>1620.16</td>\n",
              "    </tr>\n",
              "    <tr>\n",
              "      <th>2</th>\n",
              "      <td>1</td>\n",
              "      <td>0</td>\n",
              "      <td>3</td>\n",
              "      <td>1565.12</td>\n",
              "    </tr>\n",
              "    <tr>\n",
              "      <th>3</th>\n",
              "      <td>1</td>\n",
              "      <td>0</td>\n",
              "      <td>4</td>\n",
              "      <td>1539.12</td>\n",
              "    </tr>\n",
              "    <tr>\n",
              "      <th>4</th>\n",
              "      <td>1</td>\n",
              "      <td>0</td>\n",
              "      <td>5</td>\n",
              "      <td>1675.20</td>\n",
              "    </tr>\n",
              "    <tr>\n",
              "      <th>...</th>\n",
              "      <td>...</td>\n",
              "      <td>...</td>\n",
              "      <td>...</td>\n",
              "      <td>...</td>\n",
              "    </tr>\n",
              "    <tr>\n",
              "      <th>74395</th>\n",
              "      <td>100</td>\n",
              "      <td>23</td>\n",
              "      <td>27</td>\n",
              "      <td>586.08</td>\n",
              "    </tr>\n",
              "    <tr>\n",
              "      <th>74396</th>\n",
              "      <td>100</td>\n",
              "      <td>23</td>\n",
              "      <td>28</td>\n",
              "      <td>580.44</td>\n",
              "    </tr>\n",
              "    <tr>\n",
              "      <th>74397</th>\n",
              "      <td>100</td>\n",
              "      <td>23</td>\n",
              "      <td>29</td>\n",
              "      <td>651.72</td>\n",
              "    </tr>\n",
              "    <tr>\n",
              "      <th>74398</th>\n",
              "      <td>100</td>\n",
              "      <td>23</td>\n",
              "      <td>30</td>\n",
              "      <td>669.36</td>\n",
              "    </tr>\n",
              "    <tr>\n",
              "      <th>74399</th>\n",
              "      <td>100</td>\n",
              "      <td>23</td>\n",
              "      <td>31</td>\n",
              "      <td>605.52</td>\n",
              "    </tr>\n",
              "  </tbody>\n",
              "</table>\n",
              "<p>74400 rows × 4 columns</p>\n",
              "</div>"
            ],
            "text/plain": [
              "       building_number  hour  day  power_consumption\n",
              "0                    1     0    1            1371.52\n",
              "1                    1     0    2            1620.16\n",
              "2                    1     0    3            1565.12\n",
              "3                    1     0    4            1539.12\n",
              "4                    1     0    5            1675.20\n",
              "...                ...   ...  ...                ...\n",
              "74395              100    23   27             586.08\n",
              "74396              100    23   28             580.44\n",
              "74397              100    23   29             651.72\n",
              "74398              100    23   30             669.36\n",
              "74399              100    23   31             605.52\n",
              "\n",
              "[74400 rows x 4 columns]"
            ]
          },
          "execution_count": 28,
          "metadata": {},
          "output_type": "execute_result"
        }
      ],
      "source": [
        "#######################################\n",
        "## 건물별, 요일별, 시간별 발전량 평균 넣어주기\n",
        "#######################################\n",
        "power_mean = pd.pivot_table(merged_train_df, values = 'power_consumption', index = ['building_number', 'hour', 'day'], aggfunc = np.mean).reset_index()\n",
        "power_mean"
      ]
    },
    {
      "cell_type": "code",
      "execution_count": 29,
      "metadata": {
        "colab": {
          "base_uri": "https://localhost:8080/"
        },
        "id": "7XFmL_9BTlQw",
        "outputId": "d8683e11-7c0c-4020-9f93-33be9caba7d9"
      },
      "outputs": [
        {
          "name": "stderr",
          "output_type": "stream",
          "text": [
            "100%|██████████| 204000/204000 [02:07<00:00, 1606.02it/s]\n"
          ]
        }
      ],
      "source": [
        "#######################################\n",
        "## 건물별 시간별 발전량 평균 넣어주기\n",
        "#######################################\n",
        "tqdm.pandas()\n",
        "merged_train_df['day_hour_mean'] = merged_train_df.progress_apply(lambda x : power_mean.loc[(power_mean.building_number == x['building_number']) & (power_mean.hour == x['hour']) & (power_mean.day == x['day']) ,'power_consumption'].values[0], axis = 1)"
      ]
    },
    {
      "cell_type": "code",
      "execution_count": 30,
      "metadata": {
        "colab": {
          "base_uri": "https://localhost:8080/"
        },
        "id": "Zq5G-wcqVI5w",
        "outputId": "0572758c-7a56-4ec3-aa40-a4d2f715b56d"
      },
      "outputs": [
        {
          "data": {
            "text/plain": [
              "0    1371.52\n",
              "1    1323.52\n",
              "2    1236.48\n",
              "3    1189.92\n",
              "4    1210.08\n",
              "Name: day_hour_mean, dtype: float64"
            ]
          },
          "execution_count": 30,
          "metadata": {},
          "output_type": "execute_result"
        }
      ],
      "source": [
        "merged_train_df['day_hour_mean'].head()"
      ]
    },
    {
      "cell_type": "code",
      "execution_count": 31,
      "metadata": {
        "colab": {
          "base_uri": "https://localhost:8080/"
        },
        "id": "YW6iAwBiUXrC",
        "outputId": "f839beab-33a9-477f-c11c-c04926102ccb"
      },
      "outputs": [
        {
          "name": "stderr",
          "output_type": "stream",
          "text": [
            "100%|██████████| 204000/204000 [01:07<00:00, 3011.34it/s]\n"
          ]
        }
      ],
      "source": [
        "#######################################\n",
        "## 건물별 시간별 발전량 표준편차 넣어주기\n",
        "#######################################\n",
        "power_hour_std = pd.pivot_table(merged_train_df, values = 'power_consumption', index = ['building_number', 'hour'], aggfunc = np.std).reset_index()\n",
        "tqdm.pandas()\n",
        "merged_train_df['hour_std'] = merged_train_df.progress_apply(lambda x : power_hour_std.loc[(power_hour_std.building_number == x['building_number']) & (power_hour_std.hour == x['hour']) ,'power_consumption'].values[0], axis = 1)\n"
      ]
    },
    {
      "cell_type": "code",
      "execution_count": 32,
      "metadata": {
        "id": "jVylzekNUowb"
      },
      "outputs": [],
      "source": [
        "### 공휴일 변수 추가\n",
        "merged_train_df['holiday'] = merged_train_df.apply(lambda x : 0 if x['day']<5 else 1, axis = 1)\n",
        "merged_train_df.loc[('2022-08-17'<=merged_train_df.date_time)&(merged_train_df.date_time<'2022-08-18'), 'holiday'] = 1\n",
        "\n",
        "## https://dacon.io/competitions/official/235680/codeshare/2366?page=1&dtype=recent\n",
        "merged_train_df['sin_time'] = np.sin(2*np.pi*merged_train_df.hour/24)\n",
        "merged_train_df['cos_time'] = np.cos(2*np.pi*merged_train_df.hour/24)\n",
        "\n",
        "## https://dacon.io/competitions/official/235736/codeshare/2743?page=1&dtype=recent\n",
        "merged_train_df['THI'] = 9/5*merged_train_df['temperature'] - 0.55*(1-merged_train_df['humidity']/100)*(9/5*merged_train_df['humidity']-26)+32"
      ]
    },
    {
      "cell_type": "code",
      "execution_count": 33,
      "metadata": {
        "colab": {
          "base_uri": "https://localhost:8080/"
        },
        "id": "0KhIvQZ4eTro",
        "outputId": "748e244d-d9a3-4c40-ff3f-d36f7bb0ae47"
      },
      "outputs": [
        {
          "name": "stdout",
          "output_type": "stream",
          "text": [
            "<class 'pandas.core.frame.DataFrame'>\n",
            "Int64Index: 204000 entries, 0 to 203999\n",
            "Data columns (total 24 columns):\n",
            " #   Column                Non-Null Count   Dtype         \n",
            "---  ------                --------------   -----         \n",
            " 0   building_number       204000 non-null  int64         \n",
            " 1   date_time             204000 non-null  datetime64[ns]\n",
            " 2   temperature           204000 non-null  float64       \n",
            " 3   rainfall              204000 non-null  float64       \n",
            " 4   windspeed             204000 non-null  float64       \n",
            " 5   humidity              204000 non-null  float64       \n",
            " 6   sunshine              204000 non-null  float64       \n",
            " 7   solar_radiation       204000 non-null  float64       \n",
            " 8   power_consumption     204000 non-null  float64       \n",
            " 9   month                 204000 non-null  int64         \n",
            " 10  day                   204000 non-null  int64         \n",
            " 11  hour                  204000 non-null  int64         \n",
            " 12  building_type         204000 non-null  object        \n",
            " 13  total_area            204000 non-null  float64       \n",
            " 14  cooling_area          204000 non-null  float64       \n",
            " 15  solar_power_capacity  204000 non-null  float64       \n",
            " 16  ess_capacity          204000 non-null  float64       \n",
            " 17  pcs_capacity          204000 non-null  float64       \n",
            " 18  day_hour_mean         204000 non-null  float64       \n",
            " 19  hour_std              204000 non-null  float64       \n",
            " 20  holiday               204000 non-null  int64         \n",
            " 21  sin_time              204000 non-null  float64       \n",
            " 22  cos_time              204000 non-null  float64       \n",
            " 23  THI                   204000 non-null  float64       \n",
            "dtypes: datetime64[ns](1), float64(17), int64(5), object(1)\n",
            "memory usage: 38.9+ MB\n"
          ]
        }
      ],
      "source": [
        "merged_train_df.info()"
      ]
    },
    {
      "cell_type": "code",
      "execution_count": 34,
      "metadata": {
        "colab": {
          "base_uri": "https://localhost:8080/",
          "height": 444
        },
        "id": "jwYrsRI4eQr6",
        "outputId": "be4f7a73-7d86-4bd4-e02a-d51d7654d0f3"
      },
      "outputs": [
        {
          "data": {
            "text/html": [
              "<div>\n",
              "<style scoped>\n",
              "    .dataframe tbody tr th:only-of-type {\n",
              "        vertical-align: middle;\n",
              "    }\n",
              "\n",
              "    .dataframe tbody tr th {\n",
              "        vertical-align: top;\n",
              "    }\n",
              "\n",
              "    .dataframe thead th {\n",
              "        text-align: right;\n",
              "    }\n",
              "</style>\n",
              "<table border=\"1\" class=\"dataframe\">\n",
              "  <thead>\n",
              "    <tr style=\"text-align: right;\">\n",
              "      <th></th>\n",
              "      <th>building_number</th>\n",
              "      <th>date_time</th>\n",
              "      <th>temperature</th>\n",
              "      <th>rainfall</th>\n",
              "      <th>windspeed</th>\n",
              "      <th>humidity</th>\n",
              "      <th>sunshine</th>\n",
              "      <th>solar_radiation</th>\n",
              "      <th>power_consumption</th>\n",
              "      <th>month</th>\n",
              "      <th>day</th>\n",
              "      <th>hour</th>\n",
              "      <th>building_type</th>\n",
              "      <th>total_area</th>\n",
              "      <th>cooling_area</th>\n",
              "      <th>solar_power_capacity</th>\n",
              "      <th>ess_capacity</th>\n",
              "      <th>pcs_capacity</th>\n",
              "      <th>day_hour_mean</th>\n",
              "      <th>hour_std</th>\n",
              "      <th>holiday</th>\n",
              "      <th>sin_time</th>\n",
              "      <th>cos_time</th>\n",
              "      <th>THI</th>\n",
              "    </tr>\n",
              "  </thead>\n",
              "  <tbody>\n",
              "    <tr>\n",
              "      <th>0</th>\n",
              "      <td>1</td>\n",
              "      <td>2022-06-01 00:00:00</td>\n",
              "      <td>18.6</td>\n",
              "      <td>0.0</td>\n",
              "      <td>0.9</td>\n",
              "      <td>42.0</td>\n",
              "      <td>0.0</td>\n",
              "      <td>0.0</td>\n",
              "      <td>1085.28</td>\n",
              "      <td>6</td>\n",
              "      <td>1</td>\n",
              "      <td>0</td>\n",
              "      <td>Other Buildings</td>\n",
              "      <td>110634.0</td>\n",
              "      <td>39570.0</td>\n",
              "      <td>0.0</td>\n",
              "      <td>0.0</td>\n",
              "      <td>0.0</td>\n",
              "      <td>1371.52</td>\n",
              "      <td>446.882767</td>\n",
              "      <td>0</td>\n",
              "      <td>0.000000</td>\n",
              "      <td>1.000000</td>\n",
              "      <td>49.6576</td>\n",
              "    </tr>\n",
              "    <tr>\n",
              "      <th>1</th>\n",
              "      <td>1</td>\n",
              "      <td>2022-06-01 01:00:00</td>\n",
              "      <td>18.0</td>\n",
              "      <td>0.0</td>\n",
              "      <td>1.1</td>\n",
              "      <td>45.0</td>\n",
              "      <td>0.0</td>\n",
              "      <td>0.0</td>\n",
              "      <td>1047.36</td>\n",
              "      <td>6</td>\n",
              "      <td>1</td>\n",
              "      <td>1</td>\n",
              "      <td>Other Buildings</td>\n",
              "      <td>110634.0</td>\n",
              "      <td>39570.0</td>\n",
              "      <td>0.0</td>\n",
              "      <td>0.0</td>\n",
              "      <td>0.0</td>\n",
              "      <td>1323.52</td>\n",
              "      <td>439.662704</td>\n",
              "      <td>0</td>\n",
              "      <td>0.258819</td>\n",
              "      <td>0.965926</td>\n",
              "      <td>47.7625</td>\n",
              "    </tr>\n",
              "    <tr>\n",
              "      <th>2</th>\n",
              "      <td>1</td>\n",
              "      <td>2022-06-01 02:00:00</td>\n",
              "      <td>17.7</td>\n",
              "      <td>0.0</td>\n",
              "      <td>1.5</td>\n",
              "      <td>45.0</td>\n",
              "      <td>0.0</td>\n",
              "      <td>0.0</td>\n",
              "      <td>974.88</td>\n",
              "      <td>6</td>\n",
              "      <td>1</td>\n",
              "      <td>2</td>\n",
              "      <td>Other Buildings</td>\n",
              "      <td>110634.0</td>\n",
              "      <td>39570.0</td>\n",
              "      <td>0.0</td>\n",
              "      <td>0.0</td>\n",
              "      <td>0.0</td>\n",
              "      <td>1236.48</td>\n",
              "      <td>412.071906</td>\n",
              "      <td>0</td>\n",
              "      <td>0.500000</td>\n",
              "      <td>0.866025</td>\n",
              "      <td>47.2225</td>\n",
              "    </tr>\n",
              "    <tr>\n",
              "      <th>3</th>\n",
              "      <td>1</td>\n",
              "      <td>2022-06-01 03:00:00</td>\n",
              "      <td>16.7</td>\n",
              "      <td>0.0</td>\n",
              "      <td>1.4</td>\n",
              "      <td>48.0</td>\n",
              "      <td>0.0</td>\n",
              "      <td>0.0</td>\n",
              "      <td>953.76</td>\n",
              "      <td>6</td>\n",
              "      <td>1</td>\n",
              "      <td>3</td>\n",
              "      <td>Other Buildings</td>\n",
              "      <td>110634.0</td>\n",
              "      <td>39570.0</td>\n",
              "      <td>0.0</td>\n",
              "      <td>0.0</td>\n",
              "      <td>0.0</td>\n",
              "      <td>1189.92</td>\n",
              "      <td>391.205981</td>\n",
              "      <td>0</td>\n",
              "      <td>0.707107</td>\n",
              "      <td>0.707107</td>\n",
              "      <td>44.7856</td>\n",
              "    </tr>\n",
              "    <tr>\n",
              "      <th>4</th>\n",
              "      <td>1</td>\n",
              "      <td>2022-06-01 04:00:00</td>\n",
              "      <td>18.4</td>\n",
              "      <td>0.0</td>\n",
              "      <td>2.8</td>\n",
              "      <td>43.0</td>\n",
              "      <td>0.0</td>\n",
              "      <td>0.0</td>\n",
              "      <td>986.40</td>\n",
              "      <td>6</td>\n",
              "      <td>1</td>\n",
              "      <td>4</td>\n",
              "      <td>Other Buildings</td>\n",
              "      <td>110634.0</td>\n",
              "      <td>39570.0</td>\n",
              "      <td>0.0</td>\n",
              "      <td>0.0</td>\n",
              "      <td>0.0</td>\n",
              "      <td>1210.08</td>\n",
              "      <td>381.099697</td>\n",
              "      <td>0</td>\n",
              "      <td>0.866025</td>\n",
              "      <td>0.500000</td>\n",
              "      <td>49.0061</td>\n",
              "    </tr>\n",
              "  </tbody>\n",
              "</table>\n",
              "</div>"
            ],
            "text/plain": [
              "   building_number           date_time  temperature  rainfall  windspeed  \\\n",
              "0                1 2022-06-01 00:00:00         18.6       0.0        0.9   \n",
              "1                1 2022-06-01 01:00:00         18.0       0.0        1.1   \n",
              "2                1 2022-06-01 02:00:00         17.7       0.0        1.5   \n",
              "3                1 2022-06-01 03:00:00         16.7       0.0        1.4   \n",
              "4                1 2022-06-01 04:00:00         18.4       0.0        2.8   \n",
              "\n",
              "   humidity  sunshine  solar_radiation  power_consumption  month  day  hour  \\\n",
              "0      42.0       0.0              0.0            1085.28      6    1     0   \n",
              "1      45.0       0.0              0.0            1047.36      6    1     1   \n",
              "2      45.0       0.0              0.0             974.88      6    1     2   \n",
              "3      48.0       0.0              0.0             953.76      6    1     3   \n",
              "4      43.0       0.0              0.0             986.40      6    1     4   \n",
              "\n",
              "     building_type  total_area  cooling_area  solar_power_capacity  \\\n",
              "0  Other Buildings    110634.0       39570.0                   0.0   \n",
              "1  Other Buildings    110634.0       39570.0                   0.0   \n",
              "2  Other Buildings    110634.0       39570.0                   0.0   \n",
              "3  Other Buildings    110634.0       39570.0                   0.0   \n",
              "4  Other Buildings    110634.0       39570.0                   0.0   \n",
              "\n",
              "   ess_capacity  pcs_capacity  day_hour_mean    hour_std  holiday  sin_time  \\\n",
              "0           0.0           0.0        1371.52  446.882767        0  0.000000   \n",
              "1           0.0           0.0        1323.52  439.662704        0  0.258819   \n",
              "2           0.0           0.0        1236.48  412.071906        0  0.500000   \n",
              "3           0.0           0.0        1189.92  391.205981        0  0.707107   \n",
              "4           0.0           0.0        1210.08  381.099697        0  0.866025   \n",
              "\n",
              "   cos_time      THI  \n",
              "0  1.000000  49.6576  \n",
              "1  0.965926  47.7625  \n",
              "2  0.866025  47.2225  \n",
              "3  0.707107  44.7856  \n",
              "4  0.500000  49.0061  "
            ]
          },
          "execution_count": 34,
          "metadata": {},
          "output_type": "execute_result"
        }
      ],
      "source": [
        "merged_train_df.head()"
      ]
    },
    {
      "cell_type": "code",
      "execution_count": 5,
      "metadata": {
        "id": "4vqWRUVSUzNV"
      },
      "outputs": [],
      "source": [
        "def CDH(xs):\n",
        "    ys = []\n",
        "    for i in range(len(xs)):\n",
        "        if i < 11:\n",
        "            ys.append(np.sum(xs[:(i+1)]-26))\n",
        "        else:\n",
        "            ys.append(np.sum(xs[(i-11):(i+1)]-26))\n",
        "    return np.array(ys)\n",
        "\n",
        "cdhs = np.array([])\n",
        "for num in range(1,101,1):\n",
        "    temp = merged_train_df[merged_train_df['building_number'] == num]\n",
        "    cdh = CDH(temp['temperature'].values)\n",
        "    cdhs = np.concatenate([cdhs, cdh])\n",
        "merged_train_df['CDH'] = cdhs"
      ]
    },
    {
      "cell_type": "code",
      "execution_count": 4,
      "metadata": {
        "id": "f4mwIKhXiDfA"
      },
      "outputs": [],
      "source": [
        "## save the preprocessed data\n",
        "#merged_train_df.to_csv('./data/train_preprocessed.csv')\n",
        "merged_train_df = pd.read_csv('./data/train_preprocessed.csv')\n",
        "merged_train_df = merged_train_df.drop(columns = ['Unnamed: 0', 'building_type', 'date_time'])"
      ]
    },
    {
      "cell_type": "markdown",
      "metadata": {
        "id": "nbIffwyeTYLE"
      },
      "source": [
        "## 원핫 인코딩(안해도 됨)"
      ]
    },
    {
      "cell_type": "code",
      "execution_count": 8,
      "metadata": {
        "id": "inKlUgiirGax"
      },
      "outputs": [
        {
          "name": "stdout",
          "output_type": "stream",
          "text": [
            "1.7.3\n"
          ]
        },
        {
          "ename": "AttributeError",
          "evalue": "module 'xgboost.core' has no attribute 'ENVIRONMENT_AVAILABLE_GPU'",
          "output_type": "error",
          "traceback": [
            "\u001b[1;31m---------------------------------------------------------------------------\u001b[0m",
            "\u001b[1;31mAttributeError\u001b[0m                            Traceback (most recent call last)",
            "Cell \u001b[1;32mIn[8], line 8\u001b[0m\n\u001b[0;32m      6\u001b[0m \u001b[39mimport\u001b[39;00m \u001b[39mxgboost\u001b[39;00m \u001b[39mas\u001b[39;00m \u001b[39mxgb\u001b[39;00m\n\u001b[0;32m      7\u001b[0m \u001b[39mprint\u001b[39m(xgb\u001b[39m.\u001b[39m__version__)\n\u001b[1;32m----> 8\u001b[0m \u001b[39mprint\u001b[39m(xgb\u001b[39m.\u001b[39mcore\u001b[39m.\u001b[39mENVIRONMENT_AVAILABLE_GPU)\n",
            "\u001b[1;31mAttributeError\u001b[0m: module 'xgboost.core' has no attribute 'ENVIRONMENT_AVAILABLE_GPU'"
          ]
        }
      ],
      "source": [
        "# merged_train_df = pd.get_dummies(merged_train_df, prefix=[\"bt:\"], columns=[\"building_type\"])\n",
        "# merged_train_df.head()\n",
        "# merged_test_df = pd.get_dummies(merged_test_df, prefix=[\"bt:\"], columns=[\"building_type\"])\n",
        "# merged_test_df.head()"
      ]
    },
    {
      "cell_type": "markdown",
      "metadata": {
        "id": "LfJTtlvQq7hD"
      },
      "source": [
        "## 성능 평가지표 정의 및 SMAPE 정의"
      ]
    },
    {
      "cell_type": "code",
      "execution_count": 6,
      "metadata": {
        "id": "2QK3ecbuwSdu"
      },
      "outputs": [],
      "source": [
        "#### alpha를 argument로 받는 함수로 실제 objective function을 wrapping하여 alpha값을 쉽게 조정할 수 있도록 작성했습니다.\n",
        "# custom objective function for forcing model not to underestimate\n",
        "def weighted_mse(alpha = 1):\n",
        "    def weighted_mse_fixed(label, pred):\n",
        "        residual = (label - pred).astype(\"float\")\n",
        "        grad = np.where(residual>0, -2*alpha*residual, -2*residual)\n",
        "        hess = np.where(residual>0, 2*alpha, 2.0)\n",
        "        return grad, hess\n",
        "    return weighted_mse_fixed\n",
        "\n",
        " #점수 측정을 위한 코드\n",
        "def SMAPE(y_true, y_pred):\n",
        "    return 100/len(y_true) * np.sum(2 * np.abs(y_pred - y_true) / (np.abs(y_true) + np.abs(y_pred)))"
      ]
    },
    {
      "cell_type": "markdown",
      "metadata": {
        "id": "gBhDV3WCrobi"
      },
      "source": [
        "## 최적의 파라미터 탐색"
      ]
    },
    {
      "cell_type": "code",
      "execution_count": 11,
      "metadata": {
        "colab": {
          "base_uri": "https://localhost:8080/",
          "height": 1000
        },
        "id": "PCv9CsfwILx-",
        "outputId": "8090aaba-c7c7-4dda-c360-e3c1ac8ba08b"
      },
      "outputs": [
        {
          "name": "stderr",
          "output_type": "stream",
          "text": [
            "  0%|          | 0/100 [00:00<?, ?it/s]"
          ]
        },
        {
          "name": "stdout",
          "output_type": "stream",
          "text": [
            "Fitting 1 folds for each of 168 candidates, totalling 168 fits\n"
          ]
        },
        {
          "name": "stderr",
          "output_type": "stream",
          "text": [
            "  1%|          | 1/100 [00:15<24:51, 15.06s/it]"
          ]
        },
        {
          "name": "stdout",
          "output_type": "stream",
          "text": [
            "{'colsample_bytree': 0.9, 'eta': 0.01, 'max_depth': 8, 'min_child_weight': 7, 'n_estimators': 100, 'subsample': 0.9}\n",
            "building1|| SMAPE : 45.947052485590625\n",
            "Fitting 1 folds for each of 168 candidates, totalling 168 fits\n"
          ]
        },
        {
          "name": "stderr",
          "output_type": "stream",
          "text": [
            "  2%|▏         | 2/100 [00:30<24:31, 15.01s/it]"
          ]
        },
        {
          "name": "stdout",
          "output_type": "stream",
          "text": [
            "{'colsample_bytree': 0.9, 'eta': 0.01, 'max_depth': 8, 'min_child_weight': 7, 'n_estimators': 100, 'subsample': 0.8}\n",
            "building2|| SMAPE : 43.66444289190987\n",
            "Fitting 1 folds for each of 168 candidates, totalling 168 fits\n"
          ]
        },
        {
          "name": "stderr",
          "output_type": "stream",
          "text": [
            "  3%|▎         | 3/100 [00:44<24:10, 14.95s/it]"
          ]
        },
        {
          "name": "stdout",
          "output_type": "stream",
          "text": [
            "{'colsample_bytree': 0.9, 'eta': 0.01, 'max_depth': 8, 'min_child_weight': 2, 'n_estimators': 100, 'subsample': 0.9}\n",
            "building3|| SMAPE : 46.539450318596074\n",
            "Fitting 1 folds for each of 168 candidates, totalling 168 fits\n"
          ]
        },
        {
          "name": "stderr",
          "output_type": "stream",
          "text": [
            "  4%|▍         | 4/100 [00:56<21:59, 13.74s/it]"
          ]
        },
        {
          "name": "stdout",
          "output_type": "stream",
          "text": [
            "{'colsample_bytree': 0.9, 'eta': 0.01, 'max_depth': 5, 'min_child_weight': 4, 'n_estimators': 100, 'subsample': 0.9}\n",
            "building4|| SMAPE : 45.05464216438577\n",
            "Fitting 1 folds for each of 168 candidates, totalling 168 fits\n"
          ]
        },
        {
          "name": "stderr",
          "output_type": "stream",
          "text": [
            "  5%|▌         | 5/100 [01:12<22:44, 14.36s/it]"
          ]
        },
        {
          "name": "stdout",
          "output_type": "stream",
          "text": [
            "{'colsample_bytree': 0.8, 'eta': 0.01, 'max_depth': 4, 'min_child_weight': 7, 'n_estimators': 100, 'subsample': 0.9}\n",
            "building5|| SMAPE : 47.92517783184984\n",
            "Fitting 1 folds for each of 168 candidates, totalling 168 fits\n"
          ]
        },
        {
          "name": "stderr",
          "output_type": "stream",
          "text": [
            "  6%|▌         | 6/100 [01:25<21:41, 13.84s/it]"
          ]
        },
        {
          "name": "stdout",
          "output_type": "stream",
          "text": [
            "{'colsample_bytree': 0.8, 'eta': 0.01, 'max_depth': 4, 'min_child_weight': 6, 'n_estimators': 100, 'subsample': 0.9}\n",
            "building6|| SMAPE : 47.391389844680106\n",
            "Fitting 1 folds for each of 168 candidates, totalling 168 fits\n"
          ]
        },
        {
          "name": "stderr",
          "output_type": "stream",
          "text": [
            "  7%|▋         | 7/100 [01:40<22:02, 14.22s/it]"
          ]
        },
        {
          "name": "stdout",
          "output_type": "stream",
          "text": [
            "{'colsample_bytree': 0.8, 'eta': 0.01, 'max_depth': 3, 'min_child_weight': 1, 'n_estimators': 100, 'subsample': 0.9}\n",
            "building7|| SMAPE : 38.54832927297091\n",
            "Fitting 1 folds for each of 168 candidates, totalling 168 fits\n"
          ]
        },
        {
          "name": "stderr",
          "output_type": "stream",
          "text": [
            "  8%|▊         | 8/100 [01:52<20:56, 13.65s/it]"
          ]
        },
        {
          "name": "stdout",
          "output_type": "stream",
          "text": [
            "{'colsample_bytree': 0.8, 'eta': 0.01, 'max_depth': 4, 'min_child_weight': 1, 'n_estimators': 100, 'subsample': 0.9}\n",
            "building8|| SMAPE : 44.70964734512367\n",
            "Fitting 1 folds for each of 168 candidates, totalling 168 fits\n"
          ]
        },
        {
          "name": "stderr",
          "output_type": "stream",
          "text": [
            "  9%|▉         | 9/100 [02:06<21:05, 13.90s/it]"
          ]
        },
        {
          "name": "stdout",
          "output_type": "stream",
          "text": [
            "{'colsample_bytree': 0.8, 'eta': 0.01, 'max_depth': 6, 'min_child_weight': 5, 'n_estimators': 100, 'subsample': 0.9}\n",
            "building9|| SMAPE : 46.31988939973536\n",
            "Fitting 1 folds for each of 168 candidates, totalling 168 fits\n"
          ]
        },
        {
          "name": "stderr",
          "output_type": "stream",
          "text": [
            " 10%|█         | 10/100 [02:20<20:30, 13.68s/it]"
          ]
        },
        {
          "name": "stdout",
          "output_type": "stream",
          "text": [
            "{'colsample_bytree': 0.9, 'eta': 0.01, 'max_depth': 7, 'min_child_weight': 1, 'n_estimators': 100, 'subsample': 0.9}\n",
            "building10|| SMAPE : 35.57886365222239\n",
            "Fitting 1 folds for each of 168 candidates, totalling 168 fits\n"
          ]
        },
        {
          "name": "stderr",
          "output_type": "stream",
          "text": [
            " 11%|█         | 11/100 [02:32<19:31, 13.16s/it]"
          ]
        },
        {
          "name": "stdout",
          "output_type": "stream",
          "text": [
            "{'colsample_bytree': 0.8, 'eta': 0.01, 'max_depth': 3, 'min_child_weight': 2, 'n_estimators': 100, 'subsample': 0.8}\n",
            "building11|| SMAPE : 43.99683190058922\n",
            "Fitting 1 folds for each of 168 candidates, totalling 168 fits\n"
          ]
        },
        {
          "name": "stderr",
          "output_type": "stream",
          "text": [
            " 12%|█▏        | 12/100 [02:45<19:35, 13.36s/it]"
          ]
        },
        {
          "name": "stdout",
          "output_type": "stream",
          "text": [
            "{'colsample_bytree': 0.8, 'eta': 0.01, 'max_depth': 5, 'min_child_weight': 6, 'n_estimators': 100, 'subsample': 0.9}\n",
            "building12|| SMAPE : 46.06998211435019\n",
            "Fitting 1 folds for each of 168 candidates, totalling 168 fits\n"
          ]
        },
        {
          "name": "stderr",
          "output_type": "stream",
          "text": [
            " 13%|█▎        | 13/100 [02:58<19:08, 13.21s/it]"
          ]
        },
        {
          "name": "stdout",
          "output_type": "stream",
          "text": [
            "{'colsample_bytree': 0.8, 'eta': 0.01, 'max_depth': 3, 'min_child_weight': 6, 'n_estimators': 100, 'subsample': 0.9}\n",
            "building13|| SMAPE : 46.82056821965615\n",
            "Fitting 1 folds for each of 168 candidates, totalling 168 fits\n"
          ]
        },
        {
          "name": "stderr",
          "output_type": "stream",
          "text": [
            " 14%|█▍        | 14/100 [03:12<19:15, 13.44s/it]"
          ]
        },
        {
          "name": "stdout",
          "output_type": "stream",
          "text": [
            "{'colsample_bytree': 0.9, 'eta': 0.01, 'max_depth': 3, 'min_child_weight': 2, 'n_estimators': 100, 'subsample': 0.8}\n",
            "building14|| SMAPE : 37.76213594286436\n",
            "Fitting 1 folds for each of 168 candidates, totalling 168 fits\n"
          ]
        },
        {
          "name": "stderr",
          "output_type": "stream",
          "text": [
            " 15%|█▌        | 15/100 [03:25<18:45, 13.24s/it]"
          ]
        },
        {
          "name": "stdout",
          "output_type": "stream",
          "text": [
            "{'colsample_bytree': 0.8, 'eta': 0.01, 'max_depth': 6, 'min_child_weight': 1, 'n_estimators': 100, 'subsample': 0.9}\n",
            "building15|| SMAPE : 43.106140464949\n",
            "Fitting 1 folds for each of 168 candidates, totalling 168 fits\n"
          ]
        },
        {
          "name": "stderr",
          "output_type": "stream",
          "text": [
            " 16%|█▌        | 16/100 [03:39<18:47, 13.42s/it]"
          ]
        },
        {
          "name": "stdout",
          "output_type": "stream",
          "text": [
            "{'colsample_bytree': 0.8, 'eta': 0.01, 'max_depth': 5, 'min_child_weight': 7, 'n_estimators': 100, 'subsample': 0.9}\n",
            "building16|| SMAPE : 44.24857902922196\n",
            "Fitting 1 folds for each of 168 candidates, totalling 168 fits\n"
          ]
        },
        {
          "name": "stderr",
          "output_type": "stream",
          "text": [
            " 17%|█▋        | 17/100 [03:55<19:50, 14.34s/it]"
          ]
        },
        {
          "name": "stdout",
          "output_type": "stream",
          "text": [
            "{'colsample_bytree': 0.9, 'eta': 0.01, 'max_depth': 5, 'min_child_weight': 4, 'n_estimators': 100, 'subsample': 0.8}\n",
            "building17|| SMAPE : 49.34614314081953\n",
            "Fitting 1 folds for each of 168 candidates, totalling 168 fits\n"
          ]
        },
        {
          "name": "stderr",
          "output_type": "stream",
          "text": [
            " 18%|█▊        | 18/100 [04:11<19:56, 14.59s/it]"
          ]
        },
        {
          "name": "stdout",
          "output_type": "stream",
          "text": [
            "{'colsample_bytree': 0.9, 'eta': 0.01, 'max_depth': 5, 'min_child_weight': 2, 'n_estimators': 100, 'subsample': 0.9}\n",
            "building18|| SMAPE : 47.71633009751964\n",
            "Fitting 1 folds for each of 168 candidates, totalling 168 fits\n"
          ]
        },
        {
          "name": "stderr",
          "output_type": "stream",
          "text": [
            " 19%|█▉        | 19/100 [04:26<20:12, 14.97s/it]"
          ]
        },
        {
          "name": "stdout",
          "output_type": "stream",
          "text": [
            "{'colsample_bytree': 0.9, 'eta': 0.01, 'max_depth': 4, 'min_child_weight': 7, 'n_estimators': 100, 'subsample': 0.9}\n",
            "building19|| SMAPE : 48.77516222853498\n",
            "Fitting 1 folds for each of 168 candidates, totalling 168 fits\n"
          ]
        },
        {
          "name": "stderr",
          "output_type": "stream",
          "text": [
            " 20%|██        | 20/100 [04:42<20:17, 15.22s/it]"
          ]
        },
        {
          "name": "stdout",
          "output_type": "stream",
          "text": [
            "{'colsample_bytree': 0.8, 'eta': 0.01, 'max_depth': 5, 'min_child_weight': 4, 'n_estimators': 100, 'subsample': 0.8}\n",
            "building20|| SMAPE : 56.21168813728917\n",
            "Fitting 1 folds for each of 168 candidates, totalling 168 fits\n"
          ]
        },
        {
          "name": "stderr",
          "output_type": "stream",
          "text": [
            " 21%|██        | 21/100 [04:58<20:11, 15.33s/it]"
          ]
        },
        {
          "name": "stdout",
          "output_type": "stream",
          "text": [
            "{'colsample_bytree': 0.8, 'eta': 0.01, 'max_depth': 4, 'min_child_weight': 4, 'n_estimators': 100, 'subsample': 0.8}\n",
            "building21|| SMAPE : 50.53876606601669\n",
            "Fitting 1 folds for each of 168 candidates, totalling 168 fits\n"
          ]
        },
        {
          "name": "stderr",
          "output_type": "stream",
          "text": [
            " 22%|██▏       | 22/100 [05:11<19:12, 14.78s/it]"
          ]
        },
        {
          "name": "stdout",
          "output_type": "stream",
          "text": [
            "{'colsample_bytree': 0.8, 'eta': 0.01, 'max_depth': 6, 'min_child_weight': 5, 'n_estimators': 100, 'subsample': 0.9}\n",
            "building22|| SMAPE : 45.002055698162145\n",
            "Fitting 1 folds for each of 168 candidates, totalling 168 fits\n"
          ]
        },
        {
          "name": "stderr",
          "output_type": "stream",
          "text": [
            " 23%|██▎       | 23/100 [05:25<18:27, 14.38s/it]"
          ]
        },
        {
          "name": "stdout",
          "output_type": "stream",
          "text": [
            "{'colsample_bytree': 0.9, 'eta': 0.01, 'max_depth': 3, 'min_child_weight': 2, 'n_estimators': 100, 'subsample': 0.9}\n",
            "building23|| SMAPE : 44.54035774091185\n",
            "Fitting 1 folds for each of 168 candidates, totalling 168 fits\n"
          ]
        },
        {
          "name": "stderr",
          "output_type": "stream",
          "text": [
            " 24%|██▍       | 24/100 [05:40<18:27, 14.57s/it]"
          ]
        },
        {
          "name": "stdout",
          "output_type": "stream",
          "text": [
            "{'colsample_bytree': 0.8, 'eta': 0.01, 'max_depth': 3, 'min_child_weight': 7, 'n_estimators': 100, 'subsample': 0.9}\n",
            "building24|| SMAPE : 43.950420857080815\n",
            "Fitting 1 folds for each of 168 candidates, totalling 168 fits\n"
          ]
        },
        {
          "name": "stderr",
          "output_type": "stream",
          "text": [
            " 25%|██▌       | 25/100 [05:55<18:20, 14.67s/it]"
          ]
        },
        {
          "name": "stdout",
          "output_type": "stream",
          "text": [
            "{'colsample_bytree': 0.8, 'eta': 0.01, 'max_depth': 4, 'min_child_weight': 2, 'n_estimators': 100, 'subsample': 0.9}\n",
            "building25|| SMAPE : 45.30247559362088\n",
            "Fitting 1 folds for each of 168 candidates, totalling 168 fits\n"
          ]
        },
        {
          "name": "stderr",
          "output_type": "stream",
          "text": [
            " 26%|██▌       | 26/100 [06:10<18:24, 14.93s/it]"
          ]
        },
        {
          "name": "stdout",
          "output_type": "stream",
          "text": [
            "{'colsample_bytree': 0.8, 'eta': 0.01, 'max_depth': 4, 'min_child_weight': 7, 'n_estimators': 100, 'subsample': 0.9}\n",
            "building26|| SMAPE : 44.13974803358078\n",
            "Fitting 1 folds for each of 168 candidates, totalling 168 fits\n"
          ]
        },
        {
          "name": "stderr",
          "output_type": "stream",
          "text": [
            " 27%|██▋       | 27/100 [06:25<18:14, 15.00s/it]"
          ]
        },
        {
          "name": "stdout",
          "output_type": "stream",
          "text": [
            "{'colsample_bytree': 0.8, 'eta': 0.01, 'max_depth': 8, 'min_child_weight': 7, 'n_estimators': 100, 'subsample': 0.9}\n",
            "building27|| SMAPE : 44.28225084563625\n",
            "Fitting 1 folds for each of 168 candidates, totalling 168 fits\n"
          ]
        },
        {
          "name": "stderr",
          "output_type": "stream",
          "text": [
            " 28%|██▊       | 28/100 [06:40<18:00, 15.01s/it]"
          ]
        },
        {
          "name": "stdout",
          "output_type": "stream",
          "text": [
            "{'colsample_bytree': 0.8, 'eta': 0.01, 'max_depth': 4, 'min_child_weight': 3, 'n_estimators': 100, 'subsample': 0.9}\n",
            "building28|| SMAPE : 41.426360107428714\n",
            "Fitting 1 folds for each of 168 candidates, totalling 168 fits\n"
          ]
        },
        {
          "name": "stderr",
          "output_type": "stream",
          "text": [
            " 29%|██▉       | 29/100 [06:54<17:23, 14.70s/it]"
          ]
        },
        {
          "name": "stdout",
          "output_type": "stream",
          "text": [
            "{'colsample_bytree': 0.8, 'eta': 0.01, 'max_depth': 3, 'min_child_weight': 4, 'n_estimators': 100, 'subsample': 0.8}\n",
            "building29|| SMAPE : 43.134084967452324\n",
            "Fitting 1 folds for each of 168 candidates, totalling 168 fits\n"
          ]
        },
        {
          "name": "stderr",
          "output_type": "stream",
          "text": [
            " 30%|███       | 30/100 [07:11<17:42, 15.17s/it]"
          ]
        },
        {
          "name": "stdout",
          "output_type": "stream",
          "text": [
            "{'colsample_bytree': 0.9, 'eta': 0.01, 'max_depth': 4, 'min_child_weight': 6, 'n_estimators': 100, 'subsample': 0.9}\n",
            "building30|| SMAPE : 49.36318717329855\n",
            "Fitting 1 folds for each of 168 candidates, totalling 168 fits\n"
          ]
        },
        {
          "name": "stderr",
          "output_type": "stream",
          "text": [
            " 31%|███       | 31/100 [07:26<17:23, 15.12s/it]"
          ]
        },
        {
          "name": "stdout",
          "output_type": "stream",
          "text": [
            "{'colsample_bytree': 0.8, 'eta': 0.01, 'max_depth': 7, 'min_child_weight': 7, 'n_estimators': 100, 'subsample': 0.9}\n",
            "building31|| SMAPE : 43.59066259164819\n",
            "Fitting 1 folds for each of 168 candidates, totalling 168 fits\n"
          ]
        },
        {
          "name": "stderr",
          "output_type": "stream",
          "text": [
            " 32%|███▏      | 32/100 [07:33<14:38, 12.92s/it]"
          ]
        },
        {
          "name": "stdout",
          "output_type": "stream",
          "text": [
            "{'colsample_bytree': 0.9, 'eta': 0.01, 'max_depth': 3, 'min_child_weight': 1, 'n_estimators': 100, 'subsample': 0.9}\n",
            "building32|| SMAPE : 44.816629908172125\n",
            "Fitting 1 folds for each of 168 candidates, totalling 168 fits\n"
          ]
        },
        {
          "name": "stderr",
          "output_type": "stream",
          "text": [
            " 33%|███▎      | 33/100 [07:41<12:36, 11.29s/it]"
          ]
        },
        {
          "name": "stdout",
          "output_type": "stream",
          "text": [
            "{'colsample_bytree': 0.9, 'eta': 0.01, 'max_depth': 3, 'min_child_weight': 1, 'n_estimators': 100, 'subsample': 0.9}\n",
            "building33|| SMAPE : 45.555701450699765\n",
            "Fitting 1 folds for each of 168 candidates, totalling 168 fits\n"
          ]
        },
        {
          "name": "stderr",
          "output_type": "stream",
          "text": [
            " 34%|███▍      | 34/100 [07:49<11:26, 10.39s/it]"
          ]
        },
        {
          "name": "stdout",
          "output_type": "stream",
          "text": [
            "{'colsample_bytree': 0.9, 'eta': 0.01, 'max_depth': 3, 'min_child_weight': 1, 'n_estimators': 100, 'subsample': 0.8}\n",
            "building34|| SMAPE : 45.24398506204396\n",
            "Fitting 1 folds for each of 168 candidates, totalling 168 fits\n"
          ]
        },
        {
          "name": "stderr",
          "output_type": "stream",
          "text": [
            " 35%|███▌      | 35/100 [07:57<10:17,  9.51s/it]"
          ]
        },
        {
          "name": "stdout",
          "output_type": "stream",
          "text": [
            "{'colsample_bytree': 0.8, 'eta': 0.01, 'max_depth': 3, 'min_child_weight': 1, 'n_estimators': 100, 'subsample': 0.9}\n",
            "building35|| SMAPE : 45.23481999471565\n",
            "Fitting 1 folds for each of 168 candidates, totalling 168 fits\n"
          ]
        },
        {
          "name": "stderr",
          "output_type": "stream",
          "text": [
            " 36%|███▌      | 36/100 [08:04<09:18,  8.73s/it]"
          ]
        },
        {
          "name": "stdout",
          "output_type": "stream",
          "text": [
            "{'colsample_bytree': 0.9, 'eta': 0.01, 'max_depth': 3, 'min_child_weight': 1, 'n_estimators': 100, 'subsample': 0.9}\n",
            "building36|| SMAPE : 45.01395546996144\n",
            "Fitting 1 folds for each of 168 candidates, totalling 168 fits\n"
          ]
        },
        {
          "name": "stderr",
          "output_type": "stream",
          "text": [
            " 37%|███▋      | 37/100 [08:18<10:56, 10.42s/it]"
          ]
        },
        {
          "name": "stdout",
          "output_type": "stream",
          "text": [
            "{'colsample_bytree': 0.8, 'eta': 0.01, 'max_depth': 4, 'min_child_weight': 1, 'n_estimators': 100, 'subsample': 0.9}\n",
            "building37|| SMAPE : 47.85006199749607\n",
            "Fitting 1 folds for each of 168 candidates, totalling 168 fits\n"
          ]
        },
        {
          "name": "stderr",
          "output_type": "stream",
          "text": [
            " 38%|███▊      | 38/100 [08:34<12:38, 12.24s/it]"
          ]
        },
        {
          "name": "stdout",
          "output_type": "stream",
          "text": [
            "{'colsample_bytree': 0.8, 'eta': 0.01, 'max_depth': 6, 'min_child_weight': 4, 'n_estimators': 100, 'subsample': 0.9}\n",
            "building38|| SMAPE : 45.75824516159831\n",
            "Fitting 1 folds for each of 168 candidates, totalling 168 fits\n"
          ]
        },
        {
          "name": "stderr",
          "output_type": "stream",
          "text": [
            " 39%|███▉      | 39/100 [08:51<13:37, 13.40s/it]"
          ]
        },
        {
          "name": "stdout",
          "output_type": "stream",
          "text": [
            "{'colsample_bytree': 0.9, 'eta': 0.01, 'max_depth': 7, 'min_child_weight': 5, 'n_estimators': 100, 'subsample': 0.9}\n",
            "building39|| SMAPE : 48.20934481462406\n",
            "Fitting 1 folds for each of 168 candidates, totalling 168 fits\n"
          ]
        },
        {
          "name": "stderr",
          "output_type": "stream",
          "text": [
            " 40%|████      | 40/100 [09:07<14:12, 14.21s/it]"
          ]
        },
        {
          "name": "stdout",
          "output_type": "stream",
          "text": [
            "{'colsample_bytree': 0.9, 'eta': 0.01, 'max_depth': 8, 'min_child_weight': 6, 'n_estimators': 100, 'subsample': 0.9}\n",
            "building40|| SMAPE : 49.55298917513037\n",
            "Fitting 1 folds for each of 168 candidates, totalling 168 fits\n"
          ]
        },
        {
          "name": "stderr",
          "output_type": "stream",
          "text": [
            " 41%|████      | 41/100 [09:22<14:12, 14.45s/it]"
          ]
        },
        {
          "name": "stdout",
          "output_type": "stream",
          "text": [
            "{'colsample_bytree': 0.9, 'eta': 0.01, 'max_depth': 5, 'min_child_weight': 4, 'n_estimators': 100, 'subsample': 0.9}\n",
            "building41|| SMAPE : 46.719661878268745\n",
            "Fitting 1 folds for each of 168 candidates, totalling 168 fits\n"
          ]
        },
        {
          "name": "stderr",
          "output_type": "stream",
          "text": [
            " 42%|████▏     | 42/100 [09:37<14:19, 14.81s/it]"
          ]
        },
        {
          "name": "stdout",
          "output_type": "stream",
          "text": [
            "{'colsample_bytree': 0.8, 'eta': 0.01, 'max_depth': 3, 'min_child_weight': 6, 'n_estimators': 100, 'subsample': 0.8}\n",
            "building42|| SMAPE : 47.46832914889027\n",
            "Fitting 1 folds for each of 168 candidates, totalling 168 fits\n"
          ]
        },
        {
          "name": "stderr",
          "output_type": "stream",
          "text": [
            " 43%|████▎     | 43/100 [09:52<14:08, 14.88s/it]"
          ]
        },
        {
          "name": "stdout",
          "output_type": "stream",
          "text": [
            "{'colsample_bytree': 0.8, 'eta': 0.01, 'max_depth': 8, 'min_child_weight': 7, 'n_estimators': 100, 'subsample': 0.8}\n",
            "building43|| SMAPE : 43.82450026293067\n",
            "Fitting 1 folds for each of 168 candidates, totalling 168 fits\n"
          ]
        },
        {
          "name": "stderr",
          "output_type": "stream",
          "text": [
            " 44%|████▍     | 44/100 [10:07<13:45, 14.74s/it]"
          ]
        },
        {
          "name": "stdout",
          "output_type": "stream",
          "text": [
            "{'colsample_bytree': 0.9, 'eta': 0.01, 'max_depth': 4, 'min_child_weight': 6, 'n_estimators': 100, 'subsample': 0.9}\n",
            "building44|| SMAPE : 43.74556600929688\n",
            "Fitting 1 folds for each of 168 candidates, totalling 168 fits\n"
          ]
        },
        {
          "name": "stderr",
          "output_type": "stream",
          "text": [
            " 45%|████▌     | 45/100 [10:20<13:12, 14.41s/it]"
          ]
        },
        {
          "name": "stdout",
          "output_type": "stream",
          "text": [
            "{'colsample_bytree': 0.9, 'eta': 0.01, 'max_depth': 4, 'min_child_weight': 5, 'n_estimators': 100, 'subsample': 0.9}\n",
            "building45|| SMAPE : 46.681650154691496\n",
            "Fitting 1 folds for each of 168 candidates, totalling 168 fits\n"
          ]
        },
        {
          "name": "stderr",
          "output_type": "stream",
          "text": [
            " 46%|████▌     | 46/100 [10:35<13:08, 14.60s/it]"
          ]
        },
        {
          "name": "stdout",
          "output_type": "stream",
          "text": [
            "{'colsample_bytree': 0.8, 'eta': 0.01, 'max_depth': 5, 'min_child_weight': 7, 'n_estimators': 100, 'subsample': 0.9}\n",
            "building46|| SMAPE : 46.77753016159643\n",
            "Fitting 1 folds for each of 168 candidates, totalling 168 fits\n"
          ]
        },
        {
          "name": "stderr",
          "output_type": "stream",
          "text": [
            " 47%|████▋     | 47/100 [10:49<12:42, 14.39s/it]"
          ]
        },
        {
          "name": "stdout",
          "output_type": "stream",
          "text": [
            "{'colsample_bytree': 0.8, 'eta': 0.01, 'max_depth': 4, 'min_child_weight': 1, 'n_estimators': 100, 'subsample': 0.9}\n",
            "building47|| SMAPE : 42.63742241584887\n",
            "Fitting 1 folds for each of 168 candidates, totalling 168 fits\n"
          ]
        },
        {
          "name": "stderr",
          "output_type": "stream",
          "text": [
            " 48%|████▊     | 48/100 [11:04<12:26, 14.35s/it]"
          ]
        },
        {
          "name": "stdout",
          "output_type": "stream",
          "text": [
            "{'colsample_bytree': 0.9, 'eta': 0.01, 'max_depth': 5, 'min_child_weight': 7, 'n_estimators': 100, 'subsample': 0.9}\n",
            "building48|| SMAPE : 45.57529391854206\n",
            "Fitting 1 folds for each of 168 candidates, totalling 168 fits\n"
          ]
        },
        {
          "name": "stderr",
          "output_type": "stream",
          "text": [
            " 49%|████▉     | 49/100 [11:17<11:56, 14.06s/it]"
          ]
        },
        {
          "name": "stdout",
          "output_type": "stream",
          "text": [
            "{'colsample_bytree': 0.9, 'eta': 0.01, 'max_depth': 4, 'min_child_weight': 3, 'n_estimators': 100, 'subsample': 0.9}\n",
            "building49|| SMAPE : 48.18749465431288\n",
            "Fitting 1 folds for each of 168 candidates, totalling 168 fits\n"
          ]
        },
        {
          "name": "stderr",
          "output_type": "stream",
          "text": [
            " 50%|█████     | 50/100 [11:30<11:33, 13.88s/it]"
          ]
        },
        {
          "name": "stdout",
          "output_type": "stream",
          "text": [
            "{'colsample_bytree': 0.9, 'eta': 0.01, 'max_depth': 5, 'min_child_weight': 1, 'n_estimators': 100, 'subsample': 0.9}\n",
            "building50|| SMAPE : 44.82843871189365\n",
            "Fitting 1 folds for each of 168 candidates, totalling 168 fits\n"
          ]
        },
        {
          "name": "stderr",
          "output_type": "stream",
          "text": [
            " 51%|█████     | 51/100 [11:45<11:28, 14.06s/it]"
          ]
        },
        {
          "name": "stdout",
          "output_type": "stream",
          "text": [
            "{'colsample_bytree': 0.8, 'eta': 0.01, 'max_depth': 8, 'min_child_weight': 3, 'n_estimators': 100, 'subsample': 0.9}\n",
            "building51|| SMAPE : 45.33086009295845\n",
            "Fitting 1 folds for each of 168 candidates, totalling 168 fits\n"
          ]
        },
        {
          "name": "stderr",
          "output_type": "stream",
          "text": [
            " 52%|█████▏    | 52/100 [12:00<11:27, 14.31s/it]"
          ]
        },
        {
          "name": "stdout",
          "output_type": "stream",
          "text": [
            "{'colsample_bytree': 0.8, 'eta': 0.01, 'max_depth': 4, 'min_child_weight': 7, 'n_estimators': 100, 'subsample': 0.9}\n",
            "building52|| SMAPE : 45.33930027020286\n",
            "Fitting 1 folds for each of 168 candidates, totalling 168 fits\n"
          ]
        },
        {
          "name": "stderr",
          "output_type": "stream",
          "text": [
            " 53%|█████▎    | 53/100 [12:18<12:00, 15.34s/it]"
          ]
        },
        {
          "name": "stdout",
          "output_type": "stream",
          "text": [
            "{'colsample_bytree': 0.9, 'eta': 0.01, 'max_depth': 5, 'min_child_weight': 2, 'n_estimators': 100, 'subsample': 0.8}\n",
            "building53|| SMAPE : 55.02618617352693\n",
            "Fitting 1 folds for each of 168 candidates, totalling 168 fits\n"
          ]
        },
        {
          "name": "stderr",
          "output_type": "stream",
          "text": [
            " 54%|█████▍    | 54/100 [12:35<12:12, 15.91s/it]"
          ]
        },
        {
          "name": "stdout",
          "output_type": "stream",
          "text": [
            "{'colsample_bytree': 0.8, 'eta': 0.01, 'max_depth': 3, 'min_child_weight': 1, 'n_estimators': 100, 'subsample': 0.9}\n",
            "building54|| SMAPE : 50.26047017702054\n",
            "Fitting 1 folds for each of 168 candidates, totalling 168 fits\n"
          ]
        },
        {
          "name": "stderr",
          "output_type": "stream",
          "text": [
            " 55%|█████▌    | 55/100 [12:45<10:44, 14.32s/it]"
          ]
        },
        {
          "name": "stdout",
          "output_type": "stream",
          "text": [
            "{'colsample_bytree': 0.9, 'eta': 0.01, 'max_depth': 6, 'min_child_weight': 7, 'n_estimators': 100, 'subsample': 0.9}\n",
            "building55|| SMAPE : 45.02853595435476\n",
            "Fitting 1 folds for each of 168 candidates, totalling 168 fits\n"
          ]
        },
        {
          "name": "stderr",
          "output_type": "stream",
          "text": [
            " 56%|█████▌    | 56/100 [12:55<09:24, 12.83s/it]"
          ]
        },
        {
          "name": "stdout",
          "output_type": "stream",
          "text": [
            "{'colsample_bytree': 0.8, 'eta': 0.01, 'max_depth': 3, 'min_child_weight': 1, 'n_estimators': 100, 'subsample': 0.9}\n",
            "building56|| SMAPE : 44.6373313333808\n",
            "Fitting 1 folds for each of 168 candidates, totalling 168 fits\n"
          ]
        },
        {
          "name": "stderr",
          "output_type": "stream",
          "text": [
            " 56%|█████▌    | 56/100 [13:01<10:13, 13.95s/it]\n"
          ]
        },
        {
          "ename": "KeyboardInterrupt",
          "evalue": "",
          "output_type": "error",
          "traceback": [
            "\u001b[1;31m---------------------------------------------------------------------------\u001b[0m",
            "\u001b[1;31mKeyboardInterrupt\u001b[0m                         Traceback (most recent call last)",
            "Cell \u001b[1;32mIn[11], line 25\u001b[0m\n\u001b[0;32m     19\u001b[0m gcv \u001b[39m=\u001b[39m GridSearchCV(estimator \u001b[39m=\u001b[39m XGBRegressor(seed\u001b[39m=\u001b[39m\u001b[39m0\u001b[39m),\n\u001b[0;32m     20\u001b[0m                    param_grid\u001b[39m=\u001b[39mgrid, scoring\u001b[39m=\u001b[39msmape_score, cv\u001b[39m=\u001b[39mpds, refit\u001b[39m=\u001b[39m\u001b[39mTrue\u001b[39;00m, verbose\u001b[39m=\u001b[39m\u001b[39mTrue\u001b[39;00m)\n\u001b[0;32m     22\u001b[0m \u001b[39m# gcv = GridSearchCV(estimator = XGBRegressor(seed = 0, gpu_id = 1, tree_method = 'gpu_hist', predictor= 'gpu_predictor'),\u001b[39;00m\n\u001b[0;32m     23\u001b[0m \u001b[39m#                     param_grid = grid, scoring = smape_score, cv = pds, refit = True, verbose = True)\u001b[39;00m\n\u001b[1;32m---> 25\u001b[0m gcv\u001b[39m.\u001b[39;49mfit(x_train, y_train)\n\u001b[0;32m     26\u001b[0m best \u001b[39m=\u001b[39m gcv\u001b[39m.\u001b[39mbest_estimator_\n\u001b[0;32m     27\u001b[0m params \u001b[39m=\u001b[39m gcv\u001b[39m.\u001b[39mbest_params_\n",
            "File \u001b[1;32mc:\\ProgramData\\anaconda3\\envs\\myenv\\Lib\\site-packages\\sklearn\\model_selection\\_search.py:874\u001b[0m, in \u001b[0;36mBaseSearchCV.fit\u001b[1;34m(self, X, y, groups, **fit_params)\u001b[0m\n\u001b[0;32m    868\u001b[0m     results \u001b[39m=\u001b[39m \u001b[39mself\u001b[39m\u001b[39m.\u001b[39m_format_results(\n\u001b[0;32m    869\u001b[0m         all_candidate_params, n_splits, all_out, all_more_results\n\u001b[0;32m    870\u001b[0m     )\n\u001b[0;32m    872\u001b[0m     \u001b[39mreturn\u001b[39;00m results\n\u001b[1;32m--> 874\u001b[0m \u001b[39mself\u001b[39;49m\u001b[39m.\u001b[39;49m_run_search(evaluate_candidates)\n\u001b[0;32m    876\u001b[0m \u001b[39m# multimetric is determined here because in the case of a callable\u001b[39;00m\n\u001b[0;32m    877\u001b[0m \u001b[39m# self.scoring the return type is only known after calling\u001b[39;00m\n\u001b[0;32m    878\u001b[0m first_test_score \u001b[39m=\u001b[39m all_out[\u001b[39m0\u001b[39m][\u001b[39m\"\u001b[39m\u001b[39mtest_scores\u001b[39m\u001b[39m\"\u001b[39m]\n",
            "File \u001b[1;32mc:\\ProgramData\\anaconda3\\envs\\myenv\\Lib\\site-packages\\sklearn\\model_selection\\_search.py:1388\u001b[0m, in \u001b[0;36mGridSearchCV._run_search\u001b[1;34m(self, evaluate_candidates)\u001b[0m\n\u001b[0;32m   1386\u001b[0m \u001b[39mdef\u001b[39;00m \u001b[39m_run_search\u001b[39m(\u001b[39mself\u001b[39m, evaluate_candidates):\n\u001b[0;32m   1387\u001b[0m \u001b[39m    \u001b[39m\u001b[39m\"\"\"Search all candidates in param_grid\"\"\"\u001b[39;00m\n\u001b[1;32m-> 1388\u001b[0m     evaluate_candidates(ParameterGrid(\u001b[39mself\u001b[39;49m\u001b[39m.\u001b[39;49mparam_grid))\n",
            "File \u001b[1;32mc:\\ProgramData\\anaconda3\\envs\\myenv\\Lib\\site-packages\\sklearn\\model_selection\\_search.py:821\u001b[0m, in \u001b[0;36mBaseSearchCV.fit.<locals>.evaluate_candidates\u001b[1;34m(candidate_params, cv, more_results)\u001b[0m\n\u001b[0;32m    813\u001b[0m \u001b[39mif\u001b[39;00m \u001b[39mself\u001b[39m\u001b[39m.\u001b[39mverbose \u001b[39m>\u001b[39m \u001b[39m0\u001b[39m:\n\u001b[0;32m    814\u001b[0m     \u001b[39mprint\u001b[39m(\n\u001b[0;32m    815\u001b[0m         \u001b[39m\"\u001b[39m\u001b[39mFitting \u001b[39m\u001b[39m{0}\u001b[39;00m\u001b[39m folds for each of \u001b[39m\u001b[39m{1}\u001b[39;00m\u001b[39m candidates,\u001b[39m\u001b[39m\"\u001b[39m\n\u001b[0;32m    816\u001b[0m         \u001b[39m\"\u001b[39m\u001b[39m totalling \u001b[39m\u001b[39m{2}\u001b[39;00m\u001b[39m fits\u001b[39m\u001b[39m\"\u001b[39m\u001b[39m.\u001b[39mformat(\n\u001b[0;32m    817\u001b[0m             n_splits, n_candidates, n_candidates \u001b[39m*\u001b[39m n_splits\n\u001b[0;32m    818\u001b[0m         )\n\u001b[0;32m    819\u001b[0m     )\n\u001b[1;32m--> 821\u001b[0m out \u001b[39m=\u001b[39m parallel(\n\u001b[0;32m    822\u001b[0m     delayed(_fit_and_score)(\n\u001b[0;32m    823\u001b[0m         clone(base_estimator),\n\u001b[0;32m    824\u001b[0m         X,\n\u001b[0;32m    825\u001b[0m         y,\n\u001b[0;32m    826\u001b[0m         train\u001b[39m=\u001b[39;49mtrain,\n\u001b[0;32m    827\u001b[0m         test\u001b[39m=\u001b[39;49mtest,\n\u001b[0;32m    828\u001b[0m         parameters\u001b[39m=\u001b[39;49mparameters,\n\u001b[0;32m    829\u001b[0m         split_progress\u001b[39m=\u001b[39;49m(split_idx, n_splits),\n\u001b[0;32m    830\u001b[0m         candidate_progress\u001b[39m=\u001b[39;49m(cand_idx, n_candidates),\n\u001b[0;32m    831\u001b[0m         \u001b[39m*\u001b[39;49m\u001b[39m*\u001b[39;49mfit_and_score_kwargs,\n\u001b[0;32m    832\u001b[0m     )\n\u001b[0;32m    833\u001b[0m     \u001b[39mfor\u001b[39;49;00m (cand_idx, parameters), (split_idx, (train, test)) \u001b[39min\u001b[39;49;00m product(\n\u001b[0;32m    834\u001b[0m         \u001b[39menumerate\u001b[39;49m(candidate_params), \u001b[39menumerate\u001b[39;49m(cv\u001b[39m.\u001b[39;49msplit(X, y, groups))\n\u001b[0;32m    835\u001b[0m     )\n\u001b[0;32m    836\u001b[0m )\n\u001b[0;32m    838\u001b[0m \u001b[39mif\u001b[39;00m \u001b[39mlen\u001b[39m(out) \u001b[39m<\u001b[39m \u001b[39m1\u001b[39m:\n\u001b[0;32m    839\u001b[0m     \u001b[39mraise\u001b[39;00m \u001b[39mValueError\u001b[39;00m(\n\u001b[0;32m    840\u001b[0m         \u001b[39m\"\u001b[39m\u001b[39mNo fits were performed. \u001b[39m\u001b[39m\"\u001b[39m\n\u001b[0;32m    841\u001b[0m         \u001b[39m\"\u001b[39m\u001b[39mWas the CV iterator empty? \u001b[39m\u001b[39m\"\u001b[39m\n\u001b[0;32m    842\u001b[0m         \u001b[39m\"\u001b[39m\u001b[39mWere there no candidates?\u001b[39m\u001b[39m\"\u001b[39m\n\u001b[0;32m    843\u001b[0m     )\n",
            "File \u001b[1;32mc:\\ProgramData\\anaconda3\\envs\\myenv\\Lib\\site-packages\\sklearn\\utils\\parallel.py:63\u001b[0m, in \u001b[0;36mParallel.__call__\u001b[1;34m(self, iterable)\u001b[0m\n\u001b[0;32m     58\u001b[0m config \u001b[39m=\u001b[39m get_config()\n\u001b[0;32m     59\u001b[0m iterable_with_config \u001b[39m=\u001b[39m (\n\u001b[0;32m     60\u001b[0m     (_with_config(delayed_func, config), args, kwargs)\n\u001b[0;32m     61\u001b[0m     \u001b[39mfor\u001b[39;00m delayed_func, args, kwargs \u001b[39min\u001b[39;00m iterable\n\u001b[0;32m     62\u001b[0m )\n\u001b[1;32m---> 63\u001b[0m \u001b[39mreturn\u001b[39;00m \u001b[39msuper\u001b[39;49m()\u001b[39m.\u001b[39;49m\u001b[39m__call__\u001b[39;49m(iterable_with_config)\n",
            "File \u001b[1;32mc:\\ProgramData\\anaconda3\\envs\\myenv\\Lib\\site-packages\\joblib\\parallel.py:1088\u001b[0m, in \u001b[0;36mParallel.__call__\u001b[1;34m(self, iterable)\u001b[0m\n\u001b[0;32m   1085\u001b[0m \u001b[39mif\u001b[39;00m \u001b[39mself\u001b[39m\u001b[39m.\u001b[39mdispatch_one_batch(iterator):\n\u001b[0;32m   1086\u001b[0m     \u001b[39mself\u001b[39m\u001b[39m.\u001b[39m_iterating \u001b[39m=\u001b[39m \u001b[39mself\u001b[39m\u001b[39m.\u001b[39m_original_iterator \u001b[39mis\u001b[39;00m \u001b[39mnot\u001b[39;00m \u001b[39mNone\u001b[39;00m\n\u001b[1;32m-> 1088\u001b[0m \u001b[39mwhile\u001b[39;00m \u001b[39mself\u001b[39;49m\u001b[39m.\u001b[39;49mdispatch_one_batch(iterator):\n\u001b[0;32m   1089\u001b[0m     \u001b[39mpass\u001b[39;00m\n\u001b[0;32m   1091\u001b[0m \u001b[39mif\u001b[39;00m pre_dispatch \u001b[39m==\u001b[39m \u001b[39m\"\u001b[39m\u001b[39mall\u001b[39m\u001b[39m\"\u001b[39m \u001b[39mor\u001b[39;00m n_jobs \u001b[39m==\u001b[39m \u001b[39m1\u001b[39m:\n\u001b[0;32m   1092\u001b[0m     \u001b[39m# The iterable was consumed all at once by the above for loop.\u001b[39;00m\n\u001b[0;32m   1093\u001b[0m     \u001b[39m# No need to wait for async callbacks to trigger to\u001b[39;00m\n\u001b[0;32m   1094\u001b[0m     \u001b[39m# consumption.\u001b[39;00m\n",
            "File \u001b[1;32mc:\\ProgramData\\anaconda3\\envs\\myenv\\Lib\\site-packages\\joblib\\parallel.py:901\u001b[0m, in \u001b[0;36mParallel.dispatch_one_batch\u001b[1;34m(self, iterator)\u001b[0m\n\u001b[0;32m    899\u001b[0m     \u001b[39mreturn\u001b[39;00m \u001b[39mFalse\u001b[39;00m\n\u001b[0;32m    900\u001b[0m \u001b[39melse\u001b[39;00m:\n\u001b[1;32m--> 901\u001b[0m     \u001b[39mself\u001b[39;49m\u001b[39m.\u001b[39;49m_dispatch(tasks)\n\u001b[0;32m    902\u001b[0m     \u001b[39mreturn\u001b[39;00m \u001b[39mTrue\u001b[39;00m\n",
            "File \u001b[1;32mc:\\ProgramData\\anaconda3\\envs\\myenv\\Lib\\site-packages\\joblib\\parallel.py:819\u001b[0m, in \u001b[0;36mParallel._dispatch\u001b[1;34m(self, batch)\u001b[0m\n\u001b[0;32m    817\u001b[0m \u001b[39mwith\u001b[39;00m \u001b[39mself\u001b[39m\u001b[39m.\u001b[39m_lock:\n\u001b[0;32m    818\u001b[0m     job_idx \u001b[39m=\u001b[39m \u001b[39mlen\u001b[39m(\u001b[39mself\u001b[39m\u001b[39m.\u001b[39m_jobs)\n\u001b[1;32m--> 819\u001b[0m     job \u001b[39m=\u001b[39m \u001b[39mself\u001b[39;49m\u001b[39m.\u001b[39;49m_backend\u001b[39m.\u001b[39;49mapply_async(batch, callback\u001b[39m=\u001b[39;49mcb)\n\u001b[0;32m    820\u001b[0m     \u001b[39m# A job can complete so quickly than its callback is\u001b[39;00m\n\u001b[0;32m    821\u001b[0m     \u001b[39m# called before we get here, causing self._jobs to\u001b[39;00m\n\u001b[0;32m    822\u001b[0m     \u001b[39m# grow. To ensure correct results ordering, .insert is\u001b[39;00m\n\u001b[0;32m    823\u001b[0m     \u001b[39m# used (rather than .append) in the following line\u001b[39;00m\n\u001b[0;32m    824\u001b[0m     \u001b[39mself\u001b[39m\u001b[39m.\u001b[39m_jobs\u001b[39m.\u001b[39minsert(job_idx, job)\n",
            "File \u001b[1;32mc:\\ProgramData\\anaconda3\\envs\\myenv\\Lib\\site-packages\\joblib\\_parallel_backends.py:208\u001b[0m, in \u001b[0;36mSequentialBackend.apply_async\u001b[1;34m(self, func, callback)\u001b[0m\n\u001b[0;32m    206\u001b[0m \u001b[39mdef\u001b[39;00m \u001b[39mapply_async\u001b[39m(\u001b[39mself\u001b[39m, func, callback\u001b[39m=\u001b[39m\u001b[39mNone\u001b[39;00m):\n\u001b[0;32m    207\u001b[0m \u001b[39m    \u001b[39m\u001b[39m\"\"\"Schedule a func to be run\"\"\"\u001b[39;00m\n\u001b[1;32m--> 208\u001b[0m     result \u001b[39m=\u001b[39m ImmediateResult(func)\n\u001b[0;32m    209\u001b[0m     \u001b[39mif\u001b[39;00m callback:\n\u001b[0;32m    210\u001b[0m         callback(result)\n",
            "File \u001b[1;32mc:\\ProgramData\\anaconda3\\envs\\myenv\\Lib\\site-packages\\joblib\\_parallel_backends.py:597\u001b[0m, in \u001b[0;36mImmediateResult.__init__\u001b[1;34m(self, batch)\u001b[0m\n\u001b[0;32m    594\u001b[0m \u001b[39mdef\u001b[39;00m \u001b[39m__init__\u001b[39m(\u001b[39mself\u001b[39m, batch):\n\u001b[0;32m    595\u001b[0m     \u001b[39m# Don't delay the application, to avoid keeping the input\u001b[39;00m\n\u001b[0;32m    596\u001b[0m     \u001b[39m# arguments in memory\u001b[39;00m\n\u001b[1;32m--> 597\u001b[0m     \u001b[39mself\u001b[39m\u001b[39m.\u001b[39mresults \u001b[39m=\u001b[39m batch()\n",
            "File \u001b[1;32mc:\\ProgramData\\anaconda3\\envs\\myenv\\Lib\\site-packages\\joblib\\parallel.py:288\u001b[0m, in \u001b[0;36mBatchedCalls.__call__\u001b[1;34m(self)\u001b[0m\n\u001b[0;32m    284\u001b[0m \u001b[39mdef\u001b[39;00m \u001b[39m__call__\u001b[39m(\u001b[39mself\u001b[39m):\n\u001b[0;32m    285\u001b[0m     \u001b[39m# Set the default nested backend to self._backend but do not set the\u001b[39;00m\n\u001b[0;32m    286\u001b[0m     \u001b[39m# change the default number of processes to -1\u001b[39;00m\n\u001b[0;32m    287\u001b[0m     \u001b[39mwith\u001b[39;00m parallel_backend(\u001b[39mself\u001b[39m\u001b[39m.\u001b[39m_backend, n_jobs\u001b[39m=\u001b[39m\u001b[39mself\u001b[39m\u001b[39m.\u001b[39m_n_jobs):\n\u001b[1;32m--> 288\u001b[0m         \u001b[39mreturn\u001b[39;00m [func(\u001b[39m*\u001b[39;49margs, \u001b[39m*\u001b[39;49m\u001b[39m*\u001b[39;49mkwargs)\n\u001b[0;32m    289\u001b[0m                 \u001b[39mfor\u001b[39;49;00m func, args, kwargs \u001b[39min\u001b[39;49;00m \u001b[39mself\u001b[39;49m\u001b[39m.\u001b[39;49mitems]\n",
            "File \u001b[1;32mc:\\ProgramData\\anaconda3\\envs\\myenv\\Lib\\site-packages\\joblib\\parallel.py:288\u001b[0m, in \u001b[0;36m<listcomp>\u001b[1;34m(.0)\u001b[0m\n\u001b[0;32m    284\u001b[0m \u001b[39mdef\u001b[39;00m \u001b[39m__call__\u001b[39m(\u001b[39mself\u001b[39m):\n\u001b[0;32m    285\u001b[0m     \u001b[39m# Set the default nested backend to self._backend but do not set the\u001b[39;00m\n\u001b[0;32m    286\u001b[0m     \u001b[39m# change the default number of processes to -1\u001b[39;00m\n\u001b[0;32m    287\u001b[0m     \u001b[39mwith\u001b[39;00m parallel_backend(\u001b[39mself\u001b[39m\u001b[39m.\u001b[39m_backend, n_jobs\u001b[39m=\u001b[39m\u001b[39mself\u001b[39m\u001b[39m.\u001b[39m_n_jobs):\n\u001b[1;32m--> 288\u001b[0m         \u001b[39mreturn\u001b[39;00m [func(\u001b[39m*\u001b[39;49margs, \u001b[39m*\u001b[39;49m\u001b[39m*\u001b[39;49mkwargs)\n\u001b[0;32m    289\u001b[0m                 \u001b[39mfor\u001b[39;00m func, args, kwargs \u001b[39min\u001b[39;00m \u001b[39mself\u001b[39m\u001b[39m.\u001b[39mitems]\n",
            "File \u001b[1;32mc:\\ProgramData\\anaconda3\\envs\\myenv\\Lib\\site-packages\\sklearn\\utils\\parallel.py:123\u001b[0m, in \u001b[0;36m_FuncWrapper.__call__\u001b[1;34m(self, *args, **kwargs)\u001b[0m\n\u001b[0;32m    121\u001b[0m     config \u001b[39m=\u001b[39m {}\n\u001b[0;32m    122\u001b[0m \u001b[39mwith\u001b[39;00m config_context(\u001b[39m*\u001b[39m\u001b[39m*\u001b[39mconfig):\n\u001b[1;32m--> 123\u001b[0m     \u001b[39mreturn\u001b[39;00m \u001b[39mself\u001b[39;49m\u001b[39m.\u001b[39;49mfunction(\u001b[39m*\u001b[39;49margs, \u001b[39m*\u001b[39;49m\u001b[39m*\u001b[39;49mkwargs)\n",
            "File \u001b[1;32mc:\\ProgramData\\anaconda3\\envs\\myenv\\Lib\\site-packages\\sklearn\\model_selection\\_validation.py:686\u001b[0m, in \u001b[0;36m_fit_and_score\u001b[1;34m(estimator, X, y, scorer, train, test, verbose, parameters, fit_params, return_train_score, return_parameters, return_n_test_samples, return_times, return_estimator, split_progress, candidate_progress, error_score)\u001b[0m\n\u001b[0;32m    684\u001b[0m         estimator\u001b[39m.\u001b[39mfit(X_train, \u001b[39m*\u001b[39m\u001b[39m*\u001b[39mfit_params)\n\u001b[0;32m    685\u001b[0m     \u001b[39melse\u001b[39;00m:\n\u001b[1;32m--> 686\u001b[0m         estimator\u001b[39m.\u001b[39;49mfit(X_train, y_train, \u001b[39m*\u001b[39;49m\u001b[39m*\u001b[39;49mfit_params)\n\u001b[0;32m    688\u001b[0m \u001b[39mexcept\u001b[39;00m \u001b[39mException\u001b[39;00m:\n\u001b[0;32m    689\u001b[0m     \u001b[39m# Note fit time as time until error\u001b[39;00m\n\u001b[0;32m    690\u001b[0m     fit_time \u001b[39m=\u001b[39m time\u001b[39m.\u001b[39mtime() \u001b[39m-\u001b[39m start_time\n",
            "File \u001b[1;32mc:\\ProgramData\\anaconda3\\envs\\myenv\\Lib\\site-packages\\xgboost\\core.py:620\u001b[0m, in \u001b[0;36mrequire_keyword_args.<locals>.throw_if.<locals>.inner_f\u001b[1;34m(*args, **kwargs)\u001b[0m\n\u001b[0;32m    618\u001b[0m \u001b[39mfor\u001b[39;00m k, arg \u001b[39min\u001b[39;00m \u001b[39mzip\u001b[39m(sig\u001b[39m.\u001b[39mparameters, args):\n\u001b[0;32m    619\u001b[0m     kwargs[k] \u001b[39m=\u001b[39m arg\n\u001b[1;32m--> 620\u001b[0m \u001b[39mreturn\u001b[39;00m func(\u001b[39m*\u001b[39;49m\u001b[39m*\u001b[39;49mkwargs)\n",
            "File \u001b[1;32mc:\\ProgramData\\anaconda3\\envs\\myenv\\Lib\\site-packages\\xgboost\\sklearn.py:1025\u001b[0m, in \u001b[0;36mXGBModel.fit\u001b[1;34m(self, X, y, sample_weight, base_margin, eval_set, eval_metric, early_stopping_rounds, verbose, xgb_model, sample_weight_eval_set, base_margin_eval_set, feature_weights, callbacks)\u001b[0m\n\u001b[0;32m   1014\u001b[0m     obj \u001b[39m=\u001b[39m \u001b[39mNone\u001b[39;00m\n\u001b[0;32m   1016\u001b[0m (\n\u001b[0;32m   1017\u001b[0m     model,\n\u001b[0;32m   1018\u001b[0m     metric,\n\u001b[1;32m   (...)\u001b[0m\n\u001b[0;32m   1023\u001b[0m     xgb_model, eval_metric, params, early_stopping_rounds, callbacks\n\u001b[0;32m   1024\u001b[0m )\n\u001b[1;32m-> 1025\u001b[0m \u001b[39mself\u001b[39m\u001b[39m.\u001b[39m_Booster \u001b[39m=\u001b[39m train(\n\u001b[0;32m   1026\u001b[0m     params,\n\u001b[0;32m   1027\u001b[0m     train_dmatrix,\n\u001b[0;32m   1028\u001b[0m     \u001b[39mself\u001b[39;49m\u001b[39m.\u001b[39;49mget_num_boosting_rounds(),\n\u001b[0;32m   1029\u001b[0m     evals\u001b[39m=\u001b[39;49mevals,\n\u001b[0;32m   1030\u001b[0m     early_stopping_rounds\u001b[39m=\u001b[39;49mearly_stopping_rounds,\n\u001b[0;32m   1031\u001b[0m     evals_result\u001b[39m=\u001b[39;49mevals_result,\n\u001b[0;32m   1032\u001b[0m     obj\u001b[39m=\u001b[39;49mobj,\n\u001b[0;32m   1033\u001b[0m     custom_metric\u001b[39m=\u001b[39;49mmetric,\n\u001b[0;32m   1034\u001b[0m     verbose_eval\u001b[39m=\u001b[39;49mverbose,\n\u001b[0;32m   1035\u001b[0m     xgb_model\u001b[39m=\u001b[39;49mmodel,\n\u001b[0;32m   1036\u001b[0m     callbacks\u001b[39m=\u001b[39;49mcallbacks,\n\u001b[0;32m   1037\u001b[0m )\n\u001b[0;32m   1039\u001b[0m \u001b[39mself\u001b[39m\u001b[39m.\u001b[39m_set_evaluation_result(evals_result)\n\u001b[0;32m   1040\u001b[0m \u001b[39mreturn\u001b[39;00m \u001b[39mself\u001b[39m\n",
            "File \u001b[1;32mc:\\ProgramData\\anaconda3\\envs\\myenv\\Lib\\site-packages\\xgboost\\core.py:620\u001b[0m, in \u001b[0;36mrequire_keyword_args.<locals>.throw_if.<locals>.inner_f\u001b[1;34m(*args, **kwargs)\u001b[0m\n\u001b[0;32m    618\u001b[0m \u001b[39mfor\u001b[39;00m k, arg \u001b[39min\u001b[39;00m \u001b[39mzip\u001b[39m(sig\u001b[39m.\u001b[39mparameters, args):\n\u001b[0;32m    619\u001b[0m     kwargs[k] \u001b[39m=\u001b[39m arg\n\u001b[1;32m--> 620\u001b[0m \u001b[39mreturn\u001b[39;00m func(\u001b[39m*\u001b[39;49m\u001b[39m*\u001b[39;49mkwargs)\n",
            "File \u001b[1;32mc:\\ProgramData\\anaconda3\\envs\\myenv\\Lib\\site-packages\\xgboost\\training.py:185\u001b[0m, in \u001b[0;36mtrain\u001b[1;34m(params, dtrain, num_boost_round, evals, obj, feval, maximize, early_stopping_rounds, evals_result, verbose_eval, xgb_model, callbacks, custom_metric)\u001b[0m\n\u001b[0;32m    183\u001b[0m \u001b[39mif\u001b[39;00m cb_container\u001b[39m.\u001b[39mbefore_iteration(bst, i, dtrain, evals):\n\u001b[0;32m    184\u001b[0m     \u001b[39mbreak\u001b[39;00m\n\u001b[1;32m--> 185\u001b[0m bst\u001b[39m.\u001b[39;49mupdate(dtrain, i, obj)\n\u001b[0;32m    186\u001b[0m \u001b[39mif\u001b[39;00m cb_container\u001b[39m.\u001b[39mafter_iteration(bst, i, dtrain, evals):\n\u001b[0;32m    187\u001b[0m     \u001b[39mbreak\u001b[39;00m\n",
            "File \u001b[1;32mc:\\ProgramData\\anaconda3\\envs\\myenv\\Lib\\site-packages\\xgboost\\core.py:1918\u001b[0m, in \u001b[0;36mBooster.update\u001b[1;34m(self, dtrain, iteration, fobj)\u001b[0m\n\u001b[0;32m   1915\u001b[0m \u001b[39mself\u001b[39m\u001b[39m.\u001b[39m_validate_dmatrix_features(dtrain)\n\u001b[0;32m   1917\u001b[0m \u001b[39mif\u001b[39;00m fobj \u001b[39mis\u001b[39;00m \u001b[39mNone\u001b[39;00m:\n\u001b[1;32m-> 1918\u001b[0m     _check_call(_LIB\u001b[39m.\u001b[39;49mXGBoosterUpdateOneIter(\u001b[39mself\u001b[39;49m\u001b[39m.\u001b[39;49mhandle,\n\u001b[0;32m   1919\u001b[0m                                             ctypes\u001b[39m.\u001b[39;49mc_int(iteration),\n\u001b[0;32m   1920\u001b[0m                                             dtrain\u001b[39m.\u001b[39;49mhandle))\n\u001b[0;32m   1921\u001b[0m \u001b[39melse\u001b[39;00m:\n\u001b[0;32m   1922\u001b[0m     pred \u001b[39m=\u001b[39m \u001b[39mself\u001b[39m\u001b[39m.\u001b[39mpredict(dtrain, output_margin\u001b[39m=\u001b[39m\u001b[39mTrue\u001b[39;00m, training\u001b[39m=\u001b[39m\u001b[39mTrue\u001b[39;00m)\n",
            "\u001b[1;31mKeyboardInterrupt\u001b[0m: "
          ]
        }
      ],
      "source": [
        "from sklearn.model_selection import train_test_split, GridSearchCV, PredefinedSplit, KFold, TimeSeriesSplit\n",
        "from sklearn.metrics import make_scorer\n",
        "df = pd.DataFrame(columns = ['n_estimators', 'eta', 'min_child_weight','max_depth', 'colsample_bytree', 'subsample'])\n",
        "preds = np.array([])\n",
        "\n",
        "grid = {'n_estimators' : [100], 'eta' : [0.01], 'min_child_weight' : np.arange(1, 8, 1),\n",
        "        'max_depth' : np.arange(3,9,1) , 'colsample_bytree' :np.arange(0.8, 1.0, 0.1),\n",
        "        'subsample' :np.arange(0.8, 1.0, 0.1)} # fix the n_estimators & eta(learning rate)\n",
        "\n",
        "#tscv = TimeSeriesSplit(n_splits=3)\n",
        "smape_score = make_scorer(SMAPE, greater_is_better=False)\n",
        "\n",
        "for i in tqdm(np.arange(1, 101, 1)):\n",
        "    y = merged_train_df.loc[merged_train_df.building_number == i, 'power_consumption']\n",
        "    x = merged_train_df.loc[merged_train_df.building_number == i].drop(['power_consumption'], axis=1)\n",
        "    y_train, y_test, x_train, x_test = temporal_train_test_split(y = y, X = x, test_size = 168)\n",
        "\n",
        "    pds = PredefinedSplit(np.append(-np.ones(len(x_train)-168), np.zeros(168)))\n",
        "    gcv = GridSearchCV(estimator = XGBRegressor(seed=0),\n",
        "                       param_grid=grid, scoring=smape_score, cv=pds, refit=True, verbose=True)\n",
        "    \n",
        "    # gcv = GridSearchCV(estimator = XGBRegressor(seed = 0, gpu_id = 1, tree_method = 'gpu_hist', predictor= 'gpu_predictor'),\n",
        "    #                     param_grid = grid, scoring = smape_score, cv = pds, refit = True, verbose = True)\n",
        "\n",
        "    gcv.fit(x_train, y_train)\n",
        "    best = gcv.best_estimator_\n",
        "    params = gcv.best_params_\n",
        "    print(params)\n",
        "    pred = best.predict(x_test)\n",
        "    building = 'building'+str(i)\n",
        "    print(building + '|| SMAPE : {}'.format(SMAPE(y_test, pred)))\n",
        "    preds = np.append(preds, pred)\n",
        "    df = pd.concat([df, pd.DataFrame(params, index=[0])], axis=0)\n",
        "    df.to_csv('./hyperparameter_xgb2.csv', index=False) # save the tuned parameters\n"
      ]
    },
    {
      "cell_type": "markdown",
      "metadata": {},
      "source": [
        "## 1등코드 원본\n"
      ]
    },
    {
      "cell_type": "code",
      "execution_count": 38,
      "metadata": {
        "colab": {
          "base_uri": "https://localhost:8080/",
          "height": 437
        },
        "id": "bfEEtu6V63lI",
        "outputId": "1ad01434-962d-4634-f54b-ce58103cf968"
      },
      "outputs": [
        {
          "name": "stderr",
          "output_type": "stream",
          "text": [
            "  0%|          | 0/100 [00:00<?, ?it/s]\n"
          ]
        },
        {
          "name": "stdout",
          "output_type": "stream",
          "text": [
            "Fitting 1 folds for each of 168 candidates, totalling 168 fits\n"
          ]
        },
        {
          "ename": "IndexError",
          "evalue": "indices are out-of-bounds",
          "output_type": "error",
          "traceback": [
            "\u001b[1;31m---------------------------------------------------------------------------\u001b[0m",
            "\u001b[1;31mIndexError\u001b[0m                                Traceback (most recent call last)",
            "Cell \u001b[1;32mIn[38], line 25\u001b[0m\n\u001b[0;32m     17\u001b[0m gcv \u001b[39m=\u001b[39m GridSearchCV(estimator \u001b[39m=\u001b[39m XGBRegressor(seed \u001b[39m=\u001b[39m \u001b[39m0\u001b[39m, gpu_id \u001b[39m=\u001b[39m \u001b[39m1\u001b[39m,\n\u001b[0;32m     18\u001b[0m                                              tree_method \u001b[39m=\u001b[39m \u001b[39m'\u001b[39m\u001b[39mgpu_hist\u001b[39m\u001b[39m'\u001b[39m, predictor\u001b[39m=\u001b[39m \u001b[39m'\u001b[39m\u001b[39mgpu_predictor\u001b[39m\u001b[39m'\u001b[39m),\n\u001b[0;32m     19\u001b[0m                      param_grid \u001b[39m=\u001b[39m grid, scoring \u001b[39m=\u001b[39m smape_score, cv \u001b[39m=\u001b[39m pds, refit \u001b[39m=\u001b[39m \u001b[39mTrue\u001b[39;00m, verbose \u001b[39m=\u001b[39m \u001b[39mTrue\u001b[39;00m)\n\u001b[0;32m     20\u001b[0m \u001b[39m# gcv = GridSearchCV(estimator = XGBRegressor(seed = 0, gpu_id = 1,\u001b[39;00m\n\u001b[0;32m     21\u001b[0m \u001b[39m#                                             tree_method = 'gpu_hist', predictor= 'gpu_predictor'),\u001b[39;00m\n\u001b[0;32m     22\u001b[0m \u001b[39m#                    param_grid = grid, scoring = smape_score, cv = pds, refit = True, verbose = True)\u001b[39;00m\n\u001b[1;32m---> 25\u001b[0m gcv\u001b[39m.\u001b[39;49mfit(x_train, y_train)\n\u001b[0;32m     26\u001b[0m best \u001b[39m=\u001b[39m gcv\u001b[39m.\u001b[39mbest_estimator_\n\u001b[0;32m     27\u001b[0m params \u001b[39m=\u001b[39m gcv\u001b[39m.\u001b[39mbest_params_\n",
            "File \u001b[1;32mc:\\ProgramData\\anaconda3\\envs\\myenv\\Lib\\site-packages\\sklearn\\model_selection\\_search.py:874\u001b[0m, in \u001b[0;36mBaseSearchCV.fit\u001b[1;34m(self, X, y, groups, **fit_params)\u001b[0m\n\u001b[0;32m    868\u001b[0m     results \u001b[39m=\u001b[39m \u001b[39mself\u001b[39m\u001b[39m.\u001b[39m_format_results(\n\u001b[0;32m    869\u001b[0m         all_candidate_params, n_splits, all_out, all_more_results\n\u001b[0;32m    870\u001b[0m     )\n\u001b[0;32m    872\u001b[0m     \u001b[39mreturn\u001b[39;00m results\n\u001b[1;32m--> 874\u001b[0m \u001b[39mself\u001b[39;49m\u001b[39m.\u001b[39;49m_run_search(evaluate_candidates)\n\u001b[0;32m    876\u001b[0m \u001b[39m# multimetric is determined here because in the case of a callable\u001b[39;00m\n\u001b[0;32m    877\u001b[0m \u001b[39m# self.scoring the return type is only known after calling\u001b[39;00m\n\u001b[0;32m    878\u001b[0m first_test_score \u001b[39m=\u001b[39m all_out[\u001b[39m0\u001b[39m][\u001b[39m\"\u001b[39m\u001b[39mtest_scores\u001b[39m\u001b[39m\"\u001b[39m]\n",
            "File \u001b[1;32mc:\\ProgramData\\anaconda3\\envs\\myenv\\Lib\\site-packages\\sklearn\\model_selection\\_search.py:1388\u001b[0m, in \u001b[0;36mGridSearchCV._run_search\u001b[1;34m(self, evaluate_candidates)\u001b[0m\n\u001b[0;32m   1386\u001b[0m \u001b[39mdef\u001b[39;00m \u001b[39m_run_search\u001b[39m(\u001b[39mself\u001b[39m, evaluate_candidates):\n\u001b[0;32m   1387\u001b[0m \u001b[39m    \u001b[39m\u001b[39m\"\"\"Search all candidates in param_grid\"\"\"\u001b[39;00m\n\u001b[1;32m-> 1388\u001b[0m     evaluate_candidates(ParameterGrid(\u001b[39mself\u001b[39;49m\u001b[39m.\u001b[39;49mparam_grid))\n",
            "File \u001b[1;32mc:\\ProgramData\\anaconda3\\envs\\myenv\\Lib\\site-packages\\sklearn\\model_selection\\_search.py:821\u001b[0m, in \u001b[0;36mBaseSearchCV.fit.<locals>.evaluate_candidates\u001b[1;34m(candidate_params, cv, more_results)\u001b[0m\n\u001b[0;32m    813\u001b[0m \u001b[39mif\u001b[39;00m \u001b[39mself\u001b[39m\u001b[39m.\u001b[39mverbose \u001b[39m>\u001b[39m \u001b[39m0\u001b[39m:\n\u001b[0;32m    814\u001b[0m     \u001b[39mprint\u001b[39m(\n\u001b[0;32m    815\u001b[0m         \u001b[39m\"\u001b[39m\u001b[39mFitting \u001b[39m\u001b[39m{0}\u001b[39;00m\u001b[39m folds for each of \u001b[39m\u001b[39m{1}\u001b[39;00m\u001b[39m candidates,\u001b[39m\u001b[39m\"\u001b[39m\n\u001b[0;32m    816\u001b[0m         \u001b[39m\"\u001b[39m\u001b[39m totalling \u001b[39m\u001b[39m{2}\u001b[39;00m\u001b[39m fits\u001b[39m\u001b[39m\"\u001b[39m\u001b[39m.\u001b[39mformat(\n\u001b[0;32m    817\u001b[0m             n_splits, n_candidates, n_candidates \u001b[39m*\u001b[39m n_splits\n\u001b[0;32m    818\u001b[0m         )\n\u001b[0;32m    819\u001b[0m     )\n\u001b[1;32m--> 821\u001b[0m out \u001b[39m=\u001b[39m parallel(\n\u001b[0;32m    822\u001b[0m     delayed(_fit_and_score)(\n\u001b[0;32m    823\u001b[0m         clone(base_estimator),\n\u001b[0;32m    824\u001b[0m         X,\n\u001b[0;32m    825\u001b[0m         y,\n\u001b[0;32m    826\u001b[0m         train\u001b[39m=\u001b[39;49mtrain,\n\u001b[0;32m    827\u001b[0m         test\u001b[39m=\u001b[39;49mtest,\n\u001b[0;32m    828\u001b[0m         parameters\u001b[39m=\u001b[39;49mparameters,\n\u001b[0;32m    829\u001b[0m         split_progress\u001b[39m=\u001b[39;49m(split_idx, n_splits),\n\u001b[0;32m    830\u001b[0m         candidate_progress\u001b[39m=\u001b[39;49m(cand_idx, n_candidates),\n\u001b[0;32m    831\u001b[0m         \u001b[39m*\u001b[39;49m\u001b[39m*\u001b[39;49mfit_and_score_kwargs,\n\u001b[0;32m    832\u001b[0m     )\n\u001b[0;32m    833\u001b[0m     \u001b[39mfor\u001b[39;49;00m (cand_idx, parameters), (split_idx, (train, test)) \u001b[39min\u001b[39;49;00m product(\n\u001b[0;32m    834\u001b[0m         \u001b[39menumerate\u001b[39;49m(candidate_params), \u001b[39menumerate\u001b[39;49m(cv\u001b[39m.\u001b[39;49msplit(X, y, groups))\n\u001b[0;32m    835\u001b[0m     )\n\u001b[0;32m    836\u001b[0m )\n\u001b[0;32m    838\u001b[0m \u001b[39mif\u001b[39;00m \u001b[39mlen\u001b[39m(out) \u001b[39m<\u001b[39m \u001b[39m1\u001b[39m:\n\u001b[0;32m    839\u001b[0m     \u001b[39mraise\u001b[39;00m \u001b[39mValueError\u001b[39;00m(\n\u001b[0;32m    840\u001b[0m         \u001b[39m\"\u001b[39m\u001b[39mNo fits were performed. \u001b[39m\u001b[39m\"\u001b[39m\n\u001b[0;32m    841\u001b[0m         \u001b[39m\"\u001b[39m\u001b[39mWas the CV iterator empty? \u001b[39m\u001b[39m\"\u001b[39m\n\u001b[0;32m    842\u001b[0m         \u001b[39m\"\u001b[39m\u001b[39mWere there no candidates?\u001b[39m\u001b[39m\"\u001b[39m\n\u001b[0;32m    843\u001b[0m     )\n",
            "File \u001b[1;32mc:\\ProgramData\\anaconda3\\envs\\myenv\\Lib\\site-packages\\sklearn\\utils\\parallel.py:63\u001b[0m, in \u001b[0;36mParallel.__call__\u001b[1;34m(self, iterable)\u001b[0m\n\u001b[0;32m     58\u001b[0m config \u001b[39m=\u001b[39m get_config()\n\u001b[0;32m     59\u001b[0m iterable_with_config \u001b[39m=\u001b[39m (\n\u001b[0;32m     60\u001b[0m     (_with_config(delayed_func, config), args, kwargs)\n\u001b[0;32m     61\u001b[0m     \u001b[39mfor\u001b[39;00m delayed_func, args, kwargs \u001b[39min\u001b[39;00m iterable\n\u001b[0;32m     62\u001b[0m )\n\u001b[1;32m---> 63\u001b[0m \u001b[39mreturn\u001b[39;00m \u001b[39msuper\u001b[39;49m()\u001b[39m.\u001b[39;49m\u001b[39m__call__\u001b[39;49m(iterable_with_config)\n",
            "File \u001b[1;32mc:\\ProgramData\\anaconda3\\envs\\myenv\\Lib\\site-packages\\joblib\\parallel.py:1085\u001b[0m, in \u001b[0;36mParallel.__call__\u001b[1;34m(self, iterable)\u001b[0m\n\u001b[0;32m   1076\u001b[0m \u001b[39mtry\u001b[39;00m:\n\u001b[0;32m   1077\u001b[0m     \u001b[39m# Only set self._iterating to True if at least a batch\u001b[39;00m\n\u001b[0;32m   1078\u001b[0m     \u001b[39m# was dispatched. In particular this covers the edge\u001b[39;00m\n\u001b[1;32m   (...)\u001b[0m\n\u001b[0;32m   1082\u001b[0m     \u001b[39m# was very quick and its callback already dispatched all the\u001b[39;00m\n\u001b[0;32m   1083\u001b[0m     \u001b[39m# remaining jobs.\u001b[39;00m\n\u001b[0;32m   1084\u001b[0m     \u001b[39mself\u001b[39m\u001b[39m.\u001b[39m_iterating \u001b[39m=\u001b[39m \u001b[39mFalse\u001b[39;00m\n\u001b[1;32m-> 1085\u001b[0m     \u001b[39mif\u001b[39;00m \u001b[39mself\u001b[39;49m\u001b[39m.\u001b[39;49mdispatch_one_batch(iterator):\n\u001b[0;32m   1086\u001b[0m         \u001b[39mself\u001b[39m\u001b[39m.\u001b[39m_iterating \u001b[39m=\u001b[39m \u001b[39mself\u001b[39m\u001b[39m.\u001b[39m_original_iterator \u001b[39mis\u001b[39;00m \u001b[39mnot\u001b[39;00m \u001b[39mNone\u001b[39;00m\n\u001b[0;32m   1088\u001b[0m     \u001b[39mwhile\u001b[39;00m \u001b[39mself\u001b[39m\u001b[39m.\u001b[39mdispatch_one_batch(iterator):\n",
            "File \u001b[1;32mc:\\ProgramData\\anaconda3\\envs\\myenv\\Lib\\site-packages\\joblib\\parallel.py:901\u001b[0m, in \u001b[0;36mParallel.dispatch_one_batch\u001b[1;34m(self, iterator)\u001b[0m\n\u001b[0;32m    899\u001b[0m     \u001b[39mreturn\u001b[39;00m \u001b[39mFalse\u001b[39;00m\n\u001b[0;32m    900\u001b[0m \u001b[39melse\u001b[39;00m:\n\u001b[1;32m--> 901\u001b[0m     \u001b[39mself\u001b[39;49m\u001b[39m.\u001b[39;49m_dispatch(tasks)\n\u001b[0;32m    902\u001b[0m     \u001b[39mreturn\u001b[39;00m \u001b[39mTrue\u001b[39;00m\n",
            "File \u001b[1;32mc:\\ProgramData\\anaconda3\\envs\\myenv\\Lib\\site-packages\\joblib\\parallel.py:819\u001b[0m, in \u001b[0;36mParallel._dispatch\u001b[1;34m(self, batch)\u001b[0m\n\u001b[0;32m    817\u001b[0m \u001b[39mwith\u001b[39;00m \u001b[39mself\u001b[39m\u001b[39m.\u001b[39m_lock:\n\u001b[0;32m    818\u001b[0m     job_idx \u001b[39m=\u001b[39m \u001b[39mlen\u001b[39m(\u001b[39mself\u001b[39m\u001b[39m.\u001b[39m_jobs)\n\u001b[1;32m--> 819\u001b[0m     job \u001b[39m=\u001b[39m \u001b[39mself\u001b[39;49m\u001b[39m.\u001b[39;49m_backend\u001b[39m.\u001b[39;49mapply_async(batch, callback\u001b[39m=\u001b[39;49mcb)\n\u001b[0;32m    820\u001b[0m     \u001b[39m# A job can complete so quickly than its callback is\u001b[39;00m\n\u001b[0;32m    821\u001b[0m     \u001b[39m# called before we get here, causing self._jobs to\u001b[39;00m\n\u001b[0;32m    822\u001b[0m     \u001b[39m# grow. To ensure correct results ordering, .insert is\u001b[39;00m\n\u001b[0;32m    823\u001b[0m     \u001b[39m# used (rather than .append) in the following line\u001b[39;00m\n\u001b[0;32m    824\u001b[0m     \u001b[39mself\u001b[39m\u001b[39m.\u001b[39m_jobs\u001b[39m.\u001b[39minsert(job_idx, job)\n",
            "File \u001b[1;32mc:\\ProgramData\\anaconda3\\envs\\myenv\\Lib\\site-packages\\joblib\\_parallel_backends.py:208\u001b[0m, in \u001b[0;36mSequentialBackend.apply_async\u001b[1;34m(self, func, callback)\u001b[0m\n\u001b[0;32m    206\u001b[0m \u001b[39mdef\u001b[39;00m \u001b[39mapply_async\u001b[39m(\u001b[39mself\u001b[39m, func, callback\u001b[39m=\u001b[39m\u001b[39mNone\u001b[39;00m):\n\u001b[0;32m    207\u001b[0m \u001b[39m    \u001b[39m\u001b[39m\"\"\"Schedule a func to be run\"\"\"\u001b[39;00m\n\u001b[1;32m--> 208\u001b[0m     result \u001b[39m=\u001b[39m ImmediateResult(func)\n\u001b[0;32m    209\u001b[0m     \u001b[39mif\u001b[39;00m callback:\n\u001b[0;32m    210\u001b[0m         callback(result)\n",
            "File \u001b[1;32mc:\\ProgramData\\anaconda3\\envs\\myenv\\Lib\\site-packages\\joblib\\_parallel_backends.py:597\u001b[0m, in \u001b[0;36mImmediateResult.__init__\u001b[1;34m(self, batch)\u001b[0m\n\u001b[0;32m    594\u001b[0m \u001b[39mdef\u001b[39;00m \u001b[39m__init__\u001b[39m(\u001b[39mself\u001b[39m, batch):\n\u001b[0;32m    595\u001b[0m     \u001b[39m# Don't delay the application, to avoid keeping the input\u001b[39;00m\n\u001b[0;32m    596\u001b[0m     \u001b[39m# arguments in memory\u001b[39;00m\n\u001b[1;32m--> 597\u001b[0m     \u001b[39mself\u001b[39m\u001b[39m.\u001b[39mresults \u001b[39m=\u001b[39m batch()\n",
            "File \u001b[1;32mc:\\ProgramData\\anaconda3\\envs\\myenv\\Lib\\site-packages\\joblib\\parallel.py:288\u001b[0m, in \u001b[0;36mBatchedCalls.__call__\u001b[1;34m(self)\u001b[0m\n\u001b[0;32m    284\u001b[0m \u001b[39mdef\u001b[39;00m \u001b[39m__call__\u001b[39m(\u001b[39mself\u001b[39m):\n\u001b[0;32m    285\u001b[0m     \u001b[39m# Set the default nested backend to self._backend but do not set the\u001b[39;00m\n\u001b[0;32m    286\u001b[0m     \u001b[39m# change the default number of processes to -1\u001b[39;00m\n\u001b[0;32m    287\u001b[0m     \u001b[39mwith\u001b[39;00m parallel_backend(\u001b[39mself\u001b[39m\u001b[39m.\u001b[39m_backend, n_jobs\u001b[39m=\u001b[39m\u001b[39mself\u001b[39m\u001b[39m.\u001b[39m_n_jobs):\n\u001b[1;32m--> 288\u001b[0m         \u001b[39mreturn\u001b[39;00m [func(\u001b[39m*\u001b[39;49margs, \u001b[39m*\u001b[39;49m\u001b[39m*\u001b[39;49mkwargs)\n\u001b[0;32m    289\u001b[0m                 \u001b[39mfor\u001b[39;49;00m func, args, kwargs \u001b[39min\u001b[39;49;00m \u001b[39mself\u001b[39;49m\u001b[39m.\u001b[39;49mitems]\n",
            "File \u001b[1;32mc:\\ProgramData\\anaconda3\\envs\\myenv\\Lib\\site-packages\\joblib\\parallel.py:288\u001b[0m, in \u001b[0;36m<listcomp>\u001b[1;34m(.0)\u001b[0m\n\u001b[0;32m    284\u001b[0m \u001b[39mdef\u001b[39;00m \u001b[39m__call__\u001b[39m(\u001b[39mself\u001b[39m):\n\u001b[0;32m    285\u001b[0m     \u001b[39m# Set the default nested backend to self._backend but do not set the\u001b[39;00m\n\u001b[0;32m    286\u001b[0m     \u001b[39m# change the default number of processes to -1\u001b[39;00m\n\u001b[0;32m    287\u001b[0m     \u001b[39mwith\u001b[39;00m parallel_backend(\u001b[39mself\u001b[39m\u001b[39m.\u001b[39m_backend, n_jobs\u001b[39m=\u001b[39m\u001b[39mself\u001b[39m\u001b[39m.\u001b[39m_n_jobs):\n\u001b[1;32m--> 288\u001b[0m         \u001b[39mreturn\u001b[39;00m [func(\u001b[39m*\u001b[39;49margs, \u001b[39m*\u001b[39;49m\u001b[39m*\u001b[39;49mkwargs)\n\u001b[0;32m    289\u001b[0m                 \u001b[39mfor\u001b[39;00m func, args, kwargs \u001b[39min\u001b[39;00m \u001b[39mself\u001b[39m\u001b[39m.\u001b[39mitems]\n",
            "File \u001b[1;32mc:\\ProgramData\\anaconda3\\envs\\myenv\\Lib\\site-packages\\sklearn\\utils\\parallel.py:123\u001b[0m, in \u001b[0;36m_FuncWrapper.__call__\u001b[1;34m(self, *args, **kwargs)\u001b[0m\n\u001b[0;32m    121\u001b[0m     config \u001b[39m=\u001b[39m {}\n\u001b[0;32m    122\u001b[0m \u001b[39mwith\u001b[39;00m config_context(\u001b[39m*\u001b[39m\u001b[39m*\u001b[39mconfig):\n\u001b[1;32m--> 123\u001b[0m     \u001b[39mreturn\u001b[39;00m \u001b[39mself\u001b[39;49m\u001b[39m.\u001b[39;49mfunction(\u001b[39m*\u001b[39;49margs, \u001b[39m*\u001b[39;49m\u001b[39m*\u001b[39;49mkwargs)\n",
            "File \u001b[1;32mc:\\ProgramData\\anaconda3\\envs\\myenv\\Lib\\site-packages\\sklearn\\model_selection\\_validation.py:679\u001b[0m, in \u001b[0;36m_fit_and_score\u001b[1;34m(estimator, X, y, scorer, train, test, verbose, parameters, fit_params, return_train_score, return_parameters, return_n_test_samples, return_times, return_estimator, split_progress, candidate_progress, error_score)\u001b[0m\n\u001b[0;32m    676\u001b[0m start_time \u001b[39m=\u001b[39m time\u001b[39m.\u001b[39mtime()\n\u001b[0;32m    678\u001b[0m X_train, y_train \u001b[39m=\u001b[39m _safe_split(estimator, X, y, train)\n\u001b[1;32m--> 679\u001b[0m X_test, y_test \u001b[39m=\u001b[39m _safe_split(estimator, X, y, test, train)\n\u001b[0;32m    681\u001b[0m result \u001b[39m=\u001b[39m {}\n\u001b[0;32m    682\u001b[0m \u001b[39mtry\u001b[39;00m:\n",
            "File \u001b[1;32mc:\\ProgramData\\anaconda3\\envs\\myenv\\Lib\\site-packages\\sklearn\\utils\\metaestimators.py:233\u001b[0m, in \u001b[0;36m_safe_split\u001b[1;34m(estimator, X, y, indices, train_indices)\u001b[0m\n\u001b[0;32m    231\u001b[0m         X_subset \u001b[39m=\u001b[39m X[np\u001b[39m.\u001b[39mix_(indices, train_indices)]\n\u001b[0;32m    232\u001b[0m \u001b[39melse\u001b[39;00m:\n\u001b[1;32m--> 233\u001b[0m     X_subset \u001b[39m=\u001b[39m _safe_indexing(X, indices)\n\u001b[0;32m    235\u001b[0m \u001b[39mif\u001b[39;00m y \u001b[39mis\u001b[39;00m \u001b[39mnot\u001b[39;00m \u001b[39mNone\u001b[39;00m:\n\u001b[0;32m    236\u001b[0m     y_subset \u001b[39m=\u001b[39m _safe_indexing(y, indices)\n",
            "File \u001b[1;32mc:\\ProgramData\\anaconda3\\envs\\myenv\\Lib\\site-packages\\sklearn\\utils\\__init__.py:354\u001b[0m, in \u001b[0;36m_safe_indexing\u001b[1;34m(X, indices, axis)\u001b[0m\n\u001b[0;32m    348\u001b[0m     \u001b[39mraise\u001b[39;00m \u001b[39mValueError\u001b[39;00m(\n\u001b[0;32m    349\u001b[0m         \u001b[39m\"\u001b[39m\u001b[39mSpecifying the columns using strings is only supported for \u001b[39m\u001b[39m\"\u001b[39m\n\u001b[0;32m    350\u001b[0m         \u001b[39m\"\u001b[39m\u001b[39mpandas DataFrames\u001b[39m\u001b[39m\"\u001b[39m\n\u001b[0;32m    351\u001b[0m     )\n\u001b[0;32m    353\u001b[0m \u001b[39mif\u001b[39;00m \u001b[39mhasattr\u001b[39m(X, \u001b[39m\"\u001b[39m\u001b[39miloc\u001b[39m\u001b[39m\"\u001b[39m):\n\u001b[1;32m--> 354\u001b[0m     \u001b[39mreturn\u001b[39;00m _pandas_indexing(X, indices, indices_dtype, axis\u001b[39m=\u001b[39;49maxis)\n\u001b[0;32m    355\u001b[0m \u001b[39melif\u001b[39;00m \u001b[39mhasattr\u001b[39m(X, \u001b[39m\"\u001b[39m\u001b[39mshape\u001b[39m\u001b[39m\"\u001b[39m):\n\u001b[0;32m    356\u001b[0m     \u001b[39mreturn\u001b[39;00m _array_indexing(X, indices, indices_dtype, axis\u001b[39m=\u001b[39maxis)\n",
            "File \u001b[1;32mc:\\ProgramData\\anaconda3\\envs\\myenv\\Lib\\site-packages\\sklearn\\utils\\__init__.py:196\u001b[0m, in \u001b[0;36m_pandas_indexing\u001b[1;34m(X, key, key_dtype, axis)\u001b[0m\n\u001b[0;32m    191\u001b[0m     key \u001b[39m=\u001b[39m np\u001b[39m.\u001b[39masarray(key)\n\u001b[0;32m    193\u001b[0m \u001b[39mif\u001b[39;00m key_dtype \u001b[39m==\u001b[39m \u001b[39m\"\u001b[39m\u001b[39mint\u001b[39m\u001b[39m\"\u001b[39m \u001b[39mand\u001b[39;00m \u001b[39mnot\u001b[39;00m (\u001b[39misinstance\u001b[39m(key, \u001b[39mslice\u001b[39m) \u001b[39mor\u001b[39;00m np\u001b[39m.\u001b[39misscalar(key)):\n\u001b[0;32m    194\u001b[0m     \u001b[39m# using take() instead of iloc[] ensures the return value is a \"proper\"\u001b[39;00m\n\u001b[0;32m    195\u001b[0m     \u001b[39m# copy that will not raise SettingWithCopyWarning\u001b[39;00m\n\u001b[1;32m--> 196\u001b[0m     \u001b[39mreturn\u001b[39;00m X\u001b[39m.\u001b[39;49mtake(key, axis\u001b[39m=\u001b[39;49maxis)\n\u001b[0;32m    197\u001b[0m \u001b[39melse\u001b[39;00m:\n\u001b[0;32m    198\u001b[0m     \u001b[39m# check whether we should index with loc or iloc\u001b[39;00m\n\u001b[0;32m    199\u001b[0m     indexer \u001b[39m=\u001b[39m X\u001b[39m.\u001b[39miloc \u001b[39mif\u001b[39;00m key_dtype \u001b[39m==\u001b[39m \u001b[39m\"\u001b[39m\u001b[39mint\u001b[39m\u001b[39m\"\u001b[39m \u001b[39melse\u001b[39;00m X\u001b[39m.\u001b[39mloc\n",
            "File \u001b[1;32mc:\\ProgramData\\anaconda3\\envs\\myenv\\Lib\\site-packages\\pandas\\core\\generic.py:3871\u001b[0m, in \u001b[0;36mNDFrame.take\u001b[1;34m(self, indices, axis, is_copy, **kwargs)\u001b[0m\n\u001b[0;32m   3862\u001b[0m     warnings\u001b[39m.\u001b[39mwarn(\n\u001b[0;32m   3863\u001b[0m         \u001b[39m\"\u001b[39m\u001b[39mis_copy is deprecated and will be removed in a future version. \u001b[39m\u001b[39m\"\u001b[39m\n\u001b[0;32m   3864\u001b[0m         \u001b[39m\"\u001b[39m\u001b[39m'\u001b[39m\u001b[39mtake\u001b[39m\u001b[39m'\u001b[39m\u001b[39m always returns a copy, so there is no need to specify this.\u001b[39m\u001b[39m\"\u001b[39m,\n\u001b[0;32m   3865\u001b[0m         \u001b[39mFutureWarning\u001b[39;00m,\n\u001b[0;32m   3866\u001b[0m         stacklevel\u001b[39m=\u001b[39mfind_stack_level(),\n\u001b[0;32m   3867\u001b[0m     )\n\u001b[0;32m   3869\u001b[0m nv\u001b[39m.\u001b[39mvalidate_take((), kwargs)\n\u001b[1;32m-> 3871\u001b[0m \u001b[39mreturn\u001b[39;00m \u001b[39mself\u001b[39;49m\u001b[39m.\u001b[39;49m_take(indices, axis)\n",
            "File \u001b[1;32mc:\\ProgramData\\anaconda3\\envs\\myenv\\Lib\\site-packages\\pandas\\core\\generic.py:3886\u001b[0m, in \u001b[0;36mNDFrame._take\u001b[1;34m(self, indices, axis, convert_indices)\u001b[0m\n\u001b[0;32m   3879\u001b[0m \u001b[39m\u001b[39m\u001b[39m\"\"\"\u001b[39;00m\n\u001b[0;32m   3880\u001b[0m \u001b[39mInternal version of the `take` allowing specification of additional args.\u001b[39;00m\n\u001b[0;32m   3881\u001b[0m \n\u001b[0;32m   3882\u001b[0m \u001b[39mSee the docstring of `take` for full explanation of the parameters.\u001b[39;00m\n\u001b[0;32m   3883\u001b[0m \u001b[39m\"\"\"\u001b[39;00m\n\u001b[0;32m   3884\u001b[0m \u001b[39mself\u001b[39m\u001b[39m.\u001b[39m_consolidate_inplace()\n\u001b[1;32m-> 3886\u001b[0m new_data \u001b[39m=\u001b[39m \u001b[39mself\u001b[39;49m\u001b[39m.\u001b[39;49m_mgr\u001b[39m.\u001b[39;49mtake(\n\u001b[0;32m   3887\u001b[0m     indices,\n\u001b[0;32m   3888\u001b[0m     axis\u001b[39m=\u001b[39;49m\u001b[39mself\u001b[39;49m\u001b[39m.\u001b[39;49m_get_block_manager_axis(axis),\n\u001b[0;32m   3889\u001b[0m     verify\u001b[39m=\u001b[39;49m\u001b[39mTrue\u001b[39;49;00m,\n\u001b[0;32m   3890\u001b[0m     convert_indices\u001b[39m=\u001b[39;49mconvert_indices,\n\u001b[0;32m   3891\u001b[0m )\n\u001b[0;32m   3892\u001b[0m \u001b[39mreturn\u001b[39;00m \u001b[39mself\u001b[39m\u001b[39m.\u001b[39m_constructor(new_data)\u001b[39m.\u001b[39m__finalize__(\u001b[39mself\u001b[39m, method\u001b[39m=\u001b[39m\u001b[39m\"\u001b[39m\u001b[39mtake\u001b[39m\u001b[39m\"\u001b[39m)\n",
            "File \u001b[1;32mc:\\ProgramData\\anaconda3\\envs\\myenv\\Lib\\site-packages\\pandas\\core\\internals\\managers.py:975\u001b[0m, in \u001b[0;36mBaseBlockManager.take\u001b[1;34m(self, indexer, axis, verify, convert_indices)\u001b[0m\n\u001b[0;32m    973\u001b[0m n \u001b[39m=\u001b[39m \u001b[39mself\u001b[39m\u001b[39m.\u001b[39mshape[axis]\n\u001b[0;32m    974\u001b[0m \u001b[39mif\u001b[39;00m convert_indices:\n\u001b[1;32m--> 975\u001b[0m     indexer \u001b[39m=\u001b[39m maybe_convert_indices(indexer, n, verify\u001b[39m=\u001b[39;49mverify)\n\u001b[0;32m    977\u001b[0m new_labels \u001b[39m=\u001b[39m \u001b[39mself\u001b[39m\u001b[39m.\u001b[39maxes[axis]\u001b[39m.\u001b[39mtake(indexer)\n\u001b[0;32m    978\u001b[0m \u001b[39mreturn\u001b[39;00m \u001b[39mself\u001b[39m\u001b[39m.\u001b[39mreindex_indexer(\n\u001b[0;32m    979\u001b[0m     new_axis\u001b[39m=\u001b[39mnew_labels,\n\u001b[0;32m    980\u001b[0m     indexer\u001b[39m=\u001b[39mindexer,\n\u001b[1;32m   (...)\u001b[0m\n\u001b[0;32m    983\u001b[0m     copy\u001b[39m=\u001b[39m\u001b[39mNone\u001b[39;00m,\n\u001b[0;32m    984\u001b[0m )\n",
            "File \u001b[1;32mc:\\ProgramData\\anaconda3\\envs\\myenv\\Lib\\site-packages\\pandas\\core\\indexers\\utils.py:286\u001b[0m, in \u001b[0;36mmaybe_convert_indices\u001b[1;34m(indices, n, verify)\u001b[0m\n\u001b[0;32m    284\u001b[0m     mask \u001b[39m=\u001b[39m (indices \u001b[39m>\u001b[39m\u001b[39m=\u001b[39m n) \u001b[39m|\u001b[39m (indices \u001b[39m<\u001b[39m \u001b[39m0\u001b[39m)\n\u001b[0;32m    285\u001b[0m     \u001b[39mif\u001b[39;00m mask\u001b[39m.\u001b[39many():\n\u001b[1;32m--> 286\u001b[0m         \u001b[39mraise\u001b[39;00m \u001b[39mIndexError\u001b[39;00m(\u001b[39m\"\u001b[39m\u001b[39mindices are out-of-bounds\u001b[39m\u001b[39m\"\u001b[39m)\n\u001b[0;32m    287\u001b[0m \u001b[39mreturn\u001b[39;00m indices\n",
            "\u001b[1;31mIndexError\u001b[0m: indices are out-of-bounds"
          ]
        }
      ],
      "source": [
        "from sklearn.model_selection import PredefinedSplit, GridSearchCV\n",
        "from sklearn.metrics import make_scorer\n",
        "df = pd.DataFrame(columns = ['n_estimators', 'eta', 'min_child_weight','max_depth', 'colsample_bytree', 'subsample'])\n",
        "preds = np.array([])\n",
        "\n",
        "grid = {'n_estimators' : [100], 'eta' : [0.01], 'min_child_weight' : np.arange(1, 8, 1),\n",
        "        'max_depth' : np.arange(3,9,1) , 'colsample_bytree' :np.arange(0.8, 1.0, 0.1),\n",
        "        'subsample' :np.arange(0.8, 1.0, 0.1)} # fix the n_estimators & eta(learning rate)\n",
        "\n",
        "for i in tqdm(np.arange(1, 101, 1)):\n",
        "    y = merged_train_df.loc[merged_train_df.building_number == i, 'power_consumption']\n",
        "    x = merged_train_df.loc[merged_train_df.building_number == i, ].drop('power_consumption', axis=1)\n",
        "    y_train, y_test, x_train, x_test = temporal_train_test_split(y = y, X = x, test_size = 168)\n",
        "\n",
        "    smape_score = make_scorer(SMAPE, graeter_is_better=False)\n",
        "    pds = PredefinedSplit(np.append(-np.ones(len(x)-168), np.zeros(168)))\n",
        "    gcv = GridSearchCV(estimator = XGBRegressor(seed = 0, gpu_id = 1,\n",
        "                                                 tree_method = 'gpu_hist', predictor= 'gpu_predictor'),\n",
        "                         param_grid = grid, scoring = smape_score, cv = pds, refit = True, verbose = True)\n",
        "    # gcv = GridSearchCV(estimator = XGBRegressor(seed = 0, gpu_id = 1,\n",
        "    #                                             tree_method = 'gpu_hist', predictor= 'gpu_predictor'),\n",
        "    #                    param_grid = grid, scoring = smape_score, cv = pds, refit = True, verbose = True)\n",
        "\n",
        "\n",
        "    gcv.fit(x_train, y_train)\n",
        "    best = gcv.best_estimator_\n",
        "    params = gcv.best_params_\n",
        "    print(params)\n",
        "    pred = best.predict(x_test)\n",
        "    building = 'building'+str(i)\n",
        "    print(building + '|| SMAPE : {}'.format(SMAPE(y_test, pred)))\n",
        "    preds = np.append(preds, pred)\n",
        "    df = pd.concat([df, pd.DataFrame(params, index = [0])], axis = 0)\n",
        "    df.to_csv('./hyperparameter_xgb.csv', index = False) # save the tuned parameters"
      ]
    },
    {
      "cell_type": "markdown",
      "metadata": {},
      "source": [
        "## "
      ]
    },
    {
      "cell_type": "markdown",
      "metadata": {
        "id": "rrmTw8JXrq3X"
      },
      "source": [
        "## 학습"
      ]
    },
    {
      "cell_type": "code",
      "execution_count": null,
      "metadata": {
        "id": "o2nImtjcrqrF"
      },
      "outputs": [],
      "source": [
        "import xgboost as xgb\n",
        "from sklearn.model_selection import train_test_split\n",
        "\n",
        "# 데이터셋을 로드합니다. 이 예에서는 pandas DataFrame을 사용하고 있습니다.\n",
        "# df = pandas.read_csv('your_dataset.csv')\n",
        "\n",
        "models = {}\n",
        "\n",
        "for building_number in range(1, 101):  # 건물 번호는 1부터 100까지 있다고 가정합니다.\n",
        "    # 건물 번호에 따라 데이터를 분할합니다.\n",
        "    building_data = df[df['building_number'] == building_number]\n",
        "\n",
        "    # 특징과 목표 변수를 분할합니다.\n",
        "    X = building_data.drop('target', axis=1)\n",
        "    y = building_data['target']\n",
        "\n",
        "    # 훈련 세트와 테스트 세트를 분할합니다.\n",
        "    X_train, X_test, y_train, y_test = train_test_split(X, y, test_size=0.2, random_state=42)\n",
        "\n",
        "    # XGBoost 모델을 훈련시킵니다.\n",
        "    model = xgb.XGBRegressor(objective ='reg:squarederror', colsample_bytree = 0.3, learning_rate = 0.1,\n",
        "                max_depth = 5, alpha = 10, n_estimators = 10)\n",
        "    model.fit(X_train, y_train)\n",
        "\n",
        "    # 모델을 딕셔너리에 저장합니다.\n",
        "    models[building_number] = model\n"
      ]
    },
    {
      "cell_type": "markdown",
      "metadata": {
        "id": "VrPqi5myRnWi"
      },
      "source": [
        "## 테스트"
      ]
    },
    {
      "cell_type": "code",
      "execution_count": null,
      "metadata": {
        "id": "RnecCxDXozqr"
      },
      "outputs": [],
      "source": [
        "from sklearn.model_selection import train_test_split\n",
        "merged_train_df_Y = merged_train_df['power_consumption']\n",
        "X_train, X_test, y_train, y_test = train_test_split(merged_train_df.drop(columns=['power_consumption','sunshine','windspeed', 'solar_radiation','total_area','cooling_area']), merged_train_df_Y, test_size=0.2, random_state=42)"
      ]
    },
    {
      "cell_type": "code",
      "execution_count": null,
      "metadata": {
        "id": "okthpxwlslzH"
      },
      "outputs": [],
      "source": [
        "# 테스트 데이터셋을 로드합니다. 이 예에서는 pandas DataFrame을 사용하고 있습니다.\n",
        "# test_df = pandas.read_csv('your_test_dataset.csv')\n",
        "\n",
        "predictions = {}\n",
        "\n",
        "for building_number in models.keys():\n",
        "    # 건물 번호에 따라 데이터를 분할합니다.\n",
        "    building_data = test_df[test_df['building_number'] == building_number]\n",
        "\n",
        "    # 특징을 분할합니다.\n",
        "    X_test = building_data.drop('target', axis=1)\n",
        "\n",
        "    # 해당 건물 번호의 모델로 예측을 수행합니다.\n",
        "    y_pred = models[building_number].predict(X_test)\n",
        "\n",
        "    # 예측 결과를 딕셔너리에 저장합니다.\n",
        "    predictions[building_number] = y_pred\n"
      ]
    },
    {
      "cell_type": "code",
      "execution_count": null,
      "metadata": {
        "colab": {
          "base_uri": "https://localhost:8080/",
          "height": 304
        },
        "id": "GbVatSB7XcHE",
        "outputId": "08e07210-640a-4e1f-b27b-e77684694ff6"
      },
      "outputs": [],
      "source": [
        "model = XGBRegressor(n_estimators=1000, max_depth=5, eta=0.05, min_child_weight= 1, num_boost_around= 1, sub_sample= 0.5)\n",
        "model.fit(merged_train_df.drop(columns=['power_consumption','sunshine','windspeed', 'solar_radiation','total_area','cooling_area']), merged_train_df_Y)"
      ]
    },
    {
      "cell_type": "code",
      "execution_count": null,
      "metadata": {
        "colab": {
          "base_uri": "https://localhost:8080/"
        },
        "id": "kUVWVIhM-2bI",
        "outputId": "7bb4aa3a-0b79-4c08-e2e2-eaed590657f3"
      },
      "outputs": [],
      "source": [
        "preds = model.predict(X_test)\n",
        "#점수 산출\n",
        "print(\"SMAPE: %0.2f\" % (SMAPE(y_test,preds)))"
      ]
    },
    {
      "cell_type": "code",
      "execution_count": null,
      "metadata": {
        "colab": {
          "base_uri": "https://localhost:8080/",
          "height": 584
        },
        "id": "CpmAJAZUXmSO",
        "outputId": "de47d4c9-f801-4840-c39d-7e23a976e1ad"
      },
      "outputs": [],
      "source": [
        "import xgboost as xgb\n",
        "import matplotlib.pyplot as plt\n",
        "\n",
        "# 피처 중요도 확인\n",
        "feature_importances = model.feature_importances_\n",
        "\n",
        "# 피처 중요도를 출력합니다.(위에서 5개만)\n",
        "for i, feat_importance in enumerate(feature_importances):\n",
        "  if i <6:\n",
        "    print(f\"Feature {i}: {feat_importance}\")\n",
        "\n",
        "# 피처 중요도를 시각화합니다.\n",
        "xgb.plot_importance(model)\n",
        "plt.show()"
      ]
    },
    {
      "cell_type": "code",
      "execution_count": null,
      "metadata": {
        "id": "wfTSM6EiJm9K"
      },
      "outputs": [],
      "source": []
    },
    {
      "cell_type": "markdown",
      "metadata": {
        "id": "uzVQJ2tkrwwT"
      },
      "source": [
        "## 제출"
      ]
    },
    {
      "cell_type": "code",
      "execution_count": null,
      "metadata": {
        "id": "TrjzGz6gH5Ts"
      },
      "outputs": [],
      "source": [
        "pred = model.predict(merged_test_df.drop(columns=['windspeed','total_area','cooling_area']))\n",
        "submission = pd.read_csv('/content/drive/MyDrive/data/sample_submission.csv')\n",
        "submission['answer'] = pred\n",
        "submission.to_csv('/content/drive/MyDrive/data/baseline_submission_0723.csv', index=False)"
      ]
    }
  ],
  "metadata": {
    "colab": {
      "collapsed_sections": [
        "nbIffwyeTYLE"
      ],
      "provenance": []
    },
    "kernelspec": {
      "display_name": "Python 3",
      "name": "python3"
    },
    "language_info": {
      "codemirror_mode": {
        "name": "ipython",
        "version": 3
      },
      "file_extension": ".py",
      "mimetype": "text/x-python",
      "name": "python",
      "nbconvert_exporter": "python",
      "pygments_lexer": "ipython3",
      "version": "3.11.4"
    }
  },
  "nbformat": 4,
  "nbformat_minor": 0
}
