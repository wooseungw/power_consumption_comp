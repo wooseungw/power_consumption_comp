{
  "cells": [
    {
      "cell_type": "code",
      "execution_count": 1,
      "metadata": {
        "colab": {
          "base_uri": "https://localhost:8080/"
        },
        "id": "wMEoBiUlW1y2",
        "outputId": "916c5ab0-130a-4cb9-fac3-0a2f828f77b6"
      },
      "outputs": [],
      "source": [
        "#import lightgbm\n",
        "import random\n",
        "import pandas as pd\n",
        "import numpy as np\n",
        "import os\n",
        "from xgboost import XGBRegressor\n",
        "from sklearn.ensemble import RandomForestRegressor\n",
        "from sklearn.model_selection import train_test_split, GridSearchCV, PredefinedSplit, KFold, TimeSeriesSplit\n",
        "from sklearn.metrics import make_scorer\n",
        "import matplotlib.pyplot as plt\n",
        "from tqdm import tqdm\n",
        "from sktime.forecasting.model_selection import temporal_train_test_split\n",
        "from sktime.utils.plotting import plot_series\n",
        "\n",
        "import warnings\n",
        "warnings.filterwarnings(action='ignore')\n",
        "\n",
        "def seed_everything(seed):\n",
        "    random.seed(seed)\n",
        "    os.environ['PYTHONHASHSEED'] = str(seed)\n",
        "    np.random.seed(seed)\n",
        "\n",
        "seed_everything(42) # Seed 고정"
      ]
    },
    {
      "cell_type": "code",
      "execution_count": 2,
      "metadata": {
        "colab": {
          "base_uri": "https://localhost:8080/",
          "height": 357
        },
        "id": "k0BgLBeSXPFs",
        "outputId": "0245c973-cebe-4d56-b94a-b60bc4be55df"
      },
      "outputs": [
        {
          "data": {
            "text/html": [
              "<div>\n",
              "<style scoped>\n",
              "    .dataframe tbody tr th:only-of-type {\n",
              "        vertical-align: middle;\n",
              "    }\n",
              "\n",
              "    .dataframe tbody tr th {\n",
              "        vertical-align: top;\n",
              "    }\n",
              "\n",
              "    .dataframe thead th {\n",
              "        text-align: right;\n",
              "    }\n",
              "</style>\n",
              "<table border=\"1\" class=\"dataframe\">\n",
              "  <thead>\n",
              "    <tr style=\"text-align: right;\">\n",
              "      <th></th>\n",
              "      <th>num_date_time</th>\n",
              "      <th>building_number</th>\n",
              "      <th>date_time</th>\n",
              "      <th>temperature</th>\n",
              "      <th>rainfall</th>\n",
              "      <th>windspeed</th>\n",
              "      <th>humidity</th>\n",
              "      <th>sunshine</th>\n",
              "      <th>solar_radiation</th>\n",
              "      <th>power_consumption</th>\n",
              "    </tr>\n",
              "  </thead>\n",
              "  <tbody>\n",
              "    <tr>\n",
              "      <th>0</th>\n",
              "      <td>1_20220601 00</td>\n",
              "      <td>1</td>\n",
              "      <td>20220601 00</td>\n",
              "      <td>18.6</td>\n",
              "      <td>NaN</td>\n",
              "      <td>0.9</td>\n",
              "      <td>42.0</td>\n",
              "      <td>NaN</td>\n",
              "      <td>NaN</td>\n",
              "      <td>1085.28</td>\n",
              "    </tr>\n",
              "    <tr>\n",
              "      <th>1</th>\n",
              "      <td>1_20220601 01</td>\n",
              "      <td>1</td>\n",
              "      <td>20220601 01</td>\n",
              "      <td>18.0</td>\n",
              "      <td>NaN</td>\n",
              "      <td>1.1</td>\n",
              "      <td>45.0</td>\n",
              "      <td>NaN</td>\n",
              "      <td>NaN</td>\n",
              "      <td>1047.36</td>\n",
              "    </tr>\n",
              "    <tr>\n",
              "      <th>2</th>\n",
              "      <td>1_20220601 02</td>\n",
              "      <td>1</td>\n",
              "      <td>20220601 02</td>\n",
              "      <td>17.7</td>\n",
              "      <td>NaN</td>\n",
              "      <td>1.5</td>\n",
              "      <td>45.0</td>\n",
              "      <td>NaN</td>\n",
              "      <td>NaN</td>\n",
              "      <td>974.88</td>\n",
              "    </tr>\n",
              "    <tr>\n",
              "      <th>3</th>\n",
              "      <td>1_20220601 03</td>\n",
              "      <td>1</td>\n",
              "      <td>20220601 03</td>\n",
              "      <td>16.7</td>\n",
              "      <td>NaN</td>\n",
              "      <td>1.4</td>\n",
              "      <td>48.0</td>\n",
              "      <td>NaN</td>\n",
              "      <td>NaN</td>\n",
              "      <td>953.76</td>\n",
              "    </tr>\n",
              "    <tr>\n",
              "      <th>4</th>\n",
              "      <td>1_20220601 04</td>\n",
              "      <td>1</td>\n",
              "      <td>20220601 04</td>\n",
              "      <td>18.4</td>\n",
              "      <td>NaN</td>\n",
              "      <td>2.8</td>\n",
              "      <td>43.0</td>\n",
              "      <td>NaN</td>\n",
              "      <td>NaN</td>\n",
              "      <td>986.40</td>\n",
              "    </tr>\n",
              "  </tbody>\n",
              "</table>\n",
              "</div>"
            ],
            "text/plain": [
              "   num_date_time  building_number    date_time  temperature  rainfall  \\\n",
              "0  1_20220601 00                1  20220601 00         18.6       NaN   \n",
              "1  1_20220601 01                1  20220601 01         18.0       NaN   \n",
              "2  1_20220601 02                1  20220601 02         17.7       NaN   \n",
              "3  1_20220601 03                1  20220601 03         16.7       NaN   \n",
              "4  1_20220601 04                1  20220601 04         18.4       NaN   \n",
              "\n",
              "   windspeed  humidity  sunshine  solar_radiation  power_consumption  \n",
              "0        0.9      42.0       NaN              NaN            1085.28  \n",
              "1        1.1      45.0       NaN              NaN            1047.36  \n",
              "2        1.5      45.0       NaN              NaN             974.88  \n",
              "3        1.4      48.0       NaN              NaN             953.76  \n",
              "4        2.8      43.0       NaN              NaN             986.40  "
            ]
          },
          "execution_count": 2,
          "metadata": {},
          "output_type": "execute_result"
        }
      ],
      "source": [
        "#데이터 불러오기\n",
        "train_df = pd.read_csv('./data/train.csv')\n",
        "test_df = pd.read_csv('./data/test.csv')\n",
        "building_info =  pd.read_csv('./data/building_info.csv')\n",
        "\n",
        "train_df = train_df.rename(columns={\n",
        "    '건물번호': 'building_number',\n",
        "    '일시': 'date_time',\n",
        "    '기온(C)': 'temperature',\n",
        "    '강수량(mm)': 'rainfall',\n",
        "    '풍속(m/s)': 'windspeed',\n",
        "    '습도(%)': 'humidity',\n",
        "    '일조(hr)': 'sunshine',\n",
        "    '일사(MJ/m2)': 'solar_radiation',\n",
        "    '전력소비량(kWh)': 'power_consumption'\n",
        "})\n",
        "test_df = test_df.rename(columns={\n",
        "    '건물번호': 'building_number',\n",
        "    '일시': 'date_time',\n",
        "    '기온(C)': 'temperature',\n",
        "    '강수량(mm)': 'rainfall',\n",
        "    '풍속(m/s)': 'windspeed',\n",
        "    '습도(%)': 'humidity',\n",
        "    '일조(hr)': 'sunshine',\n",
        "    '일사(MJ/m2)': 'solar_radiation',\n",
        "    '전력소비량(kWh)': 'power_consumption'\n",
        "})\n",
        "building_info = building_info.rename(columns={\n",
        "    '건물번호': 'building_number',\n",
        "    '건물유형': 'building_type',\n",
        "    '연면적(m2)': 'total_area',\n",
        "    '냉방면적(m2)': 'cooling_area',\n",
        "    '태양광용량(kW)': 'solar_power_capacity',\n",
        "    'ESS저장용량(kWh)': 'ess_capacity',\n",
        "    'PCS용량(kW)': 'pcs_capacity'\n",
        "})\n",
        "translation_dict = {\n",
        "    '건물기타': 'Other Buildings',\n",
        "    '공공': 'Public',\n",
        "    '대학교': 'University',\n",
        "    '데이터센터': 'Data Center',\n",
        "    '백화점및아울렛': 'Department Store and Outlet',\n",
        "    '병원': 'Hospital',\n",
        "    '상용': 'Commercial',\n",
        "    '아파트': 'Apartment',\n",
        "    '연구소': 'Research Institute',\n",
        "    '지식산업센터': 'Knowledge Industry Center',\n",
        "    '할인마트': 'Discount Mart',\n",
        "    '호텔및리조트': 'Hotel and Resort'\n",
        "}\n",
        "\n",
        "building_info['building_type'] = building_info['building_type'].replace(translation_dict)\n",
        "\n",
        "\n",
        "train_df.head()"
      ]
    },
    {
      "cell_type": "code",
      "execution_count": 3,
      "metadata": {
        "colab": {
          "base_uri": "https://localhost:8080/",
          "height": 206
        },
        "id": "4fBUpGtRq9Ga",
        "outputId": "69d03406-ff30-4515-ecb6-774d60b7afb6"
      },
      "outputs": [
        {
          "data": {
            "text/html": [
              "<div>\n",
              "<style scoped>\n",
              "    .dataframe tbody tr th:only-of-type {\n",
              "        vertical-align: middle;\n",
              "    }\n",
              "\n",
              "    .dataframe tbody tr th {\n",
              "        vertical-align: top;\n",
              "    }\n",
              "\n",
              "    .dataframe thead th {\n",
              "        text-align: right;\n",
              "    }\n",
              "</style>\n",
              "<table border=\"1\" class=\"dataframe\">\n",
              "  <thead>\n",
              "    <tr style=\"text-align: right;\">\n",
              "      <th></th>\n",
              "      <th>num_date_time</th>\n",
              "      <th>building_number</th>\n",
              "      <th>date_time</th>\n",
              "      <th>temperature</th>\n",
              "      <th>rainfall</th>\n",
              "      <th>windspeed</th>\n",
              "      <th>humidity</th>\n",
              "    </tr>\n",
              "  </thead>\n",
              "  <tbody>\n",
              "    <tr>\n",
              "      <th>0</th>\n",
              "      <td>1_20220825 00</td>\n",
              "      <td>1</td>\n",
              "      <td>20220825 00</td>\n",
              "      <td>23.5</td>\n",
              "      <td>0.0</td>\n",
              "      <td>2.2</td>\n",
              "      <td>72</td>\n",
              "    </tr>\n",
              "    <tr>\n",
              "      <th>1</th>\n",
              "      <td>1_20220825 01</td>\n",
              "      <td>1</td>\n",
              "      <td>20220825 01</td>\n",
              "      <td>23.0</td>\n",
              "      <td>0.0</td>\n",
              "      <td>0.9</td>\n",
              "      <td>72</td>\n",
              "    </tr>\n",
              "    <tr>\n",
              "      <th>2</th>\n",
              "      <td>1_20220825 02</td>\n",
              "      <td>1</td>\n",
              "      <td>20220825 02</td>\n",
              "      <td>22.7</td>\n",
              "      <td>0.0</td>\n",
              "      <td>1.5</td>\n",
              "      <td>75</td>\n",
              "    </tr>\n",
              "    <tr>\n",
              "      <th>3</th>\n",
              "      <td>1_20220825 03</td>\n",
              "      <td>1</td>\n",
              "      <td>20220825 03</td>\n",
              "      <td>22.1</td>\n",
              "      <td>0.0</td>\n",
              "      <td>1.3</td>\n",
              "      <td>78</td>\n",
              "    </tr>\n",
              "    <tr>\n",
              "      <th>4</th>\n",
              "      <td>1_20220825 04</td>\n",
              "      <td>1</td>\n",
              "      <td>20220825 04</td>\n",
              "      <td>21.8</td>\n",
              "      <td>0.0</td>\n",
              "      <td>1.0</td>\n",
              "      <td>77</td>\n",
              "    </tr>\n",
              "  </tbody>\n",
              "</table>\n",
              "</div>"
            ],
            "text/plain": [
              "   num_date_time  building_number    date_time  temperature  rainfall  \\\n",
              "0  1_20220825 00                1  20220825 00         23.5       0.0   \n",
              "1  1_20220825 01                1  20220825 01         23.0       0.0   \n",
              "2  1_20220825 02                1  20220825 02         22.7       0.0   \n",
              "3  1_20220825 03                1  20220825 03         22.1       0.0   \n",
              "4  1_20220825 04                1  20220825 04         21.8       0.0   \n",
              "\n",
              "   windspeed  humidity  \n",
              "0        2.2        72  \n",
              "1        0.9        72  \n",
              "2        1.5        75  \n",
              "3        1.3        78  \n",
              "4        1.0        77  "
            ]
          },
          "execution_count": 3,
          "metadata": {},
          "output_type": "execute_result"
        }
      ],
      "source": [
        "test_df.head()"
      ]
    },
    {
      "cell_type": "code",
      "execution_count": 4,
      "metadata": {
        "colab": {
          "base_uri": "https://localhost:8080/",
          "height": 270
        },
        "id": "-pMwwAr_q8zY",
        "outputId": "1bb3e373-99d6-4b6c-e334-f8fee7ad7eae"
      },
      "outputs": [
        {
          "data": {
            "text/html": [
              "<div>\n",
              "<style scoped>\n",
              "    .dataframe tbody tr th:only-of-type {\n",
              "        vertical-align: middle;\n",
              "    }\n",
              "\n",
              "    .dataframe tbody tr th {\n",
              "        vertical-align: top;\n",
              "    }\n",
              "\n",
              "    .dataframe thead th {\n",
              "        text-align: right;\n",
              "    }\n",
              "</style>\n",
              "<table border=\"1\" class=\"dataframe\">\n",
              "  <thead>\n",
              "    <tr style=\"text-align: right;\">\n",
              "      <th></th>\n",
              "      <th>building_number</th>\n",
              "      <th>building_type</th>\n",
              "      <th>total_area</th>\n",
              "      <th>cooling_area</th>\n",
              "      <th>solar_power_capacity</th>\n",
              "      <th>ess_capacity</th>\n",
              "      <th>pcs_capacity</th>\n",
              "    </tr>\n",
              "  </thead>\n",
              "  <tbody>\n",
              "    <tr>\n",
              "      <th>0</th>\n",
              "      <td>1</td>\n",
              "      <td>Other Buildings</td>\n",
              "      <td>110634.00</td>\n",
              "      <td>39570.00</td>\n",
              "      <td>-</td>\n",
              "      <td>-</td>\n",
              "      <td>-</td>\n",
              "    </tr>\n",
              "    <tr>\n",
              "      <th>1</th>\n",
              "      <td>2</td>\n",
              "      <td>Other Buildings</td>\n",
              "      <td>122233.47</td>\n",
              "      <td>99000.00</td>\n",
              "      <td>-</td>\n",
              "      <td>-</td>\n",
              "      <td>-</td>\n",
              "    </tr>\n",
              "    <tr>\n",
              "      <th>2</th>\n",
              "      <td>3</td>\n",
              "      <td>Other Buildings</td>\n",
              "      <td>171243.00</td>\n",
              "      <td>113950.00</td>\n",
              "      <td>40</td>\n",
              "      <td>-</td>\n",
              "      <td>-</td>\n",
              "    </tr>\n",
              "    <tr>\n",
              "      <th>3</th>\n",
              "      <td>4</td>\n",
              "      <td>Other Buildings</td>\n",
              "      <td>74312.98</td>\n",
              "      <td>34419.62</td>\n",
              "      <td>60</td>\n",
              "      <td>-</td>\n",
              "      <td>-</td>\n",
              "    </tr>\n",
              "    <tr>\n",
              "      <th>4</th>\n",
              "      <td>5</td>\n",
              "      <td>Other Buildings</td>\n",
              "      <td>205884.00</td>\n",
              "      <td>150000.00</td>\n",
              "      <td>-</td>\n",
              "      <td>2557</td>\n",
              "      <td>1000</td>\n",
              "    </tr>\n",
              "  </tbody>\n",
              "</table>\n",
              "</div>"
            ],
            "text/plain": [
              "   building_number    building_type  total_area  cooling_area  \\\n",
              "0                1  Other Buildings   110634.00      39570.00   \n",
              "1                2  Other Buildings   122233.47      99000.00   \n",
              "2                3  Other Buildings   171243.00     113950.00   \n",
              "3                4  Other Buildings    74312.98      34419.62   \n",
              "4                5  Other Buildings   205884.00     150000.00   \n",
              "\n",
              "  solar_power_capacity ess_capacity pcs_capacity  \n",
              "0                    -            -            -  \n",
              "1                    -            -            -  \n",
              "2                   40            -            -  \n",
              "3                   60            -            -  \n",
              "4                    -         2557         1000  "
            ]
          },
          "execution_count": 4,
          "metadata": {},
          "output_type": "execute_result"
        }
      ],
      "source": [
        "building_info.head()"
      ]
    },
    {
      "cell_type": "markdown",
      "metadata": {
        "id": "b_3I0_1yoUny"
      },
      "source": [
        "Train 과 Test의 차이: columns에 일조, 일사, 전력 소비량이 없다."
      ]
    },
    {
      "cell_type": "markdown",
      "metadata": {
        "id": "kHQuG97fRlAY"
      },
      "source": [
        "## 전처리 (병합, 빈칸 채우기, 형 변환, num_date_time 삭제)"
      ]
    },
    {
      "cell_type": "code",
      "execution_count": 5,
      "metadata": {},
      "outputs": [],
      "source": [
        "\n",
        "pd.set_option('display.max_columns', 30)\n",
        "\n",
        "def merge(df):\n",
        "    df = df.fillna(0)\n",
        "    date = pd.to_datetime(df.date_time)\n",
        "    df['hour'] = date.dt.hour\n",
        "    df['day'] = date.dt.weekday\n",
        "    df['month'] = date.dt.month\n",
        "    df['week'] = date.dt.weekofyear\n",
        "    \n",
        "    # 'building_number'를 기준으로 두 데이터프레임 병합 및 전처리\n",
        "    merged_df = pd.merge(df, building_info, on='building_number',how='right')\n",
        "    #merge후 전처리\n",
        "    merged_df['solar_power_capacity'] = merged_df['solar_power_capacity'].replace('-', 0)\n",
        "    merged_df['ess_capacity'] = merged_df['ess_capacity'].replace('-', 0)\n",
        "    merged_df['pcs_capacity'] = merged_df['pcs_capacity'].replace('-', 0)\n",
        "\n",
        "    merged_df['solar_power_capacity'] = merged_df['solar_power_capacity'].astype('float64')\n",
        "    merged_df['ess_capacity'] = merged_df['ess_capacity'].astype('float64')\n",
        "    merged_df['pcs_capacity'] = merged_df['pcs_capacity'].astype('float64')\n",
        "    return merged_df.drop(columns =['num_date_time','building_type'])\n",
        "\n",
        "\n",
        "merged_train_df = merge(train_df)\n",
        "merged_test_df = merge(test_df)\n",
        "\n",
        "#######################################\n",
        "## 건물별, 요일별, 시간별 발전량 평균 넣어주기\n",
        "#######################################\n",
        "power_mean = pd.pivot_table(merged_train_df, values = 'power_consumption', index = ['building_number', 'hour', 'day'], aggfunc = np.mean).reset_index()\n",
        "tqdm.pandas()\n",
        "#######################################\n",
        "## 건물별 시간별 발전량 평균 넣어주기\n",
        "#######################################\n",
        "power_hour_mean = pd.pivot_table(merged_train_df, values = 'power_consumption', index = ['building_number', 'hour'], aggfunc = np.mean).reset_index()\n",
        "tqdm.pandas()\n",
        "    #######################################\n",
        "## 건물별 시간별 발전량 표준편차 넣어주기\n",
        "#######################################\n",
        "power_hour_std = pd.pivot_table(merged_train_df, values = 'power_consumption', index = ['building_number', 'hour'], aggfunc = np.std).reset_index()\n",
        "tqdm.pandas()"
      ]
    },
    {
      "cell_type": "code",
      "execution_count": 6,
      "metadata": {},
      "outputs": [
        {
          "name": "stderr",
          "output_type": "stream",
          "text": [
            "100%|██████████| 204000/204000 [01:48<00:00, 1879.20it/s]\n",
            "100%|██████████| 204000/204000 [01:09<00:00, 2919.63it/s]\n",
            "100%|██████████| 204000/204000 [01:10<00:00, 2894.96it/s]\n",
            "100%|██████████| 16800/16800 [00:09<00:00, 1831.95it/s]\n",
            "100%|██████████| 16800/16800 [00:05<00:00, 2837.69it/s]\n",
            "100%|██████████| 16800/16800 [00:05<00:00, 2850.37it/s]\n"
          ]
        }
      ],
      "source": [
        "def preprocessing(df):\n",
        "    df['day_hour_mean'] = df.progress_apply(lambda x : power_mean.loc[(power_mean.building_number == x['building_number']) & (power_mean.hour == x['hour']) & (power_mean.day == x['day']) ,'power_consumption'].values[0], axis = 1)\n",
        "    df['hour_mean'] = df.progress_apply(lambda x : power_hour_mean.loc[(power_hour_mean.building_number == x['building_number']) & (power_hour_mean.hour == x['hour']) ,'power_consumption'].values[0], axis = 1)   \n",
        "    df['hour_std'] = df.progress_apply(lambda x : power_hour_std.loc[(power_hour_std.building_number == x['building_number']) & (power_hour_std.hour == x['hour']) ,'power_consumption'].values[0], axis = 1)\n",
        "    \n",
        "    def CDH(xs):\n",
        "        ys = []\n",
        "        for i in range(len(xs)):\n",
        "            if i < 11:\n",
        "                ys.append(np.sum(xs[:(i+1)]-26))\n",
        "            else:\n",
        "                ys.append(np.sum(xs[(i-11):(i+1)]-26))\n",
        "        return np.array(ys)\n",
        "\n",
        "    cdhs = np.array([])\n",
        "    for num in range(1,101,1):\n",
        "        temp = df[df['building_number'] == num]\n",
        "        cdh = CDH(temp['temperature'].values)\n",
        "        cdhs = np.concatenate([cdhs, cdh])\n",
        "    df['CDH'] = cdhs\n",
        "    \n",
        "    ### 공휴일 변수 추가\n",
        "    df['holiday'] = df.apply(lambda x : 0 if x['day']<5 else 1, axis = 1)\n",
        "    df.loc[('2022-08-15'<=df.date_time)&(df.date_time<'2022-06-01')&(df.date_time<'2022-06-06'), 'holiday'] = 1\n",
        "\n",
        "    ## https://dacon.io/competitions/official/235680/codeshare/2366?page=1&dtype=recent\n",
        "    df['sin_time'] = np.sin(2*np.pi*df.hour/24)\n",
        "    df['cos_time'] = np.cos(2*np.pi*df.hour/24)\n",
        "    \n",
        "    ## https://dacon.io/competitions/official/235736/codeshare/2743?page=1&dtype=recent\n",
        "    df['THI'] = 9/5*df['temperature'] - 0.55*(1-df['humidity']/100)*(9/5*df['humidity']-26)+32\n",
        "    \n",
        "    \n",
        "    return df\n",
        "\n",
        "merged_train_df =preprocessing(merged_train_df)\n",
        "merged_test_df =preprocessing(merged_test_df)\n"
      ]
    },
    {
      "cell_type": "code",
      "execution_count": 7,
      "metadata": {},
      "outputs": [
        {
          "name": "stdout",
          "output_type": "stream",
          "text": [
            "<class 'pandas.core.frame.DataFrame'>\n",
            "Int64Index: 204000 entries, 0 to 203999\n",
            "Data columns (total 26 columns):\n",
            " #   Column                Non-Null Count   Dtype  \n",
            "---  ------                --------------   -----  \n",
            " 0   building_number       204000 non-null  int64  \n",
            " 1   date_time             204000 non-null  object \n",
            " 2   temperature           204000 non-null  float64\n",
            " 3   rainfall              204000 non-null  float64\n",
            " 4   windspeed             204000 non-null  float64\n",
            " 5   humidity              204000 non-null  float64\n",
            " 6   sunshine              204000 non-null  float64\n",
            " 7   solar_radiation       204000 non-null  float64\n",
            " 8   power_consumption     204000 non-null  float64\n",
            " 9   hour                  204000 non-null  int64  \n",
            " 10  day                   204000 non-null  int64  \n",
            " 11  month                 204000 non-null  int64  \n",
            " 12  week                  204000 non-null  int64  \n",
            " 13  total_area            204000 non-null  float64\n",
            " 14  cooling_area          204000 non-null  float64\n",
            " 15  solar_power_capacity  204000 non-null  float64\n",
            " 16  ess_capacity          204000 non-null  float64\n",
            " 17  pcs_capacity          204000 non-null  float64\n",
            " 18  day_hour_mean         204000 non-null  float64\n",
            " 19  hour_mean             204000 non-null  float64\n",
            " 20  hour_std              204000 non-null  float64\n",
            " 21  CDH                   204000 non-null  float64\n",
            " 22  holiday               204000 non-null  int64  \n",
            " 23  sin_time              204000 non-null  float64\n",
            " 24  cos_time              204000 non-null  float64\n",
            " 25  THI                   204000 non-null  float64\n",
            "dtypes: float64(19), int64(6), object(1)\n",
            "memory usage: 42.0+ MB\n"
          ]
        }
      ],
      "source": [
        "merged_train_df.info()"
      ]
    },
    {
      "cell_type": "code",
      "execution_count": 8,
      "metadata": {},
      "outputs": [],
      "source": [
        "## save the preprocessed data\n",
        "merged_train_df.drop(columns=['date_time']).to_csv('./data/train_preprocessed_lbw.csv')\n",
        "merged_test_df.drop(columns=['date_time']).to_csv('./data/test_preprocessed_lbw.csv')"
      ]
    },
    {
      "cell_type": "markdown",
      "metadata": {
        "id": "uWFdCGblTbtf"
      },
      "source": [
        "## 추가 전처리"
      ]
    },
    {
      "cell_type": "code",
      "execution_count": 9,
      "metadata": {
        "id": "f4mwIKhXiDfA"
      },
      "outputs": [],
      "source": [
        "## save the preprocessed data\n",
        "merged_train_df = pd.read_csv('./data/train_preprocessed_lbw.csv')\n",
        "merged_test_df = pd.read_csv('./data/test_preprocessed_lbw.csv')\n",
        "\n"
      ]
    },
    {
      "cell_type": "markdown",
      "metadata": {
        "id": "nbIffwyeTYLE"
      },
      "source": [
        "## 원핫 인코딩(안해도 됨)"
      ]
    },
    {
      "cell_type": "code",
      "execution_count": 10,
      "metadata": {
        "id": "inKlUgiirGax"
      },
      "outputs": [],
      "source": [
        "# merged_train_df = pd.get_dummies(merged_train_df, prefix=[\"bt:\"], columns=[\"building_type\"])\n",
        "# merged_train_df.head()\n",
        "# merged_test_df = pd.get_dummies(merged_test_df, prefix=[\"bt:\"], columns=[\"building_type\"])\n",
        "# merged_test_df.head()"
      ]
    },
    {
      "cell_type": "markdown",
      "metadata": {
        "id": "LfJTtlvQq7hD"
      },
      "source": [
        "## 성능 평가지표 정의 및 SMAPE 정의"
      ]
    },
    {
      "cell_type": "code",
      "execution_count": 11,
      "metadata": {
        "id": "2QK3ecbuwSdu"
      },
      "outputs": [],
      "source": [
        "#### alpha를 argument로 받는 함수로 실제 objective function을 wrapping하여 alpha값을 쉽게 조정할 수 있도록 작성했습니다.\n",
        "# custom objective function for forcing model not to underestimate\n",
        "def weighted_mse(alpha = 1):\n",
        "    def weighted_mse_fixed(label, pred):\n",
        "        residual = (label - pred).astype(\"float\")\n",
        "        grad = np.where(residual>0, -2*alpha*residual, -2*residual)\n",
        "        hess = np.where(residual>0, 2*alpha, 2.0)\n",
        "        return grad, hess\n",
        "    return weighted_mse_fixed\n",
        "\n",
        " #점수 측정을 위한 코드\n",
        "def SMAPE(y_true, y_pred):\n",
        "    return 100/len(y_true) * np.sum(2 * np.abs(y_pred - y_true) / (np.abs(y_true) + np.abs(y_pred)))"
      ]
    },
    {
      "cell_type": "markdown",
      "metadata": {
        "id": "gBhDV3WCrobi"
      },
      "source": [
        "## 최적의 파라미터 탐색"
      ]
    },
    {
      "cell_type": "code",
      "execution_count": 12,
      "metadata": {
        "colab": {
          "base_uri": "https://localhost:8080/",
          "height": 1000
        },
        "id": "PCv9CsfwILx-",
        "outputId": "8090aaba-c7c7-4dda-c360-e3c1ac8ba08b"
      },
      "outputs": [
        {
          "name": "stderr",
          "output_type": "stream",
          "text": [
            "  0%|          | 0/100 [00:00<?, ?it/s]"
          ]
        },
        {
          "name": "stdout",
          "output_type": "stream",
          "text": [
            "Fitting 1 folds for each of 168 candidates, totalling 168 fits\n"
          ]
        },
        {
          "name": "stderr",
          "output_type": "stream",
          "text": [
            "  1%|          | 1/100 [00:17<28:45, 17.43s/it]"
          ]
        },
        {
          "name": "stdout",
          "output_type": "stream",
          "text": [
            "{'colsample_bytree': 0.9, 'eta': 0.01, 'max_depth': 8, 'min_child_weight': 6, 'n_estimators': 100, 'subsample': 0.9}\n",
            "building1|| SMAPE : 44.05011050030062\n",
            "Fitting 1 folds for each of 168 candidates, totalling 168 fits\n"
          ]
        },
        {
          "name": "stderr",
          "output_type": "stream",
          "text": [
            "  2%|▏         | 2/100 [00:33<27:37, 16.91s/it]"
          ]
        },
        {
          "name": "stdout",
          "output_type": "stream",
          "text": [
            "{'colsample_bytree': 0.9, 'eta': 0.01, 'max_depth': 8, 'min_child_weight': 7, 'n_estimators': 100, 'subsample': 0.9}\n",
            "building2|| SMAPE : 40.93299033652273\n",
            "Fitting 1 folds for each of 168 candidates, totalling 168 fits\n"
          ]
        },
        {
          "name": "stderr",
          "output_type": "stream",
          "text": [
            "  3%|▎         | 3/100 [00:51<27:29, 17.00s/it]"
          ]
        },
        {
          "name": "stdout",
          "output_type": "stream",
          "text": [
            "{'colsample_bytree': 0.9, 'eta': 0.01, 'max_depth': 3, 'min_child_weight': 5, 'n_estimators': 100, 'subsample': 0.9}\n",
            "building3|| SMAPE : 35.567815896673636\n",
            "Fitting 1 folds for each of 168 candidates, totalling 168 fits\n"
          ]
        },
        {
          "name": "stderr",
          "output_type": "stream",
          "text": [
            "  4%|▍         | 4/100 [01:04<25:13, 15.77s/it]"
          ]
        },
        {
          "name": "stdout",
          "output_type": "stream",
          "text": [
            "{'colsample_bytree': 0.9, 'eta': 0.01, 'max_depth': 4, 'min_child_weight': 1, 'n_estimators': 100, 'subsample': 0.9}\n",
            "building4|| SMAPE : 41.91721212129656\n",
            "Fitting 1 folds for each of 168 candidates, totalling 168 fits\n"
          ]
        },
        {
          "name": "stderr",
          "output_type": "stream",
          "text": [
            "  5%|▌         | 5/100 [01:22<25:43, 16.24s/it]"
          ]
        },
        {
          "name": "stdout",
          "output_type": "stream",
          "text": [
            "{'colsample_bytree': 0.8, 'eta': 0.01, 'max_depth': 8, 'min_child_weight': 7, 'n_estimators': 100, 'subsample': 0.9}\n",
            "building5|| SMAPE : 48.14368084261817\n",
            "Fitting 1 folds for each of 168 candidates, totalling 168 fits\n"
          ]
        },
        {
          "name": "stderr",
          "output_type": "stream",
          "text": [
            "  6%|▌         | 6/100 [01:37<24:49, 15.85s/it]"
          ]
        },
        {
          "name": "stdout",
          "output_type": "stream",
          "text": [
            "{'colsample_bytree': 0.9, 'eta': 0.01, 'max_depth': 8, 'min_child_weight': 1, 'n_estimators': 100, 'subsample': 0.9}\n",
            "building6|| SMAPE : 46.68862233024547\n",
            "Fitting 1 folds for each of 168 candidates, totalling 168 fits\n"
          ]
        },
        {
          "name": "stderr",
          "output_type": "stream",
          "text": [
            "  7%|▋         | 7/100 [01:54<25:32, 16.47s/it]"
          ]
        },
        {
          "name": "stdout",
          "output_type": "stream",
          "text": [
            "{'colsample_bytree': 0.8, 'eta': 0.01, 'max_depth': 3, 'min_child_weight': 1, 'n_estimators': 100, 'subsample': 0.9}\n",
            "building7|| SMAPE : 42.04868074194748\n",
            "Fitting 1 folds for each of 168 candidates, totalling 168 fits\n"
          ]
        },
        {
          "name": "stderr",
          "output_type": "stream",
          "text": [
            "  8%|▊         | 8/100 [02:10<24:47, 16.17s/it]"
          ]
        },
        {
          "name": "stdout",
          "output_type": "stream",
          "text": [
            "{'colsample_bytree': 0.8, 'eta': 0.01, 'max_depth': 5, 'min_child_weight': 3, 'n_estimators': 100, 'subsample': 0.9}\n",
            "building8|| SMAPE : 44.80893851382318\n",
            "Fitting 1 folds for each of 168 candidates, totalling 168 fits\n"
          ]
        },
        {
          "name": "stderr",
          "output_type": "stream",
          "text": [
            "  9%|▉         | 9/100 [02:27<24:45, 16.33s/it]"
          ]
        },
        {
          "name": "stdout",
          "output_type": "stream",
          "text": [
            "{'colsample_bytree': 0.8, 'eta': 0.01, 'max_depth': 6, 'min_child_weight': 1, 'n_estimators': 100, 'subsample': 0.9}\n",
            "building9|| SMAPE : 44.75269618450878\n",
            "Fitting 1 folds for each of 168 candidates, totalling 168 fits\n"
          ]
        },
        {
          "name": "stderr",
          "output_type": "stream",
          "text": [
            " 10%|█         | 10/100 [02:42<24:01, 16.02s/it]"
          ]
        },
        {
          "name": "stdout",
          "output_type": "stream",
          "text": [
            "{'colsample_bytree': 0.8, 'eta': 0.01, 'max_depth': 3, 'min_child_weight': 6, 'n_estimators': 100, 'subsample': 0.8}\n",
            "building10|| SMAPE : 37.91040020661293\n",
            "Fitting 1 folds for each of 168 candidates, totalling 168 fits\n"
          ]
        },
        {
          "name": "stderr",
          "output_type": "stream",
          "text": [
            " 11%|█         | 11/100 [02:56<22:52, 15.42s/it]"
          ]
        },
        {
          "name": "stdout",
          "output_type": "stream",
          "text": [
            "{'colsample_bytree': 0.8, 'eta': 0.01, 'max_depth': 3, 'min_child_weight': 4, 'n_estimators': 100, 'subsample': 0.8}\n",
            "building11|| SMAPE : 43.15908079781213\n",
            "Fitting 1 folds for each of 168 candidates, totalling 168 fits\n"
          ]
        },
        {
          "name": "stderr",
          "output_type": "stream",
          "text": [
            " 12%|█▏        | 12/100 [03:12<22:48, 15.55s/it]"
          ]
        },
        {
          "name": "stdout",
          "output_type": "stream",
          "text": [
            "{'colsample_bytree': 0.9, 'eta': 0.01, 'max_depth': 8, 'min_child_weight': 2, 'n_estimators': 100, 'subsample': 0.9}\n",
            "building12|| SMAPE : 45.521840472815185\n",
            "Fitting 1 folds for each of 168 candidates, totalling 168 fits\n"
          ]
        },
        {
          "name": "stderr",
          "output_type": "stream",
          "text": [
            " 13%|█▎        | 13/100 [03:27<22:13, 15.33s/it]"
          ]
        },
        {
          "name": "stdout",
          "output_type": "stream",
          "text": [
            "{'colsample_bytree': 0.9, 'eta': 0.01, 'max_depth': 6, 'min_child_weight': 7, 'n_estimators': 100, 'subsample': 0.9}\n",
            "building13|| SMAPE : 45.82333737514652\n",
            "Fitting 1 folds for each of 168 candidates, totalling 168 fits\n"
          ]
        },
        {
          "name": "stderr",
          "output_type": "stream",
          "text": [
            " 14%|█▍        | 14/100 [03:44<22:59, 16.04s/it]"
          ]
        },
        {
          "name": "stdout",
          "output_type": "stream",
          "text": [
            "{'colsample_bytree': 0.8, 'eta': 0.01, 'max_depth': 3, 'min_child_weight': 7, 'n_estimators': 100, 'subsample': 0.9}\n",
            "building14|| SMAPE : 38.655823238035715\n",
            "Fitting 1 folds for each of 168 candidates, totalling 168 fits\n"
          ]
        },
        {
          "name": "stderr",
          "output_type": "stream",
          "text": [
            " 15%|█▌        | 15/100 [03:59<22:10, 15.65s/it]"
          ]
        },
        {
          "name": "stdout",
          "output_type": "stream",
          "text": [
            "{'colsample_bytree': 0.8, 'eta': 0.01, 'max_depth': 4, 'min_child_weight': 7, 'n_estimators': 100, 'subsample': 0.9}\n",
            "building15|| SMAPE : 41.97214132636009\n",
            "Fitting 1 folds for each of 168 candidates, totalling 168 fits\n"
          ]
        },
        {
          "name": "stderr",
          "output_type": "stream",
          "text": [
            " 16%|█▌        | 16/100 [04:16<22:20, 15.96s/it]"
          ]
        },
        {
          "name": "stdout",
          "output_type": "stream",
          "text": [
            "{'colsample_bytree': 0.8, 'eta': 0.01, 'max_depth': 7, 'min_child_weight': 2, 'n_estimators': 100, 'subsample': 0.9}\n",
            "building16|| SMAPE : 42.002761165630226\n",
            "Fitting 1 folds for each of 168 candidates, totalling 168 fits\n"
          ]
        },
        {
          "name": "stderr",
          "output_type": "stream",
          "text": [
            " 17%|█▋        | 17/100 [04:33<22:38, 16.36s/it]"
          ]
        },
        {
          "name": "stdout",
          "output_type": "stream",
          "text": [
            "{'colsample_bytree': 0.8, 'eta': 0.01, 'max_depth': 4, 'min_child_weight': 2, 'n_estimators': 100, 'subsample': 0.9}\n",
            "building17|| SMAPE : 49.64899476731995\n",
            "Fitting 1 folds for each of 168 candidates, totalling 168 fits\n"
          ]
        },
        {
          "name": "stderr",
          "output_type": "stream",
          "text": [
            " 18%|█▊        | 18/100 [04:50<22:34, 16.52s/it]"
          ]
        },
        {
          "name": "stdout",
          "output_type": "stream",
          "text": [
            "{'colsample_bytree': 0.9, 'eta': 0.01, 'max_depth': 5, 'min_child_weight': 5, 'n_estimators': 100, 'subsample': 0.9}\n",
            "building18|| SMAPE : 49.577686390830195\n",
            "Fitting 1 folds for each of 168 candidates, totalling 168 fits\n"
          ]
        },
        {
          "name": "stderr",
          "output_type": "stream",
          "text": [
            " 19%|█▉        | 19/100 [05:07<22:34, 16.73s/it]"
          ]
        },
        {
          "name": "stdout",
          "output_type": "stream",
          "text": [
            "{'colsample_bytree': 0.9, 'eta': 0.01, 'max_depth': 7, 'min_child_weight': 5, 'n_estimators': 100, 'subsample': 0.9}\n",
            "building19|| SMAPE : 51.595513734319205\n",
            "Fitting 1 folds for each of 168 candidates, totalling 168 fits\n"
          ]
        },
        {
          "name": "stderr",
          "output_type": "stream",
          "text": [
            " 20%|██        | 20/100 [05:24<22:27, 16.84s/it]"
          ]
        },
        {
          "name": "stdout",
          "output_type": "stream",
          "text": [
            "{'colsample_bytree': 0.8, 'eta': 0.01, 'max_depth': 7, 'min_child_weight': 3, 'n_estimators': 100, 'subsample': 0.9}\n",
            "building20|| SMAPE : 49.096918389658136\n",
            "Fitting 1 folds for each of 168 candidates, totalling 168 fits\n"
          ]
        },
        {
          "name": "stderr",
          "output_type": "stream",
          "text": [
            " 21%|██        | 21/100 [05:41<22:07, 16.80s/it]"
          ]
        },
        {
          "name": "stdout",
          "output_type": "stream",
          "text": [
            "{'colsample_bytree': 0.9, 'eta': 0.01, 'max_depth': 5, 'min_child_weight': 5, 'n_estimators': 100, 'subsample': 0.9}\n",
            "building21|| SMAPE : 45.65262547117323\n",
            "Fitting 1 folds for each of 168 candidates, totalling 168 fits\n"
          ]
        },
        {
          "name": "stderr",
          "output_type": "stream",
          "text": [
            " 22%|██▏       | 22/100 [05:56<21:03, 16.20s/it]"
          ]
        },
        {
          "name": "stdout",
          "output_type": "stream",
          "text": [
            "{'colsample_bytree': 0.8, 'eta': 0.01, 'max_depth': 6, 'min_child_weight': 7, 'n_estimators': 100, 'subsample': 0.9}\n",
            "building22|| SMAPE : 45.44369393654534\n",
            "Fitting 1 folds for each of 168 candidates, totalling 168 fits\n"
          ]
        },
        {
          "name": "stderr",
          "output_type": "stream",
          "text": [
            " 23%|██▎       | 23/100 [06:10<20:03, 15.64s/it]"
          ]
        },
        {
          "name": "stdout",
          "output_type": "stream",
          "text": [
            "{'colsample_bytree': 0.9, 'eta': 0.01, 'max_depth': 3, 'min_child_weight': 6, 'n_estimators': 100, 'subsample': 0.9}\n",
            "building23|| SMAPE : 46.50317481613356\n",
            "Fitting 1 folds for each of 168 candidates, totalling 168 fits\n"
          ]
        },
        {
          "name": "stderr",
          "output_type": "stream",
          "text": [
            " 24%|██▍       | 24/100 [06:27<20:20, 16.06s/it]"
          ]
        },
        {
          "name": "stdout",
          "output_type": "stream",
          "text": [
            "{'colsample_bytree': 0.9, 'eta': 0.01, 'max_depth': 7, 'min_child_weight': 1, 'n_estimators': 100, 'subsample': 0.9}\n",
            "building24|| SMAPE : 44.863045960106135\n",
            "Fitting 1 folds for each of 168 candidates, totalling 168 fits\n"
          ]
        },
        {
          "name": "stderr",
          "output_type": "stream",
          "text": [
            " 25%|██▌       | 25/100 [06:43<19:58, 15.98s/it]"
          ]
        },
        {
          "name": "stdout",
          "output_type": "stream",
          "text": [
            "{'colsample_bytree': 0.8, 'eta': 0.01, 'max_depth': 7, 'min_child_weight': 1, 'n_estimators': 100, 'subsample': 0.9}\n",
            "building25|| SMAPE : 46.98896372780894\n",
            "Fitting 1 folds for each of 168 candidates, totalling 168 fits\n"
          ]
        },
        {
          "name": "stderr",
          "output_type": "stream",
          "text": [
            " 26%|██▌       | 26/100 [06:59<19:47, 16.04s/it]"
          ]
        },
        {
          "name": "stdout",
          "output_type": "stream",
          "text": [
            "{'colsample_bytree': 0.9, 'eta': 0.01, 'max_depth': 4, 'min_child_weight': 3, 'n_estimators': 100, 'subsample': 0.9}\n",
            "building26|| SMAPE : 45.56267691167336\n",
            "Fitting 1 folds for each of 168 candidates, totalling 168 fits\n"
          ]
        },
        {
          "name": "stderr",
          "output_type": "stream",
          "text": [
            " 27%|██▋       | 27/100 [07:15<19:20, 15.90s/it]"
          ]
        },
        {
          "name": "stdout",
          "output_type": "stream",
          "text": [
            "{'colsample_bytree': 0.9, 'eta': 0.01, 'max_depth': 4, 'min_child_weight': 5, 'n_estimators': 100, 'subsample': 0.9}\n",
            "building27|| SMAPE : 44.057367365769835\n",
            "Fitting 1 folds for each of 168 candidates, totalling 168 fits\n"
          ]
        },
        {
          "name": "stderr",
          "output_type": "stream",
          "text": [
            " 28%|██▊       | 28/100 [07:31<19:05, 15.90s/it]"
          ]
        },
        {
          "name": "stdout",
          "output_type": "stream",
          "text": [
            "{'colsample_bytree': 0.9, 'eta': 0.01, 'max_depth': 8, 'min_child_weight': 1, 'n_estimators': 100, 'subsample': 0.9}\n",
            "building28|| SMAPE : 40.51755030466037\n",
            "Fitting 1 folds for each of 168 candidates, totalling 168 fits\n"
          ]
        },
        {
          "name": "stderr",
          "output_type": "stream",
          "text": [
            " 29%|██▉       | 29/100 [07:46<18:44, 15.84s/it]"
          ]
        },
        {
          "name": "stdout",
          "output_type": "stream",
          "text": [
            "{'colsample_bytree': 0.9, 'eta': 0.01, 'max_depth': 6, 'min_child_weight': 4, 'n_estimators': 100, 'subsample': 0.9}\n",
            "building29|| SMAPE : 45.1000367972176\n",
            "Fitting 1 folds for each of 168 candidates, totalling 168 fits\n"
          ]
        },
        {
          "name": "stderr",
          "output_type": "stream",
          "text": [
            " 30%|███       | 30/100 [08:05<19:24, 16.63s/it]"
          ]
        },
        {
          "name": "stdout",
          "output_type": "stream",
          "text": [
            "{'colsample_bytree': 0.8, 'eta': 0.01, 'max_depth': 4, 'min_child_weight': 1, 'n_estimators': 100, 'subsample': 0.9}\n",
            "building30|| SMAPE : 47.219779995811216\n",
            "Fitting 1 folds for each of 168 candidates, totalling 168 fits\n"
          ]
        },
        {
          "name": "stderr",
          "output_type": "stream",
          "text": [
            " 31%|███       | 31/100 [08:21<19:09, 16.67s/it]"
          ]
        },
        {
          "name": "stdout",
          "output_type": "stream",
          "text": [
            "{'colsample_bytree': 0.8, 'eta': 0.01, 'max_depth': 4, 'min_child_weight': 6, 'n_estimators': 100, 'subsample': 0.9}\n",
            "building31|| SMAPE : 40.92084185099526\n",
            "Fitting 1 folds for each of 168 candidates, totalling 168 fits\n"
          ]
        },
        {
          "name": "stderr",
          "output_type": "stream",
          "text": [
            " 32%|███▏      | 32/100 [08:31<16:31, 14.58s/it]"
          ]
        },
        {
          "name": "stdout",
          "output_type": "stream",
          "text": [
            "{'colsample_bytree': 0.9, 'eta': 0.01, 'max_depth': 3, 'min_child_weight': 1, 'n_estimators': 100, 'subsample': 0.9}\n",
            "building32|| SMAPE : 44.39789253831639\n",
            "Fitting 1 folds for each of 168 candidates, totalling 168 fits\n"
          ]
        },
        {
          "name": "stderr",
          "output_type": "stream",
          "text": [
            " 33%|███▎      | 33/100 [08:41<14:38, 13.11s/it]"
          ]
        },
        {
          "name": "stdout",
          "output_type": "stream",
          "text": [
            "{'colsample_bytree': 0.9, 'eta': 0.01, 'max_depth': 3, 'min_child_weight': 1, 'n_estimators': 100, 'subsample': 0.9}\n",
            "building33|| SMAPE : 44.977112989289886\n",
            "Fitting 1 folds for each of 168 candidates, totalling 168 fits\n"
          ]
        },
        {
          "name": "stderr",
          "output_type": "stream",
          "text": [
            " 34%|███▍      | 34/100 [08:51<13:32, 12.32s/it]"
          ]
        },
        {
          "name": "stdout",
          "output_type": "stream",
          "text": [
            "{'colsample_bytree': 0.9, 'eta': 0.01, 'max_depth': 3, 'min_child_weight': 1, 'n_estimators': 100, 'subsample': 0.9}\n",
            "building34|| SMAPE : 44.49219541462247\n",
            "Fitting 1 folds for each of 168 candidates, totalling 168 fits\n"
          ]
        },
        {
          "name": "stderr",
          "output_type": "stream",
          "text": [
            " 35%|███▌      | 35/100 [09:01<12:22, 11.42s/it]"
          ]
        },
        {
          "name": "stdout",
          "output_type": "stream",
          "text": [
            "{'colsample_bytree': 0.9, 'eta': 0.01, 'max_depth': 3, 'min_child_weight': 1, 'n_estimators': 100, 'subsample': 0.9}\n",
            "building35|| SMAPE : 44.96127409451128\n",
            "Fitting 1 folds for each of 168 candidates, totalling 168 fits\n"
          ]
        },
        {
          "name": "stderr",
          "output_type": "stream",
          "text": [
            " 36%|███▌      | 36/100 [09:09<11:16, 10.58s/it]"
          ]
        },
        {
          "name": "stdout",
          "output_type": "stream",
          "text": [
            "{'colsample_bytree': 0.8, 'eta': 0.01, 'max_depth': 3, 'min_child_weight': 1, 'n_estimators': 100, 'subsample': 0.8}\n",
            "building36|| SMAPE : 44.97970172763815\n",
            "Fitting 1 folds for each of 168 candidates, totalling 168 fits\n"
          ]
        },
        {
          "name": "stderr",
          "output_type": "stream",
          "text": [
            " 37%|███▋      | 37/100 [09:27<13:30, 12.87s/it]"
          ]
        },
        {
          "name": "stdout",
          "output_type": "stream",
          "text": [
            "{'colsample_bytree': 0.9, 'eta': 0.01, 'max_depth': 6, 'min_child_weight': 2, 'n_estimators': 100, 'subsample': 0.9}\n",
            "building37|| SMAPE : 46.10453110075219\n",
            "Fitting 1 folds for each of 168 candidates, totalling 168 fits\n"
          ]
        },
        {
          "name": "stderr",
          "output_type": "stream",
          "text": [
            " 38%|███▊      | 38/100 [09:46<15:07, 14.64s/it]"
          ]
        },
        {
          "name": "stdout",
          "output_type": "stream",
          "text": [
            "{'colsample_bytree': 0.9, 'eta': 0.01, 'max_depth': 6, 'min_child_weight': 1, 'n_estimators': 100, 'subsample': 0.9}\n",
            "building38|| SMAPE : 44.49063683399312\n",
            "Fitting 1 folds for each of 168 candidates, totalling 168 fits\n"
          ]
        },
        {
          "name": "stderr",
          "output_type": "stream",
          "text": [
            " 39%|███▉      | 39/100 [10:04<15:51, 15.60s/it]"
          ]
        },
        {
          "name": "stdout",
          "output_type": "stream",
          "text": [
            "{'colsample_bytree': 0.8, 'eta': 0.01, 'max_depth': 7, 'min_child_weight': 1, 'n_estimators': 100, 'subsample': 0.9}\n",
            "building39|| SMAPE : 47.447265158329344\n",
            "Fitting 1 folds for each of 168 candidates, totalling 168 fits\n"
          ]
        },
        {
          "name": "stderr",
          "output_type": "stream",
          "text": [
            " 40%|████      | 40/100 [10:24<16:51, 16.86s/it]"
          ]
        },
        {
          "name": "stdout",
          "output_type": "stream",
          "text": [
            "{'colsample_bytree': 0.9, 'eta': 0.01, 'max_depth': 4, 'min_child_weight': 3, 'n_estimators': 100, 'subsample': 0.9}\n",
            "building40|| SMAPE : 46.15111361871219\n",
            "Fitting 1 folds for each of 168 candidates, totalling 168 fits\n"
          ]
        },
        {
          "name": "stderr",
          "output_type": "stream",
          "text": [
            " 41%|████      | 41/100 [10:43<17:07, 17.42s/it]"
          ]
        },
        {
          "name": "stdout",
          "output_type": "stream",
          "text": [
            "{'colsample_bytree': 0.9, 'eta': 0.01, 'max_depth': 5, 'min_child_weight': 7, 'n_estimators': 100, 'subsample': 0.9}\n",
            "building41|| SMAPE : 45.50204313974386\n",
            "Fitting 1 folds for each of 168 candidates, totalling 168 fits\n"
          ]
        },
        {
          "name": "stderr",
          "output_type": "stream",
          "text": [
            " 42%|████▏     | 42/100 [11:01<17:13, 17.81s/it]"
          ]
        },
        {
          "name": "stdout",
          "output_type": "stream",
          "text": [
            "{'colsample_bytree': 0.9, 'eta': 0.01, 'max_depth': 6, 'min_child_weight': 7, 'n_estimators': 100, 'subsample': 0.9}\n",
            "building42|| SMAPE : 47.17493461507984\n",
            "Fitting 1 folds for each of 168 candidates, totalling 168 fits\n"
          ]
        },
        {
          "name": "stderr",
          "output_type": "stream",
          "text": [
            " 43%|████▎     | 43/100 [11:20<17:04, 17.97s/it]"
          ]
        },
        {
          "name": "stdout",
          "output_type": "stream",
          "text": [
            "{'colsample_bytree': 0.8, 'eta': 0.01, 'max_depth': 4, 'min_child_weight': 1, 'n_estimators': 100, 'subsample': 0.9}\n",
            "building43|| SMAPE : 43.74922567495753\n",
            "Fitting 1 folds for each of 168 candidates, totalling 168 fits\n"
          ]
        },
        {
          "name": "stderr",
          "output_type": "stream",
          "text": [
            " 44%|████▍     | 44/100 [11:37<16:38, 17.83s/it]"
          ]
        },
        {
          "name": "stdout",
          "output_type": "stream",
          "text": [
            "{'colsample_bytree': 0.8, 'eta': 0.01, 'max_depth': 6, 'min_child_weight': 6, 'n_estimators': 100, 'subsample': 0.9}\n",
            "building44|| SMAPE : 42.82706140434131\n",
            "Fitting 1 folds for each of 168 candidates, totalling 168 fits\n"
          ]
        },
        {
          "name": "stderr",
          "output_type": "stream",
          "text": [
            " 45%|████▌     | 45/100 [11:53<15:45, 17.20s/it]"
          ]
        },
        {
          "name": "stdout",
          "output_type": "stream",
          "text": [
            "{'colsample_bytree': 0.9, 'eta': 0.01, 'max_depth': 5, 'min_child_weight': 1, 'n_estimators': 100, 'subsample': 0.9}\n",
            "building45|| SMAPE : 46.387883176970355\n",
            "Fitting 1 folds for each of 168 candidates, totalling 168 fits\n"
          ]
        },
        {
          "name": "stderr",
          "output_type": "stream",
          "text": [
            " 46%|████▌     | 46/100 [12:10<15:23, 17.10s/it]"
          ]
        },
        {
          "name": "stdout",
          "output_type": "stream",
          "text": [
            "{'colsample_bytree': 0.9, 'eta': 0.01, 'max_depth': 5, 'min_child_weight': 7, 'n_estimators': 100, 'subsample': 0.9}\n",
            "building46|| SMAPE : 44.5998341610954\n",
            "Fitting 1 folds for each of 168 candidates, totalling 168 fits\n"
          ]
        },
        {
          "name": "stderr",
          "output_type": "stream",
          "text": [
            " 47%|████▋     | 47/100 [12:26<14:51, 16.83s/it]"
          ]
        },
        {
          "name": "stdout",
          "output_type": "stream",
          "text": [
            "{'colsample_bytree': 0.8, 'eta': 0.01, 'max_depth': 4, 'min_child_weight': 1, 'n_estimators': 100, 'subsample': 0.9}\n",
            "building47|| SMAPE : 42.689433524564755\n",
            "Fitting 1 folds for each of 168 candidates, totalling 168 fits\n"
          ]
        },
        {
          "name": "stderr",
          "output_type": "stream",
          "text": [
            " 48%|████▊     | 48/100 [12:43<14:33, 16.81s/it]"
          ]
        },
        {
          "name": "stdout",
          "output_type": "stream",
          "text": [
            "{'colsample_bytree': 0.9, 'eta': 0.01, 'max_depth': 5, 'min_child_weight': 1, 'n_estimators': 100, 'subsample': 0.9}\n",
            "building48|| SMAPE : 45.93646086885981\n",
            "Fitting 1 folds for each of 168 candidates, totalling 168 fits\n"
          ]
        },
        {
          "name": "stderr",
          "output_type": "stream",
          "text": [
            " 49%|████▉     | 49/100 [12:59<14:03, 16.55s/it]"
          ]
        },
        {
          "name": "stdout",
          "output_type": "stream",
          "text": [
            "{'colsample_bytree': 0.9, 'eta': 0.01, 'max_depth': 5, 'min_child_weight': 1, 'n_estimators': 100, 'subsample': 0.9}\n",
            "building49|| SMAPE : 47.59287410084077\n",
            "Fitting 1 folds for each of 168 candidates, totalling 168 fits\n"
          ]
        },
        {
          "name": "stderr",
          "output_type": "stream",
          "text": [
            " 50%|█████     | 50/100 [13:14<13:31, 16.23s/it]"
          ]
        },
        {
          "name": "stdout",
          "output_type": "stream",
          "text": [
            "{'colsample_bytree': 0.9, 'eta': 0.01, 'max_depth': 5, 'min_child_weight': 6, 'n_estimators': 100, 'subsample': 0.9}\n",
            "building50|| SMAPE : 42.670984302686044\n",
            "Fitting 1 folds for each of 168 candidates, totalling 168 fits\n"
          ]
        },
        {
          "name": "stderr",
          "output_type": "stream",
          "text": [
            " 51%|█████     | 51/100 [13:32<13:35, 16.64s/it]"
          ]
        },
        {
          "name": "stdout",
          "output_type": "stream",
          "text": [
            "{'colsample_bytree': 0.9, 'eta': 0.01, 'max_depth': 5, 'min_child_weight': 6, 'n_estimators': 100, 'subsample': 0.9}\n",
            "building51|| SMAPE : 46.3144745201936\n",
            "Fitting 1 folds for each of 168 candidates, totalling 168 fits\n"
          ]
        },
        {
          "name": "stderr",
          "output_type": "stream",
          "text": [
            " 52%|█████▏    | 52/100 [13:52<14:06, 17.65s/it]"
          ]
        },
        {
          "name": "stdout",
          "output_type": "stream",
          "text": [
            "{'colsample_bytree': 0.9, 'eta': 0.01, 'max_depth': 4, 'min_child_weight': 3, 'n_estimators': 100, 'subsample': 0.9}\n",
            "building52|| SMAPE : 47.077263030081646\n",
            "Fitting 1 folds for each of 168 candidates, totalling 168 fits\n"
          ]
        },
        {
          "name": "stderr",
          "output_type": "stream",
          "text": [
            " 53%|█████▎    | 53/100 [14:15<15:09, 19.34s/it]"
          ]
        },
        {
          "name": "stdout",
          "output_type": "stream",
          "text": [
            "{'colsample_bytree': 0.8, 'eta': 0.01, 'max_depth': 3, 'min_child_weight': 7, 'n_estimators': 100, 'subsample': 0.8}\n",
            "building53|| SMAPE : 39.36474661817669\n",
            "Fitting 1 folds for each of 168 candidates, totalling 168 fits\n"
          ]
        },
        {
          "name": "stderr",
          "output_type": "stream",
          "text": [
            " 54%|█████▍    | 54/100 [14:38<15:44, 20.53s/it]"
          ]
        },
        {
          "name": "stdout",
          "output_type": "stream",
          "text": [
            "{'colsample_bytree': 0.8, 'eta': 0.01, 'max_depth': 3, 'min_child_weight': 1, 'n_estimators': 100, 'subsample': 0.8}\n",
            "building54|| SMAPE : 57.16802820900973\n",
            "Fitting 1 folds for each of 168 candidates, totalling 168 fits\n"
          ]
        },
        {
          "name": "stderr",
          "output_type": "stream",
          "text": [
            " 55%|█████▌    | 55/100 [14:52<13:55, 18.57s/it]"
          ]
        },
        {
          "name": "stdout",
          "output_type": "stream",
          "text": [
            "{'colsample_bytree': 0.9, 'eta': 0.01, 'max_depth': 4, 'min_child_weight': 1, 'n_estimators': 100, 'subsample': 0.9}\n",
            "building55|| SMAPE : 45.24897265072587\n",
            "Fitting 1 folds for each of 168 candidates, totalling 168 fits\n"
          ]
        },
        {
          "name": "stderr",
          "output_type": "stream",
          "text": [
            " 56%|█████▌    | 56/100 [15:05<12:23, 16.89s/it]"
          ]
        },
        {
          "name": "stdout",
          "output_type": "stream",
          "text": [
            "{'colsample_bytree': 0.9, 'eta': 0.01, 'max_depth': 3, 'min_child_weight': 1, 'n_estimators': 100, 'subsample': 0.9}\n",
            "building56|| SMAPE : 44.49120502317458\n",
            "Fitting 1 folds for each of 168 candidates, totalling 168 fits\n"
          ]
        },
        {
          "name": "stderr",
          "output_type": "stream",
          "text": [
            " 57%|█████▋    | 57/100 [15:26<12:49, 17.88s/it]"
          ]
        },
        {
          "name": "stdout",
          "output_type": "stream",
          "text": [
            "{'colsample_bytree': 0.9, 'eta': 0.01, 'max_depth': 6, 'min_child_weight': 4, 'n_estimators': 100, 'subsample': 0.9}\n",
            "building57|| SMAPE : 44.99760275555632\n",
            "Fitting 1 folds for each of 168 candidates, totalling 168 fits\n"
          ]
        },
        {
          "name": "stderr",
          "output_type": "stream",
          "text": [
            " 58%|█████▊    | 58/100 [15:36<11:02, 15.77s/it]"
          ]
        },
        {
          "name": "stdout",
          "output_type": "stream",
          "text": [
            "{'colsample_bytree': 0.9, 'eta': 0.01, 'max_depth': 3, 'min_child_weight': 1, 'n_estimators': 100, 'subsample': 0.9}\n",
            "building58|| SMAPE : 45.52063789532586\n",
            "Fitting 1 folds for each of 168 candidates, totalling 168 fits\n"
          ]
        },
        {
          "name": "stderr",
          "output_type": "stream",
          "text": [
            " 59%|█████▉    | 59/100 [15:58<11:58, 17.54s/it]"
          ]
        },
        {
          "name": "stdout",
          "output_type": "stream",
          "text": [
            "{'colsample_bytree': 0.8, 'eta': 0.01, 'max_depth': 5, 'min_child_weight': 6, 'n_estimators': 100, 'subsample': 0.9}\n",
            "building59|| SMAPE : 44.752624135643444\n",
            "Fitting 1 folds for each of 168 candidates, totalling 168 fits\n"
          ]
        },
        {
          "name": "stderr",
          "output_type": "stream",
          "text": [
            " 60%|██████    | 60/100 [16:18<12:13, 18.34s/it]"
          ]
        },
        {
          "name": "stdout",
          "output_type": "stream",
          "text": [
            "{'colsample_bytree': 0.9, 'eta': 0.01, 'max_depth': 6, 'min_child_weight': 4, 'n_estimators': 100, 'subsample': 0.9}\n",
            "building60|| SMAPE : 45.63014605138102\n",
            "Fitting 1 folds for each of 168 candidates, totalling 168 fits\n"
          ]
        },
        {
          "name": "stderr",
          "output_type": "stream",
          "text": [
            " 61%|██████    | 61/100 [16:42<12:53, 19.84s/it]"
          ]
        },
        {
          "name": "stdout",
          "output_type": "stream",
          "text": [
            "{'colsample_bytree': 0.9, 'eta': 0.01, 'max_depth': 4, 'min_child_weight': 4, 'n_estimators': 100, 'subsample': 0.9}\n",
            "building61|| SMAPE : 43.08987031070058\n",
            "Fitting 1 folds for each of 168 candidates, totalling 168 fits\n"
          ]
        },
        {
          "name": "stderr",
          "output_type": "stream",
          "text": [
            " 62%|██████▏   | 62/100 [17:03<12:55, 20.41s/it]"
          ]
        },
        {
          "name": "stdout",
          "output_type": "stream",
          "text": [
            "{'colsample_bytree': 0.8, 'eta': 0.01, 'max_depth': 5, 'min_child_weight': 5, 'n_estimators': 100, 'subsample': 0.9}\n",
            "building62|| SMAPE : 41.90547391909941\n",
            "Fitting 1 folds for each of 168 candidates, totalling 168 fits\n"
          ]
        },
        {
          "name": "stderr",
          "output_type": "stream",
          "text": [
            " 63%|██████▎   | 63/100 [17:26<12:59, 21.08s/it]"
          ]
        },
        {
          "name": "stdout",
          "output_type": "stream",
          "text": [
            "{'colsample_bytree': 0.8, 'eta': 0.01, 'max_depth': 6, 'min_child_weight': 7, 'n_estimators': 100, 'subsample': 0.8}\n",
            "building63|| SMAPE : 41.954831190600125\n",
            "Fitting 1 folds for each of 168 candidates, totalling 168 fits\n"
          ]
        },
        {
          "name": "stderr",
          "output_type": "stream",
          "text": [
            " 64%|██████▍   | 64/100 [17:47<12:38, 21.06s/it]"
          ]
        },
        {
          "name": "stdout",
          "output_type": "stream",
          "text": [
            "{'colsample_bytree': 0.8, 'eta': 0.01, 'max_depth': 6, 'min_child_weight': 3, 'n_estimators': 100, 'subsample': 0.8}\n",
            "building64|| SMAPE : 42.52205072770661\n",
            "Fitting 1 folds for each of 168 candidates, totalling 168 fits\n"
          ]
        },
        {
          "name": "stderr",
          "output_type": "stream",
          "text": [
            " 65%|██████▌   | 65/100 [18:10<12:41, 21.75s/it]"
          ]
        },
        {
          "name": "stdout",
          "output_type": "stream",
          "text": [
            "{'colsample_bytree': 0.8, 'eta': 0.01, 'max_depth': 8, 'min_child_weight': 7, 'n_estimators': 100, 'subsample': 0.9}\n",
            "building65|| SMAPE : 37.5766012979054\n",
            "Fitting 1 folds for each of 168 candidates, totalling 168 fits\n"
          ]
        },
        {
          "name": "stderr",
          "output_type": "stream",
          "text": [
            " 66%|██████▌   | 66/100 [18:32<12:14, 21.61s/it]"
          ]
        },
        {
          "name": "stdout",
          "output_type": "stream",
          "text": [
            "{'colsample_bytree': 0.8, 'eta': 0.01, 'max_depth': 4, 'min_child_weight': 4, 'n_estimators': 100, 'subsample': 0.9}\n",
            "building66|| SMAPE : 46.37622992932393\n",
            "Fitting 1 folds for each of 168 candidates, totalling 168 fits\n"
          ]
        },
        {
          "name": "stderr",
          "output_type": "stream",
          "text": [
            " 67%|██████▋   | 67/100 [18:53<11:46, 21.42s/it]"
          ]
        },
        {
          "name": "stdout",
          "output_type": "stream",
          "text": [
            "{'colsample_bytree': 0.8, 'eta': 0.01, 'max_depth': 6, 'min_child_weight': 7, 'n_estimators': 100, 'subsample': 0.9}\n",
            "building67|| SMAPE : 35.456335865584364\n",
            "Fitting 1 folds for each of 168 candidates, totalling 168 fits\n"
          ]
        },
        {
          "name": "stderr",
          "output_type": "stream",
          "text": [
            " 68%|██████▊   | 68/100 [19:15<11:32, 21.63s/it]"
          ]
        },
        {
          "name": "stdout",
          "output_type": "stream",
          "text": [
            "{'colsample_bytree': 0.9, 'eta': 0.01, 'max_depth': 4, 'min_child_weight': 7, 'n_estimators': 100, 'subsample': 0.8}\n",
            "building68|| SMAPE : 41.619407002023856\n",
            "Fitting 1 folds for each of 168 candidates, totalling 168 fits\n"
          ]
        },
        {
          "name": "stderr",
          "output_type": "stream",
          "text": [
            " 69%|██████▉   | 69/100 [19:35<10:56, 21.19s/it]"
          ]
        },
        {
          "name": "stdout",
          "output_type": "stream",
          "text": [
            "{'colsample_bytree': 0.9, 'eta': 0.01, 'max_depth': 4, 'min_child_weight': 7, 'n_estimators': 100, 'subsample': 0.9}\n",
            "building69|| SMAPE : 43.94266578761779\n",
            "Fitting 1 folds for each of 168 candidates, totalling 168 fits\n"
          ]
        },
        {
          "name": "stderr",
          "output_type": "stream",
          "text": [
            " 70%|███████   | 70/100 [19:56<10:39, 21.31s/it]"
          ]
        },
        {
          "name": "stdout",
          "output_type": "stream",
          "text": [
            "{'colsample_bytree': 0.9, 'eta': 0.01, 'max_depth': 7, 'min_child_weight': 7, 'n_estimators': 100, 'subsample': 0.9}\n",
            "building70|| SMAPE : 47.84983949077842\n",
            "Fitting 1 folds for each of 168 candidates, totalling 168 fits\n"
          ]
        },
        {
          "name": "stderr",
          "output_type": "stream",
          "text": [
            " 71%|███████   | 71/100 [20:17<10:09, 21.03s/it]"
          ]
        },
        {
          "name": "stdout",
          "output_type": "stream",
          "text": [
            "{'colsample_bytree': 0.8, 'eta': 0.01, 'max_depth': 5, 'min_child_weight': 6, 'n_estimators': 100, 'subsample': 0.9}\n",
            "building71|| SMAPE : 46.62355152510072\n",
            "Fitting 1 folds for each of 168 candidates, totalling 168 fits\n"
          ]
        },
        {
          "name": "stderr",
          "output_type": "stream",
          "text": [
            " 72%|███████▏  | 72/100 [20:35<09:26, 20.24s/it]"
          ]
        },
        {
          "name": "stdout",
          "output_type": "stream",
          "text": [
            "{'colsample_bytree': 0.9, 'eta': 0.01, 'max_depth': 5, 'min_child_weight': 6, 'n_estimators': 100, 'subsample': 0.9}\n",
            "building72|| SMAPE : 48.82518835631429\n",
            "Fitting 1 folds for each of 168 candidates, totalling 168 fits\n"
          ]
        },
        {
          "name": "stderr",
          "output_type": "stream",
          "text": [
            " 73%|███████▎  | 73/100 [20:55<08:59, 19.98s/it]"
          ]
        },
        {
          "name": "stdout",
          "output_type": "stream",
          "text": [
            "{'colsample_bytree': 0.9, 'eta': 0.01, 'max_depth': 4, 'min_child_weight': 1, 'n_estimators': 100, 'subsample': 0.9}\n",
            "building73|| SMAPE : 43.97045682638319\n",
            "Fitting 1 folds for each of 168 candidates, totalling 168 fits\n"
          ]
        },
        {
          "name": "stderr",
          "output_type": "stream",
          "text": [
            " 74%|███████▍  | 74/100 [21:17<08:59, 20.74s/it]"
          ]
        },
        {
          "name": "stdout",
          "output_type": "stream",
          "text": [
            "{'colsample_bytree': 0.8, 'eta': 0.01, 'max_depth': 4, 'min_child_weight': 4, 'n_estimators': 100, 'subsample': 0.9}\n",
            "building74|| SMAPE : 48.23151825702672\n",
            "Fitting 1 folds for each of 168 candidates, totalling 168 fits\n"
          ]
        },
        {
          "name": "stderr",
          "output_type": "stream",
          "text": [
            " 75%|███████▌  | 75/100 [21:43<09:16, 22.26s/it]"
          ]
        },
        {
          "name": "stdout",
          "output_type": "stream",
          "text": [
            "{'colsample_bytree': 0.9, 'eta': 0.01, 'max_depth': 7, 'min_child_weight': 4, 'n_estimators': 100, 'subsample': 0.9}\n",
            "building75|| SMAPE : 44.331567914628344\n",
            "Fitting 1 folds for each of 168 candidates, totalling 168 fits\n"
          ]
        },
        {
          "name": "stderr",
          "output_type": "stream",
          "text": [
            " 76%|███████▌  | 76/100 [22:03<08:36, 21.53s/it]"
          ]
        },
        {
          "name": "stdout",
          "output_type": "stream",
          "text": [
            "{'colsample_bytree': 0.9, 'eta': 0.01, 'max_depth': 6, 'min_child_weight': 2, 'n_estimators': 100, 'subsample': 0.9}\n",
            "building76|| SMAPE : 45.87050342651003\n",
            "Fitting 1 folds for each of 168 candidates, totalling 168 fits\n"
          ]
        },
        {
          "name": "stderr",
          "output_type": "stream",
          "text": [
            " 77%|███████▋  | 77/100 [22:22<08:02, 20.97s/it]"
          ]
        },
        {
          "name": "stdout",
          "output_type": "stream",
          "text": [
            "{'colsample_bytree': 0.9, 'eta': 0.01, 'max_depth': 4, 'min_child_weight': 2, 'n_estimators': 100, 'subsample': 0.9}\n",
            "building77|| SMAPE : 46.6167109980073\n",
            "Fitting 1 folds for each of 168 candidates, totalling 168 fits\n"
          ]
        },
        {
          "name": "stderr",
          "output_type": "stream",
          "text": [
            " 78%|███████▊  | 78/100 [22:43<07:41, 20.98s/it]"
          ]
        },
        {
          "name": "stdout",
          "output_type": "stream",
          "text": [
            "{'colsample_bytree': 0.9, 'eta': 0.01, 'max_depth': 4, 'min_child_weight': 3, 'n_estimators': 100, 'subsample': 0.8}\n",
            "building78|| SMAPE : 48.782890765422515\n",
            "Fitting 1 folds for each of 168 candidates, totalling 168 fits\n"
          ]
        },
        {
          "name": "stderr",
          "output_type": "stream",
          "text": [
            " 79%|███████▉  | 79/100 [23:04<07:17, 20.82s/it]"
          ]
        },
        {
          "name": "stdout",
          "output_type": "stream",
          "text": [
            "{'colsample_bytree': 0.9, 'eta': 0.01, 'max_depth': 7, 'min_child_weight': 1, 'n_estimators': 100, 'subsample': 0.9}\n",
            "building79|| SMAPE : 46.95904430499853\n",
            "Fitting 1 folds for each of 168 candidates, totalling 168 fits\n"
          ]
        },
        {
          "name": "stderr",
          "output_type": "stream",
          "text": [
            " 80%|████████  | 80/100 [23:26<07:01, 21.08s/it]"
          ]
        },
        {
          "name": "stdout",
          "output_type": "stream",
          "text": [
            "{'colsample_bytree': 0.9, 'eta': 0.01, 'max_depth': 7, 'min_child_weight': 7, 'n_estimators': 100, 'subsample': 0.9}\n",
            "building80|| SMAPE : 47.54942964616381\n",
            "Fitting 1 folds for each of 168 candidates, totalling 168 fits\n"
          ]
        },
        {
          "name": "stderr",
          "output_type": "stream",
          "text": [
            " 81%|████████  | 81/100 [23:46<06:37, 20.91s/it]"
          ]
        },
        {
          "name": "stdout",
          "output_type": "stream",
          "text": [
            "{'colsample_bytree': 0.9, 'eta': 0.01, 'max_depth': 6, 'min_child_weight': 4, 'n_estimators': 100, 'subsample': 0.9}\n",
            "building81|| SMAPE : 44.16096033203302\n",
            "Fitting 1 folds for each of 168 candidates, totalling 168 fits\n"
          ]
        },
        {
          "name": "stderr",
          "output_type": "stream",
          "text": [
            " 82%|████████▏ | 82/100 [24:07<06:18, 21.04s/it]"
          ]
        },
        {
          "name": "stdout",
          "output_type": "stream",
          "text": [
            "{'colsample_bytree': 0.9, 'eta': 0.01, 'max_depth': 5, 'min_child_weight': 6, 'n_estimators': 100, 'subsample': 0.8}\n",
            "building82|| SMAPE : 45.394589436981306\n",
            "Fitting 1 folds for each of 168 candidates, totalling 168 fits\n"
          ]
        },
        {
          "name": "stderr",
          "output_type": "stream",
          "text": [
            " 83%|████████▎ | 83/100 [24:30<06:05, 21.48s/it]"
          ]
        },
        {
          "name": "stdout",
          "output_type": "stream",
          "text": [
            "{'colsample_bytree': 0.9, 'eta': 0.01, 'max_depth': 7, 'min_child_weight': 2, 'n_estimators': 100, 'subsample': 0.9}\n",
            "building83|| SMAPE : 46.32775909630353\n",
            "Fitting 1 folds for each of 168 candidates, totalling 168 fits\n"
          ]
        },
        {
          "name": "stderr",
          "output_type": "stream",
          "text": [
            " 84%|████████▍ | 84/100 [24:53<05:50, 21.90s/it]"
          ]
        },
        {
          "name": "stdout",
          "output_type": "stream",
          "text": [
            "{'colsample_bytree': 0.8, 'eta': 0.01, 'max_depth': 4, 'min_child_weight': 7, 'n_estimators': 100, 'subsample': 0.9}\n",
            "building84|| SMAPE : 45.875245768576185\n",
            "Fitting 1 folds for each of 168 candidates, totalling 168 fits\n"
          ]
        },
        {
          "name": "stderr",
          "output_type": "stream",
          "text": [
            " 85%|████████▌ | 85/100 [25:15<05:29, 21.93s/it]"
          ]
        },
        {
          "name": "stdout",
          "output_type": "stream",
          "text": [
            "{'colsample_bytree': 0.9, 'eta': 0.01, 'max_depth': 4, 'min_child_weight': 1, 'n_estimators': 100, 'subsample': 0.9}\n",
            "building85|| SMAPE : 46.55780678569076\n",
            "Fitting 1 folds for each of 168 candidates, totalling 168 fits\n"
          ]
        },
        {
          "name": "stderr",
          "output_type": "stream",
          "text": [
            " 86%|████████▌ | 86/100 [25:42<05:29, 23.50s/it]"
          ]
        },
        {
          "name": "stdout",
          "output_type": "stream",
          "text": [
            "{'colsample_bytree': 0.8, 'eta': 0.01, 'max_depth': 3, 'min_child_weight': 7, 'n_estimators': 100, 'subsample': 0.8}\n",
            "building86|| SMAPE : 46.95403438057308\n",
            "Fitting 1 folds for each of 168 candidates, totalling 168 fits\n"
          ]
        },
        {
          "name": "stderr",
          "output_type": "stream",
          "text": [
            " 87%|████████▋ | 87/100 [26:05<05:02, 23.30s/it]"
          ]
        },
        {
          "name": "stdout",
          "output_type": "stream",
          "text": [
            "{'colsample_bytree': 0.9, 'eta': 0.01, 'max_depth': 4, 'min_child_weight': 6, 'n_estimators': 100, 'subsample': 0.9}\n",
            "building87|| SMAPE : 46.230886245458215\n",
            "Fitting 1 folds for each of 168 candidates, totalling 168 fits\n"
          ]
        },
        {
          "name": "stderr",
          "output_type": "stream",
          "text": [
            " 88%|████████▊ | 88/100 [26:27<04:36, 23.07s/it]"
          ]
        },
        {
          "name": "stdout",
          "output_type": "stream",
          "text": [
            "{'colsample_bytree': 0.9, 'eta': 0.01, 'max_depth': 6, 'min_child_weight': 6, 'n_estimators': 100, 'subsample': 0.9}\n",
            "building88|| SMAPE : 49.980167832502964\n",
            "Fitting 1 folds for each of 168 candidates, totalling 168 fits\n"
          ]
        },
        {
          "name": "stderr",
          "output_type": "stream",
          "text": [
            " 89%|████████▉ | 89/100 [26:50<04:12, 22.99s/it]"
          ]
        },
        {
          "name": "stdout",
          "output_type": "stream",
          "text": [
            "{'colsample_bytree': 0.9, 'eta': 0.01, 'max_depth': 5, 'min_child_weight': 6, 'n_estimators': 100, 'subsample': 0.9}\n",
            "building89|| SMAPE : 49.57500678310915\n",
            "Fitting 1 folds for each of 168 candidates, totalling 168 fits\n"
          ]
        },
        {
          "name": "stderr",
          "output_type": "stream",
          "text": [
            " 90%|█████████ | 90/100 [27:14<03:51, 23.16s/it]"
          ]
        },
        {
          "name": "stdout",
          "output_type": "stream",
          "text": [
            "{'colsample_bytree': 0.9, 'eta': 0.01, 'max_depth': 4, 'min_child_weight': 5, 'n_estimators': 100, 'subsample': 0.9}\n",
            "building90|| SMAPE : 51.20726632322171\n",
            "Fitting 1 folds for each of 168 candidates, totalling 168 fits\n"
          ]
        },
        {
          "name": "stderr",
          "output_type": "stream",
          "text": [
            " 91%|█████████ | 91/100 [27:36<03:26, 23.00s/it]"
          ]
        },
        {
          "name": "stdout",
          "output_type": "stream",
          "text": [
            "{'colsample_bytree': 0.9, 'eta': 0.01, 'max_depth': 4, 'min_child_weight': 3, 'n_estimators': 100, 'subsample': 0.9}\n",
            "building91|| SMAPE : 48.02833323990613\n",
            "Fitting 1 folds for each of 168 candidates, totalling 168 fits\n"
          ]
        },
        {
          "name": "stderr",
          "output_type": "stream",
          "text": [
            " 92%|█████████▏| 92/100 [27:58<03:00, 22.51s/it]"
          ]
        },
        {
          "name": "stdout",
          "output_type": "stream",
          "text": [
            "{'colsample_bytree': 0.9, 'eta': 0.01, 'max_depth': 4, 'min_child_weight': 3, 'n_estimators': 100, 'subsample': 0.8}\n",
            "building92|| SMAPE : 46.444641705128085\n",
            "Fitting 1 folds for each of 168 candidates, totalling 168 fits\n"
          ]
        },
        {
          "name": "stderr",
          "output_type": "stream",
          "text": [
            " 93%|█████████▎| 93/100 [28:18<02:32, 21.81s/it]"
          ]
        },
        {
          "name": "stdout",
          "output_type": "stream",
          "text": [
            "{'colsample_bytree': 0.9, 'eta': 0.01, 'max_depth': 6, 'min_child_weight': 6, 'n_estimators': 100, 'subsample': 0.9}\n",
            "building93|| SMAPE : 42.6398268380545\n",
            "Fitting 1 folds for each of 168 candidates, totalling 168 fits\n"
          ]
        },
        {
          "name": "stderr",
          "output_type": "stream",
          "text": [
            " 94%|█████████▍| 94/100 [28:39<02:08, 21.49s/it]"
          ]
        },
        {
          "name": "stdout",
          "output_type": "stream",
          "text": [
            "{'colsample_bytree': 0.9, 'eta': 0.01, 'max_depth': 5, 'min_child_weight': 7, 'n_estimators': 100, 'subsample': 0.8}\n",
            "building94|| SMAPE : 44.9511403645468\n",
            "Fitting 1 folds for each of 168 candidates, totalling 168 fits\n"
          ]
        },
        {
          "name": "stderr",
          "output_type": "stream",
          "text": [
            " 95%|█████████▌| 95/100 [29:01<01:48, 21.76s/it]"
          ]
        },
        {
          "name": "stdout",
          "output_type": "stream",
          "text": [
            "{'colsample_bytree': 0.9, 'eta': 0.01, 'max_depth': 3, 'min_child_weight': 7, 'n_estimators': 100, 'subsample': 0.9}\n",
            "building95|| SMAPE : 30.18566018133476\n",
            "Fitting 1 folds for each of 168 candidates, totalling 168 fits\n"
          ]
        },
        {
          "name": "stderr",
          "output_type": "stream",
          "text": [
            " 96%|█████████▌| 96/100 [29:20<01:24, 21.03s/it]"
          ]
        },
        {
          "name": "stdout",
          "output_type": "stream",
          "text": [
            "{'colsample_bytree': 0.8, 'eta': 0.01, 'max_depth': 4, 'min_child_weight': 1, 'n_estimators': 100, 'subsample': 0.9}\n",
            "building96|| SMAPE : 40.96398353867539\n",
            "Fitting 1 folds for each of 168 candidates, totalling 168 fits\n"
          ]
        },
        {
          "name": "stderr",
          "output_type": "stream",
          "text": [
            " 97%|█████████▋| 97/100 [29:44<01:05, 21.80s/it]"
          ]
        },
        {
          "name": "stdout",
          "output_type": "stream",
          "text": [
            "{'colsample_bytree': 0.9, 'eta': 0.01, 'max_depth': 5, 'min_child_weight': 1, 'n_estimators': 100, 'subsample': 0.9}\n",
            "building97|| SMAPE : 47.153015261591186\n",
            "Fitting 1 folds for each of 168 candidates, totalling 168 fits\n"
          ]
        },
        {
          "name": "stderr",
          "output_type": "stream",
          "text": [
            " 98%|█████████▊| 98/100 [30:07<00:44, 22.20s/it]"
          ]
        },
        {
          "name": "stdout",
          "output_type": "stream",
          "text": [
            "{'colsample_bytree': 0.9, 'eta': 0.01, 'max_depth': 7, 'min_child_weight': 7, 'n_estimators': 100, 'subsample': 0.9}\n",
            "building98|| SMAPE : 34.89469869273272\n",
            "Fitting 1 folds for each of 168 candidates, totalling 168 fits\n"
          ]
        },
        {
          "name": "stderr",
          "output_type": "stream",
          "text": [
            " 99%|█████████▉| 99/100 [30:28<00:21, 21.86s/it]"
          ]
        },
        {
          "name": "stdout",
          "output_type": "stream",
          "text": [
            "{'colsample_bytree': 0.8, 'eta': 0.01, 'max_depth': 5, 'min_child_weight': 1, 'n_estimators': 100, 'subsample': 0.9}\n",
            "building99|| SMAPE : 42.19013551936372\n",
            "Fitting 1 folds for each of 168 candidates, totalling 168 fits\n"
          ]
        },
        {
          "name": "stderr",
          "output_type": "stream",
          "text": [
            "100%|██████████| 100/100 [30:51<00:00, 18.51s/it]"
          ]
        },
        {
          "name": "stdout",
          "output_type": "stream",
          "text": [
            "{'colsample_bytree': 0.9, 'eta': 0.01, 'max_depth': 6, 'min_child_weight': 7, 'n_estimators': 100, 'subsample': 0.9}\n",
            "building100|| SMAPE : 46.51010254135487\n"
          ]
        },
        {
          "name": "stderr",
          "output_type": "stream",
          "text": [
            "\n"
          ]
        }
      ],
      "source": [
        "\n",
        "df = pd.DataFrame(columns = ['n_estimators', 'eta', 'min_child_weight','max_depth', 'colsample_bytree', 'subsample'])\n",
        "preds = np.array([])\n",
        "\n",
        "grid = {'n_estimators' : [100], 'eta' : [0.01], 'min_child_weight' : np.arange(1, 8, 1),\n",
        "        'max_depth' : np.arange(3,9,1) , 'colsample_bytree' :np.arange(0.8, 1.0, 0.1),\n",
        "        'subsample' :np.arange(0.8, 1.0, 0.1)} # fix the n_estimators & eta(learning rate)\n",
        "\n",
        "#tscv = TimeSeriesSplit(n_splits=3)\n",
        "smape_score = make_scorer(SMAPE, greater_is_better=False)\n",
        "\n",
        "for i in tqdm(np.arange(1, 101, 1)):\n",
        "    y = merged_train_df.loc[merged_train_df.building_number == i, 'power_consumption']\n",
        "    x = merged_train_df.loc[merged_train_df.building_number == i].drop(['power_consumption'], axis=1)\n",
        "    y_train, y_test, x_train, x_test = temporal_train_test_split(y = y, X = x, test_size = 168)\n",
        "\n",
        "    pds = PredefinedSplit(np.append(-np.ones(len(x_train)-168), np.zeros(168)))\n",
        "    gcv = GridSearchCV(estimator = XGBRegressor(seed=0),\n",
        "                       param_grid=grid, scoring=smape_score, cv=pds, refit=True, verbose=True)\n",
        "    \n",
        "    # gcv = GridSearchCV(estimator = XGBRegressor(seed = 0, gpu_id = 1, tree_method = 'gpu_hist', predictor= 'gpu_predictor'),\n",
        "    #                     param_grid = grid, scoring = smape_score, cv = pds, refit = True, verbose = True)\n",
        "\n",
        "    gcv.fit(x_train, y_train)\n",
        "    best = gcv.best_estimator_\n",
        "    params = gcv.best_params_\n",
        "    print(params)\n",
        "    pred = best.predict(x_test)\n",
        "    building = 'building'+str(i)\n",
        "    print(building + '|| SMAPE : {}'.format(SMAPE(y_test, pred)))\n",
        "    preds = np.append(preds, pred)\n",
        "    df = pd.concat([df, pd.DataFrame(params, index=[0])], axis=0)\n",
        "    df.to_csv('./parameters/hyperparameter_xgb2.csv', index=False) # save the tuned parameters\n"
      ]
    },
    {
      "cell_type": "code",
      "execution_count": 14,
      "metadata": {},
      "outputs": [],
      "source": [
        "xgb_params = pd.read_csv('./parameters/hyperparameter_xgb2_lbw.csv')"
      ]
    },
    {
      "cell_type": "code",
      "execution_count": 15,
      "metadata": {},
      "outputs": [
        {
          "name": "stderr",
          "output_type": "stream",
          "text": [
            "100%|██████████| 100/100 [03:46<00:00,  2.27s/it]\n"
          ]
        }
      ],
      "source": [
        "scores = []   # smape 값을 저장할 list\n",
        "best_it = []  # best interation을 저장할 list\n",
        "\n",
        "for i in tqdm(np.arange(1,101,1)):\n",
        "    y = merged_train_df.loc[merged_train_df.building_number == i, 'power_consumption']\n",
        "    x = merged_train_df.loc[merged_train_df.building_number == i].drop(['power_consumption'], axis=1)\n",
        "    y_train, y_test, x_train, x_test = temporal_train_test_split(y = y, X = x, test_size = 168)\n",
        "\n",
        "    xgb_reg = XGBRegressor(n_estimators = 10000, eta = 0.01, min_child_weight = xgb_params.iloc[i-1, 2],\n",
        "                           max_depth = xgb_params.iloc[i-1, 3], colsample_bytree = xgb_params.iloc[i-1, 4],\n",
        "                           subsample = xgb_params.iloc[i-1, 5], seed=0)\n",
        "    xgb_reg.set_params(**{'objective':weighted_mse(100)}) # alpha = 100으로 고정\n",
        "\n",
        "    xgb_reg.fit(x_train, y_train, eval_set=[(x_train, y_train),\n",
        "                                            (x_test, y_test)], early_stopping_rounds=300, verbose=False)\n",
        "    y_pred = xgb_reg.predict(x_test)\n",
        "    pred = pd.Series(y_pred)\n",
        "\n",
        "    sm = SMAPE(y_test, y_pred)\n",
        "    scores.append(sm)\n",
        "    best_it.append(xgb_reg.best_iteration+1) ## 실제 best iteration은 이 값에 +1 해주어야 함.\n"
      ]
    },
    {
      "cell_type": "code",
      "execution_count": null,
      "metadata": {},
      "outputs": [],
      "source": [
        "alpha_list = []\n",
        "smape_list = []\n",
        "for i in tqdm(np.arange(1,101,1)):\n",
        "    y = merged_train_df.loc[merged_train_df.building_number == i, 'power_consumption']\n",
        "    x = merged_train_df.loc[merged_train_df.building_number == i].drop(['power_consumption'], axis=1)\n",
        "    y_train, y_test, x_train, x_test = temporal_train_test_split(y = y, X = x, test_size = 168)\n",
        "    xgb = XGBRegressor(seed = 0,\n",
        "                      n_estimators = best_it[i-1], eta = 0.01, min_child_weight = xgb_params.iloc[i-1, 2],\n",
        "                      max_depth = xgb_params.iloc[i-1, 3], colsample_bytree = xgb_params.iloc[i-1, 4], subsample = xgb_params.iloc[i-1, 5])\n",
        "\n",
        "    xgb.fit(x_train, y_train)\n",
        "    pred0 = xgb.predict(x_test)\n",
        "    best_alpha = 0\n",
        "    score0 = SMAPE(y_test,pred0)\n",
        "\n",
        "    for j in [1, 3, 5, 7, 10, 25, 50, 75, 100]:\n",
        "        xgb = XGBRegressor(seed = 0,\n",
        "                      n_estimators = best_it[i-1], eta = 0.01, min_child_weight = xgb_params.iloc[i-1, 2],\n",
        "                      max_depth = xgb_params.iloc[i-1, 3], colsample_bytree = xgb_params.iloc[i-1, 4], subsample = xgb_params.iloc[i-1, 5])\n",
        "        xgb.set_params(**{'objective' : weighted_mse(j)})\n",
        "\n",
        "        xgb.fit(x_train, y_train)\n",
        "        pred1 = xgb.predict(x_test)\n",
        "        score1 = SMAPE(y_test, pred1)\n",
        "        if score1 < score0:\n",
        "            best_alpha = j\n",
        "            score0 = score1\n",
        "\n",
        "    alpha_list.append(best_alpha)\n",
        "    smape_list.append(score0)\n",
        "    print(\"building {} || best score : {} || alpha : {}\".format(i, score0, best_alpha))\n",
        "    "
      ]
    },
    {
      "cell_type": "code",
      "execution_count": 17,
      "metadata": {},
      "outputs": [
        {
          "data": {
            "text/plain": [
              "[<matplotlib.lines.Line2D at 0x1e5e38d7ed0>]"
            ]
          },
          "execution_count": 17,
          "metadata": {},
          "output_type": "execute_result"
        },
        {
          "data": {
            "image/png": "[encoded data removed]",
            "text/plain": [
              "<Figure size 640x480 with 1 Axes>"
            ]
          },
          "metadata": {},
          "output_type": "display_data"
        }
      ],
      "source": [
        "no_df = pd.DataFrame({'score':smape_list})\n",
        "plt.bar(np.arange(len(no_df))+1, no_df['score'])\n",
        "plt.plot([1,100], [10, 10], color = 'red')"
      ]
    },
    {
      "cell_type": "code",
      "execution_count": 18,
      "metadata": {},
      "outputs": [
        {
          "data": {
            "text/html": [
              "<div>\n",
              "<style scoped>\n",
              "    .dataframe tbody tr th:only-of-type {\n",
              "        vertical-align: middle;\n",
              "    }\n",
              "\n",
              "    .dataframe tbody tr th {\n",
              "        vertical-align: top;\n",
              "    }\n",
              "\n",
              "    .dataframe thead th {\n",
              "        text-align: right;\n",
              "    }\n",
              "</style>\n",
              "<table border=\"1\" class=\"dataframe\">\n",
              "  <thead>\n",
              "    <tr style=\"text-align: right;\">\n",
              "      <th></th>\n",
              "      <th>n_estimators</th>\n",
              "      <th>eta</th>\n",
              "      <th>min_child_weight</th>\n",
              "      <th>max_depth</th>\n",
              "      <th>colsample_bytree</th>\n",
              "      <th>subsample</th>\n",
              "      <th>alpha</th>\n",
              "      <th>best_it</th>\n",
              "    </tr>\n",
              "  </thead>\n",
              "  <tbody>\n",
              "    <tr>\n",
              "      <th>0</th>\n",
              "      <td>100</td>\n",
              "      <td>0.01</td>\n",
              "      <td>6</td>\n",
              "      <td>8</td>\n",
              "      <td>0.9</td>\n",
              "      <td>0.9</td>\n",
              "      <td>10</td>\n",
              "      <td>491</td>\n",
              "    </tr>\n",
              "    <tr>\n",
              "      <th>1</th>\n",
              "      <td>100</td>\n",
              "      <td>0.01</td>\n",
              "      <td>7</td>\n",
              "      <td>8</td>\n",
              "      <td>0.9</td>\n",
              "      <td>0.9</td>\n",
              "      <td>0</td>\n",
              "      <td>627</td>\n",
              "    </tr>\n",
              "    <tr>\n",
              "      <th>2</th>\n",
              "      <td>100</td>\n",
              "      <td>0.01</td>\n",
              "      <td>5</td>\n",
              "      <td>3</td>\n",
              "      <td>0.9</td>\n",
              "      <td>0.9</td>\n",
              "      <td>1</td>\n",
              "      <td>204</td>\n",
              "    </tr>\n",
              "    <tr>\n",
              "      <th>3</th>\n",
              "      <td>100</td>\n",
              "      <td>0.01</td>\n",
              "      <td>1</td>\n",
              "      <td>4</td>\n",
              "      <td>0.9</td>\n",
              "      <td>0.9</td>\n",
              "      <td>75</td>\n",
              "      <td>304</td>\n",
              "    </tr>\n",
              "    <tr>\n",
              "      <th>4</th>\n",
              "      <td>100</td>\n",
              "      <td>0.01</td>\n",
              "      <td>7</td>\n",
              "      <td>8</td>\n",
              "      <td>0.8</td>\n",
              "      <td>0.9</td>\n",
              "      <td>100</td>\n",
              "      <td>657</td>\n",
              "    </tr>\n",
              "  </tbody>\n",
              "</table>\n",
              "</div>"
            ],
            "text/plain": [
              "   n_estimators   eta  min_child_weight  max_depth  colsample_bytree  \\\n",
              "0           100  0.01                 6          8               0.9   \n",
              "1           100  0.01                 7          8               0.9   \n",
              "2           100  0.01                 5          3               0.9   \n",
              "3           100  0.01                 1          4               0.9   \n",
              "4           100  0.01                 7          8               0.8   \n",
              "\n",
              "   subsample  alpha  best_it  \n",
              "0        0.9     10      491  \n",
              "1        0.9      0      627  \n",
              "2        0.9      1      204  \n",
              "3        0.9     75      304  \n",
              "4        0.9    100      657  "
            ]
          },
          "execution_count": 18,
          "metadata": {},
          "output_type": "execute_result"
        }
      ],
      "source": [
        "xgb_params['alpha'] = alpha_list\n",
        "xgb_params['best_it'] = best_it\n",
        "xgb_params.head()"
      ]
    },
    {
      "cell_type": "code",
      "execution_count": 19,
      "metadata": {},
      "outputs": [
        {
          "data": {
            "text/html": [
              "<div>\n",
              "<style scoped>\n",
              "    .dataframe tbody tr th:only-of-type {\n",
              "        vertical-align: middle;\n",
              "    }\n",
              "\n",
              "    .dataframe tbody tr th {\n",
              "        vertical-align: top;\n",
              "    }\n",
              "\n",
              "    .dataframe thead th {\n",
              "        text-align: right;\n",
              "    }\n",
              "</style>\n",
              "<table border=\"1\" class=\"dataframe\">\n",
              "  <thead>\n",
              "    <tr style=\"text-align: right;\">\n",
              "      <th></th>\n",
              "      <th>Unnamed: 0</th>\n",
              "      <th>building_number</th>\n",
              "      <th>temperature</th>\n",
              "      <th>rainfall</th>\n",
              "      <th>windspeed</th>\n",
              "      <th>humidity</th>\n",
              "      <th>hour</th>\n",
              "      <th>day</th>\n",
              "      <th>month</th>\n",
              "      <th>week</th>\n",
              "      <th>total_area</th>\n",
              "      <th>cooling_area</th>\n",
              "      <th>solar_power_capacity</th>\n",
              "      <th>ess_capacity</th>\n",
              "      <th>pcs_capacity</th>\n",
              "      <th>day_hour_mean</th>\n",
              "      <th>hour_mean</th>\n",
              "      <th>hour_std</th>\n",
              "      <th>CDH</th>\n",
              "      <th>holiday</th>\n",
              "      <th>sin_time</th>\n",
              "      <th>cos_time</th>\n",
              "      <th>THI</th>\n",
              "    </tr>\n",
              "  </thead>\n",
              "  <tbody>\n",
              "    <tr>\n",
              "      <th>0</th>\n",
              "      <td>0</td>\n",
              "      <td>1</td>\n",
              "      <td>23.5</td>\n",
              "      <td>0.0</td>\n",
              "      <td>2.2</td>\n",
              "      <td>72</td>\n",
              "      <td>0</td>\n",
              "      <td>3</td>\n",
              "      <td>8</td>\n",
              "      <td>34</td>\n",
              "      <td>110634.0</td>\n",
              "      <td>39570.0</td>\n",
              "      <td>0.0</td>\n",
              "      <td>0.0</td>\n",
              "      <td>0.0</td>\n",
              "      <td>1627.80</td>\n",
              "      <td>1706.318118</td>\n",
              "      <td>446.882767</td>\n",
              "      <td>-2.5</td>\n",
              "      <td>0</td>\n",
              "      <td>0.000000</td>\n",
              "      <td>1.000000</td>\n",
              "      <td>58.3456</td>\n",
              "    </tr>\n",
              "    <tr>\n",
              "      <th>1</th>\n",
              "      <td>1</td>\n",
              "      <td>1</td>\n",
              "      <td>23.0</td>\n",
              "      <td>0.0</td>\n",
              "      <td>0.9</td>\n",
              "      <td>72</td>\n",
              "      <td>1</td>\n",
              "      <td>3</td>\n",
              "      <td>8</td>\n",
              "      <td>34</td>\n",
              "      <td>110634.0</td>\n",
              "      <td>39570.0</td>\n",
              "      <td>0.0</td>\n",
              "      <td>0.0</td>\n",
              "      <td>0.0</td>\n",
              "      <td>1550.08</td>\n",
              "      <td>1622.620235</td>\n",
              "      <td>439.662704</td>\n",
              "      <td>-5.5</td>\n",
              "      <td>0</td>\n",
              "      <td>0.258819</td>\n",
              "      <td>0.965926</td>\n",
              "      <td>57.4456</td>\n",
              "    </tr>\n",
              "    <tr>\n",
              "      <th>2</th>\n",
              "      <td>2</td>\n",
              "      <td>1</td>\n",
              "      <td>22.7</td>\n",
              "      <td>0.0</td>\n",
              "      <td>1.5</td>\n",
              "      <td>75</td>\n",
              "      <td>2</td>\n",
              "      <td>3</td>\n",
              "      <td>8</td>\n",
              "      <td>34</td>\n",
              "      <td>110634.0</td>\n",
              "      <td>39570.0</td>\n",
              "      <td>0.0</td>\n",
              "      <td>0.0</td>\n",
              "      <td>0.0</td>\n",
              "      <td>1431.12</td>\n",
              "      <td>1506.971294</td>\n",
              "      <td>412.071906</td>\n",
              "      <td>-8.8</td>\n",
              "      <td>0</td>\n",
              "      <td>0.500000</td>\n",
              "      <td>0.866025</td>\n",
              "      <td>57.8725</td>\n",
              "    </tr>\n",
              "    <tr>\n",
              "      <th>3</th>\n",
              "      <td>3</td>\n",
              "      <td>1</td>\n",
              "      <td>22.1</td>\n",
              "      <td>0.0</td>\n",
              "      <td>1.3</td>\n",
              "      <td>78</td>\n",
              "      <td>3</td>\n",
              "      <td>3</td>\n",
              "      <td>8</td>\n",
              "      <td>34</td>\n",
              "      <td>110634.0</td>\n",
              "      <td>39570.0</td>\n",
              "      <td>0.0</td>\n",
              "      <td>0.0</td>\n",
              "      <td>0.0</td>\n",
              "      <td>1372.20</td>\n",
              "      <td>1437.365647</td>\n",
              "      <td>391.205981</td>\n",
              "      <td>-12.7</td>\n",
              "      <td>0</td>\n",
              "      <td>0.707107</td>\n",
              "      <td>0.707107</td>\n",
              "      <td>57.9376</td>\n",
              "    </tr>\n",
              "    <tr>\n",
              "      <th>4</th>\n",
              "      <td>4</td>\n",
              "      <td>1</td>\n",
              "      <td>21.8</td>\n",
              "      <td>0.0</td>\n",
              "      <td>1.0</td>\n",
              "      <td>77</td>\n",
              "      <td>4</td>\n",
              "      <td>3</td>\n",
              "      <td>8</td>\n",
              "      <td>34</td>\n",
              "      <td>110634.0</td>\n",
              "      <td>39570.0</td>\n",
              "      <td>0.0</td>\n",
              "      <td>0.0</td>\n",
              "      <td>0.0</td>\n",
              "      <td>1381.72</td>\n",
              "      <td>1447.321412</td>\n",
              "      <td>381.099697</td>\n",
              "      <td>-16.9</td>\n",
              "      <td>0</td>\n",
              "      <td>0.866025</td>\n",
              "      <td>0.500000</td>\n",
              "      <td>56.9961</td>\n",
              "    </tr>\n",
              "  </tbody>\n",
              "</table>\n",
              "</div>"
            ],
            "text/plain": [
              "   Unnamed: 0  building_number  temperature  rainfall  windspeed  humidity  \\\n",
              "0           0                1         23.5       0.0        2.2        72   \n",
              "1           1                1         23.0       0.0        0.9        72   \n",
              "2           2                1         22.7       0.0        1.5        75   \n",
              "3           3                1         22.1       0.0        1.3        78   \n",
              "4           4                1         21.8       0.0        1.0        77   \n",
              "\n",
              "   hour  day  month  week  total_area  cooling_area  solar_power_capacity  \\\n",
              "0     0    3      8    34    110634.0       39570.0                   0.0   \n",
              "1     1    3      8    34    110634.0       39570.0                   0.0   \n",
              "2     2    3      8    34    110634.0       39570.0                   0.0   \n",
              "3     3    3      8    34    110634.0       39570.0                   0.0   \n",
              "4     4    3      8    34    110634.0       39570.0                   0.0   \n",
              "\n",
              "   ess_capacity  pcs_capacity  day_hour_mean    hour_mean    hour_std   CDH  \\\n",
              "0           0.0           0.0        1627.80  1706.318118  446.882767  -2.5   \n",
              "1           0.0           0.0        1550.08  1622.620235  439.662704  -5.5   \n",
              "2           0.0           0.0        1431.12  1506.971294  412.071906  -8.8   \n",
              "3           0.0           0.0        1372.20  1437.365647  391.205981 -12.7   \n",
              "4           0.0           0.0        1381.72  1447.321412  381.099697 -16.9   \n",
              "\n",
              "   holiday  sin_time  cos_time      THI  \n",
              "0        0  0.000000  1.000000  58.3456  \n",
              "1        0  0.258819  0.965926  57.4456  \n",
              "2        0  0.500000  0.866025  57.8725  \n",
              "3        0  0.707107  0.707107  57.9376  \n",
              "4        0  0.866025  0.500000  56.9961  "
            ]
          },
          "execution_count": 19,
          "metadata": {},
          "output_type": "execute_result"
        }
      ],
      "source": [
        "merged_test_df.head()\n"
      ]
    },
    {
      "cell_type": "code",
      "execution_count": 20,
      "metadata": {},
      "outputs": [
        {
          "data": {
            "text/html": [
              "<div>\n",
              "<style scoped>\n",
              "    .dataframe tbody tr th:only-of-type {\n",
              "        vertical-align: middle;\n",
              "    }\n",
              "\n",
              "    .dataframe tbody tr th {\n",
              "        vertical-align: top;\n",
              "    }\n",
              "\n",
              "    .dataframe thead th {\n",
              "        text-align: right;\n",
              "    }\n",
              "</style>\n",
              "<table border=\"1\" class=\"dataframe\">\n",
              "  <thead>\n",
              "    <tr style=\"text-align: right;\">\n",
              "      <th></th>\n",
              "      <th>Unnamed: 0</th>\n",
              "      <th>building_number</th>\n",
              "      <th>temperature</th>\n",
              "      <th>rainfall</th>\n",
              "      <th>windspeed</th>\n",
              "      <th>humidity</th>\n",
              "      <th>sunshine</th>\n",
              "      <th>solar_radiation</th>\n",
              "      <th>power_consumption</th>\n",
              "      <th>hour</th>\n",
              "      <th>day</th>\n",
              "      <th>month</th>\n",
              "      <th>week</th>\n",
              "      <th>total_area</th>\n",
              "      <th>cooling_area</th>\n",
              "      <th>solar_power_capacity</th>\n",
              "      <th>ess_capacity</th>\n",
              "      <th>pcs_capacity</th>\n",
              "      <th>day_hour_mean</th>\n",
              "      <th>hour_mean</th>\n",
              "      <th>hour_std</th>\n",
              "      <th>CDH</th>\n",
              "      <th>holiday</th>\n",
              "      <th>sin_time</th>\n",
              "      <th>cos_time</th>\n",
              "      <th>THI</th>\n",
              "    </tr>\n",
              "  </thead>\n",
              "  <tbody>\n",
              "    <tr>\n",
              "      <th>0</th>\n",
              "      <td>0</td>\n",
              "      <td>1</td>\n",
              "      <td>18.6</td>\n",
              "      <td>0.0</td>\n",
              "      <td>0.9</td>\n",
              "      <td>42.0</td>\n",
              "      <td>0.0</td>\n",
              "      <td>0.0</td>\n",
              "      <td>1085.28</td>\n",
              "      <td>0</td>\n",
              "      <td>2</td>\n",
              "      <td>6</td>\n",
              "      <td>22</td>\n",
              "      <td>110634.0</td>\n",
              "      <td>39570.0</td>\n",
              "      <td>0.0</td>\n",
              "      <td>0.0</td>\n",
              "      <td>0.0</td>\n",
              "      <td>1774.744615</td>\n",
              "      <td>1706.318118</td>\n",
              "      <td>446.882767</td>\n",
              "      <td>-7.4</td>\n",
              "      <td>0</td>\n",
              "      <td>0.000000</td>\n",
              "      <td>1.000000</td>\n",
              "      <td>49.6576</td>\n",
              "    </tr>\n",
              "    <tr>\n",
              "      <th>1</th>\n",
              "      <td>1</td>\n",
              "      <td>1</td>\n",
              "      <td>18.0</td>\n",
              "      <td>0.0</td>\n",
              "      <td>1.1</td>\n",
              "      <td>45.0</td>\n",
              "      <td>0.0</td>\n",
              "      <td>0.0</td>\n",
              "      <td>1047.36</td>\n",
              "      <td>1</td>\n",
              "      <td>2</td>\n",
              "      <td>6</td>\n",
              "      <td>22</td>\n",
              "      <td>110634.0</td>\n",
              "      <td>39570.0</td>\n",
              "      <td>0.0</td>\n",
              "      <td>0.0</td>\n",
              "      <td>0.0</td>\n",
              "      <td>1687.347692</td>\n",
              "      <td>1622.620235</td>\n",
              "      <td>439.662704</td>\n",
              "      <td>-15.4</td>\n",
              "      <td>0</td>\n",
              "      <td>0.258819</td>\n",
              "      <td>0.965926</td>\n",
              "      <td>47.7625</td>\n",
              "    </tr>\n",
              "    <tr>\n",
              "      <th>2</th>\n",
              "      <td>2</td>\n",
              "      <td>1</td>\n",
              "      <td>17.7</td>\n",
              "      <td>0.0</td>\n",
              "      <td>1.5</td>\n",
              "      <td>45.0</td>\n",
              "      <td>0.0</td>\n",
              "      <td>0.0</td>\n",
              "      <td>974.88</td>\n",
              "      <td>2</td>\n",
              "      <td>2</td>\n",
              "      <td>6</td>\n",
              "      <td>22</td>\n",
              "      <td>110634.0</td>\n",
              "      <td>39570.0</td>\n",
              "      <td>0.0</td>\n",
              "      <td>0.0</td>\n",
              "      <td>0.0</td>\n",
              "      <td>1571.483077</td>\n",
              "      <td>1506.971294</td>\n",
              "      <td>412.071906</td>\n",
              "      <td>-23.7</td>\n",
              "      <td>0</td>\n",
              "      <td>0.500000</td>\n",
              "      <td>0.866025</td>\n",
              "      <td>47.2225</td>\n",
              "    </tr>\n",
              "    <tr>\n",
              "      <th>3</th>\n",
              "      <td>3</td>\n",
              "      <td>1</td>\n",
              "      <td>16.7</td>\n",
              "      <td>0.0</td>\n",
              "      <td>1.4</td>\n",
              "      <td>48.0</td>\n",
              "      <td>0.0</td>\n",
              "      <td>0.0</td>\n",
              "      <td>953.76</td>\n",
              "      <td>3</td>\n",
              "      <td>2</td>\n",
              "      <td>6</td>\n",
              "      <td>22</td>\n",
              "      <td>110634.0</td>\n",
              "      <td>39570.0</td>\n",
              "      <td>0.0</td>\n",
              "      <td>0.0</td>\n",
              "      <td>0.0</td>\n",
              "      <td>1522.153846</td>\n",
              "      <td>1437.365647</td>\n",
              "      <td>391.205981</td>\n",
              "      <td>-33.0</td>\n",
              "      <td>0</td>\n",
              "      <td>0.707107</td>\n",
              "      <td>0.707107</td>\n",
              "      <td>44.7856</td>\n",
              "    </tr>\n",
              "    <tr>\n",
              "      <th>4</th>\n",
              "      <td>4</td>\n",
              "      <td>1</td>\n",
              "      <td>18.4</td>\n",
              "      <td>0.0</td>\n",
              "      <td>2.8</td>\n",
              "      <td>43.0</td>\n",
              "      <td>0.0</td>\n",
              "      <td>0.0</td>\n",
              "      <td>986.40</td>\n",
              "      <td>4</td>\n",
              "      <td>2</td>\n",
              "      <td>6</td>\n",
              "      <td>22</td>\n",
              "      <td>110634.0</td>\n",
              "      <td>39570.0</td>\n",
              "      <td>0.0</td>\n",
              "      <td>0.0</td>\n",
              "      <td>0.0</td>\n",
              "      <td>1506.793846</td>\n",
              "      <td>1447.321412</td>\n",
              "      <td>381.099697</td>\n",
              "      <td>-40.6</td>\n",
              "      <td>0</td>\n",
              "      <td>0.866025</td>\n",
              "      <td>0.500000</td>\n",
              "      <td>49.0061</td>\n",
              "    </tr>\n",
              "  </tbody>\n",
              "</table>\n",
              "</div>"
            ],
            "text/plain": [
              "   Unnamed: 0  building_number  temperature  rainfall  windspeed  humidity  \\\n",
              "0           0                1         18.6       0.0        0.9      42.0   \n",
              "1           1                1         18.0       0.0        1.1      45.0   \n",
              "2           2                1         17.7       0.0        1.5      45.0   \n",
              "3           3                1         16.7       0.0        1.4      48.0   \n",
              "4           4                1         18.4       0.0        2.8      43.0   \n",
              "\n",
              "   sunshine  solar_radiation  power_consumption  hour  day  month  week  \\\n",
              "0       0.0              0.0            1085.28     0    2      6    22   \n",
              "1       0.0              0.0            1047.36     1    2      6    22   \n",
              "2       0.0              0.0             974.88     2    2      6    22   \n",
              "3       0.0              0.0             953.76     3    2      6    22   \n",
              "4       0.0              0.0             986.40     4    2      6    22   \n",
              "\n",
              "   total_area  cooling_area  solar_power_capacity  ess_capacity  pcs_capacity  \\\n",
              "0    110634.0       39570.0                   0.0           0.0           0.0   \n",
              "1    110634.0       39570.0                   0.0           0.0           0.0   \n",
              "2    110634.0       39570.0                   0.0           0.0           0.0   \n",
              "3    110634.0       39570.0                   0.0           0.0           0.0   \n",
              "4    110634.0       39570.0                   0.0           0.0           0.0   \n",
              "\n",
              "   day_hour_mean    hour_mean    hour_std   CDH  holiday  sin_time  cos_time  \\\n",
              "0    1774.744615  1706.318118  446.882767  -7.4        0  0.000000  1.000000   \n",
              "1    1687.347692  1622.620235  439.662704 -15.4        0  0.258819  0.965926   \n",
              "2    1571.483077  1506.971294  412.071906 -23.7        0  0.500000  0.866025   \n",
              "3    1522.153846  1437.365647  391.205981 -33.0        0  0.707107  0.707107   \n",
              "4    1506.793846  1447.321412  381.099697 -40.6        0  0.866025  0.500000   \n",
              "\n",
              "       THI  \n",
              "0  49.6576  \n",
              "1  47.7625  \n",
              "2  47.2225  \n",
              "3  44.7856  \n",
              "4  49.0061  "
            ]
          },
          "execution_count": 20,
          "metadata": {},
          "output_type": "execute_result"
        }
      ],
      "source": [
        "merged_train_df.head()"
      ]
    },
    {
      "cell_type": "code",
      "execution_count": 21,
      "metadata": {},
      "outputs": [],
      "source": [
        "xgb_params.to_csv('./parameters/hyperparameter_xgb_final2_lbw.csv', index=False)"
      ]
    },
    {
      "cell_type": "code",
      "execution_count": 26,
      "metadata": {},
      "outputs": [
        {
          "data": {
            "text/html": [
              "<div>\n",
              "<style scoped>\n",
              "    .dataframe tbody tr th:only-of-type {\n",
              "        vertical-align: middle;\n",
              "    }\n",
              "\n",
              "    .dataframe tbody tr th {\n",
              "        vertical-align: top;\n",
              "    }\n",
              "\n",
              "    .dataframe thead th {\n",
              "        text-align: right;\n",
              "    }\n",
              "</style>\n",
              "<table border=\"1\" class=\"dataframe\">\n",
              "  <thead>\n",
              "    <tr style=\"text-align: right;\">\n",
              "      <th></th>\n",
              "      <th>n_estimators</th>\n",
              "      <th>eta</th>\n",
              "      <th>min_child_weight</th>\n",
              "      <th>max_depth</th>\n",
              "      <th>colsample_bytree</th>\n",
              "      <th>subsample</th>\n",
              "      <th>alpha</th>\n",
              "      <th>best_it</th>\n",
              "    </tr>\n",
              "  </thead>\n",
              "  <tbody>\n",
              "    <tr>\n",
              "      <th>0</th>\n",
              "      <td>100</td>\n",
              "      <td>0.01</td>\n",
              "      <td>6</td>\n",
              "      <td>8</td>\n",
              "      <td>0.9</td>\n",
              "      <td>0.9</td>\n",
              "      <td>10</td>\n",
              "      <td>491</td>\n",
              "    </tr>\n",
              "    <tr>\n",
              "      <th>1</th>\n",
              "      <td>100</td>\n",
              "      <td>0.01</td>\n",
              "      <td>7</td>\n",
              "      <td>8</td>\n",
              "      <td>0.9</td>\n",
              "      <td>0.9</td>\n",
              "      <td>0</td>\n",
              "      <td>627</td>\n",
              "    </tr>\n",
              "    <tr>\n",
              "      <th>2</th>\n",
              "      <td>100</td>\n",
              "      <td>0.01</td>\n",
              "      <td>5</td>\n",
              "      <td>3</td>\n",
              "      <td>0.9</td>\n",
              "      <td>0.9</td>\n",
              "      <td>1</td>\n",
              "      <td>204</td>\n",
              "    </tr>\n",
              "    <tr>\n",
              "      <th>3</th>\n",
              "      <td>100</td>\n",
              "      <td>0.01</td>\n",
              "      <td>1</td>\n",
              "      <td>4</td>\n",
              "      <td>0.9</td>\n",
              "      <td>0.9</td>\n",
              "      <td>75</td>\n",
              "      <td>304</td>\n",
              "    </tr>\n",
              "    <tr>\n",
              "      <th>4</th>\n",
              "      <td>100</td>\n",
              "      <td>0.01</td>\n",
              "      <td>7</td>\n",
              "      <td>8</td>\n",
              "      <td>0.8</td>\n",
              "      <td>0.9</td>\n",
              "      <td>100</td>\n",
              "      <td>657</td>\n",
              "    </tr>\n",
              "  </tbody>\n",
              "</table>\n",
              "</div>"
            ],
            "text/plain": [
              "   n_estimators   eta  min_child_weight  max_depth  colsample_bytree  \\\n",
              "0           100  0.01                 6          8               0.9   \n",
              "1           100  0.01                 7          8               0.9   \n",
              "2           100  0.01                 5          3               0.9   \n",
              "3           100  0.01                 1          4               0.9   \n",
              "4           100  0.01                 7          8               0.8   \n",
              "\n",
              "   subsample  alpha  best_it  \n",
              "0        0.9     10      491  \n",
              "1        0.9      0      627  \n",
              "2        0.9      1      204  \n",
              "3        0.9     75      304  \n",
              "4        0.9    100      657  "
            ]
          },
          "execution_count": 26,
          "metadata": {},
          "output_type": "execute_result"
        }
      ],
      "source": [
        "xgb_params = pd.read_csv('./parameters/hyperparameter_xgb_final2_lbw.csv')\n",
        "best_it = xgb_params['best_it'].to_list()\n",
        "#best_it[0]        # 1051\n",
        "xgb_params.head()"
      ]
    },
    {
      "cell_type": "markdown",
      "metadata": {
        "id": "rrmTw8JXrq3X"
      },
      "source": [
        "## 학습"
      ]
    },
    {
      "cell_type": "code",
      "execution_count": 27,
      "metadata": {},
      "outputs": [
        {
          "name": "stderr",
          "output_type": "stream",
          "text": [
            "100%|██████████| 100/100 [11:26<00:00,  6.86s/it]\n"
          ]
        }
      ],
      "source": [
        "preds = np.array([])\n",
        "for i in tqdm(np.arange(1,101,1)):\n",
        "\n",
        "    pred_df = pd.DataFrame()   # 시드별 예측값을 담을 data frame\n",
        "\n",
        "    for seed in [0,1,2,3,4,5]: # 각 시드별 예측\n",
        "        y_train = merged_train_df.loc[merged_train_df.building_number == i, 'power_consumption']\n",
        "        x_train = merged_train_df.loc[merged_train_df.building_number == i].drop(['power_consumption','sunshine','solar_radiation'], axis=1)\n",
        "        x_test = merged_test_df.loc[merged_test_df.building_number == i]\n",
        "        \n",
        "        x_test = x_test[x_train.columns]\n",
        "\n",
        "        xgb = XGBRegressor(seed = seed, n_estimators = best_it[i-1], eta = 0.01,\n",
        "                           min_child_weight = xgb_params.iloc[i-1, 2], max_depth = xgb_params.iloc[i-1, 3],\n",
        "                           colsample_bytree=xgb_params.iloc[i-1, 4], subsample=xgb_params.iloc[i-1, 5])\n",
        "\n",
        "        if xgb_params.iloc[i-1,6] != 0:  # 만약 alpha가 0이 아니면 weighted_mse 사용\n",
        "            xgb.set_params(**{'objective':weighted_mse(xgb_params.iloc[i-1,6])})\n",
        "\n",
        "        xgb.fit(x_train, y_train)\n",
        "        y_pred = xgb.predict(x_test)\n",
        "        pred_df.loc[:,seed] = y_pred   # 각 시드별 예측 담기\n",
        "\n",
        "    pred = pred_df.mean(axis=1)        # (i+1)번째 건물의 예측 =  (i+1)번째 건물의 각 시드별 예측 평균값\n",
        "    preds = np.append(preds, pred)\n",
        "    "
      ]
    },
    {
      "cell_type": "markdown",
      "metadata": {
        "id": "VrPqi5myRnWi"
      },
      "source": [
        "## 테스트"
      ]
    },
    {
      "cell_type": "code",
      "execution_count": null,
      "metadata": {},
      "outputs": [],
      "source": [
        "preds = pd.Series(preds)\n",
        "\n",
        "fig, ax = plt.subplots(100, 1, figsize=(100,200), sharex = True)\n",
        "ax = ax.flatten()\n",
        "for i in range(100):\n",
        "    train_y = merged_train_df.loc[merged_train_df.building_number == i+1, 'power_consumption'].reset_index(drop = True)\n",
        "    test_y = preds[i*168:(i+1)*168]\n",
        "    ax[i].scatter(np.arange(2040), train_y)\n",
        "    ax[i].scatter(np.arange(2040, 2040+168) , test_y)\n",
        "    ax[i].tick_params(axis='both', which='major', labelsize=6)\n",
        "    ax[i].tick_params(axis='both', which='minor', labelsize=4)\n",
        "plt.savefig('./predict_xgb2_lbw.png')\n"
      ]
    },
    {
      "cell_type": "markdown",
      "metadata": {
        "id": "uzVQJ2tkrwwT"
      },
      "source": [
        "## 제출"
      ]
    },
    {
      "cell_type": "code",
      "execution_count": 29,
      "metadata": {},
      "outputs": [],
      "source": [
        "submission = pd.read_csv('./data/sample_submission.csv')\n",
        "submission['answer'] = preds\n",
        "submission.to_csv('./data/submission_xgb_noclip2.csv', index = False)"
      ]
    },
    {
      "cell_type": "markdown",
      "metadata": {},
      "source": [
        "## 1등코드 원본\n"
      ]
    },
    {
      "cell_type": "code",
      "execution_count": null,
      "metadata": {
        "colab": {
          "base_uri": "https://localhost:8080/",
          "height": 437
        },
        "id": "bfEEtu6V63lI",
        "outputId": "1ad01434-962d-4634-f54b-ce58103cf968"
      },
      "outputs": [],
      "source": [
        "# from sklearn.model_selection import PredefinedSplit, GridSearchCV\n",
        "# from sklearn.metrics import make_scorer\n",
        "# df = pd.DataFrame(columns = ['n_estimators', 'eta', 'min_child_weight','max_depth', 'colsample_bytree', 'subsample'])\n",
        "# preds = np.array([])\n",
        "\n",
        "# grid = {'n_estimators' : [100], 'eta' : [0.01], 'min_child_weight' : np.arange(1, 8, 1),\n",
        "#         'max_depth' : np.arange(3,9,1) , 'colsample_bytree' :np.arange(0.8, 1.0, 0.1),\n",
        "#         'subsample' :np.arange(0.8, 1.0, 0.1)} # fix the n_estimators & eta(learning rate)\n",
        "\n",
        "# for i in tqdm(np.arange(1, 101, 1)):\n",
        "#     y = merged_train_df.loc[merged_train_df.building_number == i, 'power_consumption']\n",
        "#     x = merged_train_df.loc[merged_train_df.building_number == i, ].drop('power_consumption', axis=1)\n",
        "#     y_train, y_test, x_train, x_test = temporal_train_test_split(y = y, X = x, test_size = 168)\n",
        "\n",
        "#     smape_score = make_scorer(SMAPE, graeter_is_better=False)\n",
        "#     pds = PredefinedSplit(np.append(-np.ones(len(x)-168), np.zeros(168)))\n",
        "#     gcv = GridSearchCV(estimator = XGBRegressor(seed = 0, gpu_id = 1,\n",
        "#                                                  tree_method = 'gpu_hist', predictor= 'gpu_predictor'),\n",
        "#                          param_grid = grid, scoring = smape_score, cv = pds, refit = True, verbose = True)\n",
        "#     # gcv = GridSearchCV(estimator = XGBRegressor(seed = 0, gpu_id = 1,\n",
        "#     #                                             tree_method = 'gpu_hist', predictor= 'gpu_predictor'),\n",
        "#     #                    param_grid = grid, scoring = smape_score, cv = pds, refit = True, verbose = True)\n",
        "\n",
        "\n",
        "#     gcv.fit(x_train, y_train)\n",
        "#     best = gcv.best_estimator_\n",
        "#     params = gcv.best_params_\n",
        "#     print(params)\n",
        "#     pred = best.predict(x_test)\n",
        "#     building = 'building'+str(i)\n",
        "#     print(building + '|| SMAPE : {}'.format(SMAPE(y_test, pred)))\n",
        "#     preds = np.append(preds, pred)\n",
        "#     df = pd.concat([df, pd.DataFrame(params, index = [0])], axis = 0)\n",
        "#     df.to_csv('./hyperparameter_xgb.csv', index = False) # save the tuned parameters"
      ]
    },
    {
      "cell_type": "markdown",
      "metadata": {},
      "source": [
        "## "
      ]
    }
  ],
  "metadata": {
    "colab": {
      "collapsed_sections": [
        "nbIffwyeTYLE"
      ],
      "provenance": []
    },
    "kernelspec": {
      "display_name": "Python 3",
      "name": "python3"
    },
    "language_info": {
      "codemirror_mode": {
        "name": "ipython",
        "version": 3
      },
      "file_extension": ".py",
      "mimetype": "text/x-python",
      "name": "python",
      "nbconvert_exporter": "python",
      "pygments_lexer": "ipython3",
      "version": "3.11.4"
    }
  },
  "nbformat": 4,
  "nbformat_minor": 0
}
