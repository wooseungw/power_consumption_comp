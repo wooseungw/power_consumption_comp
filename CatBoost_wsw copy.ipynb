{
 "cells": [
  {
   "cell_type": "code",
   "execution_count": 6,
   "metadata": {},
   "outputs": [],
   "source": [
    "import random\n",
    "import pandas as pd\n",
    "import numpy as np\n",
    "import os\n",
    "from tqdm import tqdm\n",
    "from catboost import CatBoostRegressor\n",
    "from sktime.forecasting.model_selection import temporal_train_test_split\n",
    "\n",
    "def seed_everything(seed):\n",
    "    random.seed(seed)\n",
    "    os.environ['PYTHONHASHSEED'] = str(seed)\n",
    "    np.random.seed(seed)\n",
    "\n",
    "seed_everything(0) # Seed 고정\n",
    "\n",
    "def weighted_mse(alpha = 1):\n",
    "    def weighted_mse_fixed(label, pred):\n",
    "        residual = (label - pred).astype(\"float\")\n",
    "        grad = np.where(residual>0, -2*alpha*residual, -2*residual)\n",
    "        hess = np.where(residual>0, 2*alpha, 2.0)\n",
    "        return grad, hess\n",
    "    return weighted_mse_fixed\n",
    "\n",
    "def mae(y, pred):\n",
    "    return np.mean(abs(y-pred))\n",
    " #점수 측정을 위한 코드  \n",
    "def SMAPE(y_true, y_pred):\n",
    "    return 100/len(y_true) * np.sum(2 * np.abs(y_pred - y_true) / (np.abs(y_true) + np.abs(y_pred)))\n",
    "\n",
    "def validate(valid_x, valid_y, model):\n",
    "    pred = model.predict(valid_x)\n",
    "    smape_score, mae_score = SMAPE(valid_y, pred), mae(valid_y, pred)\n",
    "    return smape_score, mae_score"
   ]
  },
  {
   "cell_type": "code",
   "execution_count": 7,
   "metadata": {},
   "outputs": [
    {
     "name": "stderr",
     "output_type": "stream",
     "text": [
      "100%|██████████| 9/9 [00:01<00:00,  7.42it/s]\n",
      "100%|██████████| 38/38 [00:05<00:00,  7.06it/s]\n",
      "100%|██████████| 22/22 [00:04<00:00,  5.46it/s]\n",
      "100%|██████████| 2/2 [00:00<00:00,  7.60it/s]\n",
      "100%|██████████| 8/8 [00:01<00:00,  5.62it/s]\n",
      "100%|██████████| 8/8 [00:01<00:00,  6.22it/s]\n",
      "100%|██████████| 7/7 [00:00<00:00,  7.87it/s]\n",
      "100%|██████████| 2/2 [00:00<00:00,  5.51it/s]\n",
      "100%|██████████| 4/4 [00:00<00:00,  6.14it/s]\n"
     ]
    },
    {
     "name": "stdout",
     "output_type": "stream",
     "text": [
      "n_estimator: 100\n",
      "SMAPE: 5.472086882183638\n",
      "MAE: 104.263124365366\n"
     ]
    },
    {
     "name": "stderr",
     "output_type": "stream",
     "text": [
      "100%|██████████| 9/9 [00:02<00:00,  3.74it/s]\n",
      "100%|██████████| 38/38 [00:08<00:00,  4.22it/s]\n",
      "100%|██████████| 22/22 [00:06<00:00,  3.37it/s]\n",
      "100%|██████████| 2/2 [00:00<00:00,  4.37it/s]\n",
      "100%|██████████| 8/8 [00:02<00:00,  3.12it/s]\n",
      "100%|██████████| 8/8 [00:02<00:00,  3.51it/s]\n",
      "100%|██████████| 7/7 [00:01<00:00,  4.12it/s]\n",
      "100%|██████████| 2/2 [00:00<00:00,  3.33it/s]\n",
      "100%|██████████| 4/4 [00:01<00:00,  3.38it/s]\n"
     ]
    },
    {
     "name": "stdout",
     "output_type": "stream",
     "text": [
      "n_estimator: 200\n",
      "SMAPE: 5.4015404491887065\n",
      "MAE: 102.49110733148403\n"
     ]
    },
    {
     "name": "stderr",
     "output_type": "stream",
     "text": [
      "100%|██████████| 9/9 [00:03<00:00,  2.72it/s]\n",
      "100%|██████████| 38/38 [00:12<00:00,  2.94it/s]\n",
      "100%|██████████| 22/22 [00:08<00:00,  2.50it/s]\n",
      "100%|██████████| 2/2 [00:00<00:00,  3.05it/s]\n",
      "100%|██████████| 8/8 [00:03<00:00,  2.28it/s]\n",
      "100%|██████████| 8/8 [00:02<00:00,  2.68it/s]\n",
      "100%|██████████| 7/7 [00:02<00:00,  3.32it/s]\n",
      "100%|██████████| 2/2 [00:00<00:00,  2.35it/s]\n",
      "100%|██████████| 4/4 [00:01<00:00,  2.69it/s]\n"
     ]
    },
    {
     "name": "stdout",
     "output_type": "stream",
     "text": [
      "n_estimator: 300\n",
      "SMAPE: 5.325602921694737\n",
      "MAE: 101.53733801421717\n"
     ]
    },
    {
     "name": "stderr",
     "output_type": "stream",
     "text": [
      "100%|██████████| 9/9 [00:03<00:00,  2.42it/s]\n",
      "100%|██████████| 38/38 [00:15<00:00,  2.48it/s]\n",
      "100%|██████████| 22/22 [00:11<00:00,  1.92it/s]\n",
      "100%|██████████| 2/2 [00:00<00:00,  2.38it/s]\n",
      "100%|██████████| 8/8 [00:05<00:00,  1.49it/s]\n",
      "100%|██████████| 8/8 [00:04<00:00,  1.90it/s]\n",
      "100%|██████████| 7/7 [00:02<00:00,  2.33it/s]\n",
      "100%|██████████| 2/2 [00:01<00:00,  1.54it/s]\n",
      "100%|██████████| 4/4 [00:01<00:00,  2.01it/s]"
     ]
    },
    {
     "name": "stdout",
     "output_type": "stream",
     "text": [
      "n_estimator: 400\n",
      "SMAPE: 5.250085104671692\n",
      "MAE: 100.49054019982881\n"
     ]
    },
    {
     "name": "stderr",
     "output_type": "stream",
     "text": [
      "\n"
     ]
    }
   ],
   "source": [
    "clusters = [\n",
    "[32, 61, 62, 63, 64, 65, 66, 67, 68],\n",
    "[8, 24, 25, 26, 27, 28, 29, 30, 31, 45, 46, 47, 48, 49, 50, 51, 52, 53, 55, 56, 58, 59, 60, 69, 70, 71, 72, 73, 74, 75, 76, 77, 78, 79, 80, 82, 83, 84],\n",
    "[1, 2, 4, 5, 6, 7, 9, 11, 12, 16, 33, 34, 35, 36, 54, 57, 81, 96, 97, 98, 99, 100],\n",
    "[13, 15],\n",
    "[37, 38, 39, 40, 41, 42, 43, 44],\n",
    "[85, 86, 87, 88, 89, 90, 91, 92],\n",
    "[17, 18, 19, 20, 21, 22, 23],\n",
    "[93, 94],\n",
    "[3, 10, 14, 95]\n",
    "]\n",
    "\n",
    "drop_cols = [\n",
    "[ 'week', 'THI', 'CDH', 'max_power', 'min_power','day_hour_mean','day_hour_std', 'hour_mean', 'hour_std','outlier','sensory','Rain_cat', 'close'],\n",
    "[ 'week', 'THI', 'CDH', 'max_power', 'min_power' ,'day_hour_mean','day_hour_std','hour_mean', 'hour_std','sensory','Rain_cat', 'close'],\n",
    "[ 'week', 'THI', 'CDH', 'max_power', 'min_power' , 'close'],\n",
    "[ 'week','month','holiday', 'THI', 'CDH', 'day_hour_mean', 'day_hour_std','hour_mean', 'hour_std', 'max_power', 'min_power', 'THI_cat', 'sensory','Rain_cat', 'close'],\n",
    "[ 'THI','hour_mean', 'hour_std', 'close'],\n",
    "[ 'THI', 'CDH', 'Rain_cat', 'sensory'],\n",
    "[ 'windspeed', 'week', 'CDH', 'sin_time', 'cos_time', 'THI', 'sensory', 'THI_cat','day_hour_mean', 'day_hour_std', 'hour_mean', 'hour_std', 'max_power', 'min_power','Rain_cat','close'],\n",
    "[ 'week', 'THI', 'CDH', 'THI_cat', 'close' ],\n",
    "[ 'week', 'month', 'THI', 'CDH', 'close', 'outlier', 'day_hour_mean', 'day_hour_std','hour_mean', 'hour_std', 'Rain_cat', 'cos_time', 'sin_time']\n",
    "]\n",
    "\n",
    "for n_estimator in [100,200,300,400]:\n",
    "    smape_scores = []\n",
    "    mae_scores = []\n",
    "    \n",
    "    for k in range(9):\n",
    "        cluster = clusters[k]\n",
    "        drop_col = drop_cols[k]\n",
    "\n",
    "        for i in tqdm(cluster):\n",
    "            train_df = pd.read_csv(f'./pretest/train_building{i}.csv').drop(columns=drop_col)\n",
    "            pretest_df = pd.read_csv(f'./pretest/pretest_building{i}.csv').drop(columns=drop_col)\n",
    "            x_train = train_df.drop(columns=['power_consumption'])\n",
    "            y_train = train_df['power_consumption']\n",
    "            y_valid = pretest_df['power_consumption']\n",
    "            x_valid = pretest_df.drop(columns=['power_consumption'])\n",
    "            \n",
    "            model_catboost = CatBoostRegressor(iterations=n_estimator, verbose=False)\n",
    "            model_catboost.fit(x_train, y_train)\n",
    "            smape_score, mae_score = validate(x_valid, y_valid, model_catboost)\n",
    "            smape_scores.append(smape_score)\n",
    "            mae_scores.append(mae_score)\n",
    "    \n",
    "    smape_mean = np.mean(smape_scores)\n",
    "    mae_mean = np.mean(mae_scores)\n",
    "        \n",
    "    print(f\"n_estimator: {n_estimator}\")\n",
    "    print(f'SMAPE: {smape_mean}\\nMAE: {mae_mean}')\n"
   ]
  },
  {
   "cell_type": "code",
   "execution_count": 8,
   "metadata": {},
   "outputs": [
    {
     "name": "stderr",
     "output_type": "stream",
     "text": [
      "100%|██████████| 9/9 [00:27<00:00,  3.01s/it]\n",
      "100%|██████████| 38/38 [01:51<00:00,  2.94s/it]\n",
      "100%|██████████| 22/22 [01:24<00:00,  3.83s/it]\n",
      "100%|██████████| 2/2 [00:05<00:00,  2.97s/it]\n",
      "100%|██████████| 8/8 [00:32<00:00,  4.12s/it]\n",
      "100%|██████████| 8/8 [00:28<00:00,  3.59s/it]\n",
      "100%|██████████| 7/7 [00:20<00:00,  2.87s/it]\n",
      "100%|██████████| 2/2 [00:08<00:00,  4.16s/it]\n",
      "100%|██████████| 4/4 [00:13<00:00,  3.47s/it]\n"
     ]
    }
   ],
   "source": [
    "\n",
    "color = [ 'red','green','blue','black', 'orange', 'm', 'yellow', 'purple', 'gray']\n",
    "preds = [0 for _ in range(100)]\n",
    "\n",
    "\n",
    "for k in range(9):\n",
    "    cluster = clusters[k]\n",
    "    drop_col = drop_cols[k]\n",
    "    c = color[k]\n",
    "    for i in tqdm(cluster):\n",
    "        train_df = pd.read_csv(f'./submit/train_building{i}.csv').drop(columns=drop_col)\n",
    "        test_df = pd.read_csv(f'./submit/test_building{i}.csv').drop(columns=drop_col)\n",
    "        pred_df = pd.DataFrame()   # 시드별 예측값을 담을 data frame\n",
    "        \n",
    "        t_x = train_df.drop(columns=['power_consumption'])\n",
    "        t_y = train_df['power_consumption']\n",
    "    \n",
    "        #print(f\"building_{i}\")\n",
    "        for seed in [0,1,2,3,4,5,6]:\n",
    "            model = CatBoostRegressor(iterations=400,verbose=False)\n",
    "            model.fit(t_x, t_y)\n",
    "            y_pred = model.predict(test_df)\n",
    "            pred_df.loc[:,seed] = y_pred  \n",
    "        pred = pred_df.mean(axis=1)\n",
    "        preds[i-1] = pred\n",
    "        \n",
    "np_preds = np.array(preds)\n",
    "submit = np_preds.flatten()  \n"
   ]
  },
  {
   "cell_type": "code",
   "execution_count": 9,
   "metadata": {},
   "outputs": [],
   "source": [
    "########################################\n",
    "csv_name = './submission/CatBoost_wsw_clust9_2.csv'\n",
    "########################################"
   ]
  },
  {
   "cell_type": "code",
   "execution_count": 10,
   "metadata": {},
   "outputs": [],
   "source": [
    "submission = pd.read_csv('./data/sample_submission.csv')\n",
    "submission['answer'] = submit\n",
    "submission.to_csv(f'{csv_name}', index = False)"
   ]
  }
 ],
 "metadata": {
  "kernelspec": {
   "display_name": "poum",
   "language": "python",
   "name": "python3"
  },
  "language_info": {
   "codemirror_mode": {
    "name": "ipython",
    "version": 3
   },
   "file_extension": ".py",
   "mimetype": "text/x-python",
   "name": "python",
   "nbconvert_exporter": "python",
   "pygments_lexer": "ipython3",
   "version": "3.11.4"
  },
  "orig_nbformat": 4
 },
 "nbformat": 4,
 "nbformat_minor": 2
}
