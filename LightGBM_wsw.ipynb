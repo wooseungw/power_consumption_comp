{
 "cells": [
  {
   "cell_type": "code",
   "execution_count": 1,
   "metadata": {},
   "outputs": [],
   "source": [
    "import random\n",
    "import pandas as pd\n",
    "import numpy as np\n",
    "import os\n",
    "from tqdm import tqdm\n",
    "import lightgbm as lgb\n",
    "from sktime.forecasting.model_selection import temporal_train_test_split\n",
    "\n",
    "def seed_everything(seed):\n",
    "    random.seed(seed)\n",
    "    os.environ['PYTHONHASHSEED'] = str(seed)\n",
    "    np.random.seed(seed)\n",
    "\n",
    "seed_everything(0) # Seed 고정\n",
    "\n",
    "def weighted_mse(alpha = 1):\n",
    "    def weighted_mse_fixed(label, pred):\n",
    "        residual = (label - pred).astype(\"float\")\n",
    "        grad = np.where(residual>0, -2*alpha*residual, -2*residual)\n",
    "        hess = np.where(residual>0, 2*alpha, 2.0)\n",
    "        return grad, hess\n",
    "    return weighted_mse_fixed\n",
    "\n",
    "def mae(y, pred):\n",
    "    return np.mean(abs(y-pred))\n",
    " #점수 측정을 위한 코드  \n",
    "def SMAPE(y_true, y_pred):\n",
    "    return 100/len(y_true) * np.sum(2 * np.abs(y_pred - y_true) / (np.abs(y_true) + np.abs(y_pred)))\n",
    "\n",
    "def validate(valid_x, valid_y, model):\n",
    "    pred = model.predict(valid_x)\n",
    "    smape_score, mae_score = SMAPE(valid_y, pred), mae(valid_y, pred)\n",
    "    return smape_score, mae_score"
   ]
  },
  {
   "cell_type": "code",
   "execution_count": 2,
   "metadata": {},
   "outputs": [
    {
     "name": "stderr",
     "output_type": "stream",
     "text": [
      "c:\\ProgramData\\anaconda3\\envs\\poum\\Lib\\site-packages\\joblib\\externals\\loky\\backend\\context.py:136: UserWarning: Could not find the number of physical cores for the following reason:\n",
      "[WinError 2] 지정된 파일을 찾을 수 없습니다\n",
      "Returning the number of logical cores instead. You can silence this warning by setting LOKY_MAX_CPU_COUNT to the number of cores you want to use.\n",
      "  warnings.warn(\n",
      "  File \"c:\\ProgramData\\anaconda3\\envs\\poum\\Lib\\site-packages\\joblib\\externals\\loky\\backend\\context.py\", line 257, in _count_physical_cores\n",
      "    cpu_info = subprocess.run(\n",
      "               ^^^^^^^^^^^^^^^\n",
      "  File \"c:\\ProgramData\\anaconda3\\envs\\poum\\Lib\\subprocess.py\", line 548, in run\n",
      "    with Popen(*popenargs, **kwargs) as process:\n",
      "         ^^^^^^^^^^^^^^^^^^^^^^^^^^^\n",
      "  File \"c:\\ProgramData\\anaconda3\\envs\\poum\\Lib\\subprocess.py\", line 1026, in __init__\n",
      "    self._execute_child(args, executable, preexec_fn, close_fds,\n",
      "  File \"c:\\ProgramData\\anaconda3\\envs\\poum\\Lib\\subprocess.py\", line 1538, in _execute_child\n",
      "    hp, ht, pid, tid = _winapi.CreateProcess(executable, args,\n",
      "                       ^^^^^^^^^^^^^^^^^^^^^^^^^^^^^^^^^^^^^^^\n"
     ]
    },
    {
     "name": "stdout",
     "output_type": "stream",
     "text": [
      "n_estimator: 40\n",
      "SMAPE: 5.50302137165282\n",
      "MAE: 108.02073797549805\n",
      "n_estimator: 42\n",
      "SMAPE: 5.499612304604798\n",
      "MAE: 108.02991798643043\n",
      "n_estimator: 45\n",
      "SMAPE: 5.49971441094895\n",
      "MAE: 108.07215360631554\n",
      "n_estimator: 47\n",
      "SMAPE: 5.503815162864925\n",
      "MAE: 108.18706354083344\n",
      "n_estimator: 50\n",
      "SMAPE: 5.510124253435037\n",
      "MAE: 108.33577517776507\n"
     ]
    }
   ],
   "source": [
    "smape_scores = []\n",
    "mae_scores = []\n",
    "for n_estimator in [40,42,45,47,50]:\n",
    "    for i in range(1,101,1):\n",
    "        train_df = pd.read_csv(f'./pretest/train_building{i}.csv')\n",
    "        pretest_df = pd.read_csv(f'./pretest/pretest_building{i}.csv')\n",
    "        x_train = train_df.drop(columns=['power_consumption'])\n",
    "        y_train = train_df['power_consumption']\n",
    "        y_valid = pretest_df['power_consumption']\n",
    "        x_valid = pretest_df.drop(columns=['power_consumption'])\n",
    "        \n",
    "        #print(f\"building_{i}\")\n",
    "        model_lgb1 = lgb.LGBMRegressor(objective='regression',\n",
    "                                    n_estimators= n_estimator,\n",
    "                                    verbose=-1)\n",
    "        model_lgb1.fit(x_train, y_train)\n",
    "        smape_score, mae_score = validate(x_valid, y_valid, model_lgb1)\n",
    "        smape_scores.append(smape_score)\n",
    "        mae_scores.append(mae_score)\n",
    "    smape_mean = np.mean(smape_scores)\n",
    "    mae_mean = np.mean(mae_scores)\n",
    "        \n",
    "    print(f\"n_estimator: {n_estimator}\")\n",
    "    print(f'SMAPE: {smape_mean}\\nMAE: {mae_mean}')"
   ]
  },
  {
   "cell_type": "markdown",
   "metadata": {},
   "source": [
    "n_estimators= 45 최적"
   ]
  },
  {
   "cell_type": "code",
   "execution_count": 5,
   "metadata": {},
   "outputs": [
    {
     "name": "stderr",
     "output_type": "stream",
     "text": [
      "100%|██████████| 100/100 [00:33<00:00,  2.99it/s]\n"
     ]
    }
   ],
   "source": [
    "preds = np.array([])\n",
    "\n",
    "for i in tqdm(range(1,101,1)):\n",
    "    train_df = pd.read_csv(f'./submit/train_building{i}.csv')\n",
    "    test_df = pd.read_csv(f'./submit/test_building{i}.csv')\n",
    "    pred_df = pd.DataFrame()   # 시드별 예측값을 담을 data frame\n",
    "    \n",
    "    t_x = train_df.drop(columns=['power_consumption'])\n",
    "    t_y = train_df['power_consumption']\n",
    " \n",
    "    #print(f\"building_{i}\")\n",
    "    for seed in [0,1,2,3,4,5,6]:\n",
    "        \n",
    "        model = lgb.LGBMRegressor(objective='regression',\n",
    "                                    n_estimators= 45,\n",
    "                                    verbose=-1,seed = seed)\n",
    "        model.fit(t_x, t_y)\n",
    "        y_pred = model.predict(test_df)\n",
    "        pred_df.loc[:,seed] = y_pred  \n",
    "    pred = pred_df.mean(axis=1)\n",
    "    preds = np.append(preds, pred)\n",
    "    \n"
   ]
  },
  {
   "cell_type": "code",
   "execution_count": 6,
   "metadata": {},
   "outputs": [],
   "source": [
    "########################################\n",
    "csv_name = './submission/lightGBM_wsw_seed_ensemble.csv'\n",
    "########################################"
   ]
  },
  {
   "cell_type": "code",
   "execution_count": 7,
   "metadata": {},
   "outputs": [],
   "source": [
    "submission = pd.read_csv('./data/sample_submission.csv')\n",
    "submission['answer'] = preds\n",
    "submission.to_csv(f'{csv_name}', index = False)"
   ]
  }
 ],
 "metadata": {
  "kernelspec": {
   "display_name": "poum",
   "language": "python",
   "name": "python3"
  },
  "language_info": {
   "codemirror_mode": {
    "name": "ipython",
    "version": 3
   },
   "file_extension": ".py",
   "mimetype": "text/x-python",
   "name": "python",
   "nbconvert_exporter": "python",
   "pygments_lexer": "ipython3",
   "version": "3.11.4"
  },
  "orig_nbformat": 4
 },
 "nbformat": 4,
 "nbformat_minor": 2
}
