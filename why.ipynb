{
 "cells": [
  {
   "cell_type": "code",
   "execution_count": 4,
   "metadata": {},
   "outputs": [],
   "source": [
    "#import lightgbm\n",
    "import random\n",
    "import pandas as pd\n",
    "import numpy as np\n",
    "import os\n",
    "from xgboost import XGBRegressor\n",
    "from sklearn.ensemble import RandomForestRegressor\n",
    "from sklearn.model_selection import train_test_split, GridSearchCV, PredefinedSplit, KFold, TimeSeriesSplit\n",
    "from sklearn.metrics import make_scorer\n",
    "import matplotlib.pyplot as plt\n",
    "from tqdm import tqdm\n",
    "from sktime.forecasting.model_selection import temporal_train_test_split\n",
    "from sktime.utils.plotting import plot_series\n",
    "\n",
    "import warnings\n",
    "warnings.filterwarnings(action='ignore')\n",
    "\n",
    "def seed_everything(seed):\n",
    "    random.seed(seed)\n",
    "    os.environ['PYTHONHASHSEED'] = str(seed)\n",
    "    np.random.seed(seed)\n",
    "\n",
    "seed_everything(42) # Seed 고정"
   ]
  },
  {
   "cell_type": "code",
   "execution_count": 5,
   "metadata": {},
   "outputs": [],
   "source": [
    "## save the preprocessed data\n",
    "merged_train_df = pd.read_csv('./data/train_preprocessed_holly3_lbw.csv')\n",
    "merged_test_df = pd.read_csv('./data/test_preprocessed_holly3_lbw.csv')\n",
    "final_train_df = pd.read_csv('./data/final_train_preprocessed_holly3_lbw.csv')\n",
    "merged_valid_df = pd.read_csv('./data/valid_preprocessed_holly3_lbw.csv')\n",
    "merged_train_df = merged_train_df.drop(columns = 'Unnamed: 0')\n",
    "merged_test_df = merged_test_df.drop(columns = 'Unnamed: 0')\n",
    "final_train_df = final_train_df.drop(columns = 'Unnamed: 0')\n",
    "merged_valid_df = merged_valid_df.drop(columns = 'Unnamed: 0')\n",
    "\n",
    "xgb_params = pd.read_csv('./parameters/hyperparameter_xgb_holly2_lbw.csv')"
   ]
  },
  {
   "cell_type": "code",
   "execution_count": 6,
   "metadata": {},
   "outputs": [],
   "source": [
    "def weighted_mse(alpha = 1):\n",
    "    def weighted_mse_fixed(label, pred):\n",
    "        residual = (label - pred).astype(\"float\")\n",
    "        grad = np.where(residual>0, -2*alpha*residual, -2*residual)\n",
    "        hess = np.where(residual>0, 2*alpha, 2.0)\n",
    "        return grad, hess\n",
    "    return weighted_mse_fixed\n",
    "\n",
    " #점수 측정을 위한 코드\n",
    "def SMAPE(y_true, y_pred):\n",
    "    return 100/len(y_true) * np.sum(2 * np.abs(y_pred - y_true) / (np.abs(y_true) + np.abs(y_pred)))"
   ]
  },
  {
   "cell_type": "code",
   "execution_count": 8,
   "metadata": {},
   "outputs": [
    {
     "name": "stderr",
     "output_type": "stream",
     "text": [
      " 11%|█         | 1/9 [00:10<01:21, 10.16s/it]"
     ]
    },
    {
     "name": "stdout",
     "output_type": "stream",
     "text": [
      "4.708028157862294\n"
     ]
    },
    {
     "name": "stderr",
     "output_type": "stream",
     "text": [
      " 22%|██▏       | 2/9 [00:14<00:47,  6.77s/it]"
     ]
    },
    {
     "name": "stdout",
     "output_type": "stream",
     "text": [
      "0.0\n"
     ]
    },
    {
     "name": "stderr",
     "output_type": "stream",
     "text": [
      " 33%|███▎      | 3/9 [00:16<00:27,  4.56s/it]"
     ]
    },
    {
     "name": "stdout",
     "output_type": "stream",
     "text": [
      "0.0\n"
     ]
    },
    {
     "name": "stderr",
     "output_type": "stream",
     "text": [
      " 44%|████▍     | 4/9 [00:19<00:20,  4.00s/it]"
     ]
    },
    {
     "name": "stdout",
     "output_type": "stream",
     "text": [
      "0.0\n"
     ]
    },
    {
     "name": "stderr",
     "output_type": "stream",
     "text": [
      " 56%|█████▌    | 5/9 [00:27<00:22,  5.54s/it]"
     ]
    },
    {
     "name": "stdout",
     "output_type": "stream",
     "text": [
      "0.0\n"
     ]
    },
    {
     "name": "stderr",
     "output_type": "stream",
     "text": [
      " 67%|██████▋   | 6/9 [00:35<00:19,  6.38s/it]"
     ]
    },
    {
     "name": "stdout",
     "output_type": "stream",
     "text": [
      "0.0\n"
     ]
    },
    {
     "name": "stderr",
     "output_type": "stream",
     "text": [
      " 78%|███████▊  | 7/9 [00:37<00:09,  4.68s/it]"
     ]
    },
    {
     "name": "stdout",
     "output_type": "stream",
     "text": [
      "0.0\n"
     ]
    },
    {
     "name": "stderr",
     "output_type": "stream",
     "text": [
      " 89%|████████▉ | 8/9 [00:40<00:04,  4.33s/it]"
     ]
    },
    {
     "name": "stdout",
     "output_type": "stream",
     "text": [
      "0.0\n"
     ]
    },
    {
     "name": "stderr",
     "output_type": "stream",
     "text": [
      "100%|██████████| 9/9 [00:45<00:00,  5.02s/it]"
     ]
    },
    {
     "name": "stdout",
     "output_type": "stream",
     "text": [
      "0.0\n"
     ]
    },
    {
     "name": "stderr",
     "output_type": "stream",
     "text": [
      "\n"
     ]
    }
   ],
   "source": [
    "preds = np.array([])\n",
    "scores=[]\n",
    "for i in tqdm(np.arange(1,10,1)):\n",
    "\n",
    "    pred_df = pd.DataFrame()   # 시드별 예측값을 담을 data frame\n",
    "\n",
    "    for seed in [0,1,2,3,4,5]: # 각 시드별 예측\n",
    "        y_train = merged_train_df.loc[merged_train_df.building_number == i, 'power_consumption']\n",
    "        x_train = merged_train_df.loc[merged_train_df.building_number == i].drop(['power_consumption'], axis=1)\n",
    "        y_test = merged_valid_df.loc[merged_valid_df.building_number == i, 'power_consumption']\n",
    "        x_test = merged_valid_df.loc[merged_valid_df.building_number == i].drop(['power_consumption'], axis=1)\n",
    "\n",
    "        xgb = XGBRegressor(seed = seed, n_estimators = xgb_params.iloc[i-1, 7], eta = 0.01,\n",
    "                           min_child_weight = xgb_params.iloc[i-1, 2], max_depth = xgb_params.iloc[i-1, 3],\n",
    "                           colsample_bytree=xgb_params.iloc[i-1, 4], subsample=xgb_params.iloc[i-1, 5])\n",
    "\n",
    "        if xgb_params.iloc[i-1,6] != 0:  # 만약 alpha가 0이 아니면 weighted_mse 사용\n",
    "            xgb.set_params(**{'objective':weighted_mse(xgb_params.iloc[i-1,6])})\n",
    "\n",
    "        xgb.fit(x_train, y_train)\n",
    "        y_pred = xgb.predict(x_test)\n",
    "        pred_df.loc[:,seed] = y_pred   # 각 시드별 예측 담기\n",
    "\n",
    "    pred = pred_df.mean(axis=1)        # (i+1)번째 건물의 예측 =  (i+1)번째 건물의 각 시드별 예측 평균값\n",
    "    score = SMAPE(y_test, pred)\n",
    "    \n",
    "    print(score)\n",
    "    scores.append(score)\n",
    "    preds = np.append(preds, pred)"
   ]
  },
  {
   "cell_type": "code",
   "execution_count": 10,
   "metadata": {},
   "outputs": [
    {
     "name": "stdout",
     "output_type": "stream",
     "text": [
      "0.0\n"
     ]
    }
   ],
   "source": [
    "pred_df = pd.DataFrame()   # 시드별 예측값을 담을 data frame\n",
    "i = 55\n",
    "for seed in [0,1,2,3,4,5]: # 각 시드별 예측\n",
    "    y_train = merged_train_df.loc[merged_train_df.building_number == i, 'power_consumption']\n",
    "    x_train = merged_train_df.loc[merged_train_df.building_number == i].drop(['power_consumption'], axis=1)\n",
    "    y_test = merged_valid_df.loc[merged_valid_df.building_number == i, 'power_consumption']\n",
    "    x_test = merged_valid_df.loc[merged_valid_df.building_number == i].drop(['power_consumption'], axis=1)\n",
    "\n",
    "    xgb = XGBRegressor(seed = seed, n_estimators = xgb_params.iloc[i-1, 7], eta = 0.01,\n",
    "                        min_child_weight = xgb_params.iloc[i-1, 2], max_depth = xgb_params.iloc[i-1, 3],\n",
    "                        colsample_bytree=xgb_params.iloc[i-1, 4], subsample=xgb_params.iloc[i-1, 5])\n",
    "\n",
    "    if xgb_params.iloc[i-1,6] != 0:  # 만약 alpha가 0이 아니면 weighted_mse 사용\n",
    "        xgb.set_params(**{'objective':weighted_mse(xgb_params.iloc[i-1,6])})\n",
    "\n",
    "    xgb.fit(x_train, y_train)\n",
    "    y_pred = xgb.predict(x_test)\n",
    "    pred_df.loc[:,seed] = y_pred   # 각 시드별 예측 담기\n",
    "\n",
    "pred = pred_df.mean(axis=1)        # (i+1)번째 건물의 예측 =  (i+1)번째 건물의 각 시드별 예측 평균값\n",
    "score = SMAPE(y_test, pred)\n",
    "\n",
    "print(score)\n",
    "# scores.append(score)\n",
    "# preds = np.append(preds, pred)"
   ]
  },
  {
   "cell_type": "code",
   "execution_count": 21,
   "metadata": {},
   "outputs": [
    {
     "name": "stdout",
     "output_type": "stream",
     "text": [
      "<class 'pandas.core.series.Series'>\n",
      "RangeIndex: 168 entries, 0 to 167\n",
      "Series name: None\n",
      "Non-Null Count  Dtype  \n",
      "--------------  -----  \n",
      "168 non-null    float64\n",
      "dtypes: float64(1)\n",
      "memory usage: 1.4 KB\n"
     ]
    }
   ],
   "source": [
    "pred2.info()"
   ]
  },
  {
   "cell_type": "code",
   "execution_count": 22,
   "metadata": {},
   "outputs": [
    {
     "name": "stdout",
     "output_type": "stream",
     "text": [
      "<class 'pandas.core.series.Series'>\n",
      "Int64Index: 168 entries, 9072 to 9239\n",
      "Series name: power_consumption\n",
      "Non-Null Count  Dtype  \n",
      "--------------  -----  \n",
      "168 non-null    float64\n",
      "dtypes: float64(1)\n",
      "memory usage: 6.7 KB\n"
     ]
    }
   ],
   "source": [
    "y_test.info()"
   ]
  },
  {
   "cell_type": "code",
   "execution_count": 23,
   "metadata": {},
   "outputs": [],
   "source": [
    "a = 100/len(y_test)\n",
    "pred2 = pred.astype('float64')\n",
    "b = np.abs(pred2 - y_test)\n",
    "b2 = 2* b\n",
    "# c = (np.abs(y_test) + np.abs(pred2))\n",
    "# d = np.sum(b / c)\n",
    "# c = np.where(c == 0, 1e-8, c)\n",
    "# score = a * d\n",
    "\n",
    "\n",
    "# print(score)"
   ]
  },
  {
   "cell_type": "code",
   "execution_count": null,
   "metadata": {},
   "outputs": [],
   "source": [
    "pred_np = pred.to_numpy()\n",
    "y_test_np = y_test.to_numpy()"
   ]
  },
  {
   "cell_type": "code",
   "execution_count": 24,
   "metadata": {},
   "outputs": [
    {
     "name": "stdout",
     "output_type": "stream",
     "text": [
      "NaN in pred2: False\n",
      "NaN in y_test: False\n",
      "NaN in diff: True\n",
      "pred2 shape: (168,)\n",
      "y_test shape: (168,)\n"
     ]
    }
   ],
   "source": [
    "import numpy as np\n",
    "\n",
    "# 두 값의 차이를 계산\n",
    "pred2 = pred.astype('float64')\n",
    "diff = np.abs(pred2 - y_test)\n",
    "\n",
    "# NaN 값 확인\n",
    "print(\"NaN in pred2:\", np.isnan(pred2).any())\n",
    "print(\"NaN in y_test:\", np.isnan(y_test).any())\n",
    "print(\"NaN in diff:\", np.isnan(diff).any())\n",
    "\n",
    "# 크기 확인\n",
    "print(\"pred2 shape:\", pred2.shape)\n",
    "print(\"y_test shape:\", y_test.shape)\n",
    "\n"
   ]
  },
  {
   "cell_type": "code",
   "execution_count": 27,
   "metadata": {},
   "outputs": [],
   "source": [
    "import pandas as pd\n",
    "import numpy as np\n",
    "\n",
    "# 예시 데이터 생성\n",
    "data = {'pred': pred, 'y_test': y_test}\n",
    "df = pd.DataFrame(data)\n",
    "\n",
    "# 인덱스를 0부터 시작하는 순차적인 정수로 변경\n",
    "df.reset_index(drop=True, inplace=True)\n",
    "\n",
    "# 두 값의 차이를 계산\n",
    "diff = np.abs(df_without_nan['pred'] - df_without_nan['y_test'])\n"
   ]
  }
 ],
 "metadata": {
  "kernelspec": {
   "display_name": "myenv",
   "language": "python",
   "name": "python3"
  },
  "language_info": {
   "codemirror_mode": {
    "name": "ipython",
    "version": 3
   },
   "file_extension": ".py",
   "mimetype": "text/x-python",
   "name": "python",
   "nbconvert_exporter": "python",
   "pygments_lexer": "ipython3",
   "version": "3.11.4"
  },
  "orig_nbformat": 4
 },
 "nbformat": 4,
 "nbformat_minor": 2
}
