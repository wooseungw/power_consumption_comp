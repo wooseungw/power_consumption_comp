{
 "cells": [
  {
   "cell_type": "code",
   "execution_count": 4,
   "metadata": {},
   "outputs": [],
   "source": [
    "#import lightgbm\n",
    "import random\n",
    "import pandas as pd\n",
    "import numpy as np\n",
    "import os\n",
    "from xgboost import XGBRegressor\n",
    "from sklearn.ensemble import RandomForestRegressor\n",
    "from sklearn.model_selection import train_test_split, GridSearchCV, PredefinedSplit, KFold, TimeSeriesSplit\n",
    "from sklearn.metrics import make_scorer\n",
    "import matplotlib.pyplot as plt\n",
    "from tqdm import tqdm\n",
    "from sktime.forecasting.model_selection import temporal_train_test_split\n",
    "from sktime.utils.plotting import plot_series\n",
    "\n",
    "import warnings\n",
    "warnings.filterwarnings(action='ignore')\n",
    "\n",
    "def seed_everything(seed):\n",
    "    random.seed(seed)\n",
    "    os.environ['PYTHONHASHSEED'] = str(seed)\n",
    "    np.random.seed(seed)\n",
    "\n",
    "seed_everything(42) # Seed 고정"
   ]
  },
  {
   "cell_type": "code",
   "execution_count": 5,
   "metadata": {},
   "outputs": [],
   "source": [
    "## save the preprocessed data\n",
    "merged_train_df = pd.read_csv('./data/train_preprocessed_holly3_lbw.csv')\n",
    "merged_test_df = pd.read_csv('./data/test_preprocessed_holly3_lbw.csv')\n",
    "final_train_df = pd.read_csv('./data/final_train_preprocessed_holly3_lbw.csv')\n",
    "merged_valid_df = pd.read_csv('./data/valid_preprocessed_holly3_lbw.csv')\n",
    "merged_train_df = merged_train_df.drop(columns = 'Unnamed: 0')\n",
    "merged_test_df = merged_test_df.drop(columns = 'Unnamed: 0')\n",
    "final_train_df = final_train_df.drop(columns = 'Unnamed: 0')\n",
    "merged_valid_df = merged_valid_df.drop(columns = 'Unnamed: 0')\n",
    "\n",
    "xgb_params = pd.read_csv('./parameters/hyperparameter_xgb_holly2_lbw.csv')"
   ]
  },
  {
   "cell_type": "code",
   "execution_count": 6,
   "metadata": {},
   "outputs": [],
   "source": [
    "def weighted_mse(alpha = 1):\n",
    "    def weighted_mse_fixed(label, pred):\n",
    "        residual = (label - pred).astype(\"float\")\n",
    "        grad = np.where(residual>0, -2*alpha*residual, -2*residual)\n",
    "        hess = np.where(residual>0, 2*alpha, 2.0)\n",
    "        return grad, hess\n",
    "    return weighted_mse_fixed\n",
    "\n",
    " #점수 측정을 위한 코드\n",
    "def SMAPE(y_true, y_pred):\n",
    "    return 100/len(y_true) * np.sum(2 * np.abs(y_pred - y_true) / (np.abs(y_true) + np.abs(y_pred)))"
   ]
  },
  {
   "cell_type": "code",
   "execution_count": 31,
   "metadata": {},
   "outputs": [
    {
     "name": "stderr",
     "output_type": "stream",
     "text": [
      "100%|██████████| 9/9 [00:43<00:00,  4.79s/it]\n"
     ]
    }
   ],
   "source": [
    "preds = np.array([])\n",
    "scores=[]\n",
    "for i in tqdm(np.arange(1,10,1)):\n",
    "\n",
    "    pred_df = pd.DataFrame()   # 시드별 예측값을 담을 data frame\n",
    "\n",
    "    for seed in [0,1,2,3,4,5]: # 각 시드별 예측\n",
    "        y_train = merged_train_df.loc[merged_train_df.building_number == i, 'power_consumption']\n",
    "        x_train = merged_train_df.loc[merged_train_df.building_number == i].drop(['power_consumption'], axis=1)\n",
    "        y_test = merged_valid_df.loc[merged_valid_df.building_number == i, 'power_consumption']\n",
    "        x_test = merged_valid_df.loc[merged_valid_df.building_number == i].drop(['power_consumption'], axis=1)\n",
    "\n",
    "        xgb = XGBRegressor(seed = seed, n_estimators = xgb_params.iloc[i-1, 7], eta = 0.01,\n",
    "                           min_child_weight = xgb_params.iloc[i-1, 2], max_depth = xgb_params.iloc[i-1, 3],\n",
    "                           colsample_bytree=xgb_params.iloc[i-1, 4], subsample=xgb_params.iloc[i-1, 5])\n",
    "\n",
    "        if xgb_params.iloc[i-1,6] != 0:  # 만약 alpha가 0이 아니면 weighted_mse 사용\n",
    "            xgb.set_params(**{'objective':weighted_mse(xgb_params.iloc[i-1,6])})\n",
    "\n",
    "        xgb.fit(x_train, y_train)\n",
    "        y_pred = xgb.predict(x_test)\n",
    "        pred_df.loc[:,seed] = y_pred   # 각 시드별 예측 담기\n",
    "\n",
    "    pred = pred_df.mean(axis=1)        # (i+1)번째 건물의 예측 =  (i+1)번째 건물의 각 시드별 예측 평균값\n",
    "    pred_np = pred.to_numpy()\n",
    "    y_test_np = y_test.to_numpy()\n",
    "    score = SMAPE(y_test_np, pred_np)\n",
    "    \n",
    "    scores.append(score)\n",
    "    preds = np.append(preds, pred)"
   ]
  },
  {
   "cell_type": "code",
   "execution_count": 30,
   "metadata": {},
   "outputs": [
    {
     "name": "stdout",
     "output_type": "stream",
     "text": [
      "1.494984194488569\n"
     ]
    }
   ],
   "source": [
    "pred_df = pd.DataFrame()   # 시드별 예측값을 담을 data frame\n",
    "i = 55\n",
    "for seed in [0,1,2,3,4,5]: # 각 시드별 예측\n",
    "    y_train = merged_train_df.loc[merged_train_df.building_number == i, 'power_consumption']\n",
    "    x_train = merged_train_df.loc[merged_train_df.building_number == i].drop(['power_consumption'], axis=1)\n",
    "    y_test = merged_valid_df.loc[merged_valid_df.building_number == i, 'power_consumption']\n",
    "    x_test = merged_valid_df.loc[merged_valid_df.building_number == i].drop(['power_consumption'], axis=1)\n",
    "\n",
    "    xgb = XGBRegressor(seed = seed, n_estimators = xgb_params.iloc[i-1, 7], eta = 0.01,\n",
    "                        min_child_weight = xgb_params.iloc[i-1, 2], max_depth = xgb_params.iloc[i-1, 3],\n",
    "                        colsample_bytree=xgb_params.iloc[i-1, 4], subsample=xgb_params.iloc[i-1, 5])\n",
    "\n",
    "    if xgb_params.iloc[i-1,6] != 0:  # 만약 alpha가 0이 아니면 weighted_mse 사용\n",
    "        xgb.set_params(**{'objective':weighted_mse(xgb_params.iloc[i-1,6])})\n",
    "\n",
    "    xgb.fit(x_train, y_train)\n",
    "    y_pred = xgb.predict(x_test)\n",
    "    pred_df.loc[:,seed] = y_pred   # 각 시드별 예측 담기\n",
    "\n",
    "pred = pred_df.mean(axis=1)        # (i+1)번째 건물의 예측 =  (i+1)번째 건물의 각 시드별 예측 평균값\n",
    "pred_np = pred.to_numpy()\n",
    "y_test_np = y_test.to_numpy()\n",
    "score = SMAPE(y_test_np, pred_np)\n",
    "\n",
    "print(score)\n",
    "# scores.append(score)\n",
    "# preds = np.append(preds, pred)"
   ]
  }
 ],
 "metadata": {
  "kernelspec": {
   "display_name": "myenv",
   "language": "python",
   "name": "python3"
  },
  "language_info": {
   "codemirror_mode": {
    "name": "ipython",
    "version": 3
   },
   "file_extension": ".py",
   "mimetype": "text/x-python",
   "name": "python",
   "nbconvert_exporter": "python",
   "pygments_lexer": "ipython3",
   "version": "3.11.4"
  },
  "orig_nbformat": 4
 },
 "nbformat": 4,
 "nbformat_minor": 2
}
