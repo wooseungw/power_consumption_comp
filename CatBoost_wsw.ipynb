{
 "cells": [
  {
   "cell_type": "code",
   "execution_count": 1,
   "metadata": {},
   "outputs": [],
   "source": [
    "import random\n",
    "import pandas as pd\n",
    "import numpy as np\n",
    "import os\n",
    "from tqdm import tqdm\n",
    "from catboost import CatBoostRegressor\n",
    "from sktime.forecasting.model_selection import temporal_train_test_split\n",
    "\n",
    "def seed_everything(seed):\n",
    "    random.seed(seed)\n",
    "    os.environ['PYTHONHASHSEED'] = str(seed)\n",
    "    np.random.seed(seed)\n",
    "\n",
    "seed_everything(0) # Seed 고정\n",
    "\n",
    "def weighted_mse(alpha = 1):\n",
    "    def weighted_mse_fixed(label, pred):\n",
    "        residual = (label - pred).astype(\"float\")\n",
    "        grad = np.where(residual>0, -2*alpha*residual, -2*residual)\n",
    "        hess = np.where(residual>0, 2*alpha, 2.0)\n",
    "        return grad, hess\n",
    "    return weighted_mse_fixed\n",
    "\n",
    "def mae(y, pred):\n",
    "    return np.mean(abs(y-pred))\n",
    " #점수 측정을 위한 코드  \n",
    "def SMAPE(y_true, y_pred):\n",
    "    return 100/len(y_true) * np.sum(2 * np.abs(y_pred - y_true) / (np.abs(y_true) + np.abs(y_pred)))\n",
    "\n",
    "def validate(valid_x, valid_y, model):\n",
    "    pred = model.predict(valid_x)\n",
    "    smape_score, mae_score = SMAPE(valid_y, pred), mae(valid_y, pred)\n",
    "    return smape_score, mae_score"
   ]
  },
  {
   "cell_type": "code",
   "execution_count": 2,
   "metadata": {},
   "outputs": [
    {
     "name": "stderr",
     "output_type": "stream",
     "text": [
      "100%|██████████| 10/10 [00:01<00:00,  7.91it/s]\n",
      "100%|██████████| 45/45 [00:04<00:00,  9.70it/s]\n",
      "100%|██████████| 41/41 [00:05<00:00,  8.06it/s]\n",
      "100%|██████████| 4/4 [00:00<00:00,  9.89it/s]\n"
     ]
    },
    {
     "name": "stdout",
     "output_type": "stream",
     "text": [
      "n_estimator: 100\n",
      "SMAPE: 5.886137312234365\n",
      "MAE: 112.02407926172016\n"
     ]
    },
    {
     "name": "stderr",
     "output_type": "stream",
     "text": [
      "100%|██████████| 10/10 [00:01<00:00,  5.51it/s]\n",
      "100%|██████████| 45/45 [00:08<00:00,  5.56it/s]\n",
      "100%|██████████| 41/41 [00:08<00:00,  4.60it/s]\n",
      "100%|██████████| 4/4 [00:00<00:00,  5.58it/s]\n"
     ]
    },
    {
     "name": "stdout",
     "output_type": "stream",
     "text": [
      "n_estimator: 200\n",
      "SMAPE: 5.723627021019395\n",
      "MAE: 108.9927240530455\n"
     ]
    },
    {
     "name": "stderr",
     "output_type": "stream",
     "text": [
      "100%|██████████| 10/10 [00:02<00:00,  3.95it/s]\n",
      "100%|██████████| 45/45 [00:11<00:00,  3.87it/s]\n",
      "100%|██████████| 41/41 [00:12<00:00,  3.18it/s]\n",
      "100%|██████████| 4/4 [00:01<00:00,  3.80it/s]\n"
     ]
    },
    {
     "name": "stdout",
     "output_type": "stream",
     "text": [
      "n_estimator: 300\n",
      "SMAPE: 5.706288378803798\n",
      "MAE: 108.90243955101836\n"
     ]
    },
    {
     "name": "stderr",
     "output_type": "stream",
     "text": [
      "100%|██████████| 10/10 [00:03<00:00,  3.03it/s]\n",
      "100%|██████████| 45/45 [00:15<00:00,  3.00it/s]\n",
      "100%|██████████| 41/41 [00:16<00:00,  2.44it/s]\n",
      "100%|██████████| 4/4 [00:01<00:00,  3.08it/s]"
     ]
    },
    {
     "name": "stdout",
     "output_type": "stream",
     "text": [
      "n_estimator: 400\n",
      "SMAPE: 5.656961789353687\n",
      "MAE: 108.04983986469982\n"
     ]
    },
    {
     "name": "stderr",
     "output_type": "stream",
     "text": [
      "\n"
     ]
    }
   ],
   "source": [
    "clusters = [\n",
    "[3, 32, 61, 62, 63, 64, 65, 66, 67, 68],\n",
    "[8, 17, 18, 19, 20, 21, 22, 23, 24, 25, 26, 27, 28, 29, 30, 31, 45, 46, 47, 48, 49, 50, 51, 52, 53, 55, 56, 58, 59, 60, 69, 70, 71, 72, 73, 74, 75, 76, 77, 78, 79, 80, 82, 83, 84],\n",
    "[1, 2, 4, 5, 6, 7, 9, 11, 12, 16, 33, 34, 35, 36, 37, 38, 39, 40, 41, 42, 43, 44, 54, 57, 81, 85, 86, 87, 88, 89, 90, 91, 92, 93, 94, 95, 96, 97, 98, 99, 100],\n",
    "[10, 13, 14, 15]\n",
    "]\n",
    "\n",
    "drop_cols = [\n",
    "    [ 'week', 'THI', 'CDH', 'max_power', 'min_power','day_hour_mean','day_hour_std', 'hour_mean', 'hour_std','outlier','sensory','Rain_cat'],\n",
    "    [ 'week', 'THI', 'CDH', 'max_power', 'min_power' ,'day_hour_mean','day_hour_std','hour_mean', 'hour_std','sensory','Rain_cat'],\n",
    "    [ 'week', 'THI', 'CDH', 'max_power', 'min_power' ],\n",
    "    [ 'week','month','holiday', 'THI', 'CDH', 'day_hour_mean', 'day_hour_std',\n",
    "       'hour_mean', 'hour_std', 'max_power', 'min_power', 'THI_cat', 'sensory','Rain_cat']\n",
    "    ]\n",
    "\n",
    "for n_estimator in [100,200,300,400]:\n",
    "    smape_scores = []\n",
    "    mae_scores = []\n",
    "    \n",
    "    for k in range(4):\n",
    "        cluster = clusters[k]\n",
    "        drop_col = drop_cols[k]\n",
    "\n",
    "        for i in tqdm(cluster):\n",
    "            train_df = pd.read_csv(f'./pretest/train_building{i}.csv').drop(columns=drop_col)\n",
    "            pretest_df = pd.read_csv(f'./pretest/pretest_building{i}.csv').drop(columns=drop_col)\n",
    "            x_train = train_df.drop(columns=['power_consumption'])\n",
    "            y_train = train_df['power_consumption']\n",
    "            y_valid = pretest_df['power_consumption']\n",
    "            x_valid = pretest_df.drop(columns=['power_consumption'])\n",
    "            \n",
    "            model_catboost = CatBoostRegressor(iterations=n_estimator, verbose=False)\n",
    "            model_catboost.fit(x_train, y_train)\n",
    "            smape_score, mae_score = validate(x_valid, y_valid, model_catboost)\n",
    "            smape_scores.append(smape_score)\n",
    "            mae_scores.append(mae_score)\n",
    "    \n",
    "    smape_mean = np.mean(smape_scores)\n",
    "    mae_mean = np.mean(mae_scores)\n",
    "        \n",
    "    print(f\"n_estimator: {n_estimator}\")\n",
    "    print(f'SMAPE: {smape_mean}\\nMAE: {mae_mean}')\n"
   ]
  },
  {
   "cell_type": "code",
   "execution_count": 4,
   "metadata": {},
   "outputs": [
    {
     "name": "stderr",
     "output_type": "stream",
     "text": [
      "100%|██████████| 10/10 [00:23<00:00,  2.31s/it]\n",
      "100%|██████████| 45/45 [01:44<00:00,  2.33s/it]\n",
      "100%|██████████| 41/41 [01:57<00:00,  2.86s/it]\n",
      "100%|██████████| 4/4 [00:09<00:00,  2.26s/it]\n"
     ]
    }
   ],
   "source": [
    "\n",
    "color = ['red', 'green' , 'blue', 'black']\n",
    "preds = [0 for _ in range(100)]\n",
    "\n",
    "\n",
    "for k in range(4):\n",
    "    cluster = clusters[k]\n",
    "    drop_col = drop_cols[k]\n",
    "    c = color[k]\n",
    "    for i in tqdm(cluster):\n",
    "        train_df = pd.read_csv(f'./submit/train_building{i}.csv').drop(columns=drop_col)\n",
    "        test_df = pd.read_csv(f'./submit/test_building{i}.csv').drop(columns=drop_col)\n",
    "        pred_df = pd.DataFrame()   # 시드별 예측값을 담을 data frame\n",
    "        \n",
    "        t_x = train_df.drop(columns=['power_consumption'])\n",
    "        t_y = train_df['power_consumption']\n",
    "    \n",
    "        #print(f\"building_{i}\")\n",
    "        for seed in [0,1,2,3,4,5,6]:\n",
    "            model = CatBoostRegressor(iterations=400,verbose=False)\n",
    "            model.fit(t_x, t_y)\n",
    "            y_pred = model.predict(test_df)\n",
    "            pred_df.loc[:,seed] = y_pred  \n",
    "        pred = pred_df.mean(axis=1)\n",
    "        preds[i-1] = pred\n",
    "        \n",
    "np_preds = np.array(preds)\n",
    "submit = np_preds.flatten()  \n"
   ]
  },
  {
   "cell_type": "code",
   "execution_count": 5,
   "metadata": {},
   "outputs": [],
   "source": [
    "########################################\n",
    "csv_name = './submission/CatBoost_wsw_clust.csv'\n",
    "########################################"
   ]
  },
  {
   "cell_type": "code",
   "execution_count": 6,
   "metadata": {},
   "outputs": [],
   "source": [
    "submission = pd.read_csv('./data/sample_submission.csv')\n",
    "submission['answer'] = submit\n",
    "submission.to_csv(f'{csv_name}', index = False)"
   ]
  }
 ],
 "metadata": {
  "kernelspec": {
   "display_name": "poum",
   "language": "python",
   "name": "python3"
  },
  "language_info": {
   "codemirror_mode": {
    "name": "ipython",
    "version": 3
   },
   "file_extension": ".py",
   "mimetype": "text/x-python",
   "name": "python",
   "nbconvert_exporter": "python",
   "pygments_lexer": "ipython3",
   "version": "3.11.4"
  },
  "orig_nbformat": 4
 },
 "nbformat": 4,
 "nbformat_minor": 2
}
