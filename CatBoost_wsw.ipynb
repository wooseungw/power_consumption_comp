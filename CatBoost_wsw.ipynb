{
 "cells": [
  {
   "cell_type": "code",
   "execution_count": 3,
   "metadata": {},
   "outputs": [],
   "source": [
    "import random\n",
    "import pandas as pd\n",
    "import numpy as np\n",
    "import os\n",
    "from tqdm import tqdm\n",
    "from catboost import CatBoostRegressor\n",
    "from sktime.forecasting.model_selection import temporal_train_test_split\n",
    "\n",
    "def seed_everything(seed):\n",
    "    random.seed(seed)\n",
    "    os.environ['PYTHONHASHSEED'] = str(seed)\n",
    "    np.random.seed(seed)\n",
    "\n",
    "seed_everything(0) # Seed 고정\n",
    "\n",
    "def weighted_mse(alpha = 1):\n",
    "    def weighted_mse_fixed(label, pred):\n",
    "        residual = (label - pred).astype(\"float\")\n",
    "        grad = np.where(residual>0, -2*alpha*residual, -2*residual)\n",
    "        hess = np.where(residual>0, 2*alpha, 2.0)\n",
    "        return grad, hess\n",
    "    return weighted_mse_fixed\n",
    "\n",
    "def mae(y, pred):\n",
    "    return np.mean(abs(y-pred))\n",
    " #점수 측정을 위한 코드  \n",
    "def SMAPE(y_true, y_pred):\n",
    "    return 100/len(y_true) * np.sum(2 * np.abs(y_pred - y_true) / (np.abs(y_true) + np.abs(y_pred)))\n",
    "\n",
    "def validate(valid_x, valid_y, model):\n",
    "    pred = model.predict(valid_x)\n",
    "    smape_score, mae_score = SMAPE(valid_y, pred), mae(valid_y, pred)\n",
    "    return smape_score, mae_score"
   ]
  },
  {
   "cell_type": "code",
   "execution_count": 4,
   "metadata": {},
   "outputs": [
    {
     "name": "stdout",
     "output_type": "stream",
     "text": [
      "n_estimator: 400\n",
      "SMAPE: 5.955388944278829\n",
      "MAE: 111.47792126924367\n",
      "n_estimator: 450\n",
      "SMAPE: 5.95079570914117\n",
      "MAE: 111.34648395730764\n",
      "n_estimator: 500\n",
      "SMAPE: 5.945058018918499\n",
      "MAE: 111.4045539222385\n",
      "n_estimator: 550\n",
      "SMAPE: 5.9433825280726005\n",
      "MAE: 111.33502721886292\n",
      "n_estimator: 600\n",
      "SMAPE: 5.945986233249785\n",
      "MAE: 111.42994646923604\n",
      "n_estimator: 650\n",
      "SMAPE: 5.943299890895381\n",
      "MAE: 111.36505937180972\n"
     ]
    }
   ],
   "source": [
    "\n",
    "for n_estimator in [400,450,500,550,600,650]:\n",
    "    smape_scores = []\n",
    "    mae_scores = []\n",
    "    for i in range(1,101,1):\n",
    "        train_df = pd.read_csv(f'./pretest/train_building{i}.csv')\n",
    "        pretest_df = pd.read_csv(f'./pretest/pretest_building{i}.csv')\n",
    "        x_train = train_df.drop(columns=['power_consumption'])\n",
    "        y_train = train_df['power_consumption']\n",
    "        y_valid = pretest_df['power_consumption']\n",
    "        x_valid = pretest_df.drop(columns=['power_consumption'])\n",
    "        \n",
    "        model_catboost = CatBoostRegressor(iterations=n_estimator, verbose=False)\n",
    "        model_catboost.fit(x_train, y_train)\n",
    "        smape_score, mae_score = validate(x_valid, y_valid, model_catboost)\n",
    "        smape_scores.append(smape_score)\n",
    "        mae_scores.append(mae_score)\n",
    "    \n",
    "    smape_mean = np.mean(smape_scores)\n",
    "    mae_mean = np.mean(mae_scores)\n",
    "        \n",
    "    print(f\"n_estimator: {n_estimator}\")\n",
    "    print(f'SMAPE: {smape_mean}\\nMAE: {mae_mean}')\n"
   ]
  },
  {
   "cell_type": "code",
   "execution_count": 5,
   "metadata": {},
   "outputs": [
    {
     "name": "stderr",
     "output_type": "stream",
     "text": [
      "100%|██████████| 100/100 [06:46<00:00,  4.06s/it]\n"
     ]
    }
   ],
   "source": [
    "preds = np.array([])\n",
    "\n",
    "for i in tqdm(range(1,101,1)):\n",
    "    train_df = pd.read_csv(f'./submit/train_building{i}.csv')\n",
    "    test_df = pd.read_csv(f'./submit/test_building{i}.csv')\n",
    "    pred_df = pd.DataFrame()   # 시드별 예측값을 담을 data frame\n",
    "    \n",
    "    t_x = train_df.drop(columns=['power_consumption'])\n",
    "    t_y = train_df['power_consumption']\n",
    " \n",
    "    #print(f\"building_{i}\")\n",
    "    for seed in [0,1,2,3,4,5,6]:\n",
    "        model = CatBoostRegressor(iterations=550,verbose=False)\n",
    "        model.fit(t_x, t_y)\n",
    "        y_pred = model.predict(test_df)\n",
    "        pred_df.loc[:,seed] = y_pred  \n",
    "    pred = pred_df.mean(axis=1)\n",
    "    preds = np.append(preds, pred)\n",
    "    \n"
   ]
  },
  {
   "cell_type": "code",
   "execution_count": 6,
   "metadata": {},
   "outputs": [],
   "source": [
    "########################################\n",
    "csv_name = './submission/CatBoost_wsw_no_mean.csv'\n",
    "########################################"
   ]
  },
  {
   "cell_type": "code",
   "execution_count": 7,
   "metadata": {},
   "outputs": [],
   "source": [
    "submission = pd.read_csv('./data/sample_submission.csv')\n",
    "submission['answer'] = preds\n",
    "submission.to_csv(f'{csv_name}', index = False)"
   ]
  }
 ],
 "metadata": {
  "kernelspec": {
   "display_name": "poum",
   "language": "python",
   "name": "python3"
  },
  "language_info": {
   "codemirror_mode": {
    "name": "ipython",
    "version": 3
   },
   "file_extension": ".py",
   "mimetype": "text/x-python",
   "name": "python",
   "nbconvert_exporter": "python",
   "pygments_lexer": "ipython3",
   "version": "3.11.4"
  },
  "orig_nbformat": 4
 },
 "nbformat": 4,
 "nbformat_minor": 2
}
