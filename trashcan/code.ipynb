{
 "cells": [
  {
   "cell_type": "markdown",
   "metadata": {},
   "source": [
    "데이터 전처리"
   ]
  },
  {
   "cell_type": "code",
   "execution_count": 11,
   "metadata": {},
   "outputs": [
    {
     "ename": "TypeError",
     "evalue": "can't convert np.ndarray of type numpy.object_. The only supported types are: float64, float32, float16, complex64, complex128, int64, int32, int16, int8, uint8, and bool.",
     "output_type": "error",
     "traceback": [
      "\u001b[1;31m---------------------------------------------------------------------------\u001b[0m",
      "\u001b[1;31mTypeError\u001b[0m                                 Traceback (most recent call last)",
      "Cell \u001b[1;32mIn[11], line 67\u001b[0m\n\u001b[0;32m     64\u001b[0m X_test \u001b[39m=\u001b[39m preprocess_data(df1_test, df2_train, test \u001b[39m=\u001b[39m \u001b[39mTrue\u001b[39;00m)  \u001b[39m# 테스트 데이터에는 '전력소비량(kWh)'가 없으므로 df2_train을 사용\u001b[39;00m\n\u001b[0;32m     66\u001b[0m \u001b[39m# 데이터셋 객체 생성\u001b[39;00m\n\u001b[1;32m---> 67\u001b[0m train_dataset \u001b[39m=\u001b[39m MyDataset(X_train, y_train)\n\u001b[0;32m     68\u001b[0m test_dataset \u001b[39m=\u001b[39m MyDataset(X_test,  torch\u001b[39m.\u001b[39mzeros(\u001b[39mlen\u001b[39m(X_test))) \u001b[39m# 타겟 데이터가 없는 경우 0으로 채움\u001b[39;00m\n\u001b[0;32m     72\u001b[0m \u001b[39m# DataLoader 객체 생성\u001b[39;00m\n",
      "Cell \u001b[1;32mIn[11], line 47\u001b[0m, in \u001b[0;36mMyDataset.__init__\u001b[1;34m(self, X, y)\u001b[0m\n\u001b[0;32m     46\u001b[0m \u001b[39mdef\u001b[39;00m \u001b[39m__init__\u001b[39m(\u001b[39mself\u001b[39m, X, y):\n\u001b[1;32m---> 47\u001b[0m     \u001b[39mself\u001b[39m\u001b[39m.\u001b[39mX \u001b[39m=\u001b[39m torch\u001b[39m.\u001b[39;49mtensor(X\u001b[39m.\u001b[39;49mvalues, dtype\u001b[39m=\u001b[39;49mtorch\u001b[39m.\u001b[39;49mfloat32)\n\u001b[0;32m     48\u001b[0m     \u001b[39mself\u001b[39m\u001b[39m.\u001b[39my \u001b[39m=\u001b[39m torch\u001b[39m.\u001b[39mtensor(y\u001b[39m.\u001b[39mvalues, dtype\u001b[39m=\u001b[39mtorch\u001b[39m.\u001b[39mfloat32)\n",
      "\u001b[1;31mTypeError\u001b[0m: can't convert np.ndarray of type numpy.object_. The only supported types are: float64, float32, float16, complex64, complex128, int64, int32, int16, int8, uint8, and bool."
     ]
    }
   ],
   "source": [
    "import pandas as pd\n",
    "from torch.utils.data import Dataset, DataLoader\n",
    "import torch\n",
    "\n",
    "\n",
    "# 데이터 병합 및 전처리 함수\n",
    "def preprocess_data(df1, df2, test = False):\n",
    "    # 데이터 병합\n",
    "    df = pd.merge(df1, df2, on='건물번호', how='left')\n",
    "    \n",
    "    # 필요한 전처리 수행 (예: 결측치 처리, 데이터 형변환 등)\n",
    "    # 결측치 처리\n",
    "    df = df.fillna(0)\n",
    "\n",
    "    # '건물번호' 원-핫 인코딩\n",
    "    df = pd.get_dummies(df, columns=['건물번호'])\n",
    "    \n",
    "    # '일시'를 연, 월, 일, 시간으로 분리\n",
    "    df['일시'] = pd.to_datetime(df['일시'], format='%Y%m%d %H')\n",
    "    df['연'] = df['일시'].dt.year\n",
    "    df['월'] = df['일시'].dt.month\n",
    "    df['일'] = df['일시'].dt.day\n",
    "    df['시간'] = df['일시'].dt.hour\n",
    "    df = df.drop('일시', axis=1)  # '일시' 열 제거\n",
    "\n",
    "\n",
    "\n",
    "    X = df.drop('전력소비량(kWh)', axis=1, errors='ignore')  # '전력소비량(kWh)' 열이 없는 경우 무시\n",
    "    \n",
    "    if test:\n",
    "        return X\n",
    "    else:\n",
    "        y = df['전력소비량(kWh)']\n",
    "        return X, y\n",
    "\n",
    "\n",
    "\n",
    "\n",
    "\n",
    "# 예측에 사용할 피처 선택\n",
    "features = ['건물번호', '기온(C)', '강수량(mm)', '풍속(m/s)', '습도(%)', '일조(hr)', '일사(MJ/m2)', '연면적(m2)', '냉방면적(m2)', '시간']\n",
    "target = '전력소비량(kWh)'\n",
    "\n",
    "# 데이터셋 클래스 정의\n",
    "class MyDataset(Dataset):\n",
    "    def __init__(self, X, y):\n",
    "        self.X = torch.tensor(X.values, dtype=torch.float32)\n",
    "        self.y = torch.tensor(y.values, dtype=torch.float32)\n",
    "        \n",
    "    def __len__(self):\n",
    "        return len(self.X)\n",
    "    \n",
    "    def __getitem__(self, idx):\n",
    "        return self.X[idx], self.y[idx]\n",
    "\n",
    "\n",
    "# 데이터 불러오기\n",
    "df1_train = pd.read_csv('C:\\Workspace\\power_consumption_comp/data/train.csv')\n",
    "df2_train = pd.read_csv('C:\\Workspace\\power_consumption_comp\\data/building_info.csv')\n",
    "df1_test = pd.read_csv('C:\\Workspace\\power_consumption_comp\\data/test.csv')\n",
    "\n",
    "# 데이터 전처리\n",
    "X_train, y_train = preprocess_data(df1_train, df2_train)\n",
    "X_test = preprocess_data(df1_test, df2_train, test = True)  # 테스트 데이터에는 '전력소비량(kWh)'가 없으므로 df2_train을 사용\n",
    "\n",
    "# 데이터셋 객체 생성\n",
    "train_dataset = MyDataset(X_train, y_train)\n",
    "test_dataset = MyDataset(X_test,  torch.zeros(len(X_test))) # 타겟 데이터가 없는 경우 0으로 채움\n",
    "\n",
    "\n",
    "\n",
    "# DataLoader 객체 생성\n",
    "batch_size = 32\n",
    "train_dataloader = DataLoader(train_dataset, batch_size=batch_size)\n",
    "test_dataloader = DataLoader(test_dataset, batch_size=batch_size)"
   ]
  },
  {
   "cell_type": "markdown",
   "metadata": {},
   "source": [
    "네트워크"
   ]
  },
  {
   "cell_type": "code",
   "execution_count": null,
   "metadata": {},
   "outputs": [],
   "source": [
    "import torch\n",
    "from torch import nn\n",
    "\n",
    "class ConvLSTM(nn.Module):\n",
    "    def __init__(self):\n",
    "        super(ConvLSTM, self).__init__()\n",
    "        self.conv = nn.Conv1d(in_channels=1, out_channels=64, kernel_size=3, padding=1)\n",
    "        self.lstm = nn.LSTM(input_size=64, hidden_size=64, num_layers=1, batch_first=True)\n",
    "        self.fc = nn.Linear(64, 1)\n",
    "\n",
    "    def forward(self, x):\n",
    "        x = x.unsqueeze(1)  # Add channel dimension\n",
    "        x = self.conv(x)\n",
    "        x = x.transpose(1, 2)  # Swap time and channel dimensions for LSTM\n",
    "        x, _ = self.lstm(x)\n",
    "        x = self.fc(x[:, -1, :])  # Use only the last output of the sequence\n",
    "        return x\n"
   ]
  },
  {
   "cell_type": "markdown",
   "metadata": {},
   "source": [
    "학습"
   ]
  },
  {
   "cell_type": "code",
   "execution_count": null,
   "metadata": {},
   "outputs": [],
   "source": [
    "import torch\n",
    "from torch import optim\n",
    "\n",
    "# Initialize the model, loss function, and optimizer\n",
    "model = ConvLSTM(X)\n",
    "criterion = nn.MSELoss()  # For regression tasks\n",
    "optimizer = optim.Adam(model.parameters(), lr=0.001)\n",
    "\n",
    "# Move the model to the device (CPU or GPU)\n",
    "device = torch.device('cuda' if torch.cuda.is_available() else 'cpu')\n",
    "model = model.to(device)\n",
    "\n",
    "# Training loop\n",
    "for epoch in range(100):  # 100 epochs\n",
    "    model.train()\n",
    "    for inputs, targets in train_dataloader:\n",
    "        inputs, targets = inputs.to(device), targets.to(device)\n",
    "\n",
    "        # Forward pass\n",
    "        outputs = model(inputs)\n",
    "        loss = criterion(outputs, targets)\n",
    "\n",
    "        # Backward pass and optimization\n",
    "        optimizer.zero_grad()\n",
    "        loss.backward()\n",
    "        optimizer.step()\n",
    "\n",
    "    # Validation\n",
    "    model.eval()\n",
    "    with torch.no_grad():\n",
    "        valid_loss = 0\n",
    "        for inputs, targets in test_dataloader:\n",
    "            inputs, targets = inputs.to(device), targets.to(device)\n",
    "\n",
    "            outputs = model(inputs)\n",
    "            loss = criterion(outputs, targets)\n",
    "            valid_loss += loss.item()\n",
    "\n",
    "    print(f'Epoch {epoch+1}, Validation Loss: {valid_loss/len(valid_loader)}')\n"
   ]
  },
  {
   "cell_type": "markdown",
   "metadata": {},
   "source": [
    "예측"
   ]
  },
  {
   "cell_type": "code",
   "execution_count": null,
   "metadata": {},
   "outputs": [],
   "source": []
  }
 ],
 "metadata": {
  "kernelspec": {
   "display_name": "umpy2",
   "language": "python",
   "name": "python3"
  },
  "language_info": {
   "codemirror_mode": {
    "name": "ipython",
    "version": 3
   },
   "file_extension": ".py",
   "mimetype": "text/x-python",
   "name": "python",
   "nbconvert_exporter": "python",
   "pygments_lexer": "ipython3",
   "version": "3.11.4"
  },
  "orig_nbformat": 4
 },
 "nbformat": 4,
 "nbformat_minor": 2
}
