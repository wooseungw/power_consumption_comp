{
 "cells": [
  {
   "cell_type": "code",
   "execution_count": 7,
   "metadata": {},
   "outputs": [],
   "source": [
    "import pandas as pd\n",
    "import numpy as np\n",
    "import matplotlib.pyplot as plt\n",
    "\n",
    "score = np.array([5.72,6.18,6.64,6.72])\n",
    "score = score-5\n",
    "s = np.sum(score)\n",
    "score = s- score\n",
    "s = np.sum(score)\n",
    "score = (score)/s\n",
    "\n",
    "pp =pd.DataFrame()\n",
    "pp1 = pd.read_csv('./submission/submission_autog54_lbw.csv')\n",
    "pp2 = pd.read_csv('./submission/submission_xgb_llll.csv')\n",
    "pp3 = pd.read_csv('./submission/lightGBM_wsw_seed_ensemble.csv')\n",
    "pp4 = pd.read_csv('./submission/CatBoost_wsw_seed_ensemble.csv')\n",
    "pp['num_date_time'] = pp1['num_date_time']\n",
    "\n",
    "pp['answer'] = (pp1['answer']*score[0] + pp2['answer']*score[1] + pp3['answer']*score[2]+pp4['answer']*score[3])\n",
    "\n",
    "pp.to_csv('./submission/ensemble_wsw_noauto.csv',index =False)"
   ]
  },
  {
   "cell_type": "markdown",
   "metadata": {},
   "source": [
    "ensemble_wsw_noauto: (pp1['answer']*0.05 + pp2['answer']*0.2 + pp3['answer']*0.3+pp4['answer']*0.45)"
   ]
  },
  {
   "cell_type": "code",
   "execution_count": 2,
   "metadata": {},
   "outputs": [],
   "source": [
    "pp4 = pd.read_csv('./submission/ensemble_wsw_noauto.csv')"
   ]
  }
 ],
 "metadata": {
  "kernelspec": {
   "display_name": "poum",
   "language": "python",
   "name": "python3"
  },
  "language_info": {
   "codemirror_mode": {
    "name": "ipython",
    "version": 3
   },
   "file_extension": ".py",
   "mimetype": "text/x-python",
   "name": "python",
   "nbconvert_exporter": "python",
   "pygments_lexer": "ipython3",
   "version": "3.11.4"
  },
  "orig_nbformat": 4
 },
 "nbformat": 4,
 "nbformat_minor": 2
}
