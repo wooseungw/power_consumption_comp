{
 "cells": [
  {
   "cell_type": "code",
   "execution_count": 2,
   "metadata": {},
   "outputs": [],
   "source": [
    "import pandas as pd\n",
    "import numpy as np\n",
    "\n",
    "i = 10\n",
    "train = pd.read_csv(f'./submit/train_building{i+1}.csv').drop(columns=['Unnamed: 0'])\n",
    "power = train['power_consumption']\n",
    "\n",
    "\n",
    "# 방법 1 : 건물 별로 Plot 하여 직접 눈으로 이상치를 확인 한 후 해당 이상치를 없애기 위한 작업을 개별적으로 실시\n",
    "# 가장 쉽지만 학술적으로 의미가 없다\n",
    "\n",
    "# 방법 2 : 알고리즘 적으로 처리 \n",
    "# (Ex. i번 index의 power값과 i+1번 indew의 power값의 차에 대해 평균과 표준편차를 구해서 z변환 한 뒤 상위/하위 n%에 해당 하는 power 값을 앞 뒤 index의 power값의 평균으로 대체)\n",
    "# 연산이 오래걸릴 것으로 예상되며, 유의미한 값들 까지 사라질 수 있는 위험성이 있다.\n",
    "# 예외적인 성향을 띄는 건물에 대해 굉장히 위험한 발상이 될 수 있다.\n",
    "\n",
    "# 방법 3 : 알아서 이상치를 감지하고 대체해주는 방식 찾기\n",
    "# 찾기만 한다면 좋을 수 있으나 공부가 필요함."
   ]
  }
 ],
 "metadata": {
  "kernelspec": {
   "display_name": "myenv",
   "language": "python",
   "name": "python3"
  },
  "language_info": {
   "codemirror_mode": {
    "name": "ipython",
    "version": 3
   },
   "file_extension": ".py",
   "mimetype": "text/x-python",
   "name": "python",
   "nbconvert_exporter": "python",
   "pygments_lexer": "ipython3",
   "version": "3.11.4"
  },
  "orig_nbformat": 4
 },
 "nbformat": 4,
 "nbformat_minor": 2
}
