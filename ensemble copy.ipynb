{
 "cells": [
  {
   "cell_type": "code",
   "execution_count": 3,
   "metadata": {},
   "outputs": [],
   "source": [
    "import pandas as pd\n",
    "import numpy as np\n",
    "import matplotlib.pyplot as plt\n",
    "\n",
    "score = np.array([6.01,6.54,6.3])\n",
    "score = score-5\n",
    "s = np.sum(score)\n",
    "score = s- score\n",
    "s = np.sum(score)\n",
    "score = (score)/s\n"
   ]
  },
  {
   "cell_type": "code",
   "execution_count": 5,
   "metadata": {},
   "outputs": [],
   "source": [
    "\n",
    "#score = np.array([0, 0.75, 0.05, 0.2])\n",
    "pp =pd.DataFrame()\n",
    "#pp1 = pd.read_csv('./submission/submission_autog54_lbw.csv')\n",
    "pp2 = pd.read_csv('./submission/submission_xgb_clust.csv')\n",
    "pp3 = pd.read_csv('./submission/lightGBM_wsw_clust.csv')\n",
    "pp4 = pd.read_csv('./submission/CatBoost_wsw_clust.csv')\n",
    "pp['num_date_time'] = pp2['num_date_time']\n",
    "\n",
    "#pp['answer'] = (pp1['answer']*score[0] + pp2['answer']*score[1] + pp3['answer']*score[2]+pp4['answer']*score[3])\n",
    "pp['answer'] = (pp2['answer']*score[0] + pp3['answer']*score[1]+pp4['answer']*score[2])\n",
    "\n",
    "pp.to_csv('./submission/ensemble_lbw_clust_calculate.csv',index =False)"
   ]
  },
  {
   "cell_type": "markdown",
   "metadata": {},
   "source": [
    "ensemble_wsw_noauto: (pp1['answer']*0.05 + pp2['answer']*0.2 + pp3['answer']*0.3+pp4['answer']*0.45)"
   ]
  },
  {
   "cell_type": "code",
   "execution_count": 2,
   "metadata": {},
   "outputs": [],
   "source": [
    "pp4 = pd.read_csv('./submission/ensemble_wsw_col433.csv')"
   ]
  },
  {
   "cell_type": "code",
   "execution_count": 3,
   "metadata": {},
   "outputs": [],
   "source": [
    "diff1 = np.mean(abs(pp1['answer'] - pp2['answer']))\n",
    "diff2 = np.mean(abs(pp1['answer'] - pp3['answer']))\n",
    "diff3 = np.mean(abs(pp1['answer'] - pp4['answer']))"
   ]
  }
 ],
 "metadata": {
  "kernelspec": {
   "display_name": "poum",
   "language": "python",
   "name": "python3"
  },
  "language_info": {
   "codemirror_mode": {
    "name": "ipython",
    "version": 3
   },
   "file_extension": ".py",
   "mimetype": "text/x-python",
   "name": "python",
   "nbconvert_exporter": "python",
   "pygments_lexer": "ipython3",
   "version": "3.11.4"
  },
  "orig_nbformat": 4
 },
 "nbformat": 4,
 "nbformat_minor": 2
}
